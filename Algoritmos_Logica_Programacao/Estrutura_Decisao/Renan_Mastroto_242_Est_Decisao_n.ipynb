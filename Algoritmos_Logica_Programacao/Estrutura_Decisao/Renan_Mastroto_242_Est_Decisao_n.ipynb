{
  "nbformat": 4,
  "nbformat_minor": 0,
  "metadata": {
    "colab": {
      "provenance": []
    },
    "kernelspec": {
      "name": "python3",
      "display_name": "Python 3"
    },
    "language_info": {
      "name": "python"
    }
  },
  "cells": [
    {
      "cell_type": "markdown",
      "metadata": {
        "id": "I3ayCEJnHhtv"
      },
      "source": [
        "#Lista de exercícios de ESTRUTURA de DECISÃO (estrutura condicional)\n",
        "#Fazer do 1 ao 30, o restante fica para estudos"
      ]
    },
    {
      "cell_type": "markdown",
      "metadata": {
        "id": "E64RcqHIMXAS"
      },
      "source": [
        "### 1. Faça um algoritmo que calcule e exiba o salário reajustado de um funcionário de acordo com a seguinte regra: Salário até 500, reajuste de 50%."
      ]
    },
    {
      "cell_type": "code",
      "metadata": {
        "id": "iepDUOyzHFPt",
        "colab": {
          "base_uri": "https://localhost:8080/"
        },
        "outputId": "b063e069-0dd6-4635-c22a-1b152a772b5e"
      },
      "source": [
        "salario = float(input('Digite o salário: '))\n",
        "\n",
        "if salario <= 500:\n",
        "    novo = salario + salario * 50 / 100\n",
        "    print('O novo salário é',novo)"
      ],
      "execution_count": null,
      "outputs": [
        {
          "output_type": "stream",
          "name": "stdout",
          "text": [
            "Digite o salário: 500\n",
            "O novo salário é 750.0\n"
          ]
        }
      ]
    },
    {
      "cell_type": "markdown",
      "metadata": {
        "id": "OYoL34dGG0XC"
      },
      "source": [
        "###2. Faça um algoritmo que calcule e exiba o salário reajustado de um funcionário de acordo com a seguinte regra: Salário até 500, reajuste de 50%; Salários maiores que 500, reajuste de 30%."
      ]
    },
    {
      "cell_type": "code",
      "metadata": {
        "id": "uLE2w6-aMadI",
        "colab": {
          "base_uri": "https://localhost:8080/"
        },
        "outputId": "4a4f3c0b-28e7-4e96-cefc-114c98563430"
      },
      "source": [
        "salario = float(input(\"Digite o salário: R$\"))\n",
        "\n",
        "if salario <= 500:\n",
        "  novo = salario * 1.5\n",
        "else:\n",
        "  novo = salario * 1.3\n",
        "\n",
        "print(f\"O novo salário é: R${novo:.2f}\")"
      ],
      "execution_count": null,
      "outputs": [
        {
          "output_type": "stream",
          "name": "stdout",
          "text": [
            "Digite o salário: R$700\n",
            "O novo salário é: R$910.00\n"
          ]
        }
      ]
    },
    {
      "cell_type": "markdown",
      "source": [
        "###3. Faça um algoritmo que calcule e exiba o salário reajustado de um funcionário de acordo com a seguinte regra: Salário até 500, reajuste de 50%; Salários maiores que 500 e até 1000, reajuste de 30%; Salários acima de 1000, reajuste de 10%."
      ],
      "metadata": {
        "id": "FP7AFG4hidmr"
      }
    },
    {
      "cell_type": "code",
      "source": [
        "salario = float(input(\"Digite o salário: R$\"))\n",
        "\n",
        "if salario <= 500:\n",
        "  novo = salario*1.5\n",
        "elif (salario > 500) and (salario <= 1000):\n",
        "  novo = salario*1.3\n",
        "else:\n",
        "  novo = salario*1.1\n",
        "\n",
        "print(f\"O novo salário é: R${novo:.2f}\")"
      ],
      "metadata": {
        "id": "JslC5_aniusE",
        "colab": {
          "base_uri": "https://localhost:8080/"
        },
        "outputId": "95bfb02f-c0c0-41f6-b9a2-4270c40a707e"
      },
      "execution_count": null,
      "outputs": [
        {
          "output_type": "stream",
          "name": "stdout",
          "text": [
            "Digite o salário: R$1200\n",
            "O novo salário é: R$1320.00\n"
          ]
        }
      ]
    },
    {
      "cell_type": "markdown",
      "metadata": {
        "id": "inPGbmBaMe3R"
      },
      "source": [
        "###4. Faça um algoritmo que leia o nome e a idade de uma pessoa, verifique se a idade de uma pessoa é menor ou maior de idade. Considera-se maior de idade uma pessoa com 18 anos ou mais. Como saída o algoritmo deve informar o nome e a idade da pessoa e depois uma mensagem se ela é ou não maior de idade.\n"
      ]
    },
    {
      "cell_type": "code",
      "metadata": {
        "id": "XxrUc9yWND8a",
        "colab": {
          "base_uri": "https://localhost:8080/"
        },
        "outputId": "2d4bf0d9-c9e5-410e-8d4b-9c0d8d9e6a75"
      },
      "source": [
        "nome = input(\"Digite o nome: \")\n",
        "idade = int(input(\"Digite a idade: \"))\n",
        "\n",
        "if idade >= 18:\n",
        "  print(f\"{nome} - {idade} anos\\nÉ maior de idade.\")\n",
        "else:\n",
        "  print(f\"{nome} - {idade} anos\\nNão é maior de idade.\")"
      ],
      "execution_count": null,
      "outputs": [
        {
          "output_type": "stream",
          "name": "stdout",
          "text": [
            "Digite o nome: Renan\n",
            "Digite a idade: 17\n",
            "Renan - 17 anos\n",
            "Não é maior de idade.\n"
          ]
        }
      ]
    },
    {
      "cell_type": "markdown",
      "source": [
        "###5. Faça um algoritmo que leia duas notas de um aluno, calcule a média e verifique, apresentando, se está aprovado ou reprovado."
      ],
      "metadata": {
        "id": "m6_s-6CeXRgm"
      }
    },
    {
      "cell_type": "code",
      "source": [
        "# Jeito simples\n",
        "nota1 = float(input(\"Digite a primeira nota: \"))\n",
        "nota2 = float(input(\"Digite a segunda nota: \"))\n",
        "\n",
        "media = (nota1+nota2)/2\n",
        "\n",
        "if media >= 6:\n",
        "    print(f\"Média {media}, aluno aprovado!\")\n",
        "else:\n",
        "    print(f\"Média {media}, aluno reprovado!\")"
      ],
      "metadata": {
        "colab": {
          "base_uri": "https://localhost:8080/"
        },
        "id": "Mhd7jrAI5jM-",
        "outputId": "1ae3fd98-b3eb-447e-a18f-d22ae356b261"
      },
      "execution_count": null,
      "outputs": [
        {
          "output_type": "stream",
          "name": "stdout",
          "text": [
            "Digite a primeira nota: 5\n",
            "Digite a segunda nota: 7\n",
            "Média 6.0, aluno aprovado!\n"
          ]
        }
      ]
    },
    {
      "cell_type": "code",
      "source": [
        "# Jeito complicado que fiz para testar\n",
        "notas = []\n",
        "media1: float = 0\n",
        "quant: int = int(input(\"Digite a quantidade de notas: \"))\n",
        "\n",
        "while(len(notas)<quant): #Esse loop vai rodar até eu preencher a lista com a quantidade de notas que eu declarei acima e vai adicionar cada nota que eu digitar na lista.\n",
        "    nota = float(input(\"Digite a nota: \"))\n",
        "    notas.append(nota)\n",
        "\n",
        "media = sum(notas)/len(notas) #Aqui vou somar e depois dividir o valor total pela quantidade de itens na lista.\n",
        "\n",
        "if media >= 6: #Aqui vejo se o aluno é aprovado ou não.\n",
        "    print(f\"Média {media}, aluno aprovado!\")\n",
        "else:\n",
        "    print(f\"Média {media}, aluno reprovado!\")"
      ],
      "metadata": {
        "id": "zHYYE1H3X1Ug",
        "colab": {
          "base_uri": "https://localhost:8080/"
        },
        "outputId": "cd6ed908-6def-40d2-8a9f-956f02555720"
      },
      "execution_count": null,
      "outputs": [
        {
          "output_type": "stream",
          "name": "stdout",
          "text": [
            "Digite a quantidade de notas: 5\n",
            "Digite a nota: 9.5\n",
            "Digite a nota: 4\n",
            "Digite a nota: 7.5\n",
            "Digite a nota: 10\n",
            "Digite a nota: 6\n",
            "Média 7.4, aluno aprovado!\n"
          ]
        }
      ]
    },
    {
      "cell_type": "markdown",
      "source": [
        "###6. Faça um algoritmo que calcule e apresente o que foi requerido no exercício 5) e também avalie a condição de aprovar/reprovar, apenas quando o aluno tem frequencia acima de 75%, este valor deve ser lido."
      ],
      "metadata": {
        "id": "FDxDc_2RX7vf"
      }
    },
    {
      "cell_type": "code",
      "source": [
        "nota1 = float(input(\"Digite a primeira nota: \"))\n",
        "nota2 = float(input(\"Digite a segunda nota: \"))\n",
        "freq = int(input(\"Digite a frequência: \"))\n",
        "\n",
        "media = (nota1+nota2)/2\n",
        "\n",
        "if media >= 6:\n",
        "    if freq >= 75:\n",
        "      print(f\"Média {media}, Frequência {freq}%\\nAluno aprovado!\")\n",
        "    else:\n",
        "      print(f\"Média {media}, Frequência {freq}%\\nAluno reprovado!\")\n",
        "else:\n",
        "    print(f\"Média {media}, Frequência {freq}%\\nAluno reprovado!\")"
      ],
      "metadata": {
        "id": "IUOPeeExYide",
        "colab": {
          "base_uri": "https://localhost:8080/"
        },
        "outputId": "b2a991b7-9922-4193-8d55-7b0b70c83e37"
      },
      "execution_count": null,
      "outputs": [
        {
          "output_type": "stream",
          "name": "stdout",
          "text": [
            "Digite a primeira nota: 8\n",
            "Digite a segunda nota: 4\n",
            "Digite a frequência: 80\n",
            "Média 6.0, Frequência 80%\n",
            "Aluno aprovado!\n"
          ]
        }
      ]
    },
    {
      "cell_type": "markdown",
      "source": [
        "###7. Faça um algoritmo que leia o gênero de uma pessoa. Se for digitado M ou F, apresentar 'Gênero válido!'. Caso contrário, 'Gênero inválido!'."
      ],
      "metadata": {
        "id": "zi3sycu6Y8hH"
      }
    },
    {
      "cell_type": "code",
      "source": [
        "generos = ['MASCULINO', 'FEMININO', 'M', 'F', 'TRANSGÊNERO', 'GÊNERO NEUTRO', 'NÃO-BINÁRIO', 'AGÊNERO', 'PANGÊNERO', 'GENDERQUEER', 'TWO-SPIRIT', 'TERCEIRO GÊNERO']\n",
        "\n",
        "while(True):\n",
        "    genero: str = input(\"Digite o gênero (M/F): \")\n",
        "    if genero.upper() in generos:\n",
        "        print(\"Gênero válido!\")\n",
        "        break\n",
        "    else:\n",
        "        generos.append(genero.upper())\n",
        "        print(\"Gênero novo adicionado na lista!\\nTente novamente\")"
      ],
      "metadata": {
        "id": "Aa7k7IoAY89K",
        "colab": {
          "base_uri": "https://localhost:8080/"
        },
        "outputId": "e43621c3-85c7-44b7-dff2-7982ae8a691b"
      },
      "execution_count": null,
      "outputs": [
        {
          "output_type": "stream",
          "name": "stdout",
          "text": [
            "Gênero novo adicionado na lista!\n",
            "Tente novamente\n",
            "Digite o gênero (M/F): Coxinha\n",
            "Gênero válido!\n"
          ]
        }
      ]
    },
    {
      "cell_type": "markdown",
      "metadata": {
        "id": "mWl0IWlJNEtA"
      },
      "source": [
        "###8. Tendo como dados de entrada a altura e o gênero (M/F) de uma pessoa (M-masculino ou F-feminino), construa um algoritmo que calcule seu peso ideal, utilizando as seguintes fórmulas:\n",
        "masculino: (72.7 * altura) - 58;\n",
        "\n",
        "feminino: (62.1 * altura) - 44.7\n",
        "\n"
      ]
    },
    {
      "cell_type": "code",
      "source": [
        "genero: str = input(\"Digite o gênero (M/F): \")\n",
        "altura: float = float(input(\"Digite a altura: \"))\n",
        "\n",
        "if genero == \"M\":\n",
        "  peso = (72.7 * altura) - 58\n",
        "  print(f\"O peso ideal é: {peso:.2f} Kg\")\n",
        "elif genero == \"F\":\n",
        "  peso = (62.1 * altura) - 44.7\n",
        "  print(f\"O peso ideal é: {peso:.2f} Kg\")\n",
        "else:\n",
        "  print(\"Gênero inválido!\")"
      ],
      "metadata": {
        "id": "iEeypQ0n7f_S",
        "colab": {
          "base_uri": "https://localhost:8080/"
        },
        "outputId": "5445be9d-464e-4703-f3c8-eb42b0867cac"
      },
      "execution_count": null,
      "outputs": [
        {
          "output_type": "stream",
          "name": "stdout",
          "text": [
            "Digite o gênero (M/F): N\n",
            "Digite a altura: 1.75\n",
            "Gênero inválido!\n"
          ]
        }
      ]
    },
    {
      "cell_type": "markdown",
      "source": [
        "###9. Faça um algoritmo que leia dois números inteiros e mostre o resultado da **diferença** do maior valor pelo menor."
      ],
      "metadata": {
        "id": "7QnlOyxxaAZc"
      }
    },
    {
      "cell_type": "code",
      "source": [
        "n1 = float(input(\"Digite o primeiro número: \"))\n",
        "n2 = float(input(\"Digite o segundo número: \"))\n",
        "\n",
        "if n1 > n2:\n",
        "  nr = n1 - n2\n",
        "  print(nr)\n",
        "else:\n",
        "  nr = n2 - n1\n",
        "  print(nr)"
      ],
      "metadata": {
        "colab": {
          "base_uri": "https://localhost:8080/"
        },
        "id": "OXHz72L6-0LA",
        "outputId": "e90cc798-3b80-4183-ecdc-f7fcb560e9c7"
      },
      "execution_count": null,
      "outputs": [
        {
          "output_type": "stream",
          "name": "stdout",
          "text": [
            "Digite o primeiro número: 40\n",
            "Digite o segundo número: 50\n",
            "10.0\n"
          ]
        }
      ]
    },
    {
      "cell_type": "markdown",
      "source": [
        "###10. Uma faculdade faz o pagamento de seus professores por hora/aula. Faça um algoritmo que receba o nível e a quantidade de hora/aula, calcule e exiba o salário de um professor e a frase a seguira tabela abaixo:\n",
        "Professor Nível 1 - 11,00 reais por hora/aula, salário: ...\n",
        "\n",
        "Professor Nível 2 - 15,00 reais por hora/aula, salário: ...\n",
        "\n",
        "Professor Nível 3 - 19,00 reais por hora/aula, salário: ..."
      ],
      "metadata": {
        "id": "VupgaQwwagfI"
      }
    },
    {
      "cell_type": "code",
      "metadata": {
        "id": "Q8ZKZyGLNxFf",
        "colab": {
          "base_uri": "https://localhost:8080/"
        },
        "outputId": "d6b1e088-68a6-4b95-ac0a-42012c198b6d"
      },
      "source": [
        "nivel: int #Nível do Professor\n",
        "ha: int # Valor da Hora/aula\n",
        "hora: float # Quantidade horas\n",
        "\n",
        "nivel = int(input(\"Digite o nível (1-3): \"))\n",
        "\n",
        "if nivel == 1:\n",
        "  ha = 11\n",
        "elif nivel == 2:\n",
        "  ha = 15\n",
        "else:\n",
        "  ha = 19\n",
        "hora = float(input(\"Digite a quantidade de horas: \"))\n",
        "\n",
        "salario = hora * ha\n",
        "print(f\"Nível = {nivel}\\tQuantidade de Horas: {hora}\\nSalário = R${salario:.2f}\")"
      ],
      "execution_count": null,
      "outputs": [
        {
          "output_type": "stream",
          "name": "stdout",
          "text": [
            "Digite o nível (1-3): 2\n",
            "Digite a quantidade de horas: 8.5\n",
            "Nível = 2\tQuantidade de Horas: 8.5\n",
            "Salário = R$127.50\n"
          ]
        }
      ]
    },
    {
      "cell_type": "markdown",
      "metadata": {
        "id": "ZG-AZwwLN4Vf"
      },
      "source": [
        "###11. Faça um algoritmo que leia um número inteiro e mostre uma mensagem indicando se este número é par ou ímpar e se é positivo ou negativo.\n"
      ]
    },
    {
      "cell_type": "code",
      "metadata": {
        "id": "t4jNff-_N9xR",
        "colab": {
          "base_uri": "https://localhost:8080/"
        },
        "outputId": "13eba2c3-1cca-43b6-9e4c-9ed644803ebd"
      },
      "source": [
        "numero: int #Número para analisar\n",
        "pi: str #Resultado par ou impar\n",
        "pn: str #Resultado positivo ou negativo\n",
        "\n",
        "numero = int(input(\"Digite o número: \"))\n",
        "if numero != 0:\n",
        "  if (numero % 2) == 1:\n",
        "    pi = \"ímpar\"\n",
        "  else:\n",
        "    pi = \"par\"\n",
        "  if numero > 0:\n",
        "    pn = \"positivo\"\n",
        "  else:\n",
        "    pn = \"negativo\"\n",
        "  print(f\"O número é {pi} e {pn}\")\n",
        "else:\n",
        "  print(\"O número é nulo\")\n",
        "\n"
      ],
      "execution_count": null,
      "outputs": [
        {
          "output_type": "stream",
          "name": "stdout",
          "text": [
            "Digite o número: 7\n",
            "O número é ímpar e positivo\n"
          ]
        }
      ]
    },
    {
      "cell_type": "markdown",
      "source": [
        "###12. Num determinado Estado, para transferências de veículos, o DETRAN cobra uma taxa de 1% para carros fabricados antes de 1990 e uma taxa de 1.5% para os fabricados de 1990 em diante, taxa esta incidindo sobre o valor de tabela do carro. Faça um algoritmo que leia o ano e o preço do carro, calcule e apresente o imposto a ser pago."
      ],
      "metadata": {
        "id": "4CVm6Oa5eNTp"
      }
    },
    {
      "cell_type": "code",
      "source": [
        "ano: int #Ano do carro\n",
        "preco: float #Preço do carro\n",
        "taxa: float #Taxa do imposto\n",
        "imposto: float #Calculo do imposto\n",
        "\n",
        "ano = int(input(\"Digite o ano do carro: \"))\n",
        "preco = float(input(\"Digite o preço do carro: \"))\n",
        "\n",
        "if ano >= 1990:\n",
        "  taxa = 0.015\n",
        "else:\n",
        "  taxa = 0.01\n",
        "\n",
        "imposto = preco * taxa\n",
        "\n",
        "print(f\"O imposto para transferência é R${imposto:.2f}\")"
      ],
      "metadata": {
        "id": "ys1x7SuegHK1",
        "colab": {
          "base_uri": "https://localhost:8080/"
        },
        "outputId": "eaacbe79-62e4-4803-aa2e-b024b500d26d"
      },
      "execution_count": null,
      "outputs": [
        {
          "output_type": "stream",
          "name": "stdout",
          "text": [
            "Digite o ano do carro: 2014\n",
            "Digite o preço do carro: 10000\n",
            "O imposto para transferência é R$150.00\n"
          ]
        }
      ]
    },
    {
      "cell_type": "markdown",
      "metadata": {
        "id": "tFR9qp3gN999"
      },
      "source": [
        "###13. Elabore um algoritmo que informando a idade de um nadador o mesmo terá condições de classificar em uma das seguintes categorias:\n",
        "infantil = 5 - 10 anos;\n",
        "\n",
        "juvenil = 11-17 anos;\n",
        "\n",
        "adulto = maiores de 18 anos.\n",
        "\n"
      ]
    },
    {
      "cell_type": "code",
      "metadata": {
        "id": "ECh55bXTOUN3",
        "colab": {
          "base_uri": "https://localhost:8080/"
        },
        "outputId": "a718cb37-a608-4da2-89d0-86406c53e412"
      },
      "source": [
        "faixa: str #Decidir a faixa etária entre infantil, juvenil ou adulto\n",
        "idade: int #Idade do nadador\n",
        "\n",
        "idade = int(input(\"Digite a idade: \"))\n",
        "\n",
        "if idade >= 18:\n",
        "  faixa = \"Adulto\"\n",
        "elif idade > 11 and idade <= 17:\n",
        "  faixa = \"Juvenil\"\n",
        "elif idade > 5 and idade <= 10:\n",
        "  faixa = \"Infantil\"\n",
        "else:\n",
        "  faixa = \"Não atinge idade mínima\"\n",
        "\n",
        "if idade < 5:\n",
        "  print(faixa)\n",
        "else:\n",
        "  print(f\"Classificado para a categoria: {faixa}\")"
      ],
      "execution_count": null,
      "outputs": [
        {
          "output_type": "stream",
          "name": "stdout",
          "text": [
            "Digite a idade: 42\n",
            "Classificado para a categoria: Adulto\n"
          ]
        }
      ]
    },
    {
      "cell_type": "markdown",
      "metadata": {
        "id": "pWT4E1FfOUkH"
      },
      "source": [
        "###14. Um banco concederá um crédito especial aos seus clientes, variável com o saldo médio no último ano. Faça um algoritmo que leia o saldo médio de um cliente e calcule o valor do crédito de acordo com a tabela a seguir. Mostre uma mensagem informando o saldo médio e o valor do crédito.\n",
        "        Saldo médio\n",
        "        * de 0 a 200 nenhum crédito\n",
        "        * de 201 a  400 20% do valor do saldo médio\n",
        "        * de 401 a  600 30% do valor do saldo médio\n",
        "        * acima de 601 40% do valor do saldo médio\n"
      ]
    },
    {
      "cell_type": "code",
      "metadata": {
        "id": "bjndIJmMP2--",
        "colab": {
          "base_uri": "https://localhost:8080/"
        },
        "outputId": "d6836136-482f-4485-b7ab-a7a714d577f8"
      },
      "source": [
        "saldo: float\n",
        "credito: float #Porcentagem de crédito\n",
        "valor: float #Valor do crédito\n",
        "\n",
        "saldo = float(input(\"Digite o saldo: \"))\n",
        "\n",
        "if saldo <= 200:\n",
        "  credito = 0\n",
        "elif saldo > 200 and saldo <= 400:\n",
        "  credito = 0.2\n",
        "elif saldo > 400 and saldo <= 600:\n",
        "  credito = 0.3\n",
        "else:\n",
        "  credito = 0.4\n",
        "\n",
        "valor = saldo * credito\n",
        "\n",
        "print(f\"Saldo: R$ {saldo:.2f}\\tCrédito: R$ {valor:.2f}\")\n"
      ],
      "execution_count": null,
      "outputs": [
        {
          "output_type": "stream",
          "name": "stdout",
          "text": [
            "Digite o saldo: 500\n",
            "Saldo: R$ 500.00\tCrédito: R$ 150.00\n"
          ]
        }
      ]
    },
    {
      "cell_type": "markdown",
      "metadata": {
        "id": "4NQ1BgrnQCJ4"
      },
      "source": [
        "###15. A Organização Mundial de Saúde usa a seguinte tabela para determinar a condição de um adulto, para isso desenvolva um algoritmo para calcular o Índice de Massa Corporal (IMC) e apresenta-lo, dado pela fórmula:\n",
        "    IMC = peso / (altura)2   (o número 2 significa, elevado ao quadrado)\n",
        "\n",
        "CONDIÇÃO |  IMC em adultos |\n",
        " ---|---\n",
        "Abaixo do peso  |\tAbaixo de 18.5  |\n",
        "No peso normal\t|\tEntre 18.5 e 25|\n",
        "Acima do peso\t|\tEntre 25.1 e 30|\n",
        "Obeso\t\t    |\tAcima de 30|"
      ]
    },
    {
      "cell_type": "code",
      "metadata": {
        "id": "s7C4mls6TT90",
        "colab": {
          "base_uri": "https://localhost:8080/"
        },
        "outputId": "61fce580-ac70-448c-8db8-c5d60e5497bb"
      },
      "source": [
        "peso = float(input(\"Digite o peso: \"))\n",
        "altura = float(input(\"Digite a altura: \"))\n",
        "\n",
        "imc = peso / (altura ** 2)\n",
        "\n",
        "if imc < 18.5:\n",
        "  condicao = \"Abaixo do peso\"\n",
        "elif imc >= 18.5 and imc <= 25:\n",
        "  condicao = \"No peso normal\"\n",
        "elif imc > 25 and imc <= 30:\n",
        "  condicao = \"Acima do peso\"\n",
        "else:\n",
        "  condicao = \"Obeso\"\n",
        "\n",
        "print(f\"Condição: {condicao}\")"
      ],
      "execution_count": null,
      "outputs": [
        {
          "output_type": "stream",
          "name": "stdout",
          "text": [
            "Digite o peso: 120\n",
            "Digite a altura: 1.76\n",
            "38.739669421487605\n",
            "Condição: Obeso\n"
          ]
        }
      ]
    },
    {
      "cell_type": "markdown",
      "metadata": {
        "id": "-Lj_vtkDwhfJ"
      },
      "source": [
        "###16. A nota final de um estudante é calculada a partir de três notas atribuídas, respectivamente, a um trabalho de laboratório, a uma avaliação semestral e a um exame final. A média das três notas mencionadas obedece aos pesos a seguir:\n",
        "\n",
        " NOTA |  PESO |\n",
        " ---|---\n",
        "Trabalho de laboratório  |   2   |\n",
        "Avaliação semestral      |   3   |\n",
        "Exame final              |   5   |\n",
        "\n",
        "### Faça um programa que receba as três notas, calcule e mostre a média ponderada e o conceito que segue a tabela\n",
        "\n",
        "MÉDIA PONDERADA    | CONCEITO|\n",
        "---|---\n",
        "8,0 <= média <= 10  |    A\n",
        "7,0 <= média < 8,0  |    B\n",
        "6,0 <= média < 7,0  |    C\n",
        "5,0 <= média < 6,0  |    D\n",
        " 0,0 <= média < 5,0  |    E\n",
        "       \n",
        "media_ponderada = (nota_traballho * 2 + avaliacao_semestral * 3 + exame_final * 5) / 10\n",
        "\n"
      ]
    },
    {
      "cell_type": "code",
      "metadata": {
        "id": "fhlh7OxNwDhl",
        "colab": {
          "base_uri": "https://localhost:8080/"
        },
        "outputId": "cb616e04-38c3-4289-e885-735b9415ff65"
      },
      "source": [
        "trabalho: float #Trabalho de Laboratório\n",
        "avaliacao: float #Avaliação Semestral\n",
        "exame: float #Exame Final\n",
        "media: float\n",
        "conceito: str\n",
        "\n",
        "trabalho = float(input(\"Digite a nota do trabalho de laboratório: \"))\n",
        "\n",
        "avaliacao = float(input(\"Digite a nota da avaliação semestral: \"))\n",
        "\n",
        "exame = float(input(\"Digite a nota do exame: \"))\n",
        "\n",
        "media = ((trabalho*2)+(avaliacao*3)+(exame*5))/10\n",
        "\n",
        "if media < 5:\n",
        "  conceito = \"E\"\n",
        "elif media >= 5 and media < 6:\n",
        "  conceito = \"D\"\n",
        "elif media >= 6 and media < 7:\n",
        "  conceito = \"C\"\n",
        "elif media >= 7 and media < 8:\n",
        "  conceito = \"B\"\n",
        "else:\n",
        "  conceito = \"A\"\n",
        "\n",
        "print(f\"A média foi: {media:.1f} e o conceito: {conceito}\")"
      ],
      "execution_count": null,
      "outputs": [
        {
          "output_type": "stream",
          "name": "stdout",
          "text": [
            "Digite a nota do trabalho de laboratório: 8\n",
            "Digite a nota da avaliação semestral: 6\n",
            "Digite a nota do exame: 5\n",
            "A média foi: 5.9 e o conceito: D\n"
          ]
        }
      ]
    },
    {
      "cell_type": "markdown",
      "metadata": {
        "id": "PAaDySD4wkK_"
      },
      "source": [
        "### 17. Faça um programa que receba três notas de um aluno, calcule e mostre a média aritmética e a mensagem constante na tabela a seguir. Aos alunos que ficaram para exame, calcule e mostre a nota que deverão tirar para serem aprovados, considerando que a média exigida é 6,0.\n",
        "\n",
        "**Observação**: Esta condição de reprovado e exame, não representa a realidade da faculdade.\n",
        "\n",
        "MÉDIA ARITMÉTICA | MENSAGEM\n",
        "    ---|---\n",
        "    0 <= média < 3 |Reprovado\n",
        "    3 <= média < 6|Exame\n",
        "    6 <= média <= 10|Aprovado\n",
        "\n",
        "```\n",
        "SE media >= 3 E media < 6\n",
        "    ESCREVA “Exame”\n",
        "    nota_exame = 12 - media\n",
        "    ESCREVA “Você deve tirar a nota”, nota_exame, “para ser aprovado.”\n"
      ]
    },
    {
      "cell_type": "code",
      "metadata": {
        "id": "y1Wfq8tzwm06",
        "colab": {
          "base_uri": "https://localhost:8080/"
        },
        "outputId": "1d1bcfe7-d580-4bc2-c3a3-5fe9c8146426"
      },
      "source": [
        "n1 = float(input(\"Digite a primeira nota: \"))\n",
        "n2 = float(input(\"Digite a segunda nota: \"))\n",
        "n3 = float(input(\"Digite a terceira nota: \"))\n",
        "media = (n1+n2+n3)/3\n",
        "\n",
        "if media < 3:\n",
        "  print(f\"Média: {media:.1f}\\tStatus: Reprovado\")\n",
        "elif media >= 3 and media < 6:\n",
        "  nota = 12 - media\n",
        "  print(f\"Média: {media:.1f}\\tStatus: Exame\\nVocê deve tirar nota {nota:.1f} para ser aprovado.\")\n",
        "else:\n",
        "  print(f\"Média: {media:.1f}\\tStatus: Aprovado\")"
      ],
      "execution_count": null,
      "outputs": [
        {
          "output_type": "stream",
          "name": "stdout",
          "text": [
            "Digite a primeira nota: 5.3\n",
            "Digite a segunda nota: 5.7\n",
            "Digite a terceira nota: 5.5\n",
            "Média: 5.5\tStatus: Exame\n",
            "Você deve tirar nota 6.5 para ser aprovado.\n"
          ]
        }
      ]
    },
    {
      "cell_type": "markdown",
      "metadata": {
        "id": "7O0Mqmidwm-j"
      },
      "source": [
        "### 18. Faça um programa que receba dois números e mostre o maior.\n"
      ]
    },
    {
      "cell_type": "code",
      "metadata": {
        "id": "HcTiyc7GwpKM",
        "colab": {
          "base_uri": "https://localhost:8080/"
        },
        "outputId": "cb01c5ba-734a-44a0-97a6-1bd354369870"
      },
      "source": [
        "n1 = float(input(\"Digite o primeiro número: \"))\n",
        "n2 = float(input(\"Digite o segundo número: \"))\n",
        "\n",
        "if n1 > n2:\n",
        "  print(n1)\n",
        "else:\n",
        "  print(n2)"
      ],
      "execution_count": null,
      "outputs": [
        {
          "output_type": "stream",
          "name": "stdout",
          "text": [
            "Digite o primeiro número: 7\n",
            "Digite o segundo número: 8\n",
            "8.0\n"
          ]
        }
      ]
    },
    {
      "cell_type": "markdown",
      "metadata": {
        "id": "2_NBZeVXwpTd"
      },
      "source": [
        "### 19. Faça um programa que receba três números e mostre-os em ordem crescente. Suponha que o usuário digitará três números diferentes.\n",
        "\n",
        "```\n",
        "SE numero1 < numero2 E numero1 < numero3\n",
        "    SE numero2 < numero3\n",
        "        ESCREVA “A ordem crescente é: “,numero1,“-”,numero2,“-”,numero3\n",
        "    SENÃO\n",
        "        ESCREVA “A ordem crescente é: “,numero1,“-”,numero3,“-”,numero2\n",
        "SE numero2 < numero1 E numero2 < numero3\n",
        "    SE numero1 < numero3\n",
        "        ESCREVA “A ordem crescente é: “,numero2,“-”,numero1,“-”,numero3\n",
        "    SENÃO\n",
        "        ESCREVA “A ordem crescente é: “,numero2,“-”,numero3,“-”,numero1\n",
        "SE numero3 < numero1 E numero3 < num2\n",
        "    SE numero1 < numero2\n",
        "        ESCREVA “A ordem crescente é: “,numero3,“-”,numero1,“-”,numero2\n",
        "    SENÃO\n",
        "        ESCREVA “A ordem crescente é: “,numero3,“-”,numero2,“-”,numero1\n",
        "  ```"
      ]
    },
    {
      "cell_type": "code",
      "metadata": {
        "id": "Ek3oVh59wsJJ",
        "colab": {
          "base_uri": "https://localhost:8080/"
        },
        "outputId": "1ba6c05b-e0c7-4ea9-8ad9-4d3e735525ee"
      },
      "source": [
        "#Jeito mais fácil de fazer\n",
        "numeros = [] #criar uma lista\n",
        "\n",
        "while(len(numeros)<3): #adicionar os três valores na lista\n",
        "  n = float(input(\"Digite o número: \"))\n",
        "  numeros.append(n)\n",
        "\n",
        "numeros.sort() #Organizar a lista em forma crescente\n",
        "\n",
        "print(\"A ordem crescente é: \", end=\"\")\n",
        "for i in numeros: #Mostrar os números\n",
        "  print(i, end=\" \")"
      ],
      "execution_count": null,
      "outputs": [
        {
          "output_type": "stream",
          "name": "stdout",
          "text": [
            "Digite o número: 56\n",
            "Digite o número: 23\n",
            "Digite o número: 90\n",
            "A ordem crescente é: 23.0 56.0 90.0 "
          ]
        }
      ]
    },
    {
      "cell_type": "markdown",
      "metadata": {
        "id": "ZhHFeeuKwsS_"
      },
      "source": [
        "### 20. Faça um programa que receba três números obrigatoriamente em ordem crescente e um quarto número que não siga essa regra. Mostre, em seguida, os quatro números em ordem decrescente. Suponha que o usuário digitará quatro números diferentes.\n",
        "\n",
        "```code\n",
        "SE numero4 > numero3\n",
        "    ESCREVA “A ordem decrescente é: “,numero4,“-”,numero3,“-”,numero2,“-”,numero1\n",
        "SENÃO SE numero4 > numero2 E numero4 < numero3\n",
        "    ESCREVA “A ordem decrescente é: “,numero3,“-”,numero4,“-”,numero2,“-”,numero1\n",
        "SENÃO SE numero4 > numero1 E numero4 < numero2\n",
        "    ESCREVA “A ordem decrescente é: “,numero3,“-”,numero2,“-”,numero4, “-”,numero1\n",
        "SENÃO SE numero4 < numero1\n",
        "    ESCREVA “A ordem decrescente é: “,numero3,“-”,numero2,“-”,numero1,“-”,numero4\n",
        "```"
      ]
    },
    {
      "cell_type": "code",
      "metadata": {
        "id": "MXb2lDpTwukn",
        "colab": {
          "base_uri": "https://localhost:8080/"
        },
        "outputId": "d3fb8d1c-325b-4c9d-a0e5-01e49fa1cb22"
      },
      "source": [
        "numeros = [] #criar uma lista\n",
        "\n",
        "while(len(numeros)<4): #adicionar os quatro valores na lista\n",
        "  n = float(input(\"Digite o número: \"))\n",
        "  numeros.append(n)\n",
        "\n",
        "numeros.sort() #Organizar a lista em forma crescente\n",
        "\n",
        "for i in numeros[::-1]:\n",
        "  print(\"|\", i, end=\" | \")"
      ],
      "execution_count": null,
      "outputs": [
        {
          "output_type": "stream",
          "name": "stdout",
          "text": [
            "Digite o número: 5\n",
            "Digite o número: 3\n",
            "Digite o número: 4\n",
            "Digite o número: 9\n",
            "| 9.0 | | 5.0 | | 4.0 | | 3.0 | "
          ]
        }
      ]
    },
    {
      "cell_type": "markdown",
      "metadata": {
        "id": "U6uFBqEEwxTU"
      },
      "source": [
        "### 21. Faça um programa que receba quatro valores: I, A, B e C. Desses valores, I é inteiro e positivo, A, B e C são reais. Escreva os números A, B e C obedecendo à tabela a seguir.\n",
        "\n",
        "*Suponha que o valor digitado para I seja sempre um valor válido, ou seja, 1, 2 ou 3, e que os números digitados sejam diferentes um do outro.*\n",
        "\n",
        "  |VALOR DE I | FORMA A ESCREVER|\n",
        "  |---|---|\n",
        "  |1                  |A, B e C em ordem crescente.|\n",
        "  |2                  |A, B e C em ordem decrescente|\n",
        "  |3                  |O maior fica entre os outros dois números.|\n",
        "\n",
        "  ```code\n",
        "SE I == 1\n",
        "    SE A<B E A<C\n",
        "        SE B<C\n",
        "            ESCREVA “A ordem crescente dos números é:”,A,” -”,B,”-”,C\n",
        "        SENÃO\n",
        "            ESCREVA “A ordem crescente dos números é:”,A,” -”,C,”-”,B\n",
        "    SE B<A E B<C\n",
        "        SE A<C\n",
        "            ESCREVA “A ordem crescente dos números é:”,B,”-”,A,”-”,C\n",
        "        SENÃO\n",
        "            ESCREVA “A ordem crescente dos números é: “,B,”-”,C,”-”,A\n",
        "    SE C<A E C<B\n",
        "        SE A<B\n",
        "            ESCREVA “A ordem crescente dos números é: “,C,”-”,A,”-”,B\n",
        "        SENÃO\n",
        "            ESCREVA “A ordem crescente dos números é: “,C,”-”,B,”-”,A\n",
        "SE I == 2\n",
        "    SE A>B E A>C\n",
        "        SE B>C\n",
        "            ESCREVA “A ordem decrescente dos números é: “,A,” -”,B,”-”,C\n",
        "        SENÃO\n",
        "            ESCREVA “A ordem decrescente dos números é: “,A,” -”,C,”-”,B\n",
        "    SE B>A E B>C\n",
        "        SE A>C\n",
        "            ESCREVA “A ordem decrescente dos números é: “,B,” -”,A,”-”,C\n",
        "        SENÃO\n",
        "            ESCREVA “A ordem decrescente dos números é: “,B,” -”,C,”-”,A\n",
        "    SE C>A E C>B\n",
        "        SE A>B\n",
        "            ESCREVA “A ordem decrescente dos números é: “,C,” -”,A,”-”,B\n",
        "        SENÃO\n",
        "            ESCREVA “A ordem decrescente dos números é: “,C,” -”,B,”-”,A\n",
        "SE I == 3\n",
        "    SE A>B E A>C\n",
        "        ESCREVA “A ordem desejada é: “,B,”-”,A,”-”,C\n",
        "    SE B>A E B>C\n",
        "        ESCREVA “A ordem desejada é: “,A,”-”,B,”-”,C\n",
        "    SE C>A E C>B\n",
        "        ESCREVA “A ordem desejada é: “,A,”-”,C,”-”,B\n",
        "```"
      ]
    },
    {
      "cell_type": "code",
      "metadata": {
        "id": "xComTuz4w2uW",
        "colab": {
          "base_uri": "https://localhost:8080/"
        },
        "outputId": "8dce6a8d-147e-461d-cc24-67911a44b8ef"
      },
      "source": [
        "numeros = []\n",
        "\n",
        "x = int(input(\"Digite a forma de processamento (1, 2 ou 3): \"))\n",
        "\n",
        "while(len(numeros)<3):\n",
        "  n = float(input(\"Digite o número: \"))\n",
        "  numeros.append(n)\n",
        "numeros.sort()\n",
        "\n",
        "if x == 1:\n",
        "  for i in numeros:\n",
        "    print(\"|\", i, end=\" | \")\n",
        "elif x == 2:\n",
        "  for i in numeros[::-1]:\n",
        "    print(\"|\", i, end=\" | \")\n",
        "else:\n",
        "  print(\"|\", numeros[0], end=\" | \")\n",
        "  print(\"|\", numeros[2], end=\" | \")\n",
        "  print(\"|\", numeros[1], end=\" | \")"
      ],
      "execution_count": null,
      "outputs": [
        {
          "output_type": "stream",
          "name": "stdout",
          "text": [
            "Digite a forma de processamento (1, 2 ou 3): 2\n",
            "Digite o número: 23\n",
            "Digite o número: 34\n",
            "Digite o número: 758\n",
            "| 758.0 | | 34.0 | | 23.0 | "
          ]
        }
      ]
    },
    {
      "cell_type": "markdown",
      "metadata": {
        "id": "uN4h6-qFw22p"
      },
      "source": [
        "### 22. Faça um programa que mostre o menu de opções a seguir, receba a opção do usuário, número 1 para a escolha da soma, ou número 2 para a raiz quadrada, também receba os dados necessários para executar cada operação.\n",
        "\n",
        "    Menu de opções:\n",
        "    1. Somar dois números.\n",
        "    2. Raiz quadrada de um número.\n",
        "\n",
        "Observação: raiz = numero ** (1/2), ou\n",
        "import math\n",
        "raiz = math.sqrt(numero), assim como foi programado no exercício 18, da lista anterior.\n",
        "      "
      ]
    },
    {
      "cell_type": "code",
      "metadata": {
        "id": "8otY1f_ow5Sy",
        "colab": {
          "base_uri": "https://localhost:8080/"
        },
        "outputId": "4a1c08e4-2f49-4152-a7de-47fdd1f12682"
      },
      "source": [
        "import math\n",
        "\n",
        "opcao = int(input(\"\"\"Menu de opções:\n",
        "1. Somar dois números.\n",
        "2. Raiz quadrada de um número.\n",
        "Digite a opção desejada: \"\"\"))\n",
        "\n",
        "if opcao == 1:\n",
        "  print(\"Opção escolhida: 1. Somar dois números\")\n",
        "  n1 = float(input(\"Digite o primeiro número: \"))\n",
        "  n2 = float(input(\"Digite o segundo número: \"))\n",
        "  n3 = n1 + n2\n",
        "  print(f\"O resultado é: {n3}\")\n",
        "elif opcao == 2:\n",
        "  print(\"Opção escolhida: 2. Raiz quadrada de um número.\")\n",
        "  n1 = float(input(\"Digite o número: \"))\n",
        "  n3 = math.sqrt(n1)\n",
        "  print(f\"O resultado é: {n3:.2f}\")\n",
        "else:\n",
        "  print(\"Opção Inválida\")"
      ],
      "execution_count": null,
      "outputs": [
        {
          "output_type": "stream",
          "name": "stdout",
          "text": [
            "Menu de opções:\n",
            "1. Somar dois números.\n",
            "2. Raiz quadrada de um número.\n",
            "Digite a opção desejada: 1\n",
            "Opção escolhida: 1. Somar dois números\n",
            "Digite o primeiro número: 65\n",
            "Digite o segundo número: 745\n",
            "O resultado é: 810.0\n"
          ]
        }
      ]
    },
    {
      "cell_type": "markdown",
      "metadata": {
        "id": "xVYTUU1Qw5b0"
      },
      "source": [
        "### 23. Faça um programa que mostre a data e a hora do sistema nos seguintes formatos: **dia/mês/ano – mês por extenso e hora:minuto**.\n",
        "\n",
        "**Observação: ***from*** carrega um módulo/biblioteca da linguagem Python e o ***import*** é usado para informar qual objeto desta biblioteca queremos importar/carregar no nosso programa. Se colocar apenas import será carregado tudo que tem dentro da biblioteca.**\n",
        "\n",
        "    from datetime import datetime\n",
        "    #Este comando obtem a data e hora de hoje de algum país onde esta o servidor que executa nosso programa feito no Collab, em Python.\n",
        "    #Quando eu testei, o servidor era do fuso horário de Dakar-Senegal\n",
        "    hoje = datetime.now()\n",
        "    print ('Ano atual.:',hoje.year)\n",
        "    print ('Mês.......:',hoje.month)\n",
        "    print ('Dia.......:',hoje.day)\n",
        "    print ('Hora......:',hoje.hour)\n",
        "    print ('Minuto....:',hoje.minute)\n",
        "    print ('Segundos..:',hoje.second)"
      ]
    },
    {
      "cell_type": "code",
      "metadata": {
        "id": "e-wpYfvew8A2",
        "colab": {
          "base_uri": "https://localhost:8080/"
        },
        "outputId": "12ab4c3c-de7a-4d7b-ea32-8de45910e22e"
      },
      "source": [
        "from datetime import datetime, timezone, timedelta\n",
        "\n",
        "meses = ['janeiro', 'fevereiro', 'março', 'abril', 'maio', 'junho', 'julho', 'agosto', 'setembro', 'outubro', 'novembro', 'dezembro']\n",
        "\n",
        "fuso = timezone(timedelta(hours=-3))\n",
        "today = datetime.now()\n",
        "hoje = today.astimezone(fuso)\n",
        "\n",
        "print ('Ano atual.:',hoje.year)\n",
        "print ('Mês.......:',hoje.month)\n",
        "print ('Dia.......:',hoje.day)\n",
        "print ('Hora......:',hoje.hour)\n",
        "print ('Minuto....:',hoje.minute)\n",
        "print ('Segundos..:',hoje.second)\n",
        "\n",
        "print(f\"\\nDia {hoje.day} de {meses[hoje.month-1]} de {hoje.year}\")\n",
        "print(hoje.strftime('%H:%M:%S'))"
      ],
      "execution_count": null,
      "outputs": [
        {
          "output_type": "stream",
          "name": "stdout",
          "text": [
            "Ano atual.: 2024\n",
            "Mês.......: 8\n",
            "Dia.......: 30\n",
            "Hora......: 14\n",
            "Minuto....: 55\n",
            "Segundos..: 12\n",
            "\n",
            "Dia 30 de agosto de 2024\n",
            "14:55:12\n"
          ]
        }
      ]
    },
    {
      "cell_type": "code",
      "source": [
        "from datetime import datetime, timezone, timedelta\n",
        "\n",
        "data_e_hora_atuais = datetime.now()\n",
        "fuso_horario = timezone(timedelta(hours=-3))\n",
        "print('UTC - Tempo Universal Coordenado:', fuso_horario)\n",
        "data_e_hora_SP = data_e_hora_atuais.astimezone(fuso_horario)\n",
        "data_e_hora_SP_em_texto = data_e_hora_SP.strftime('%d/%m/%Y %H:%M')\n",
        "print('Data e horário de São Paulo:',data_e_hora_SP_em_texto)"
      ],
      "metadata": {
        "colab": {
          "base_uri": "https://localhost:8080/"
        },
        "id": "9PTdyMfvO_tI",
        "outputId": "50a12ed5-83f3-4055-b1c2-266f4bd7fb80"
      },
      "execution_count": null,
      "outputs": [
        {
          "output_type": "stream",
          "name": "stdout",
          "text": [
            "UTC - Tempo Universal Coordenado: UTC-03:00\n",
            "Data e horário de São Paulo: 30/08/2024 14:41\n"
          ]
        }
      ]
    },
    {
      "cell_type": "markdown",
      "metadata": {
        "id": "BwvSTMttw8KJ"
      },
      "source": [
        "### 24. Faça um programa que determine a data cronologicamente maior entre duas datas fornecidas pelo usuário. Cada data deve ser composta por três valores inteiros, em que o primeiro representa o dia, o segundo, o mês e o terceiro, o ano."
      ]
    },
    {
      "cell_type": "code",
      "metadata": {
        "id": "Ayf2tlS1w-e7",
        "colab": {
          "base_uri": "https://localhost:8080/"
        },
        "outputId": "6475d6b6-9e7c-4b1f-fa3c-7ebc5c6e0060"
      },
      "source": [
        "dia1 = int(input(\"Digite o dia 1: \"))\n",
        "mes1 = int(input(\"Digite o mês 1: \"))\n",
        "ano1 = int(input(\"Digite o ano 1: \"))\n",
        "\n",
        "dia2 = int(input(\"Digite o dia 2: \"))\n",
        "mes2 = int(input(\"Digite o mês 2: \"))\n",
        "ano2 = int(input(\"Digite o ano 2: \"))\n",
        "\n",
        "if ano1 > ano2:\n",
        "  print(f\"A maior data é: {dia1}/{mes1}/{ano1}\")\n",
        "elif ano2 > ano1:\n",
        "  print(f\"A maior data é: {dia2}/{mes2}/{ano2}\")\n",
        "elif mes1 > mes2:\n",
        "  print(f\"A maior data é: {dia1}/{mes1}/{ano1}\")\n",
        "elif mes2 > mes1:\n",
        "  print(f\"A maior data é: {dia2}/{mes2}/{ano2}\")\n",
        "elif dia1 > dia2:\n",
        "  print(f\"A maior data é: {dia1}/{mes1}/{ano1}\")\n",
        "elif dia2 > dia1:\n",
        "  print(f\"A maior data é: {dia2}/{mes2}/{ano2}\")\n",
        "else:\n",
        "  print(\"As datas são iguais!\")"
      ],
      "execution_count": null,
      "outputs": [
        {
          "output_type": "stream",
          "name": "stdout",
          "text": [
            "Digite o dia 1: 30\n",
            "Digite o mês 1: 08\n",
            "Digite o ano 1: 2024\n",
            "Digite o dia 2: 06\n",
            "Digite o mês 2: 04\n",
            "Digite o ano 2: 2000\n",
            "A maior data é: 30/8/2024\n"
          ]
        }
      ]
    },
    {
      "cell_type": "markdown",
      "metadata": {
        "id": "cWnawYSbw-o9"
      },
      "source": [
        "### 25. Faça um programa que receba a hora do início de um jogo e a hora do término (cada hora é composta por duas variáveis inteiras: hora e minuto). Calcule e mostre a duração do jogo (horas e minutos), sabendo que o tempo máximo de duração do jogo é de 24 horas e que ele pode começar em um dia e terminar no dia seguinte.\n",
        "    SE min_inicial > min_f\n",
        "        min_final = min_final + 60\n",
        "        hora_final = hora_final – 1\n",
        "    SE hora_inicial > hora_final\n",
        "        hora_final = hora_final + 24\n",
        "    minuto_duracao = min_final - min_inicial\n",
        "    hora_duracao = hora_final - hora_inicial"
      ]
    },
    {
      "cell_type": "code",
      "metadata": {
        "id": "-Eq9yPDyxAvk",
        "colab": {
          "base_uri": "https://localhost:8080/"
        },
        "outputId": "acea0c67-0988-4283-94e8-2745cf2044e7"
      },
      "source": [
        "horaini = int(input(\"Digite a hora inicial: \"))\n",
        "minini = int(input(\"Digite o minuto inicial: \"))\n",
        "\n",
        "horafin = int(input(\"Digite a hora final: \"))\n",
        "minfin = int(input(\"Digite o minuto final: \"))\n",
        "\n",
        "if minini > minfin:\n",
        "  minfin = minfin + 60\n",
        "  horafin = horafin - 1\n",
        "if horaini > horafin:\n",
        "  horafin = horafin + 24\n",
        "\n",
        "minuto = minfin - minini\n",
        "hora = horafin - horaini\n",
        "\n",
        "print(f\"Duração do jogo: {hora}:{minuto}\")\n"
      ],
      "execution_count": null,
      "outputs": [
        {
          "output_type": "stream",
          "name": "stdout",
          "text": [
            "Digite a hora inicial: 17\n",
            "Digite o minuto inicial: 30\n",
            "Digite a hora final: 20\n",
            "Digite o minuto final: 00\n",
            "Duração do jogo: 2:30\n"
          ]
        }
      ]
    },
    {
      "cell_type": "markdown",
      "metadata": {
        "id": "eT4oGEI9xA42"
      },
      "source": [
        "### 26. Faça um programa que receba o código correspondente ao cargo de um funcionário e seu salário atual e mostre o cargo, o valor do aumento e seu novo salário. Os cargos estão na tabela a seguir.\n",
        "\n",
        "  |CÓDIGO|CARGO|PERCENTUAL|\n",
        "  |---|---|---|\n",
        "  |1|Escriturário|50%|\n",
        "  |2|Secretário|35%|\n",
        "  |3|Caixa|20%|\n",
        "  |4|Gerente|10%|\n",
        "  |5|Diretor|Não tem aumento|\n",
        "\n",
        "```code\n",
        "SE cargo == 1\n",
        "    ESCREVA “O cargo é Escriturário”\n",
        "    aumento = salario * 50 / 100\n",
        "    ESCREVA “O valor do aumento é: “, aumento\n",
        "    novo_sal = salario + aumento\n",
        "    ESCREVA “O novo salário é: “, novo_sal\n",
        "SENÃO SE cargo == 2\n",
        "    ESCREVA “O cargo é Secretário”\n",
        "    aumento = salario * 35 / 100\n",
        "    ESCREVA “O valor do aumento é: “, aumento\n",
        "    novo_sal = salario + aumento\n",
        "    ESCREVA “O novo salário é: “, novo_sal]\n",
        "SENÃO SE cargo == 3\n",
        "    ESCREVA “O cargo é Caixa”\n",
        "    aumento = salario * 20 / 100\n",
        "    ESCREVA “O valor do aumento é: “, aumento\n",
        "    novo_sal = salario + aumento\n",
        "    ESCREVA “O novo salário é: “,novo_sal\n",
        "SENÃO SE cargo == 4\n",
        "    ESCREVA “O cargo é Gerente”\n",
        "    aumento = salario * 10 / 100\n",
        "    ESCREVA “O valor do aumento é: “, aumento\n",
        "    novo_sal = salario + aumento\n",
        "    ESCREVA “O novo salário é: “, novo_sal\n",
        "SENÃO SE cargo == 5\n",
        "    ESCREVA “O cargo é Diretor”\n",
        "    aumento = salario * 0 / 100\n",
        "    ESCREVA “O valor do aumento é: “, aumento\n",
        "    novo_sal = salario + aumento\n",
        "    ESCREVA “O novo salário é: “, novo_sal\n",
        "```"
      ]
    },
    {
      "cell_type": "code",
      "metadata": {
        "id": "Akw301nvxDG0",
        "colab": {
          "base_uri": "https://localhost:8080/"
        },
        "outputId": "3ad175f0-2b92-4735-cbf6-1c2ab1b41272"
      },
      "source": [
        "codigos = [\n",
        "  {'Código' : 1, 'Cargo' : 'Escriturário', 'Aumento' : 0.5},\n",
        "  {'Código' : 2, 'Cargo' : 'Secretário', 'Aumento' : 0.35},\n",
        "  {'Código' : 3, 'Cargo' : 'Caixa', 'Aumento' : 0.2},\n",
        "  {'Código' : 4, 'Cargo' : 'Gerente', 'Aumento' : 0.1},\n",
        "  {'Código' : 5, 'Cargo' : 'Diretor', 'Aumento' : 0},\n",
        "  {'Código' : 6, 'Cargo' : 'CEO', 'Aumento' : -0.1}\n",
        "]\n",
        "\n",
        "while(True):\n",
        "  cod = int(input(\"Digite o código do cargo desejado: \"))\n",
        "  if cod > 0 and cod <= (len(codigos)):\n",
        "    break\n",
        "  else:\n",
        "    print(\"Código Inválido. Tente novamente.\")\n",
        "\n",
        "salario_atual = float(input(\"Digite o salário atual: R$ \"))\n",
        "\n",
        "for cargo in codigos:\n",
        "  if cargo['Código'] == cod:\n",
        "    aumento = salario_atual * cargo['Aumento']\n",
        "    salario_novo = salario_atual + aumento\n",
        "    print(f\"\"\"Cargo: {cargo['Cargo']} | Aumento: {(cargo['Aumento']*100):.0f}%\n",
        "Aumento: R$ {aumento:.2f} | Novo Salário: R$ {salario_novo:.2f}\"\"\")\n",
        "\n"
      ],
      "execution_count": null,
      "outputs": [
        {
          "output_type": "stream",
          "name": "stdout",
          "text": [
            "Digite o código do cargo desejado: 6\n",
            "Digite o salário atual: R$ 5000\n",
            "Cargo: CEO | Aumento: -10%\n",
            "Aumento: R$ -500.00 | Novo Salário: R$ 4500.00\n"
          ]
        }
      ]
    },
    {
      "cell_type": "markdown",
      "metadata": {
        "id": "wKORNMrWxDQs"
      },
      "source": [
        "### 27. Faça um programa que apresente o menu a seguir, permita ao usuário escolher a opção desejada, receba os dados necessários para executar a operação e mostre o resultado. Verifique a possibilidade de opção inválida e não se preocupe com restrições, como salário negativo.\n",
        "\n",
        "    Menu de opções\n",
        "    1. Imposto\n",
        "    2. Novo salário\n",
        "    3. Classificação\n",
        "    Digite a opção desejada:\n",
        "\n",
        "*Na opção 1: receber o salário de um funcionário, calcular e mostrar o valor do imposto usando as regras a seguir.*\n",
        "\n",
        "  |SALÁRIO|PERCENTUAL DO IMPOSTO|\n",
        "  |---|---|\n",
        "  |Menor que  500,00|5%|\n",
        "  |De  500,00 (inclusive) a  850,00 (inclusive)|10%|\n",
        "  |Acima de  850,00|15%|\n",
        "\n",
        "*Na opção 2: receber o salário de um funcionário, calcular e mostrar o valor do novo salário, usando as regras a seguir.*\n",
        "\n",
        "  |SALÁRIO|AUMENTO|\n",
        "  |---|---|\n",
        "  |Maior que  1.500,00| 25,00|\n",
        "  |De  750,01 a  1.500,00 (inclusive)| 50,00|\n",
        "  |De  450,00 (inclusive) a  750,00| 75,00|\n",
        "  |Menor que  450,00| 100,00|\n",
        "\n",
        "*Na opção 3: receber o salário de um funcionário e mostrar sua classificação usando a tabela a seguir.*\n",
        "\n",
        "|SALÁRIO|CLASSIFICAÇÃO|\n",
        "|---|---|\n",
        "|Até  700,00 (inclusive)|Mal remunerado|\n",
        "|Maiores que  700,00|Bem remunerado|\n"
      ]
    },
    {
      "cell_type": "code",
      "metadata": {
        "id": "LsX6cPFdxFxe",
        "colab": {
          "base_uri": "https://localhost:8080/"
        },
        "outputId": "3c0821c9-387a-467d-d1b4-857377291583"
      },
      "source": [
        "while(True):\n",
        "    salario = float(input(\"Digite o salário: R$ \"))\n",
        "    if salario > 0:\n",
        "        break\n",
        "\n",
        "print(\"\"\"\\n\\nMenu de opções\n",
        "1. Imposto\n",
        "2. Novo salário\n",
        "3. Classificação\n",
        "4. Parar\\n\"\"\")\n",
        "\n",
        "while(True):\n",
        "    opcao = int(input(f\"\\nDigite a opção desejada: \"))\n",
        "    if opcao == 1:\n",
        "        if salario < 500:\n",
        "            imposto = salario * 0.05\n",
        "            print(f\"O valor do imposto é R$ {imposto:.2f}\")\n",
        "        elif salario >= 500 and salario <= 1500:\n",
        "            imposto = salario * 0.10\n",
        "            print(f\"O valor do imposto é R$ {imposto:.2f}\")\n",
        "        else:\n",
        "            imposto = salario * 0.15\n",
        "            print(f\"O valor do imposto é R$ {imposto:.2f}\")\n",
        "    elif opcao == 2:\n",
        "        if salario > 1500:\n",
        "            aumento = salario + 25\n",
        "            print(f\"O valor do aumento é R$ {aumento:.2f}\")\n",
        "        elif salario > 750 and salario <= 1500:\n",
        "            aumento = salario + 50\n",
        "            print(f\"O valor do aumento é R$ {aumento:.2f}\")\n",
        "        elif salario >= 450 and salario <= 750:\n",
        "            aumento = salario + 75\n",
        "            print(f\"O valor do aumento é R$ {aumento:.2f}\")\n",
        "        else:\n",
        "            aumento = salario + 100\n",
        "            print(f\"O valor do aumento é R$ {aumento:.2f}\")\n",
        "    elif opcao == 3:\n",
        "        if salario >= 700:\n",
        "            print(\"Mal remunerado\")\n",
        "        else:\n",
        "            print(\"Bem remunerado\")\n",
        "    elif opcao == 4:\n",
        "        break\n",
        "    else:\n",
        "        print(\"Opção Inválida\")\n",
        "        continue"
      ],
      "execution_count": null,
      "outputs": [
        {
          "name": "stdout",
          "output_type": "stream",
          "text": [
            "Digite o salário: R$ 2000\n",
            "\n",
            "\n",
            "Menu de opções\n",
            "1. Imposto\n",
            "2. Novo salário\n",
            "3. Classificação\n",
            "4. Parar\n",
            "\n",
            "\n",
            "Digite a opção desejada: 2\n",
            "O valor do aumento é R$ 2025.00\n",
            "\n",
            "Digite a opção desejada: 3\n",
            "Mal remunerado\n",
            "\n",
            "Digite a opção desejada: 1\n",
            "O valor do imposto é R$ 300.00\n",
            "\n",
            "Digite a opção desejada: 4\n"
          ]
        }
      ]
    },
    {
      "cell_type": "markdown",
      "metadata": {
        "id": "pNlvJKW5xF6H"
      },
      "source": [
        "###28. Faça um programa que receba o salário inicial de um funcionário, calcule e mostre o novo salário, acrescido de bonificação e de auxílio escola.\n",
        "\n",
        "|SALÁRIO|BONIFICAÇÃO|\n",
        "|---|---|\n",
        "|Até  500,00|5% do salário|\n",
        "|Entre  500,01 e 1.200,00|12% do salário|\n",
        "|Acima de  1.200,00|Sem bonificação|\n",
        ">\n",
        "|SALÁRIO|AUXÍLIO ESCOLA|\n",
        "|---|---|\n",
        "|Até  600,00| 150,00|\n",
        "|Acima de  600,00| 100,00|\n",
        "\n",
        "novo_salario = salario + bonificacao + auxílio escola"
      ]
    },
    {
      "cell_type": "code",
      "metadata": {
        "id": "m2EJlS2IxIrf",
        "colab": {
          "base_uri": "https://localhost:8080/"
        },
        "outputId": "953acfed-cbae-4a2a-953e-2a0ee5bb2e77"
      },
      "source": [
        "salario_inicial = float(input(\"Digite o salário inicial: R$ \"))\n",
        "\n",
        "if salario_inicial <= 500:\n",
        "  bonificacao = salario_inicial * 0.05\n",
        "elif salario_inicial <= 1200:\n",
        "  bonificacao = salario_inicial * 0.12\n",
        "else:\n",
        "  bonificacao = 0\n",
        "\n",
        "if salario_inicial <= 600:\n",
        "  auxilio_escola = 150\n",
        "else:\n",
        "  auxilio_escola = 100\n",
        "\n",
        "novo_salario = salario_inicial + bonificacao + auxilio_escola\n",
        "\n",
        "print(f\"O novo salário é: R$ {novo_salario:.2f}\")"
      ],
      "execution_count": null,
      "outputs": [
        {
          "output_type": "stream",
          "name": "stdout",
          "text": [
            "Digite o salário inicial: R$ 700\n",
            "O novo salário é: R$ 884.00\n"
          ]
        }
      ]
    },
    {
      "cell_type": "markdown",
      "metadata": {
        "id": "fA_TpNq4xI0h"
      },
      "source": [
        "### 29. Faça um programa que receba o valor do salário mínimo, o número de horas trabalhadas, o número de dependentes do funcionário e a quantidade de horas extras trabalhadas. Calcule e mostre o salário a receber do funcionário de acordo com as regras a seguir:\n",
        "\n",
        "  * O valor da hora trabalhada é igual a 1/5 do salário mínimo.\n",
        "  * O salário do mês é igual ao número de horas trabalhadas multiplicado pelo valor da hora trabalhada.\n",
        "  * Para cada dependente, acrescentar  32,00.\n",
        "  * Para cada hora extra trabalhada, calcular o valor da hora * trabalhada acrescida de 50%.\n",
        "  * O salário bruto é igual ao salário do mês mais o valor dos dependentes mais o valor das horas extras.\n",
        "  * Calcular o valor do impostoosto de renda retido na fonte de acordo com a tabela a seguir:\n",
        "\n",
        "|IRFF|SALÁRIO BRUTO|\n",
        "|---|---|\n",
        "|Isento|Inferior a  200,00|\n",
        "|10%|De  200,00 até 500,00|\n",
        "|20%|Superior a  500,00|\n",
        "\n",
        "  * O salário líquido é igual ao salário bruto menos IRRF.\n",
        "  * A gratificação é de acordo com a tabela a seguir:\n",
        "\n",
        "|SALÁRIO LÍQUIDO|GRATIFICAÇÃO|\n",
        "|---|---|\n",
        "|Até 350,00| 100,00|\n",
        "|Superior a  350| 50,00|\n",
        "\n",
        "  * O salário a receber do funcionário é igual ao salário líquido mais a gratificação."
      ]
    },
    {
      "cell_type": "code",
      "metadata": {
        "id": "3eECKlHfxLK5",
        "colab": {
          "base_uri": "https://localhost:8080/"
        },
        "outputId": "946e5704-84a0-4ae7-be26-84cd20339122"
      },
      "source": [
        "salario_min: float = float(input(\"Digite o valor do salário mínimo: R$ \"))\n",
        "horas_trab: int = int(input(\"Digite a quantidade de horas trabalhadas: \"))\n",
        "depen: int = int(input(\"Digite o número de dependentes: \"))\n",
        "horas_extra: float = float(input(\"Digite a quantidade de horas extras: \"))\n",
        "\n",
        "valor_horas: float = salario_min / 5\n",
        "salario_mes: float = valor_horas * horas_trab\n",
        "valor_extra: float = valor_horas*1.5\n",
        "salario_extra: float = valor_extra*horas_extra\n",
        "salario_bruto: float = salario_mes+salario_extra+(depen*32)\n",
        "\n",
        "if salario_bruto > 0 and salario_bruto < 200:\n",
        "    salario_liq = salario_bruto\n",
        "elif salario_bruto >= 200 and salario_bruto <= 500:\n",
        "    salario_liq = salario_bruto * 0.9\n",
        "else:\n",
        "    salario_liq = salario_bruto * 0.8\n",
        "\n",
        "if salario_liq > 0 and salario_liq <= 350:\n",
        "    grat = 100\n",
        "else:\n",
        "    grat= 50\n",
        "\n",
        "salario_fin = salario_liq + grat\n",
        "\n",
        "print(f\"Salário a receber: R$ {salario_fin:.2f}\")"
      ],
      "execution_count": null,
      "outputs": [
        {
          "output_type": "stream",
          "name": "stdout",
          "text": [
            "Digite o valor do salário mínimo: R$ 1400\n",
            "Digite a quantidade de horas trabalhadas: 8\n",
            "Digite o número de dependentes: 2\n",
            "Digite a quantidade de horas extras: 4\n",
            "3984.0\n",
            "3187.2000000000003\n",
            "Salário a receber: R$ 3237.20\n"
          ]
        }
      ]
    },
    {
      "cell_type": "markdown",
      "metadata": {
        "id": "MuKRkPA9xLVE"
      },
      "source": [
        "###30. Um supermercado deseja reajustar os preços de seus produtos usando o seguinte critério: o produto poderá ter seu preço aumentado ou diminuído. Para o preço ser alterado, o produto deve preencher pelo menos um dos requisitos a seguir:\n",
        "\n",
        "|VENDA MÉDIA MENSAL|PREÇO ATUAL|% DE AUMENTO|% DE DIMINUIÇÃO|\n",
        "|---|--|---|---|\n",
        "|< 500|<  30000|10|-|\n",
        "|\\>= 500 e <1200|\\>=  30.00 e <  80.00|15|-|\n",
        "|\\>= 1200|\\>=  80.00|-|20|\n",
        "\n",
        "* Faça um programa que receba o preço atual e a venda média mensal do produto, calcule e mostre o novo preço.\n",
        "\n",
        "```code\n",
        "LEIA preco_atual, media_mensal_vendas\n",
        "\n",
        "SE media_mensal_vendas < 500 OU preco_atual < 30\n",
        "    novo_preco = preco_atual + 10/100 * preco_atual\n",
        "SENÃO SE media_mensal_vendas >= 500 E media_mensal_vendas < 1200 OU preco_atual >= 30 E preco_atual<80\n",
        "    novo_preco = preco_atual + 15 / 100 * preco_atual\n",
        "SENÃO SE venda >= 1200 OU preco_atual >= 80\n",
        "    novo_preco = preco_atual – 20 / 100 * preco_atual\n",
        "      \n",
        "ESCREVA novo_preco\n",
        "```"
      ]
    },
    {
      "cell_type": "code",
      "metadata": {
        "id": "yzIzUTc7xNmr",
        "colab": {
          "base_uri": "https://localhost:8080/"
        },
        "outputId": "8a8448d1-aff1-4f92-9acb-1778726c430d"
      },
      "source": [
        "preco = float(input(\"Digite o preço do produto: R$ \"))\n",
        "media = int(input(\"Digite a média de vendas mensal: \"))\n",
        "\n",
        "if media < 500 or preco < 30:\n",
        "    preco *= 1.1\n",
        "elif (media >= 500 and media < 1200) or (preco >= 30 and preco < 80):\n",
        "    preco *= 1.15\n",
        "elif media >= 1200 or preco >= 80:\n",
        "    preco *= 0.8\n",
        "\n",
        "print(f\"Novo valor: R$ {preco:.2f}\")"
      ],
      "execution_count": null,
      "outputs": [
        {
          "output_type": "stream",
          "name": "stdout",
          "text": [
            "Digite o preço do produto: R$ 60\n",
            "Digite a média de vendas mensal: 1800\n",
            "Novo valor: R$ 69.00\n"
          ]
        }
      ]
    },
    {
      "cell_type": "markdown",
      "metadata": {
        "id": "X-eT0SRdxNwk"
      },
      "source": [
        "### 31. Faça um programa para resolver equações do 2 o grau.\n",
        "\n",
        "**ax² + bx + c = 0**\n",
        "\n",
        "A variável *a* deve ser diferente de zero*\n",
        "\n",
        "  * delta = b ** 2 - 4 * a * c\n",
        "  * delta < 0.  **Não existe raiz real**\n",
        "  * delta = 0. **Existe uma raiz real**\n",
        "    * x = (-b) / (2 * a)\n",
        "  * delta > 0. **Existem duas raízes reais**\n",
        "    * x1 = -b + raiz(delta)/ (2 * a)\n",
        "    * x2 = -b  - raiz(delta)/ (2 * a)\n",
        "\n",
        "```code\n",
        "LEIA a, b, c\n",
        "SE a = 0\n",
        "    ESCREVA “Estes valores não formam uma equação de segundo grau”\n",
        "SENÃO\n",
        "    delta = (b * b) – ( 4 * a * c)\n",
        "    SE delta < 0\n",
        "        ESCREVA “Não existe raiz real”\n",
        "    SE delta = 0\n",
        "        ESCREVA “Existe uma raiz real”\n",
        "        x1 = (– b) / (2 * a)\n",
        "        ESCREVA x1\n",
        "    SE delta > 0\n",
        "        ESCREVA “Existem duas raízes reais”\n",
        "        x1 = (– b) + raiz(delta) / (2 * a)\n",
        "        x2 = (– b) - raiz(delta) / (2 * a)\n",
        "        ESCREVA(x1, x2)\n",
        "```"
      ]
    },
    {
      "cell_type": "code",
      "metadata": {
        "id": "DAhDbbkaxTAS",
        "colab": {
          "base_uri": "https://localhost:8080/"
        },
        "outputId": "d24e32ac-5920-4ee7-9206-8b6baa3b87c1"
      },
      "source": [
        "import math\n",
        "\n",
        "a = float(input(\"Digite o valor de a: \"))\n",
        "b = float(input(\"Digite o valor de b: \"))\n",
        "c = float(input(\"Digite o valor de c: \"))\n",
        "\n",
        "if a == 0:\n",
        "    print(\"Estes valores não formam uma equação de segundo grau\")\n",
        "else:\n",
        "    delta = (b**2)-(4*a*c)\n",
        "    if delta < 0:\n",
        "        print(\"Não existe raíz real\")\n",
        "    elif delta == 0:\n",
        "        print(\"Existe uma raíz real:\", end=\" \")\n",
        "        x1 = (-b)/(2*a)\n",
        "        print(x1)\n",
        "    else:\n",
        "        print(\"Existem duas raízes reais:\", end=\" \")\n",
        "        x1 = (-b) + math.sqrt(delta) / (2 * a)\n",
        "        x2 = (-b) - math.sqrt(delta) / (2 * a)\n",
        "        print(f\"{x1:.2f} {x2:.2f}\")"
      ],
      "execution_count": null,
      "outputs": [
        {
          "output_type": "stream",
          "name": "stdout",
          "text": [
            "Digite o valor de a: 10\n",
            "Digite o valor de b: 60\n",
            "Digite o valor de c: 10\n",
            "Existem duas raízes reais: -0.17 -5.83\n"
          ]
        }
      ]
    },
    {
      "cell_type": "markdown",
      "metadata": {
        "id": "PrDtckwwxTK6"
      },
      "source": [
        "###32. Dados três valores X, Y e Z, verifique se eles podem ser os comprimentos dos lados de um triângulo e, se forem, verifique se é um triângulo equilátero, isósceles ou escaleno. Se eles não formarem um triângulo, escreva uma mensagem.\n",
        "Considere que:\n",
        "* o comprimento de cada lado de um triângulo é menor que a soma dos outros dois lados;\n",
        "* chama-se equilátero o triângulo que tem três lados iguais;\n",
        "* denomina-se isósceles o triângulo que tem o comprimento de dois lados iguais;\n",
        "* recebe o nome de escaleno o triângulo que tem os três lados diferentes.\n",
        "\n",
        "```code\n",
        "LEIA x, y, z\n",
        "SE x < y + z E y < x + z E z < x + y\n",
        "    SE x = y E y = z\n",
        "        ESCREVA “Triângulo Equilátero”\n",
        "    SENÃO SE x = y OU x = z OU y = z\n",
        "        ESCREVA “Triângulo Isósceles”\n",
        "    SENÃO SE x ≠ y E x ≠ z E y ≠ z\n",
        "        ESCREVA “Triângulo Escaleno”\n",
        "SENÃO\n",
        "    ESCREVA “Essas medidas não formam um triângulo”\n",
        "```"
      ]
    },
    {
      "cell_type": "code",
      "metadata": {
        "id": "72Ljhi6lxyco"
      },
      "source": [
        "# Digite seu código aqui"
      ],
      "execution_count": null,
      "outputs": []
    },
    {
      "cell_type": "markdown",
      "metadata": {
        "id": "mCpnRwCvxymh"
      },
      "source": [
        "### 33. Faça um programa que receba a altura e peso de uma pessoa. De acordo com a tabela a seguir, verifique e mostre a classificação dessa pessoa.\n",
        "\n",
        "|ALTURA|ATÉ 60|ENTRE 60 E 90 (INCLUSIVE)|ACIMA DE 90|\n",
        "|---|---|---|---|\n",
        "|Menores que 1,20|A|D|G|\n",
        "|De 1,20 a 1,70|B|E|H|\n",
        "|Maiores que 1,70|C|F|I|\n",
        "\n",
        "```code\n",
        "LEIA altura, peso\n",
        "SE altura < 1.20\n",
        "    SE peso <= 60\n",
        "        ESCREVA “A”\n",
        "    SENÃO SE peso > 60 E peso <= 90\n",
        "        ESCREVA “D”\n",
        "    SENÃO SE peso > 90\n",
        "        ESCREVA “G”\n",
        "SENÃO SE altura >= 1.20 E altura <= 1.70\n",
        "    SE peso <= 60\n",
        "        ESCREVA “B”\n",
        "    SENÃO SE peso > 60 E peso <= 90\n",
        "        ESCREVA “E”\n",
        "    SENÃO SE peso > 90\n",
        "        ESCREVA “H”\n",
        "SENÃO SE altura > 1.70\n",
        "    SE peso <= 60\n",
        "        ESCREVA “C”\n",
        "    SENÃO SE peso > 60 E peso <= 90\n",
        "        EESCREVA “F”\n",
        "    SENÃO SE peso > 90\n",
        "        ESCREVA “I”\n",
        "```"
      ]
    },
    {
      "cell_type": "code",
      "metadata": {
        "id": "SXLzbTf6x4pi"
      },
      "source": [
        "# Digite seu código aqui"
      ],
      "execution_count": null,
      "outputs": []
    },
    {
      "cell_type": "markdown",
      "metadata": {
        "id": "ydBS_HyAx40L"
      },
      "source": [
        "###34. Faça um programa que receba:\n",
        "\n",
        "* O código de um produto comprado, supondo que a digitação do código do produto seja sempre válida, isto é, um número * inteiro entre 1 e 10.\n",
        "* O peso do produto em quilos.\n",
        "* O código do país de origem, supondo que a digitação do  código seja sempre válida, isto é, um número inteiro entre 1 e 3.\n",
        "\n",
        "|CÓDIGO DO PAÍS DE ORIGEM|IMPOSTO|\n",
        "|---|---|\n",
        "|1|0%|\n",
        "|2|15%|\n",
        "|3|25%|\n",
        "\n",
        "|CÓDIGO DO PAÍS DO PRODUTO|PREÇO POR GRAMA|\n",
        "|---|---|\n",
        "|1 a 4|10|\n",
        "|5 a 7|25|\n",
        "|8 a 10|35|\n",
        "\n",
        "Calcule e mostre:\n",
        "* o peso do produto convertido em gramas;\n",
        "* o preço total do produto comprado;\n",
        "* valor do imposto, sabendo que ele é cobrado sobre o * preço total do produto comprado e dependendo país de origem;\n",
        "* o valor total, preço total do produto mais imposto.\n",
        "\n",
        "```code\n",
        "LEIA codigo_produto, peso_quilos, codigo_pais\n",
        "peso_em_gramas = peso_quilos * 1000\n",
        "ESCREVA peso_em_gramas\n",
        "SE codigo_produto >= 1 E codigo_produto <= 4\n",
        "   preco_por_grama = 10\n",
        "SENÃO SE codigo_produto >= 5 E codigo_produto <= 7\n",
        "   preco_por_grama = 25\n",
        "SENÃO SE codigo_produto >= 8 E codigo_produto <= 10\n",
        "   preco_por_grama = 35    \n",
        "preco_total = peso_em_gramas *preco_por_grama\n",
        "ESCREVA preco_total\n",
        "SE codigo_pais = 1\n",
        "    imposto = 0\n",
        "SENÃO SE codigo_pais = 2\n",
        "    imposto = preco_total * 15/100\n",
        "SENÃO SE codigo_pais = 3\n",
        "    imposto = preco_total * 25/100    \n",
        "ESCREVA imposto\n",
        "valor_total = preco_total + imposto\n",
        "ESCREVA valor_total\n",
        "```"
      ]
    },
    {
      "cell_type": "code",
      "metadata": {
        "id": "hZvxJNadx7dp"
      },
      "source": [
        "# Digite seu código aqui"
      ],
      "execution_count": null,
      "outputs": []
    },
    {
      "cell_type": "markdown",
      "metadata": {
        "id": "XyWancSmx7l5"
      },
      "source": [
        "###35. Faça um programa que receba:\n",
        "* o código do estado de origem da carga de um caminhão, supondo que a digitação do código do estado seja sempre válida, isto é, um número inteiro entre 1 e 5;\n",
        "* o peso da carga do caminhão em toneladas;\n",
        "* o código da carga, supondo que a digitação do código seja sempre válida, isto é, um número inteiro entre 10 e 40.\n",
        "\n",
        "| CÓDIGO DO ESTADO| IMPOSTO|\n",
        "|---|---|\n",
        "|1|35%|\n",
        "|2|25%|\n",
        "|3|15%|\n",
        "|4|5%|\n",
        "|5|Isento|\n",
        ">\n",
        "CÓDIGO DA CARGA|PREÇO POR QUILO\n",
        "---|---\n",
        "10 a 20|100\n",
        "21 a 30|250\n",
        "31 a 40|400\n",
        "\n",
        "Calcule e mostre:\n",
        "* o peso da carga do caminhão convertido em quilos;\n",
        "* o preço da carga do caminhão;\n",
        "* o valor do imposto, sabendo que o imposto é cobrado sobre o preço da carga do caminhão e depende do estado de origem;\n",
        "* o valor total transportado pelo caminhão, preço da carga mais imposto.\n",
        "\n",
        "```\n",
        "LEIA codigo_estado, peso_em_toneladas, codigo_carga\n",
        "peso_em_quilos = peso_em_toneladas * 1000\n",
        "ESCREVA peso_em_quilos\n",
        "SE codigo_carga >= 10 E codigo_carga <= 20\n",
        "    preco_da_carga = 100 * peso_em_quilos\n",
        "SENÃO SE codigo_carga >= 21 E codigo_carga <= 30\n",
        "    preco_da_carga = 250 * peso_em_quilos\n",
        "SENÃO SE codigo_carga >= 31 E codigo_carga <= 40\n",
        "    preco_da_carga = 340 * peso_em_quilos   \n",
        "ESCREVA preco_da_carga\n",
        "SE codigo_estado = 1\n",
        "    imposto = 35/100 * preco_da_carga\n",
        "SENÃO SE codigo_estado = 2\n",
        "    imposto = 25/100 * preco_da_carga\n",
        "SENÃO SE codigo_estado = 3\n",
        "    imposto = 15/100 * preco_ds_carga\n",
        "SENÃO SE codigo_estado = 4\n",
        "    imposto = 5/100 * preco_da_carga\n",
        "SENÃO SE codigo_estado = 5\n",
        "    imposto = 0\n",
        "ESCREVA imposto\n",
        "valor_total = preco_da_carga + imposto\n",
        "ESCREVA valor_total\n",
        "```"
      ]
    },
    {
      "cell_type": "code",
      "metadata": {
        "id": "JCjrCJ9Gx8X3"
      },
      "source": [
        "# Digite seu código aqui"
      ],
      "execution_count": null,
      "outputs": []
    },
    {
      "cell_type": "markdown",
      "metadata": {
        "id": "bBmw7JBQx8iH"
      },
      "source": [
        "###36. Faça um programa que receba o salário base e o tempo de serviço de um funcionário. Calcule e mostre:\n",
        "* O imposto, conforme a tabela a seguir.\n",
        "\n",
        "|SALÁRIO BASE|% SOBRE O SALÁRIO BASE|\n",
        "|---|---|\n",
        "|< 200|isento|\n",
        "|>= 250 E <= 450|3%|\n",
        "|>  450 E < 700|8%|\n",
        "|>=  700|12%|\n",
        "\n",
        "* A gratificação, de acordo com a tabela a seguir.\n",
        "\n",
        "SALÁRIO BASE R$|TEMPO DE SERVIÇO|GRATIFICAÇÃO\n",
        "---|---|---\n",
        "Superior a 500,00|Até 3 anos|20\n",
        " | Mais de 3 anos|30\n",
        "  --------------------------|---------|--------------\n",
        "Até 500,00|Até 3 anos|23\n",
        "|Entre 3 e 6 anos|35\n",
        "|Acima de 6 anos|33\n",
        "\n",
        "* O salário líquido, ou seja, salário base menos imposto mais gratificação.\n",
        "* A categoria, que está na tabela a seguir.\n",
        "\n",
        "```\n",
        "LEIA salario_base, tempo\n",
        "\n",
        "SE salario_base < 200\n",
        "    imposto = 0\n",
        "SENÃO SE salario_base <= 450\n",
        "    imposto = 3/100 * salario_base\n",
        "SENÃO SE sal_base < 700\n",
        "    imposto = 8/100 * salario_base\n",
        "SENÃO\n",
        "    imposto = 12/100 * salario_base\n",
        "ESCREVA imposto\n",
        "SE salario_base > 500\n",
        "    SE tempo <= 3\n",
        "         gratificacao = 20\n",
        "    SENÃO\n",
        "        gratificacao = 30\n",
        "SENÃO\n",
        "    SE tempo <= 3\n",
        "        gratificacao = 23\n",
        "    SENÃO SE tempo < 6\n",
        "        gratificacao = 35\n",
        "    SENÃO gratificacao = 33\n",
        "ESCREVA gratificacao\n",
        "salario_liquido = salario_base – imposto + gratificacao\n",
        "ESCREVA salario_liqquido\n",
        "SE salario_liquido <= 350\n",
        "    ESCREVA “Classificação A”\n",
        "SENÃO SE salario_liqquido < 600\n",
        "    ESCREVA “Classificação B”\n",
        "SENÃO\n",
        "    ESCREVA “Classificação C”\n",
        "```"
      ]
    },
    {
      "cell_type": "code",
      "metadata": {
        "id": "xhj04HVix_LL"
      },
      "source": [
        "# Digite seu código aqui"
      ],
      "execution_count": null,
      "outputs": []
    },
    {
      "cell_type": "markdown",
      "metadata": {
        "id": "HdSARhTlx_VV"
      },
      "source": [
        "###37. Faça um programa que:\n",
        "* receba o valor do salário mínimo,\n",
        "* o turno de trabalho (M — matutino; V — vespertino; ou N — noturno),\n",
        "* a categoria (O — operário; G — gerente)\n",
        "* número de horas trabalhadas no mês de um funcionário.\n",
        "\n",
        "*Suponha a digitação apenas de dados válidos e, quando houver digitação de letras, utilize maiúsculas.*\n",
        "\n",
        "**Calcule e mostre:**\n",
        "\n",
        "* O coeficiente do salário, de acordo com a tabela a seguir.\n",
        "\n",
        "TURNO DE TRABALHO|VALOR DO COEFICIENTE\n",
        "---|---\n",
        "M - Matutino|10% do salário mínimo\n",
        "V - Vespertino|15% do salário mínimo\n",
        "N - Noturno|20% do salário mínimo\n",
        "\n",
        "* O valor do salário bruto, ou seja, o número de horas trabalhadas multiplicado pelo valor do coeficiente do salário.\n",
        "\n",
        "* O imposto, de acordo com a tabela a seguir.\n",
        "\n",
        "CATEGORIA| SALÁRIO BRUTO|IMPOSTO SOBRE O SALÁRIO BRUTO\n",
        "---|---|---\n",
        "O - Operário|>= 300,00|5%\n",
        "O - Operário|< 300,00|3%\n",
        "G - Gerente|>= 300,00|6%\n",
        "G - Gerente|< 300,00|4%\n",
        "\n",
        "* A gratificação, de acordo com as regras a seguir. Se o funcionário preencher todos os requisitos a seguir, sua gratificação será de 50,00; caso contrário, será de 30,00. Os requisitos são:\n",
        " * Turno: Noturno\n",
        "  * Número de horas trabalhadas: Superior a 80 horas\n",
        "  * O auxílio alimentação, de acordo com as seguintes regras.\n",
        "* Auxilio alimentação, um terço do seu salário bruto; caso contrário, será de metade do seu salário bruto. Os requisitos são:\n",
        "  * Se o funcionário preencher algum dos requisitos a seguir, seu auxílio alimentação será de\n",
        "  * Categoria: Operário\n",
        "  * Coeficiente do salário: < = 25\n",
        "* O salário líquido, ou seja, salário bruto menos imposto mais gratificação mais auxílio alimentação.\n",
        "* A classificação, de acordo com a tabela a seguir:\n",
        "\n",
        "SALÁRIO LÍQUIDO|MENSAGEM\n",
        "---|---\n",
        "Menor que 350,00|Mal remunerado\n",
        "Entre 350 e 600,00|Normal\n",
        "Maior que 600,00|Bem remunerado\n",
        "\n",
        "```\n",
        "LEIA salario_minino, turno, categoria, numero_de_horas_trabalhadas\n",
        "SE turno = “M”\n",
        "     coeficiente = 10/100 * salario_minino\n",
        "SENÃO SE turno = “V”\n",
        "     coeficiente = 15/100 * salario_minino\n",
        "SENÃO SE turno = “N”\n",
        "     coeficiente = 12/100 * salario_minino\n",
        "     \n",
        "ESCREVA coeficiente\n",
        "\n",
        "salario_bruto = numero_de_horas_trabalhadas * coeficiente\n",
        "\n",
        "ESCREVA salario_bruto\n",
        "\n",
        "SE categoria = “O”\n",
        "    SE sal_bruto >= 300\n",
        "        imposto = 5/100 * sal_bruto\n",
        "    SENÃO\n",
        "        imposto = 3/100 * sal_bruto\n",
        "SENÃO\n",
        "    SE salario_bruto >= 400\n",
        "        imposto = 6/100 * salario_bruto\n",
        "    SENÃO\n",
        "         imposto = 4/100 * salario_bruto\n",
        "         \n",
        "ESCREVA imposto\n",
        "\n",
        "SE turno = “N” E numero_de_horas_trabalhadas > 80\n",
        "    gratificacao = 50\n",
        "SENÃO\n",
        "    gratificacao = 30\n",
        "    \n",
        "ESCREVA gratificacao\n",
        "\n",
        "SE categoria = “O” OU coeficiente <= 25\n",
        "    auxilio = 1/3 * salario_bruto\n",
        "SENÃO\n",
        "    auxilio = 1/2 * salario_bruto\n",
        "    \n",
        "ESCREVA auxilio\n",
        "\n",
        "salario_liquido = salario_bruto – imposto + gratificacao + auxilio\n",
        "\n",
        "ESCREVA salario_liquido\n",
        "\n",
        "SE salario_liquido < 350\n",
        "     ESCREVA “Mal Remunerado”\n",
        "SENÃO SE salario_liquido >= 350 E salario_liqquido <= 600\n",
        "     ESCREVA “Normal”\n",
        "SENÃO SE salario_liquido > 600\n",
        "     ESCREVA “Bem Remunerado”\n",
        "```"
      ]
    },
    {
      "cell_type": "code",
      "metadata": {
        "id": "RxtqQbAIyC54"
      },
      "source": [
        "# Digite seu código aqui"
      ],
      "execution_count": null,
      "outputs": []
    },
    {
      "cell_type": "markdown",
      "metadata": {
        "id": "c2dARliMyDDG"
      },
      "source": [
        "### 38. Faça um programa que receba de um produto:\n",
        "* o preço\n",
        "* o tipo (A — alimentação; L — limpeza; e V — vestuário)\n",
        "* a refrigeração (S — produto que necessita de refrigeração; e N — produto que não necessita de refrigeração) .\n",
        "\n",
        "**Suponha que haverá apenas a digitação de dados válidos e, quando houver digitação de letras, utilize maiúsculas. Calcule e mostre:**\n",
        "\n",
        "* O valor adicional, de acordo com a tabela a seguir:\n",
        "\n",
        "REFRIGERAÇÃO|TIPO|PREÇO|VALOR ADICIONAL\n",
        "---|---|---|---\n",
        "N|A|<  15,00|2,00|\n",
        " | |>= 15,00|5,00|\n",
        " |---------|--------------|-----------------------------\n",
        " |L|< 10,00|1,50\n",
        " | |>= 10,00|2,50\n",
        "  |---------|--------------|-------------------------------\n",
        " |V|< 30,00|3,00\n",
        " ||>= 30,00|2,50\n",
        "  --------------------------|---------|--------------|-------------------------------\n",
        "S|A||8,00\n",
        "|L||0,00\n",
        "|V||0,00\n",
        "\n",
        "* O valor do imposto, de acordo com a regra a seguir.\n",
        "\n",
        "PREÇO|PERCENTUAL SOBRE O PREÇO\n",
        "---|---\n",
        "< 25,00|5%\n",
        ">= 25,00|8%\n",
        "\n",
        "O preço de custo, ou seja, preço mais imposto.\n",
        "O desconto, de acordo com a regra a seguir.\n",
        "\n",
        "O produto que não preencher nenhum dos requisitos a seguir terá desconto de 3%, caso contrário, 0 (zero). Os requisitos são:\n",
        "* Tipo: A\n",
        "* Refrigeração: S\n",
        "\n",
        "* O novo preço, ou seja, preço de custo mais adicional menos desconto.\n",
        "* A classificação, de acordo com a regra a seguir.\n",
        "\n",
        "NOVO PREÇO|CLASSIFICAÇÃO\n",
        "---|---\n",
        "<= 50,00|Barato\n",
        "Entre 50,01 e 100,00|Normal\n",
        ">= 100,00|Caro\n",
        "\n",
        "\n",
        "```\n",
        "LEIA pre, tipo, refrig\n",
        "SE refrig = “N”\n",
        "    SE tipo = “A”\n",
        "        SE pre < 15\n",
        "           valor_adic = 2\n",
        "        SENÃO\n",
        "           valor_adic = 5\n",
        "    SE tipo = “L”\n",
        "        SE pre < 10\n",
        "           valor_adic = 1.5\n",
        "        SENÃO\n",
        "           valor_adic = 2.5\n",
        "    SE tipo = “V”\n",
        "        SE pre < 30\n",
        "           valor_adic = 3\n",
        "        SENÃO\n",
        "           valor_adic = 2.5\n",
        "SENÃO SE tipo = “A”\n",
        "    valor_adic = 8\n",
        "    SE tipo = “L”\n",
        "        valor_adic = 0\n",
        "    SE tipo = “V”\n",
        "        valor_adic = 0\n",
        "ESCREVA valor_adic\n",
        "SE pre < 25\n",
        "    imposto = 5/100 * pré\n",
        "SENÃO\n",
        "    imposto = 8/100 * pre\n",
        "ESCREVA imposto\n",
        "pre_custo = pre + imposto\n",
        "ESCREVA pre_custo\n",
        "SE tipo != “A” E refrig != “S”\n",
        "  desconto = 3/100 * pre_custo\n",
        "SENÃO\n",
        "  desconto = 0\n",
        "ESCREVA desconto\n",
        "novo_pre = pre_custo + valor_adic – desconto\n",
        "ESCREVA novo_pre\n",
        "SE novo_pre <= 50\n",
        "    ESCREVA “Barato”\n",
        "SENÃO SE novo_pre < 100\n",
        "    ESCREVA “Normal”\n",
        "SENÃO\n",
        "    ESCREVA “Caro”\n"
      ]
    },
    {
      "cell_type": "code",
      "metadata": {
        "id": "2MKheAJMyGc5",
        "colab": {
          "base_uri": "https://localhost:8080/"
        },
        "outputId": "469eb13e-363f-4c04-cf32-16296da5da11"
      },
      "source": [],
      "execution_count": null,
      "outputs": [
        {
          "output_type": "stream",
          "name": "stdout",
          "text": [
            "24\n"
          ]
        }
      ]
    },
    {
      "cell_type": "markdown",
      "metadata": {
        "id": "L-VOnT4CyGl8"
      },
      "source": [
        "###39. Faça um programa que receba a medida de um ângulo em graus. Calcule e mostre o quadrante em que se localiza esse ângulo. Considere os quadrantes da trigonometria e, para ângulos maiores que 360° ou menores que −360°, reduzí-los, mostrando também o número de voltas e o sentido da volta (horário ou anti-horário).\n",
        "```\n",
        "SE angulo > 360 OU angulo < -360\n",
        "    voltas = parte inteira(angulo / 360)    \n",
        "    angulo = RESTO(angulo / 360)\n",
        "SENÃO\n",
        "    voltas = 0\n",
        "SE angulo = 0 OU angulo = 90 OU angulo = 180\n",
        "           OU angulo = 270 OU angulo = 360\n",
        "           OU angulo = -90 OU angulo = -180\n",
        "           OU angulo = -270 OU angulo = -360\n",
        "  ESCREVA “Está em cima de algum dos eixos”\n",
        "  SE (angulo > 0 E angulo < 90) OU (angulo < -270 E angulo > -360)\n",
        "    ESCREVA “1o Quadrante”\n",
        "  SENÃO SE (angulo > 90 E angulo < 180) OU (angulo < -180 E angulo > -270)\n",
        "    ESCREVA “2o Quadrante”\n",
        "  SENÃO SE (angulo > 180 E angulo < 270) OU (angulo < -90 E angulo > -180)\n",
        "    ESCREVA “3o Quadrante”\n",
        "  SENÃO SE (angulo > 270 E angulo < 360) OU (angulo < 0 E angulo > -90)\n",
        "    ESCREVA “4o Quadrante”\n",
        "  ESCREVA voltas, “ volta(s) no sentido “\n",
        "SE angulo < 0\n",
        "    ESCREVA “horário”\n",
        "SENÃO\n",
        "    ESCREVA “anti-horário”\n",
        "```"
      ]
    },
    {
      "cell_type": "code",
      "metadata": {
        "id": "GjkV8-vWyJWb"
      },
      "source": [
        "# Digite seu código aqui"
      ],
      "execution_count": null,
      "outputs": []
    }
  ]
}