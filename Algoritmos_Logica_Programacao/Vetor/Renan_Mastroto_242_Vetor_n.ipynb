{
  "nbformat": 4,
  "nbformat_minor": 0,
  "metadata": {
    "colab": {
      "provenance": []
    },
    "kernelspec": {
      "name": "python3",
      "display_name": "Python 3"
    },
    "language_info": {
      "name": "python"
    }
  },
  "cells": [
    {
      "cell_type": "markdown",
      "metadata": {
        "id": "BTk5UJlvXLuB"
      },
      "source": [
        "#**EXERCÍCIOS SOBRE VETOR**"
      ]
    },
    {
      "cell_type": "code",
      "source": [
        "idade = [] # declaração de um vetor\n",
        "print(idade)\n",
        "print(type(idade))\n",
        "idade.append(21)\n",
        "print(idade)\n",
        "print(idade[0])\n",
        "idade.append(15)\n",
        "print(idade)\n",
        "print(idade[1])\n",
        "idade.append(55)\n",
        "print(idade)\n",
        "idade.append(62)\n",
        "print(idade)\n",
        "idade.append(22)\n",
        "print(idade)\n",
        "print(idade[4])\n",
        "print('Quantos elementos tem neste vetor?',len(idade))"
      ],
      "metadata": {
        "colab": {
          "base_uri": "https://localhost:8080/"
        },
        "id": "pWxH8atku1z0",
        "outputId": "fb3acf0e-6d1b-4d5e-aa1a-5b4495e56057"
      },
      "execution_count": null,
      "outputs": [
        {
          "output_type": "stream",
          "name": "stdout",
          "text": [
            "[]\n",
            "<class 'list'>\n",
            "[21]\n",
            "21\n",
            "[21, 15]\n",
            "15\n",
            "[21, 15, 55]\n",
            "[21, 15, 55, 62]\n",
            "[21, 15, 55, 62, 22]\n",
            "22\n",
            "Quantos elementos tem neste vetor? 5\n"
          ]
        }
      ]
    },
    {
      "cell_type": "markdown",
      "metadata": {
        "id": "YOspAvb8YpqR"
      },
      "source": [
        "### 1. Faça um programa que calcule e apresente a média de idades de uma sala de 35 alunos.​​"
      ]
    },
    {
      "cell_type": "code",
      "source": [
        "idades = [] #declara que esta variável é um vetor\n",
        "i = 0\n",
        "while i < 10: # cadastrar as idades\n",
        "    idades.append(int(input(f'Digite a {i+1}ª idade: ')))\n",
        "    i = i + 1\n",
        "print('Elementos do vetor',idades)\n",
        "\n",
        "total_idades = 0\n",
        "for i in range(len(idades)):\n",
        "    #total_idades = total_idades + idades[i] ou\n",
        "    total_idades += idades[i]\n",
        "print(total_idades)\n",
        "#fora do for calcula a média\n",
        "media = total_idades / (len(idades)) # 4\n",
        "print(f'Média de idades {media:.2f} anos.')\n",
        "\n",
        "print('\\nApresentação de todas as idades e seus índices')\n",
        "for i in range(len(idades)):\n",
        "    print(f'Idade: {idades[i]} - Índice: {i}')"
      ],
      "metadata": {
        "id": "J4jva4Wo1uQe",
        "colab": {
          "base_uri": "https://localhost:8080/"
        },
        "outputId": "aafe0e0d-6c6a-46c4-83e5-496c386f7a5e"
      },
      "execution_count": null,
      "outputs": [
        {
          "output_type": "stream",
          "name": "stdout",
          "text": [
            "Digite a 1ª idade: 30\n",
            "Digite a 2ª idade: 21\n",
            "Digite a 3ª idade: 20\n",
            "Digite a 4ª idade: 23\n",
            "Digite a 5ª idade: 34\n",
            "Digite a 6ª idade: 45\n",
            "Digite a 7ª idade: 52\n",
            "Digite a 8ª idade: 76\n",
            "Digite a 9ª idade: 54\n",
            "Digite a 10ª idade: 32\n",
            "Elementos do vetor [30, 21, 20, 23, 34, 45, 52, 76, 54, 32]\n",
            "387\n",
            "Média de idades 38.70 anos.\n",
            "\n",
            "Apresentação de todas as idades e seus índices\n",
            "Idade: 30 - Índice: 0\n",
            "Idade: 21 - Índice: 1\n",
            "Idade: 20 - Índice: 2\n",
            "Idade: 23 - Índice: 3\n",
            "Idade: 34 - Índice: 4\n",
            "Idade: 45 - Índice: 5\n",
            "Idade: 52 - Índice: 6\n",
            "Idade: 76 - Índice: 7\n",
            "Idade: 54 - Índice: 8\n",
            "Idade: 32 - Índice: 9\n"
          ]
        }
      ]
    },
    {
      "cell_type": "markdown",
      "metadata": {
        "id": "XtTydU3HZNHi"
      },
      "source": [
        "### 2. Faça um programa que calcule e apresente a média de alturas de uma sala de 35 alunos. Informe também quantos alunos **e** quais (índice/posição) são os que possuem idade superior a 25 anos.​ Use dois vetores, um para altura e outro para idade. Não use nenhuma função pronta da linguagem Python, a não ser len() e append().\n"
      ]
    },
    {
      "cell_type": "code",
      "source": [
        "alturas = []\n",
        "idades = []\n",
        "alunos = 0\n",
        "\n",
        "for i in range(3):\n",
        "    idades.append(int(input(f\"Digite a {i+1}ª idade: \")))\n",
        "    alturas.append(float(input(f\"Digite a {i+1}ª altura: \")))\n",
        "\n",
        "media_soma = 0\n",
        "media_cont = 0\n",
        "\n",
        "for i in range(len(idades)):\n",
        "    media_soma += alturas[i]\n",
        "    media_cont += 1\n",
        "    if idades[i] > 25:\n",
        "        alunos += 1\n",
        "        print(f\"\\nIdade: {idades[i]} e Altura: {alturas[i]:.2f} - Índice: {i}\", end=\"\")\n",
        "\n",
        "media = media_soma/media_cont\n",
        "\n",
        "print(f\"\\nMédia das alturas: {media:.2f}\\nTotal de alunos com mais de 25 anos: {alunos}\")"
      ],
      "metadata": {
        "id": "WPAbR4YX8dtJ",
        "colab": {
          "base_uri": "https://localhost:8080/"
        },
        "outputId": "43d3fb73-3bed-4e8f-b581-135fc91826d1"
      },
      "execution_count": null,
      "outputs": [
        {
          "output_type": "stream",
          "name": "stdout",
          "text": [
            "Digite a 1ª idade: 25\n",
            "Digite a 1ª altura: 1.78\n",
            "Digite a 2ª idade: 35\n",
            "Digite a 2ª altura: 1.60\n",
            "Digite a 3ª idade: 23\n",
            "Digite a 3ª altura: 1.73\n",
            "\n",
            "Idade: 35 e Altura: 1.60 - Índice: 1\n",
            "Média das alturas: 1.7033333333333331\n",
            "Total de alunos com mais de 25 anos: 1\n"
          ]
        }
      ]
    },
    {
      "cell_type": "markdown",
      "metadata": {
        "id": "3x_WkNYTZQeD"
      },
      "source": [
        "### 3. Faça um programa que carregue um vetor de dez elementos que contenha o nome de pessoas e outro que contenha o peso, encontre qual a pessoa mais gorda e mais magra e apresente o nome o peso das mesmas.​ Use dois vetores, um para peso e outro para nome. Não use nenhuma função pronta da linguagem Python, a não ser len() e append()."
      ]
    },
    {
      "cell_type": "code",
      "metadata": {
        "id": "7VsianjuZMrf",
        "colab": {
          "base_uri": "https://localhost:8080/"
        },
        "outputId": "f6710a2d-ac14-4a94-bafd-21ea91ae518d"
      },
      "source": [
        "nomes = []\n",
        "pesos = []\n",
        "nome_maior = \"\"\n",
        "nome_menor = \"\"\n",
        "peso_maior = 0\n",
        "peso_menor = 0\n",
        "\n",
        "\n",
        "for i in range(10):\n",
        "    nomes.append(input(\"Digite o nome: \"))\n",
        "    pesos.append(int(input(\"Digite o peso: \")))\n",
        "\n",
        "for i in range(len(pesos)):\n",
        "    if i == 0:\n",
        "        nome_maior, nome_menor = nomes[i], nomes[i]\n",
        "        peso_maior, peso_menor = pesos[i], pesos[i]\n",
        "    elif pesos[i] > peso_maior:\n",
        "        peso_maior, nome_maior = pesos[i], nomes[i]\n",
        "    elif pesos[i] < peso_menor:\n",
        "        peso_menor, nome_menor = pesos[i], nomes[i]\n",
        "\n",
        "print(f\"O mais pesado é {nome_maior} com {peso_maior}kg.\\nO menos pesado é {nome_menor} com {peso_menor}kg\")"
      ],
      "execution_count": null,
      "outputs": [
        {
          "output_type": "stream",
          "name": "stdout",
          "text": [
            "Digite o nome: aa\n",
            "Digite o peso: 20\n",
            "Digite o nome: bb\n",
            "Digite o peso: 30\n",
            "O mais pesado é bb com 30kg.\n",
            "O menos pesado é aa com 20kg\n"
          ]
        }
      ]
    },
    {
      "cell_type": "markdown",
      "metadata": {
        "id": "xSpiII3mZdQV"
      },
      "source": [
        "### 4. Faça um programa que carregue um vetor com a média de dez alunos, calcule e mostre a MÉDIA DA SALA e quantos alunos estão acima e abaixo da média da sala. Não use nenhuma função pronta da linguagem Python, a não ser len() e append()."
      ]
    },
    {
      "cell_type": "code",
      "metadata": {
        "id": "iWBTxDXvZUPP",
        "colab": {
          "base_uri": "https://localhost:8080/"
        },
        "outputId": "b6be4f76-9824-484b-8b74-c4ba5b686fce"
      },
      "source": [
        "medias = []\n",
        "media_soma = 0\n",
        "media_cont = 0\n",
        "\n",
        "for i in range(3):\n",
        "    media = float(input(\"Digite a média: \"))\n",
        "    medias.append(media)\n",
        "    media_soma += media\n",
        "    media_cont += 1\n",
        "media_sala = round(media_soma/media_cont, 1)\n",
        "\n",
        "aluno_abaixo = 0\n",
        "aluno_acima = 0\n",
        "\n",
        "for i in medias:\n",
        "    if i < media_sala:\n",
        "        aluno_abaixo += 1\n",
        "    elif i > media_sala:\n",
        "        aluno_acima += 1\n",
        "\n",
        "print(f\"Média da sala: {media_sala}\\nAlunos acima da média: {aluno_acima}\\tAlunos abaixo da média: {aluno_abaixo}\")"
      ],
      "execution_count": null,
      "outputs": [
        {
          "output_type": "stream",
          "name": "stdout",
          "text": [
            "Digite a média: 7.7\n",
            "Digite a média: 5.6\n",
            "Digite a média: 9.8\n",
            "Média da sala: 7.7\n",
            "Alunos acima da média: 1\tAluno abaixo da média: 1\n"
          ]
        }
      ]
    },
    {
      "cell_type": "markdown",
      "metadata": {
        "id": "frrtYwMAZUcL"
      },
      "source": [
        "### 5. Faça um programa que carregue um vetor de oito elementos numéricos inteiros, calcule e mostre os números pares e suas respectivas índices/posições. Não use nenhuma função pronta da linguagem Python, a não ser len() e append().\n"
      ]
    },
    {
      "cell_type": "code",
      "metadata": {
        "id": "7S8zpor8Z5Hb",
        "colab": {
          "base_uri": "https://localhost:8080/"
        },
        "outputId": "cba38228-d163-44de-e456-63c81e8c1bee"
      },
      "source": [
        "numeros = []\n",
        "\n",
        "for i in range(8):\n",
        "    numeros.append(int(input(\"Digite o número: \")))\n",
        "\n",
        "print(\"Números pares: \")\n",
        "for i in range(len(numeros)):\n",
        "    n = numeros[i]%2\n",
        "    if n == 0:\n",
        "        print(f\"{numeros[i]} - Índice: {i}\")"
      ],
      "execution_count": null,
      "outputs": [
        {
          "output_type": "stream",
          "name": "stdout",
          "text": [
            "Digite o número: 4\n",
            "Digite o número: 3\n",
            "Digite o número: 5\n",
            "Digite o número: 1\n",
            "Digite o número: 2\n",
            "Digite o número: 7\n",
            "Digite o número: 9\n",
            "Digite o número: 0\n",
            "Números pares: \n",
            "4 - Índice: 0\n",
            "2 - Índice: 4\n",
            "0 - Índice: 7\n"
          ]
        }
      ]
    },
    {
      "cell_type": "markdown",
      "metadata": {
        "id": "cml17HAsZ5Wf"
      },
      "source": [
        "### 6. Faça um programa que carregue um vetor com dez nomes e faça uma verificação se um determinado nome esta nesse vetor. Não use nenhuma função pronta da linguagem Python, a não ser len() e append()."
      ]
    },
    {
      "cell_type": "code",
      "source": [
        "nomes = []\n",
        "\n",
        "for i in range(10):\n",
        "    nomes.append(input(f\"Digite o {i+1}º nome: \"))\n",
        "\n",
        "nome_procura = input(\"Digite o nome que deseja procurar: \")\n",
        "x = 0\n",
        "\n",
        "for i in nomes:\n",
        "    if i == nome_procura:\n",
        "        x = 1\n",
        "\n",
        "if x == 0:\n",
        "    print(f\"Nome não encontrado!\")\n",
        "else:\n",
        "    print(f\"Nome encontrado!\")"
      ],
      "metadata": {
        "colab": {
          "base_uri": "https://localhost:8080/"
        },
        "id": "Ui8b2vvay7Y7",
        "outputId": "4334244a-7648-4972-ec4e-366a1218055f"
      },
      "execution_count": null,
      "outputs": [
        {
          "output_type": "stream",
          "name": "stdout",
          "text": [
            "Digite o 1º nome: renan\n",
            "Digite o 2º nome: mauricio\n",
            "Digite o 3º nome: bruno\n",
            "Digite o 4º nome: fernanda\n",
            "Digite o 5º nome: maria\n",
            "Digite o 6º nome: julia\n",
            "Digite o 7º nome: diogo\n",
            "Digite o 8º nome: david\n",
            "Digite o 9º nome: marcelo\n",
            "Digite o 10º nome: guilherme\n",
            "Digite o nome que deseja procurar: daniel\n",
            "Nome não encontrado!\n"
          ]
        }
      ]
    },
    {
      "cell_type": "markdown",
      "metadata": {
        "id": "0BYcEcgYaHbl"
      },
      "source": [
        "### 7. Faça um algoritmo que calcule e apresente a média de alturas superior a 1,80 de 10 alunos. Informe também quantos e quais (índice/posição) são os alunos. Não use nenhuma função pronta da linguagem Python, a não ser len() e append().\n"
      ]
    },
    {
      "cell_type": "code",
      "metadata": {
        "id": "wbXDmo6daU5n",
        "colab": {
          "base_uri": "https://localhost:8080/"
        },
        "outputId": "3c878e7f-8459-44b6-882d-27af77d3c490"
      },
      "source": [
        "alturas = []\n",
        "altura_soma = 0\n",
        "altura_cont = 0\n",
        "\n",
        "for i in range(3):\n",
        "    altura = float(input(f\"Digite a altura do {i+1}º aluno: \"))\n",
        "    alturas.append(altura)\n",
        "    if altura > 1.80:\n",
        "        altura_soma += altura\n",
        "        altura_cont += 1\n",
        "\n",
        "if altura_cont == 0:\n",
        "    print(\"Sem alunos maiores de 1.80\")\n",
        "else:\n",
        "    media = altura_soma/altura_cont\n",
        "    print(f\"\\nMédia: {media:.2f}m\\tQuantidade de Alunos: {altura_cont}\")\n",
        "    for i in range(len(alturas)):\n",
        "        if alturas[i] > 1.80:\n",
        "            print(f\"Aluno Nº{i+1} - {alturas[i]:.2f}m\")"
      ],
      "execution_count": null,
      "outputs": [
        {
          "output_type": "stream",
          "name": "stdout",
          "text": [
            "Digite a altura do 1º aluno: 1.90\n",
            "Digite a altura do 2º aluno: 1.85\n",
            "Digite a altura do 3º aluno: 1.95\n",
            "Média: 1.90\tQuantidade de Alunos: 3\n",
            "Aluno Nº1 - 1.90m\n",
            "Aluno Nº2 - 1.85m\n",
            "Aluno Nº3 - 1.95m\n"
          ]
        }
      ]
    },
    {
      "cell_type": "markdown",
      "metadata": {
        "id": "mFaqmOmuaVN2"
      },
      "source": [
        "### 8. Criar um algoritmo que a partir de um vetor de 10 elementos inteiros, crie outros dois vetores que receberão os elementos positivos e negativos e ao final apresente-os. Não use nenhuma função pronta da linguagem Python, a não ser len() e append().\n"
      ]
    },
    {
      "cell_type": "code",
      "source": [
        "numeros = []\n",
        "positivos = []\n",
        "negativos = []\n",
        "a = 0\n",
        "\n",
        "for i in range(10):\n",
        "    numeros.append(int(input(\"Digite o número: \")))\n",
        "\n",
        "for i in range(len(numeros)):\n",
        "    if numeros[i] > 0:\n",
        "        positivos.append(numeros[i])\n",
        "    elif numeros[i] < 0:\n",
        "        negativos.append(numeros[i])\n",
        "    else:\n",
        "        a = 1\n",
        "\n",
        "if a == 1:\n",
        "    print(f\"0 não é negativo nem positivo!\")\n",
        "\n",
        "print(f\"Números Positivos:\")\n",
        "for i in range(len(positivos)):\n",
        "    print(f\"Índice {i} - Número: {positivos[i]}\")\n",
        "print(f\"Números Negativos:\")\n",
        "for i in range(len(negativos)):\n",
        "    print(f\"Índice {i} - Número: {negativos[i]}\")"
      ],
      "metadata": {
        "colab": {
          "base_uri": "https://localhost:8080/"
        },
        "id": "Yln3xjirBwno",
        "outputId": "64e4aa10-4eea-463b-8ea8-68ecdc188903"
      },
      "execution_count": null,
      "outputs": [
        {
          "output_type": "stream",
          "name": "stdout",
          "text": [
            "Digite o número: 10\n",
            "Digite o número: 4\n",
            "Digite o número: -3\n",
            "Digite o número: -1\n",
            "Digite o número: 0\n",
            "Digite o número: 37\n",
            "Digite o número: -55\n",
            "Digite o número: -100\n",
            "Digite o número: 51\n",
            "Digite o número: 69\n",
            "0 não é negativo nem positivo!\n",
            "Números Positivos:\n",
            "[10, 4, 37, 51, 69]\n",
            "\n",
            "Números Negativos:\n",
            "[-3, -1, -55, -100]\n"
          ]
        }
      ]
    },
    {
      "cell_type": "markdown",
      "metadata": {
        "id": "K5IMhYTHaiEl"
      },
      "source": [
        "### 9. Criar um algoritmo que leia dados para um vetor de 100 elementos inteiros, imprimir o maior, o menor, o percentual de números pares e a média dos elementos do vetor. Obs.: percentual = quantidade contada * 100 / quantidade total. Não use nenhuma função pronta da linguagem Python, a não ser len() e append().\n"
      ]
    },
    {
      "cell_type": "code",
      "metadata": {
        "id": "X6krLAFKaumK",
        "colab": {
          "base_uri": "https://localhost:8080/"
        },
        "outputId": "6535c0ff-5b55-4ce1-f67a-e3d9a5842549"
      },
      "source": [
        "numeros = []\n",
        "media_soma = 0\n",
        "media_cont = 0\n",
        "maior = 0\n",
        "menor = 0\n",
        "pares = 0\n",
        "\n",
        "for i in range(15):\n",
        "    n = int(input(\"Digite o número: \"))\n",
        "    numeros.append(n)\n",
        "    media_soma += n\n",
        "    media_cont += 1\n",
        "    if n % 2 == 0:\n",
        "        pares += 1\n",
        "\n",
        "media = media_soma/media_cont\n",
        "porcentagem = (pares/len(numeros))*100\n",
        "\n",
        "for i in range(len(numeros)):\n",
        "    if i == 0:\n",
        "        maior = numeros[i]\n",
        "        menor = numeros[i]\n",
        "    elif numeros[i] > maior:\n",
        "        maior = numeros[i]\n",
        "    elif numeros[i] < menor:\n",
        "        menor = numeros[i]\n",
        "\n",
        "print(f\"Maior número: {maior}\\tMenor número: {menor}\\nPercentual de números pares: {porcentagem:.1f}%\\nMédia dos elementos: {media:.1f}\")"
      ],
      "execution_count": null,
      "outputs": [
        {
          "output_type": "stream",
          "name": "stdout",
          "text": [
            "Digite o número: 35\n",
            "Digite o número: 20\n",
            "Digite o número: 10\n",
            "Digite o número: 11\n",
            "Digite o número: 56\n",
            "Digite o número: 95\n",
            "Digite o número: 45\n",
            "Digite o número: 36\n",
            "Digite o número: 69\n",
            "Digite o número: 15\n",
            "Digite o número: 12\n",
            "Digite o número: 65\n",
            "Digite o número: 90\n",
            "Digite o número: 52\n",
            "Digite o número: 54\n",
            "Maior número: 95\tMenor número: 10\n",
            "Percentual de números pares: 53.3%\n",
            "Média dos elementos: 44.3\n"
          ]
        }
      ]
    },
    {
      "cell_type": "markdown",
      "metadata": {
        "id": "X6C3DbCGFR71"
      },
      "source": [
        "### 10. Faça um programa que:\n",
        "\n",
        "* preencha um vetor com seis elementos numéricos inteiros.\n",
        "\n",
        "**Calcule e mostre:**\n",
        "\n",
        "* todos os números pares;\n",
        "* a quantidade de números pares;\n",
        "* todos os números ímpares;\n",
        "* a quantidade de números ímpares\n",
        "\n",
        "Não use nenhuma função pronta da linguagem Python, a não ser len() e append()."
      ]
    },
    {
      "cell_type": "code",
      "metadata": {
        "id": "0OjTx-RoFZUT",
        "colab": {
          "base_uri": "https://localhost:8080/"
        },
        "outputId": "7be64f05-dac7-41a7-d5ee-c4f3ff99d3e3"
      },
      "source": [
        "numeros = []\n",
        "for i in range(6):\n",
        "    numeros.append(int(input(\"Digite o número: \")))\n",
        "print(f\"Números selecionados: {numeros}\")\n",
        "\n",
        "pares = []\n",
        "impares = []\n",
        "for i in numeros:\n",
        "    if i % 2 == 0:\n",
        "        pares.append(i)\n",
        "    else:\n",
        "        impares.append(i)\n",
        "print(f\"\\nNúmeros Pares: {pares}\\nQuantidade: {len(pares)}\\tPorcentagem: {(len(pares)/len(numeros)*100):.0f}%\")\n",
        "print(f\"\\nNúmeros Ímpares: {impares}\\nQuantidade: {len(impares)}\\tPorcentagem: {(len(impares)/len(numeros)*100):.0f}%\")"
      ],
      "execution_count": null,
      "outputs": [
        {
          "output_type": "stream",
          "name": "stdout",
          "text": [
            "Quantidade de Números: 18\n",
            "Números selecionados: [64, 67, 83, 10, 43, 76, 60, 51, 78, 20, 63, 2, 24, 84, 49, 93, 53, 92]\n",
            "\n",
            "Números Pares: [64, 10, 76, 60, 78, 20, 2, 24, 84, 92]\n",
            "Quantidade: 10\tPorcentagem: 56%\n",
            "\n",
            "Números Ímpares: [67, 83, 43, 51, 63, 49, 93, 53]\n",
            "Quantidade: 8\tPorcentagem: 44%\n"
          ]
        }
      ]
    },
    {
      "cell_type": "markdown",
      "metadata": {
        "id": "qTCb3GyDFzlm"
      },
      "source": [
        "### 11. Faça um programa que:\n",
        "\n",
        "* preencha um vetor com sete números inteiros\n",
        "\n",
        "**Calcule e mostre:**\n",
        "\n",
        "* os números múltiplos de 2;\n",
        "* os números múltiplos de 3;\n",
        "* os números múltiplos de 2 **e de** 3.\n",
        "\n",
        "Não use nenhuma função pronta da linguagem Python, a não ser len() e append()."
      ]
    },
    {
      "cell_type": "code",
      "metadata": {
        "id": "OPX_rge2F3kR",
        "colab": {
          "base_uri": "https://localhost:8080/"
        },
        "outputId": "545697f5-88e1-4fe7-ff51-31950a5b814e"
      },
      "source": [
        "numeros = []\n",
        "for i in range(7):\n",
        "    numeros.append(int(input(\"Digite o número: \")))\n",
        "print(f\"Números selecionados: {numeros}\")\n",
        "\n",
        "multiplo2 = []\n",
        "multiplo3 = []\n",
        "multiplo2e3 = []\n",
        "\n",
        "for i in numeros:\n",
        "    if (i % 2 == 0) and not (i % 3 == 0):\n",
        "        multiplo2.append(i)\n",
        "    elif (i % 3 == 0) and not (i % 2 == 0):\n",
        "        multiplo3.append(i)\n",
        "    elif (i % 2 == 0) and (i % 3 == 0):\n",
        "        multiplo2e3.append(i)\n",
        "\n",
        "print(f\"Números múltiplos de 2: {multiplo2}\\t\\tPorcentagem: {(len(multiplo2)/len(numeros)*100):.0f}%\")\n",
        "print(f\"Números múltiplos de 3: {multiplo3}\\t\\tPorcentagem: {(len(multiplo3)/len(numeros)*100):.0f}%\")\n",
        "print(f\"Números múltiplos de 2 e 3: {multiplo2e3}\\tPorcentagem: {(len(multiplo2e3)/len(numeros)*100):.0f}%\")"
      ],
      "execution_count": null,
      "outputs": [
        {
          "output_type": "stream",
          "name": "stdout",
          "text": [
            "Digite o número: 31\n",
            "Digite o número: 18\n",
            "Digite o número: 81\n",
            "Digite o número: 2\n",
            "Digite o número: 91\n",
            "Digite o número: 76\n",
            "Digite o número: 1\n",
            "Números selecionados: [31, 18, 81, 2, 91, 76, 1]\n",
            "Números múltiplos de 2: [2, 76]\t\tPorcentagem: 29%\n",
            "Números múltiplos de 3: [81]\t\tPorcentagem: 14%\n",
            "Números múltiplos de 2 e 3: [18]\tPorcentagem: 14%\n"
          ]
        }
      ]
    },
    {
      "cell_type": "markdown",
      "metadata": {
        "id": "sf4dSTh-F3wV"
      },
      "source": [
        "### 12. Faça um programa que:\n",
        "\n",
        "* preencha um vetor com quinze elementos inteiros\n",
        "* verifique a existência de elementos iguais a 30, mostrando os índices/posições em que apareceram.\n",
        "\n",
        "Não use nenhuma função pronta da linguagem Python, a não ser len() e append()."
      ]
    },
    {
      "cell_type": "code",
      "metadata": {
        "id": "pV6slXVYF8Fm",
        "colab": {
          "base_uri": "https://localhost:8080/"
        },
        "outputId": "6d03be7c-a29c-44ac-a74d-beb55e7fac57"
      },
      "source": [
        "numeros = []\n",
        "for i in range(15):\n",
        "    numeros.append(int(input(\"Digite o número: \")))\n",
        "print(f\"Números selecionados: {numeros}\")\n",
        "\n",
        "for i in range(len(numeros)):\n",
        "    if numeros[i] == 30:\n",
        "        print(f\"Número 30 encontrado no índice: {i}\")"
      ],
      "execution_count": null,
      "outputs": [
        {
          "output_type": "stream",
          "name": "stdout",
          "text": [
            "Digite o número: 30\n",
            "Digite o número: 56\n",
            "Digite o número: 15\n",
            "Digite o número: 90\n",
            "Digite o número: 30\n",
            "Digite o número: 65\n",
            "Digite o número: 69\n",
            "Digite o número: 90\n",
            "Digite o número: 30\n",
            "Digite o número: 30\n",
            "Digite o número: 43\n",
            "Digite o número: 89\n",
            "Digite o número: 15\n",
            "Digite o número: 64\n",
            "Digite o número: 90\n",
            "Números selecionados: [30, 56, 15, 90, 30, 65, 69, 90, 30, 30, 43, 89, 15, 64, 90]\n",
            "Número 30 encontrado no índice: 0\n",
            "Número 30 encontrado no índice: 4\n",
            "Número 30 encontrado no índice: 8\n",
            "Número 30 encontrado no índice: 9\n"
          ]
        }
      ]
    },
    {
      "cell_type": "markdown",
      "metadata": {
        "id": "9UnrFcvfF8VU"
      },
      "source": [
        "### 13. Faça um programa que:\n",
        "\n",
        "* preencha um vetor com dez números reais\n",
        "\n",
        "**Calcule e mostre:**\n",
        "\n",
        "* a quantidade de números negativos\n",
        "* a soma dos números positivos desse *vetor*\n",
        "* não use nenhuma função pronta da linguagem Python, a não ser len() e append()"
      ]
    },
    {
      "cell_type": "code",
      "metadata": {
        "id": "x4hGToRMM6q8",
        "colab": {
          "base_uri": "https://localhost:8080/"
        },
        "outputId": "25e08b7f-1530-4bd3-8030-36b110588871"
      },
      "source": [
        "numeros = []\n",
        "for i in range(15):\n",
        "    numeros.append(int(input(\"Digite o número: \")))\n",
        "print(f\"Números selecionados: {numeros}\")\n",
        "\n",
        "quant_negativos = 0\n",
        "soma_positivos = 0\n",
        "for i in numeros:\n",
        "    if i > 0:\n",
        "        soma_positivos += i\n",
        "    elif i < 0:\n",
        "        quant_negativos += 1\n",
        "\n",
        "print(f\"Quantidade de números negativos: {quant_negativos}\")\n",
        "print(f\"Soma dos números positivos: {soma_positivos}\")"
      ],
      "execution_count": null,
      "outputs": [
        {
          "output_type": "stream",
          "name": "stdout",
          "text": [
            "Digite o número: 50\n",
            "Digite o número: 30\n",
            "Digite o número: 15\n",
            "Digite o número: -15\n",
            "Digite o número: 56\n",
            "Digite o número: 50\n",
            "Digite o número: -65\n",
            "Digite o número: 05\n",
            "Digite o número: -45\n",
            "Digite o número: -48\n",
            "Digite o número: -458\n",
            "Digite o número: 04\n",
            "Digite o número: 98\n",
            "Digite o número: -45\n",
            "Digite o número: 259\n",
            "Números selecionados: [50, 30, 15, -15, 56, 50, -65, 5, -45, -48, -458, 4, 98, -45, 259]\n",
            "Quantidade de números negativos: 6\n",
            "Soma dos números positivos: 567\n"
          ]
        }
      ]
    },
    {
      "cell_type": "markdown",
      "metadata": {
        "id": "h08bQeSEM62n"
      },
      "source": [
        "### 14. Faça um programa que:\n",
        "\n",
        "* receba dez números inteiros e armazene-os em um vetor\n",
        "* classifique os números em dois vetores, um com números pares e o outra com os ímpares\n",
        "\n",
        "Não use nenhuma função pronta da linguagem Python, a não ser len() e append()."
      ]
    },
    {
      "cell_type": "code",
      "metadata": {
        "id": "5Ch4maMCM-hg",
        "colab": {
          "base_uri": "https://localhost:8080/"
        },
        "outputId": "be264b56-ae76-4534-fb30-9af0a41c48d0"
      },
      "source": [
        "numeros = []\n",
        "for i in range(10):\n",
        "    numeros.append(int(input(\"Digite o número: \")))\n",
        "print(f\"Números selecionados: {numeros}\")\n",
        "\n",
        "pares = []\n",
        "impares = []\n",
        "for i in numeros:\n",
        "    if i % 2 == 0:\n",
        "        pares.append(i)\n",
        "    else:\n",
        "        impares.append(i)\n",
        "print(f\"\\nNúmeros Pares: {pares}\\nQuantidade: {len(pares)}\\tPorcentagem: {(len(pares)/len(numeros)*100):.0f}%\")\n",
        "print(f\"\\nNúmeros Ímpares: {impares}\\nQuantidade: {len(impares)}\\tPorcentagem: {(len(impares)/len(numeros)*100):.0f}%\")"
      ],
      "execution_count": null,
      "outputs": [
        {
          "output_type": "stream",
          "name": "stdout",
          "text": [
            "Digite o número: 45\n",
            "Digite o número: 23\n",
            "Digite o número: 98\n",
            "Digite o número: 12\n",
            "Digite o número: 56\n",
            "Digite o número: 23\n",
            "Digite o número: 48\n",
            "Digite o número: 23\n",
            "Digite o número: 48\n",
            "Digite o número: 23\n",
            "Números selecionados: [45, 23, 98, 12, 56, 23, 48, 23, 48, 23]\n",
            "\n",
            "Números Pares: [98, 12, 56, 48, 48]\n",
            "Quantidade: 5\tPorcentagem: 50%\n",
            "\n",
            "Números Ímpares: [45, 23, 23, 23, 23]\n",
            "Quantidade: 5\tPorcentagem: 50%\n"
          ]
        }
      ]
    },
    {
      "cell_type": "markdown",
      "metadata": {
        "id": "Lzqh-l1JNNTr"
      },
      "source": [
        "### 15. Faça um programa que:\n",
        "\n",
        "* preencha um vetor com quinze números\n",
        "\n",
        "**Determine e mostre:**\n",
        "\n",
        "* o maior número e a posição por ele ocupada no vetor\n",
        "* o menor número e a posição por ele ocupada no vetor\n",
        "\n",
        "Não use nenhuma função pronta da linguagem Python, a não ser len() e append()."
      ]
    },
    {
      "cell_type": "code",
      "metadata": {
        "id": "J-jy56awNIb4",
        "colab": {
          "base_uri": "https://localhost:8080/"
        },
        "outputId": "ca3a8f5f-2413-44e3-dad1-b5d071f53cd4"
      },
      "source": [
        "numeros = []\n",
        "for i in range(15):\n",
        "    numeros.append(int(input(\"Digite o número: \")))\n",
        "print(f\"Números selecionados: {numeros}\")\n",
        "\n",
        "maior = 0\n",
        "maior_i = 0\n",
        "menor = 0\n",
        "menor_i = 0\n",
        "\n",
        "for i in range(len(numeros)):\n",
        "    if i == 0:\n",
        "        maior_i, menor_i = i, i\n",
        "        maior, menor = numeros[i], numeros[i]\n",
        "    elif numeros[i] > maior:\n",
        "        maior, maior_i = numeros[i], i\n",
        "    elif numeros[i] < menor:\n",
        "        menor, menor_i = numeros[i], i\n",
        "\n",
        "print(f\"Maior número: {maior}\\tÍndice: {maior_i}\\nMenor número: {menor}\\t\\tÍndice: {menor_i}\")"
      ],
      "execution_count": null,
      "outputs": [
        {
          "output_type": "stream",
          "name": "stdout",
          "text": [
            "Digite o número: 59\n",
            "Digite o número: 50\n",
            "Digite o número: 12\n",
            "Digite o número: 1\n",
            "Digite o número: 60\n",
            "Digite o número: 95\n",
            "Digite o número: 46\n",
            "Digite o número: 196\n",
            "Digite o número: 15\n",
            "Digite o número: 01\n",
            "Digite o número: 65\n",
            "Digite o número: 02\n",
            "Digite o número: 65\n",
            "Digite o número: 79\n",
            "Digite o número: 65\n",
            "Números selecionados: [59, 50, 12, 1, 60, 95, 46, 196, 15, 1, 65, 2, 65, 79, 65]\n",
            "Maior número: 196\tÍndice: 7\n",
            "Menor número: 1\t\tÍndice: 3\n"
          ]
        }
      ]
    },
    {
      "cell_type": "markdown",
      "metadata": {
        "id": "CwrnVAqjNIqA"
      },
      "source": [
        "### 16. Faça um programa que:\n",
        "\n",
        "* preencha dois vetores com dez números cada\n",
        "* preencha um terceiro vetor com os números dos dois vetores anteriores ordenados em ordem crescente\n",
        "* pesquise no slide de vetor a função sort() de vetor\n"
      ]
    },
    {
      "cell_type": "code",
      "metadata": {
        "id": "JG4VQSZ0NNGP",
        "colab": {
          "base_uri": "https://localhost:8080/"
        },
        "outputId": "a9ea67df-490b-4397-b47f-15154ab3ad18"
      },
      "source": [
        "numeros1 = []\n",
        "numeros2 = []\n",
        "for i in range(10):\n",
        "    numeros1.append(int(input(\"Digite o número para primeira lista: \")))\n",
        "    numeros2.append(int(input(\"Digite o número para segunda lista: \")))\n",
        "print(f\"Números selecionados:\\n{numeros1}\\n{numeros2}\")\n",
        "\n",
        "numeros3 = []\n",
        "\n",
        "for i in range(len(numeros1)):\n",
        "    numeros3.append(numeros1[i])\n",
        "    numeros3.append(numeros2[i])\n",
        "\n",
        "numeros3.sort()\n",
        "print(f\"\\nTodos os números: {numeros3}\")"
      ],
      "execution_count": null,
      "outputs": [
        {
          "output_type": "stream",
          "name": "stdout",
          "text": [
            "Digite o número para primeira lista: 5\n",
            "Digite o número para segunda lista: 10\n",
            "Digite o número para primeira lista: 65\n",
            "Digite o número para segunda lista: 48\n",
            "Digite o número para primeira lista: 10\n",
            "Digite o número para segunda lista: 65\n",
            "Digite o número para primeira lista: 48\n",
            "Digite o número para segunda lista: 31\n",
            "Digite o número para primeira lista: 94\n",
            "Digite o número para segunda lista: 16\n",
            "Digite o número para primeira lista: 78\n",
            "Digite o número para segunda lista: 40\n",
            "Digite o número para primeira lista: 68\n",
            "Digite o número para segunda lista: 04\n",
            "Digite o número para primeira lista: 98\n",
            "Digite o número para segunda lista: 07\n",
            "Digite o número para primeira lista: 65\n",
            "Digite o número para segunda lista: 48\n",
            "Digite o número para primeira lista: 23\n",
            "Digite o número para segunda lista: 01\n",
            "Números selecionados:\n",
            "[5, 65, 10, 48, 94, 78, 68, 98, 65, 23]\n",
            "[10, 48, 65, 31, 16, 40, 4, 7, 48, 1]\n",
            "\n",
            "Todos os números: [1, 4, 5, 7, 10, 10, 16, 23, 31, 40, 48, 48, 48, 65, 65, 65, 68, 78, 94, 98]\n"
          ]
        }
      ]
    },
    {
      "cell_type": "markdown",
      "metadata": {
        "id": "HkiTq5lrNSnY"
      },
      "source": [
        "### 17. Faça um programa que:\n",
        "\n",
        "* carregue dois vetores com 10 números cada\n",
        "* faça a multiplicação dos números na mesma posição\n",
        "* o resultado deverá ser adicionada em um terceiro vetor\n",
        "\n",
        "Não use nenhuma função pronta da linguagem Python, a não ser len() e append()."
      ]
    },
    {
      "cell_type": "code",
      "metadata": {
        "id": "F1bta73yNXRe",
        "colab": {
          "base_uri": "https://localhost:8080/"
        },
        "outputId": "9faad4e4-2b42-4fbd-f8e8-50e346f84dd7"
      },
      "source": [
        "numeros1 = []\n",
        "numeros2 = []\n",
        "for i in range(10):\n",
        "    numeros1.append(int(input(\"Digite o número para primeira lista: \")))\n",
        "    numeros2.append(int(input(\"Digite o número para segunda lista: \")))\n",
        "print(f\"\\nNúmeros selecionados:\\n{numeros1}\\n{numeros2}\")\n",
        "\n",
        "numeros3 = []\n",
        "\n",
        "for i in range(len(numeros1)):\n",
        "    numeros3.append((numeros1[i]*numeros2[i]))\n",
        "\n",
        "print(f\"\\nValores da primeira lista multiplicado pelos valores da segunda lista: {numeros3}\")"
      ],
      "execution_count": null,
      "outputs": [
        {
          "output_type": "stream",
          "name": "stdout",
          "text": [
            "Digite o número para primeira lista: 95\n",
            "Digite o número para segunda lista: 10\n",
            "Digite o número para primeira lista: 56\n",
            "Digite o número para segunda lista: 1\n",
            "Digite o número para primeira lista: 65\n",
            "Digite o número para segunda lista: 26\n",
            "Digite o número para primeira lista: 40\n",
            "Digite o número para segunda lista: 50\n",
            "Digite o número para primeira lista: 65\n",
            "Digite o número para segunda lista: 48\n",
            "Digite o número para primeira lista: 80\n",
            "Digite o número para segunda lista: 12\n",
            "Digite o número para primeira lista: 90\n",
            "Digite o número para segunda lista: 19\n",
            "Digite o número para primeira lista: 10\n",
            "Digite o número para segunda lista: 65\n",
            "Digite o número para primeira lista: 498\n",
            "Digite o número para segunda lista: 12\n",
            "Digite o número para primeira lista: 465\n",
            "Digite o número para segunda lista: 23\n",
            "Números selecionados:\n",
            "[95, 56, 65, 40, 65, 80, 90, 10, 498, 465]\n",
            "[10, 1, 26, 50, 48, 12, 19, 65, 12, 23]\n",
            "Valores da primeira lista multiplicado pelos valores da segunda lista: [950, 56, 1690, 2000, 3120, 960, 1710, 650, 5976, 10695]\n"
          ]
        }
      ]
    },
    {
      "cell_type": "markdown",
      "metadata": {
        "id": "ZAel4hPSNXdC"
      },
      "source": [
        "### 18. Faça um programa que:\n",
        "\n",
        "* leia um vetor de 10 números inteiros\n",
        "* exiba na tela os números positivos e seus respectivos índices.\n",
        "\n",
        "Não use nenhuma função pronta da linguagem Python, a não ser len() e append()."
      ]
    },
    {
      "cell_type": "code",
      "metadata": {
        "id": "Wn-sojioNb99",
        "colab": {
          "base_uri": "https://localhost:8080/"
        },
        "outputId": "487226f9-be21-4cfe-fd90-160194eb828d"
      },
      "source": [
        "numeros = []\n",
        "for i in range(10):\n",
        "    numeros.append(int(input(\"Digite o número: \")))\n",
        "print(f\"\\nNúmeros selecionados: {numeros}\\n\")\n",
        "\n",
        "print(f\"Números positivos encontrados: \")\n",
        "for i in range(len(numeros)):\n",
        "    if numeros[i] > 0:\n",
        "        print(f\"{numeros[i]} - Índice: {i}\")"
      ],
      "execution_count": null,
      "outputs": [
        {
          "output_type": "stream",
          "name": "stdout",
          "text": [
            "Digite o número: 65\n",
            "Digite o número: -10\n",
            "Digite o número: -79\n",
            "Digite o número: -054\n",
            "Digite o número: 65\n",
            "Digite o número: 79\n",
            "Digite o número: 26\n",
            "Digite o número: -489\n",
            "Digite o número: -654\n",
            "Digite o número: -48\n",
            "\n",
            "Números selecionados: [65, -10, -79, -54, 65, 79, 26, -489, -654, -48]\n",
            "\n",
            "Números positivos encontrados: \n",
            "65 - Índice: 0\n",
            "65 - Índice: 4\n",
            "79 - Índice: 5\n",
            "26 - Índice: 6\n"
          ]
        }
      ]
    },
    {
      "cell_type": "markdown",
      "metadata": {
        "id": "IErlUNBBNcKh"
      },
      "source": [
        "### 19. Faça um programa que:\n",
        "\n",
        "* insira dez números inteiros em um vetor\n",
        "* crie um segundo vetor, substituindo os números multiplos de 3 por \"999\"\"\n",
        "* exiba os dois vetores\n",
        "\n",
        "Não use nenhuma função pronta da linguagem Python, a não ser len() e append()."
      ]
    },
    {
      "cell_type": "code",
      "metadata": {
        "id": "ABkUHan9NiRV",
        "colab": {
          "base_uri": "https://localhost:8080/"
        },
        "outputId": "3f76a821-5ef4-467f-d8a6-7ed17559790c"
      },
      "source": [
        "numeros = []\n",
        "for i in range(10):\n",
        "    numeros.append(int(input(\"Digite o número: \")))\n",
        "print(f\"\\nNúmeros selecionados: {numeros}\")\n",
        "\n",
        "numeros2 = []\n",
        "for i in range(len(numeros)):\n",
        "    if (numeros[i] % 3 == 0):\n",
        "        numeros2.append(999)\n",
        "    else:\n",
        "        numeros2.append(numeros[i])\n",
        "\n",
        "print(f\"Números múltiplos de 3 substituidos por 999: {numeros2}\")"
      ],
      "execution_count": null,
      "outputs": [
        {
          "output_type": "stream",
          "name": "stdout",
          "text": [
            "Digite o número: 51\n",
            "Digite o número: 95\n",
            "Digite o número: 23\n",
            "Digite o número: 64\n",
            "Digite o número: 48\n",
            "Digite o número: 23\n",
            "Digite o número: 29\n",
            "Digite o número: 30\n",
            "Digite o número: 18\n",
            "Digite o número: 56\n",
            "\n",
            "Números selecionados: [51, 95, 23, 64, 48, 23, 29, 30, 18, 56]\n",
            "Números múltiplos de 3 substituidos por 999: [999, 95, 23, 64, 999, 23, 29, 999, 999, 56]\n"
          ]
        }
      ]
    },
    {
      "cell_type": "markdown",
      "metadata": {
        "id": "ZtxMl1r8NnV7"
      },
      "source": [
        "### 20. Faça um programa que:\n",
        "\n",
        "* leia dois vetores (A e B) com cinco posições para números inteiros.\n",
        "* o programa deve, então, subtrair o primeiro elemento de A do último de B, armazenando o resultado num terceiro vetor, subtrair o segundo elemento de A do penúltimo de B, armazenando o resultado num terceiro vetor e assim por diante.\n",
        "* ao final, mostre o resultado do terceiro vetor\n",
        "\n",
        "**O índice de um dos vetores terá que ser decrementado (slide 2 de Vetor) , ou seja, você implementará ele manualmente.**\n",
        "\n",
        "Não use nenhuma função pronta da linguagem Python, a não ser len() e append()."
      ]
    },
    {
      "cell_type": "code",
      "metadata": {
        "id": "TPVdojenNq37",
        "colab": {
          "base_uri": "https://localhost:8080/"
        },
        "outputId": "06473fb1-4245-4397-cdd7-994883971aa2"
      },
      "source": [
        "import random\n",
        "numeros1 = []\n",
        "numeros2 = []\n",
        "for i in range(10):\n",
        "    numeros1.append(random.randint(1, 99))\n",
        "    numeros2.append(random.randint(1, 99))\n",
        "print(f\"\\nNúmeros selecionados:\\n{numeros1}\\n{numeros2}\\n\")\n",
        "\n",
        "numeros3 = []\n",
        "j = -1\n",
        "for i in range(len(numeros1)):\n",
        "    numeros3.append(numeros1[i] - numeros2[j])\n",
        "    j -= 1\n",
        "\n",
        "print(numeros3)"
      ],
      "execution_count": null,
      "outputs": [
        {
          "output_type": "stream",
          "name": "stdout",
          "text": [
            "\n",
            "Números selecionados:\n",
            "[3, 22, 3, 16, 34, 54, 92, 56, 59, 62]\n",
            "[2, 80, 31, 34, 18, 57, 66, 50, 31, 15]\n",
            "\n",
            "[-12, -9, -47, -50, -23, 36, 58, 25, -21, 60]\n"
          ]
        }
      ]
    },
    {
      "cell_type": "markdown",
      "metadata": {
        "id": "ASOIKJD7M-vh"
      },
      "source": [
        "###21. Faça um programa que:\n",
        "\n",
        "* preencha um vetor de cinco números e mostre a saída a seguir:\n",
        "* imprima a seguinte saída, exemplo (cada número e o sinal de adição e depois o resultado da soma dos números) 8 + 2 + 1 + 3 + 0 = 14\n",
        "\n",
        "Não use nenhuma função pronta da linguagem Python, a não ser len() e append()."
      ]
    },
    {
      "cell_type": "code",
      "metadata": {
        "id": "hyDhAbwPNuhK",
        "colab": {
          "base_uri": "https://localhost:8080/"
        },
        "outputId": "26bf6e8b-a6f5-484e-ad27-f42b080721aa"
      },
      "source": [
        "import random\n",
        "numeros = []\n",
        "for i in range(5):\n",
        "    numeros.append(random.randint(1, 999))\n",
        "print(f\"\\nNúmeros selecionados: {numeros}\\n\")\n",
        "\n",
        "soma = 0\n",
        "for i in range(len(numeros)):\n",
        "    soma += numeros[i]\n",
        "    print(numeros[i], end=\"\")\n",
        "    if (i+1) != len(numeros):\n",
        "        print(\" + \", end=\"\")\n",
        "print(f\" = {soma}\")\n"
      ],
      "execution_count": null,
      "outputs": [
        {
          "output_type": "stream",
          "name": "stdout",
          "text": [
            "\n",
            "Números selecionados: [83, 179, 938, 133, 573]\n",
            "\n",
            "83 + 179 + 938 + 133 + 573 = 1906\n"
          ]
        }
      ]
    },
    {
      "cell_type": "markdown",
      "metadata": {
        "id": "D6GVJmfhNusA"
      },
      "source": [
        "### 22. Faça um programa que:\n",
        "* leia um vetor com quinze posições para números inteiros.\n",
        "* depois da leitura, em outro vetor, armazene a divisão de todos os  elementos pelo maior valor do vetor, para isso encontre o maior elemento\n",
        "* Mostre o vetor após os cálculos.\n",
        "\n",
        "Não use nenhuma função pronta da linguagem Python, a não ser len() e append()."
      ]
    },
    {
      "cell_type": "code",
      "metadata": {
        "id": "zto4otPkgPRV",
        "colab": {
          "base_uri": "https://localhost:8080/"
        },
        "outputId": "d39dfee1-7a61-4909-e90b-c81541d51f19"
      },
      "source": [
        "numeros = []\n",
        "for i in range(15):\n",
        "    numeros.append(random.randint(1,99))\n",
        "print(f\"\\nNúmeros selecionados: {numeros}\")\n",
        "\n",
        "maior = numeros[0]\n",
        "for i in numeros:\n",
        "    if i > maior:\n",
        "        maior = i\n",
        "print(f\"Maior número: {maior}\\n\")\n",
        "numeros2 = []\n",
        "for i in numeros:\n",
        "    numeros2.append(round(i/maior,2))\n",
        "print(numeros2)"
      ],
      "execution_count": null,
      "outputs": [
        {
          "output_type": "stream",
          "name": "stdout",
          "text": [
            "\n",
            "Números selecionados: [74, 64, 69, 62, 75, 39, 79, 11, 95, 15, 94, 62, 88, 44, 43]\n",
            "Maior número: 95\n",
            "\n",
            "[0.78, 0.67, 0.73, 0.65, 0.79, 0.41, 0.83, 0.12, 1.0, 0.16, 0.99, 0.65, 0.93, 0.46, 0.45]\n"
          ]
        }
      ]
    },
    {
      "cell_type": "markdown",
      "metadata": {
        "id": "Hwgks80Tawon"
      },
      "source": [
        "### 23. Um vetor é palíndromo se ele não se alterar quando o mesmo for invertido. Escreva um programa que verifique se um vetor é palíndromo, fazendo comparação de índice/posição por índice/posição do vetor original (vo) com o vetor invertido (vi). Não use nenhuma função pronta da linguagem Python, a não ser len() e append(). O tamanho do vetor pode ser da sua escolha. Use decremento para inverter o vetor (vi).\n",
        "Exemplo:\n",
        "vetor original    vo = {1, 3, 5, 2, 2, 5, 3, 1}  \n",
        "vetor invertido é vi = {1, 3, 5, 2, 2, 5, 3, 1}\n",
        "O vetor invertido **é palíndromo**, pois ele invertido é igual ao original\n",
        "\n",
        "vetor original    vo = {9, 7, 5, 2, 4, 5, 3, 6}  \n",
        "vetor invertido é vi = {6, 3, 5, 4, 2, 5, 7, 9}\n",
        "O vetor invertido **não é palíndromo**, pois ele invertido é igual ao original\n",
        "\n"
      ]
    },
    {
      "cell_type": "code",
      "metadata": {
        "id": "ua4_aIrbN0rO",
        "colab": {
          "base_uri": "https://localhost:8080/"
        },
        "outputId": "1a81b57d-b887-4538-a901-ac35661103ee"
      },
      "source": [
        "import random\n",
        "numeros = []\n",
        "for i in range(5):\n",
        "    numeros.append(random.randint(1, 5))\n",
        "print(f\"\\nNúmeros selecionados: \\t{numeros}\")\n",
        "\n",
        "soremun = []\n",
        "for i in range(len(numeros)-1, -1, -1):\n",
        "    soremun.append(numeros[i])\n",
        "\n",
        "print(f\"Vetor invertido: \\t{soremun}\\n\")\n",
        "if numeros == soremun:\n",
        "    print(\"O vetor invertido é palíndromo, pois ele invertido é igual ao original\")\n",
        "else:\n",
        "    print(\"O vetor invertido não é palíndromo, pois ele invertido não é igual ao original\")"
      ],
      "execution_count": null,
      "outputs": [
        {
          "output_type": "stream",
          "name": "stdout",
          "text": [
            "\n",
            "Números selecionados: \t[5, 1, 1, 1, 5]\n",
            "Vetor invertido: \t[5, 1, 1, 1, 5]\n",
            "\n",
            "O vetor invertido é palíndromo, pois ele invertido é igual ao original\n"
          ]
        }
      ]
    }
  ]
}