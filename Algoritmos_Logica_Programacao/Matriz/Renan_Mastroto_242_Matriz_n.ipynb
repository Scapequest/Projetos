{
  "nbformat": 4,
  "nbformat_minor": 0,
  "metadata": {
    "colab": {
      "provenance": []
    },
    "kernelspec": {
      "name": "python3",
      "display_name": "Python 3"
    },
    "language_info": {
      "name": "python"
    }
  },
  "cells": [
    {
      "cell_type": "code",
      "source": [
        "#Exemplo de como cadastrar/preencher uma matriz\n",
        "matriz = []\n",
        "for linha in range(2):\n",
        "    vet_linha = []\n",
        "    for coluna in range(3):\n",
        "        vet_linha.append(float(input(f'Digite o valor na linha {linha} e na coluna {coluna} = ')))\n",
        "    matriz.append(vet_linha)\n",
        "\n",
        "#Apresentação de matriz no formato linhas e colunas\n",
        "for linha in range(len(matriz)): # len(matriz)-> qtde de linhas\n",
        "    for coluna in range(len(matriz[0])):# len(matriz[0]) qtde de colunas\n",
        "        print(matriz[linha][coluna],end='\\t')\n",
        "    print()\n",
        "total = 0\n",
        "for linha in range(len(matriz)): # len(matriz)-> qtde de linhas\n",
        "    for coluna in range(len(matriz[0])):\n",
        "        print(f'Elemento: {matriz[linha][coluna]} linha: {linha} coluna: {coluna}')\n",
        "        total = total + matriz[linha][coluna]\n",
        "print('Valor total é: ', total)"
      ],
      "metadata": {
        "id": "7i4dMBJiqiQz",
        "colab": {
          "base_uri": "https://localhost:8080/"
        },
        "outputId": "1d545bea-5da9-4454-e33f-05e8debfe9c8"
      },
      "execution_count": null,
      "outputs": [
        {
          "output_type": "stream",
          "name": "stdout",
          "text": [
            "Digite o valor na linha 0 e na coluna 0 = 45\n",
            "Digite o valor na linha 0 e na coluna 1 = 67\n",
            "Digite o valor na linha 0 e na coluna 2 = 88\n",
            "Digite o valor na linha 1 e na coluna 0 = 32\n",
            "Digite o valor na linha 1 e na coluna 1 = 23\n",
            "Digite o valor na linha 1 e na coluna 2 = 78\n",
            "45.0\t67.0\t88.0\t\n",
            "32.0\t23.0\t78.0\t\n",
            "Elemento: 45.0 linha: 0 coluna: 0\n",
            "Elemento: 67.0 linha: 0 coluna: 1\n",
            "Elemento: 88.0 linha: 0 coluna: 2\n",
            "Elemento: 32.0 linha: 1 coluna: 0\n",
            "Elemento: 23.0 linha: 1 coluna: 1\n",
            "Elemento: 78.0 linha: 1 coluna: 2\n",
            "Valor total é:  333.0\n"
          ]
        }
      ]
    },
    {
      "cell_type": "markdown",
      "metadata": {
        "id": "skN-Wz61xZzi"
      },
      "source": [
        "### 1. Faça um programa que leia uma matriz 2x3 (2 linhas, 3 colunas). Apresente os elementos da matriz e seus respectivos índices."
      ]
    },
    {
      "cell_type": "code",
      "metadata": {
        "id": "Wbjafj_QxWP-",
        "colab": {
          "base_uri": "https://localhost:8080/"
        },
        "outputId": "5ab310d4-dbdd-4417-f5ba-a177cd246e5a"
      },
      "source": [
        "matriz = []\n",
        "\n",
        "for l in range(2):\n",
        "    linha = []\n",
        "    for c in range(3):\n",
        "        linha.append(int(input()))\n",
        "    matriz.append(linha)\n",
        "\n",
        "for l in range(len(matriz)):\n",
        "    for c in range(len(matriz[0])):\n",
        "        print(f\"{matriz[l][c]}\", end=\" \")\n",
        "    print(\"\")"
      ],
      "execution_count": null,
      "outputs": [
        {
          "output_type": "stream",
          "name": "stdout",
          "text": [
            "2\n",
            "3\n",
            "2\n",
            "4\n",
            "1\n",
            "3\n",
            "[2, 3, 2] [2, 3, 2] [2, 3, 2] \n",
            "[4, 1, 3] [4, 1, 3] [4, 1, 3] \n"
          ]
        }
      ]
    },
    {
      "cell_type": "markdown",
      "metadata": {
        "id": "0jPoba3-yLnG"
      },
      "source": [
        "### 2. Faça um programa que leia uma matriz 2 x 2, que representa o salário de 4 funcionários, calcule e mostre a soma total de todos os salários/elementos que será o montante pago pela empresa a esses funcionários."
      ]
    },
    {
      "cell_type": "code",
      "metadata": {
        "id": "UHD2oMlJyLzc",
        "colab": {
          "base_uri": "https://localhost:8080/"
        },
        "outputId": "f973709b-304a-475e-e20c-c2adb9e334a4"
      },
      "source": [
        "matriz = []\n",
        "for l in range(2):\n",
        "    linha = []\n",
        "    for c in range(2):\n",
        "        linha.append(float(input(f\"Digite o salário [{l},{c}]: R$ \")))\n",
        "    matriz.append(linha)\n",
        "\n",
        "soma = 0\n",
        "for l in matriz:\n",
        "    for c in l:\n",
        "        soma += c\n",
        "\n",
        "print(f\"Soma dos salários: R$ {soma:.2f}\")"
      ],
      "execution_count": null,
      "outputs": [
        {
          "output_type": "stream",
          "name": "stdout",
          "text": [
            "Digite o salário [0,0]: R$ 250\n",
            "Digite o salário [0,1]: R$ 230\n",
            "Digite o salário [1,0]: R$ 580\n",
            "Digite o salário [1,1]: R$ 910\n",
            "Soma dos salários: R$ 1970.00\n"
          ]
        }
      ]
    },
    {
      "cell_type": "markdown",
      "metadata": {
        "id": "_aPd4c1b3OjS"
      },
      "source": [
        "### 3. Faça um programa para ler uma matriz 5x2 preços. Encontre e apresente os ÍNDICES dos valores menores que 23 reais."
      ]
    },
    {
      "cell_type": "code",
      "metadata": {
        "id": "Q6LPIy_LCQuO",
        "colab": {
          "base_uri": "https://localhost:8080/"
        },
        "outputId": "43652751-6ed1-4bf4-f8ee-d9704622ecad"
      },
      "source": [
        "matriz = []\n",
        "for l in range(5):\n",
        "    linha = []\n",
        "    for c in range(2):\n",
        "        linha.append(random.randint(1, 50))\n",
        "    matriz.append(linha)\n",
        "\n",
        "for l in range(len(matriz)):\n",
        "    for c in range(len(matriz[0])):\n",
        "        print(f\"{matriz[l][c]}\", end=\" \")\n",
        "    print(\"\")\n",
        "\n",
        "for l in range(len(matriz)):\n",
        "    for c in range(len(matriz[0])):\n",
        "        if matriz[l][c] < 23:\n",
        "            print(f\"Linha: [{l}] Coluna: [{c}] - Valor: R$ {matriz[l][c]}\")\n"
      ],
      "execution_count": null,
      "outputs": [
        {
          "output_type": "stream",
          "name": "stdout",
          "text": [
            "10 3 \n",
            "18 4 \n",
            "14 39 \n",
            "29 22 \n",
            "45 17 \n",
            "Linha: [0] Coluna: [0] - Valor: R$ 10\n",
            "Linha: [0] Coluna: [1] - Valor: R$ 3\n",
            "Linha: [1] Coluna: [0] - Valor: R$ 18\n",
            "Linha: [1] Coluna: [1] - Valor: R$ 4\n",
            "Linha: [2] Coluna: [0] - Valor: R$ 14\n",
            "Linha: [3] Coluna: [1] - Valor: R$ 22\n",
            "Linha: [4] Coluna: [1] - Valor: R$ 17\n"
          ]
        }
      ]
    },
    {
      "cell_type": "markdown",
      "metadata": {
        "id": "JgYwP3n1CQ_U"
      },
      "source": [
        "### 4. Faça um programa que leia números inteiros w e p e os elementos de uma matriz A de números inteiros de dimensão w x p e conte o número de elementos que são iguais a zero. Observação w representa a quantidade de linhas e p as colunas\n"
      ]
    },
    {
      "cell_type": "code",
      "metadata": {
        "id": "fb6TwQ_yh_To",
        "colab": {
          "base_uri": "https://localhost:8080/"
        },
        "outputId": "9656d1d0-c118-40ec-dd2a-de3131d20153"
      },
      "source": [
        "import random\n",
        "n = list(map(int, input().split()))\n",
        "matriz = []\n",
        "for l in range(n[0]):\n",
        "    linha = []\n",
        "    for c in range(n[1]):\n",
        "        linha.append(random.randint(-5, 5))\n",
        "    matriz.append(linha)\n",
        "\n",
        "for l in range(len(matriz)):\n",
        "    for c in range(len(matriz[0])):\n",
        "        print(f\"{matriz[l][c]:2}\", end=\" \")\n",
        "    print(\"\")\n",
        "\n",
        "contador = 0\n",
        "for l in matriz:\n",
        "    for c in l:\n",
        "        if c == 0:\n",
        "            contador += 1\n",
        "\n",
        "print(f\"\\n Números iguais a 0: {contador}\")\n",
        "\n"
      ],
      "execution_count": null,
      "outputs": [
        {
          "output_type": "stream",
          "name": "stdout",
          "text": [
            "7 7\n",
            " 2  1  3 -4 -1  5  0 \n",
            "-1 -5 -2  5  2 -3  2 \n",
            "-2 -2  0 -5  5 -2 -2 \n",
            "-3 -1 -1 -2 -5  0 -3 \n",
            " 0  1 -5  2  1  3  5 \n",
            "-1 -1 -5  4 -3  3  3 \n",
            " 5 -5 -5  2 -2  3  5 \n",
            "\n",
            " Números iguais a 0: 4\n"
          ]
        }
      ]
    },
    {
      "cell_type": "markdown",
      "metadata": {
        "id": "HAz_eYfhzg06"
      },
      "source": [
        "### 5. Faça um programa que leia uma matriz 3 x 2, que representa preços de produtos, crie OUTRA matriz que armazene todos os preços com 7% de aumento."
      ]
    },
    {
      "cell_type": "code",
      "source": [
        "import random\n",
        "matriz = []\n",
        "for l in range(3):\n",
        "    linha = []\n",
        "    for c in range(2):\n",
        "        linha.append(random.randint(10, 100))\n",
        "    matriz.append(linha)\n",
        "\n",
        "print(f\"Matriz {len(matriz)}x{len(matriz[0])}\")\n",
        "for l in range(len(matriz)):\n",
        "    for c in range(len(matriz[0])):\n",
        "        print(f\"R$ {matriz[l][c]:6.2f}\", end=\" \")\n",
        "    print(\"\")\n",
        "\n",
        "aumento = []\n",
        "for l in matriz:\n",
        "    linha = []\n",
        "    for c in l:\n",
        "        linha.append(c*1.7)\n",
        "    aumento.append(linha)\n",
        "\n",
        "print(f\"\\nMatriz {len(matriz)}x{len(matriz[0])} com aumento de 7%:\")\n",
        "for l in range(len(aumento)):\n",
        "    for c in range(len(aumento[0])):\n",
        "        print(f\"R$ {aumento[l][c]:6.2f}\", end=\" \")\n",
        "    print(\"\")\n"
      ],
      "metadata": {
        "colab": {
          "base_uri": "https://localhost:8080/"
        },
        "id": "7Fz2vEnBRvD2",
        "outputId": "ac7c0fcf-cf8e-4998-e54f-77c4a0cf62bd"
      },
      "execution_count": null,
      "outputs": [
        {
          "output_type": "stream",
          "name": "stdout",
          "text": [
            "Matriz 3x2\n",
            "R$  65.00 R$  19.00 \n",
            "R$  94.00 R$  29.00 \n",
            "R$  23.00 R$  50.00 \n",
            "\n",
            "Matriz 3x2 com aumento de 7%:\n",
            "R$ 110.50 R$  32.30 \n",
            "R$ 159.80 R$  49.30 \n",
            "R$  39.10 R$  85.00 \n"
          ]
        }
      ]
    },
    {
      "cell_type": "markdown",
      "source": [
        "###6. Faça um programa que leia uma matriz 2 x 2, que representa as notas, da primeira prova. Leia também outra matriz 2 x 2, que representa as notas, da segunda prova, numa terceira matriz calcule e apresente (em forma de matriz) a média de todos os alunos, para isso use as duas matrizes iniciais."
      ],
      "metadata": {
        "id": "aiGOsH4iw0v2"
      }
    },
    {
      "cell_type": "code",
      "source": [
        "import random\n",
        "matriz1 = []\n",
        "for l in range(2):\n",
        "    linha = []\n",
        "    for c in range(2):\n",
        "        linha.append(random.randint(0, 10))\n",
        "    matriz1.append(linha)\n",
        "print(f\"Matriz {len(matriz1)}x{len(matriz1[0])}\")\n",
        "for l in range(len(matriz1)):\n",
        "    for c in range(len(matriz1[0])):\n",
        "        print(f\"{matriz1[l][c]:2}\", end=\" \")\n",
        "    print(\"\")\n",
        "matriz2 = []\n",
        "for l in range(2):\n",
        "    linha = []\n",
        "    for c in range(2):\n",
        "        linha.append(random.randint(0, 10))\n",
        "    matriz2.append(linha)\n",
        "print(f\"\\nMatriz {len(matriz2)}x{len(matriz2[0])}\")\n",
        "for l in range(len(matriz2)):\n",
        "    for c in range(len(matriz2[0])):\n",
        "        print(f\"{matriz2[l][c]:2}\", end=\" \")\n",
        "    print(\"\")\n",
        "\n",
        "print(f\"\\nMatriz {len(matriz2)}x{len(matriz2[0])} das médias\")\n",
        "for l in range(len(matriz2)):\n",
        "    for c in range(len(matriz2[0])):\n",
        "        print(f\"{((matriz1[l][c]+matriz2[l][c])/2):3.1f}\", end=\" \")\n",
        "    print(\"\")"
      ],
      "metadata": {
        "id": "VzciC12pyW1i",
        "colab": {
          "base_uri": "https://localhost:8080/"
        },
        "outputId": "04697ef4-e731-4735-c486-60e5b60bafbd"
      },
      "execution_count": null,
      "outputs": [
        {
          "output_type": "stream",
          "name": "stdout",
          "text": [
            "Matriz 2x2\n",
            " 2  2 \n",
            " 8  1 \n",
            "\n",
            "Matriz 2x2\n",
            " 5  6 \n",
            " 4  4 \n",
            "\n",
            "Matriz 2x2 das médias\n",
            "3.5 4.0 \n",
            "6.0 2.5 \n"
          ]
        }
      ]
    },
    {
      "cell_type": "markdown",
      "metadata": {
        "id": "fZNXRUrrh_g9"
      },
      "source": [
        "### 7. Faça um programa que leia:\n",
        "###* um vetor com oito posições com os nomes das lojas;\n",
        "###* um outro vetor com quatro posições com os nomes dos produtos;\n",
        "###* uma matriz (8 x 4) com os preços de todos os produtos em cada loja.\n",
        "###O programa deve mostrar todas as relações/print (nome da loja - nome do produto e preço), nas quais o preço não ultrapasse R$ 120,00.\n"
      ]
    },
    {
      "cell_type": "code",
      "metadata": {
        "id": "A4-CekXy0vrz",
        "colab": {
          "base_uri": "https://localhost:8080/"
        },
        "outputId": "6ffbd82b-6aa1-443b-9690-7389ec43a313"
      },
      "source": [
        "import random\n",
        "lojas = [\"Americanas\", \"Amazon\", \"Mercado Livre\", \"KaBum!\", \"Pichau\", \"Casas Bahia\", \"Magalu\", \"Shopee\"]\n",
        "produtos = [\"Livro\", \"Carregador\", \"Notebook\", \"Caixa de Som\"]\n",
        "\n",
        "matriz = []\n",
        "for l in range(8):\n",
        "    linha = []\n",
        "    for c in range(4):\n",
        "        linha.append(random.randint(100, 150))\n",
        "    matriz.append(linha)\n",
        "print(f\"Matriz {len(matriz)}x{len(matriz[0])}\")\n",
        "for l in range(len(matriz)):\n",
        "    for c in range(len(matriz[0])):\n",
        "        print(f\"{matriz[l][c]:3}\", end=\" \")\n",
        "    print(\"\")\n",
        "print(\"\")\n",
        "for i in range(len(lojas)):\n",
        "    for j in range(len(produtos)):\n",
        "        if matriz[i][j] <= 120:\n",
        "            print(f\"Loja: {lojas[i]} - Produto: {produtos[j]} - Preço: R$ {matriz[i][j]:6.2f}\")\n",
        "    print(\"\")"
      ],
      "execution_count": null,
      "outputs": [
        {
          "output_type": "stream",
          "name": "stdout",
          "text": [
            "Matriz 8x4\n",
            "104 125 144 131 \n",
            "141 109 111 124 \n",
            "131 115 123 103 \n",
            "122 128 136 121 \n",
            "122 115 107 117 \n",
            "137 144 141 111 \n",
            "131 126 126 131 \n",
            "123 120 112 112 \n",
            "\n",
            "Loja: Americanas - Produto: Livro - Preço: R$ 104.00\n",
            "\n",
            "Loja: Amazon - Produto: Carregador - Preço: R$ 109.00\n",
            "Loja: Amazon - Produto: Notebook - Preço: R$ 111.00\n",
            "\n",
            "Loja: Mercado Livre - Produto: Carregador - Preço: R$ 115.00\n",
            "Loja: Mercado Livre - Produto: Caixa de Som - Preço: R$ 103.00\n",
            "\n",
            "\n",
            "Loja: Pichau - Produto: Carregador - Preço: R$ 115.00\n",
            "Loja: Pichau - Produto: Notebook - Preço: R$ 107.00\n",
            "Loja: Pichau - Produto: Caixa de Som - Preço: R$ 117.00\n",
            "\n",
            "Loja: Casas Bahia - Produto: Caixa de Som - Preço: R$ 111.00\n",
            "\n",
            "\n",
            "Loja: Shopee - Produto: Carregador - Preço: R$ 120.00\n",
            "Loja: Shopee - Produto: Notebook - Preço: R$ 112.00\n",
            "Loja: Shopee - Produto: Caixa de Som - Preço: R$ 112.00\n",
            "\n"
          ]
        }
      ]
    },
    {
      "cell_type": "markdown",
      "source": [
        "###8. Faça um programa que leia uma matriz 4 x 4.\n",
        "###* Apresente os valores/elementos e seus respectivos índices (linhas e colunas) que estão na diagonal principal.\n",
        "###* Calcule e apresente a soma dos elementos acima da diagonal principal, que estão em negrito e com a cor de fundo amarela.\n",
        "\n",
        "![image.png](data:image/png;base64,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)\n"
      ],
      "metadata": {
        "id": "B1SbuClb3Vm4"
      }
    },
    {
      "cell_type": "code",
      "source": [
        "import random\n",
        "matriz = []\n",
        "for l in range(4):\n",
        "    linha = []\n",
        "    for c in range(4):\n",
        "        linha.append(random.randint(1, 99))\n",
        "    matriz.append(linha)\n",
        "\n",
        "print(f\"Matriz {len(matriz)}x{len(matriz[0])}\")\n",
        "for l in range(len(matriz)):\n",
        "    for c in range(len(matriz[0])):\n",
        "        print(f\"{matriz[l][c]:02}\", end=\" \")\n",
        "    print(\"\")\n",
        "\n",
        "soma = 0\n",
        "valores = []\n",
        "print(f\"\\nDiagonal Principal:\")\n",
        "for l in range(len(matriz)):\n",
        "    for c in range(len(matriz[0])):\n",
        "        if c == l: #Forma de ver se o elemento está na diagonal principal.\n",
        "            print(f\"Matriz [{l},{c}] - Valor: {matriz[l][c]:02}\")\n",
        "        elif (c+l)>(l*2): #Forma de ver se o elemento está acima da diagonal principal. Para ver se está abaixo é só substituir > por <\n",
        "            soma += matriz[l][c]\n",
        "            valores.append(matriz[l][c])\n",
        "\n",
        "print(f\"\\nSoma dos valores {valores} acima da diagonal principal: {soma}\")"
      ],
      "metadata": {
        "id": "Q20QrkAW9CLu",
        "colab": {
          "base_uri": "https://localhost:8080/"
        },
        "outputId": "98780028-2d44-4a95-c849-8b5665b11560"
      },
      "execution_count": null,
      "outputs": [
        {
          "output_type": "stream",
          "name": "stdout",
          "text": [
            "Matriz 4x4\n",
            "07 12 56 95 \n",
            "32 99 97 73 \n",
            "08 97 80 07 \n",
            "05 13 98 58 \n",
            "\n",
            "Diagonal Principal:\n",
            "Matriz [0,0] - Valor: 07\n",
            "Matriz [1,1] - Valor: 99\n",
            "Matriz [2,2] - Valor: 80\n",
            "Matriz [3,3] - Valor: 58\n",
            "\n",
            "Soma dos valores [12, 56, 95, 97, 73, 7] acima da diagonal principal: 340\n"
          ]
        }
      ]
    },
    {
      "cell_type": "markdown",
      "source": [
        "###9. Faça um programa para gerar automaticamente números entre 0 e 99 de uma cartela de bingo. Sabendo que cada cartela deverá conter 5 linhas de 5 números (matriz 5 x 5), gere estes dados de modo a não ter números repetidos dentro das cartelas. O programa deve apresentar a cartela gerada."
      ],
      "metadata": {
        "id": "s4FUKftfs69l"
      }
    },
    {
      "cell_type": "code",
      "source": [
        "import random\n",
        "bingo = \"BINGO\"\n",
        "n_disponiveis = []\n",
        "for i in range(5):\n",
        "    lista = list(range(1+(15*i),16+(15*i)))\n",
        "    random.shuffle(lista)\n",
        "    n_disponiveis.append(lista)\n",
        "\n",
        "matriz = []\n",
        "for l in range(5):\n",
        "    linha = []\n",
        "    for c in range(5):\n",
        "        n = n_disponiveis[c]\n",
        "        linha.append(n.pop(random.randint(((len(n)-1)*(-1)),(len(n)-1))))\n",
        "    matriz.append(linha)\n",
        "\n",
        "for i in range(5):\n",
        "    print(f\"{bingo[i]:2}\", end=\" \")\n",
        "print(\"\")\n",
        "for l in range(len(matriz)):\n",
        "    for c in range(len(matriz[0])):\n",
        "        if l == 2 and c == 2:\n",
        "            print(\"BG\", end=\" \")\n",
        "        else:\n",
        "            print(f\"{matriz[l][c]:02}\", end=\" \")\n",
        "    print(\"\")"
      ],
      "metadata": {
        "id": "4z7sh0zktMuZ",
        "colab": {
          "base_uri": "https://localhost:8080/"
        },
        "outputId": "c02dfae9-3213-47d1-80ae-01df0fc7ceac"
      },
      "execution_count": null,
      "outputs": [
        {
          "output_type": "stream",
          "name": "stdout",
          "text": [
            "B  I  N  G  O  \n",
            "12 19 32 49 67 \n",
            "05 27 42 53 66 \n",
            "04 28 BG 51 65 \n",
            "13 23 33 60 64 \n",
            "10 22 44 59 61 \n"
          ]
        }
      ]
    }
  ]
}