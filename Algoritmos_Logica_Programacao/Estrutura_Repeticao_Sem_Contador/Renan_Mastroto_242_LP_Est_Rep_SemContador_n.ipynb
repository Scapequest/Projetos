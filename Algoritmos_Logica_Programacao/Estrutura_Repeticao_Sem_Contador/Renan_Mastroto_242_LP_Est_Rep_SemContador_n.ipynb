{
  "nbformat": 4,
  "nbformat_minor": 0,
  "metadata": {
    "colab": {
      "provenance": []
    },
    "kernelspec": {
      "name": "python3",
      "display_name": "Python 3"
    },
    "language_info": {
      "name": "python"
    }
  },
  "cells": [
    {
      "cell_type": "markdown",
      "metadata": {
        "id": "E64RcqHIMXAS"
      },
      "source": [
        "# **EXERCÍCIOS DE ESTRUTURA DE REPETIÇÃO SEM CONTADOR**\n"
      ]
    },
    {
      "cell_type": "markdown",
      "metadata": {
        "id": "_q0kBpMGMbRF"
      },
      "source": [
        "###1. Construir um algoritmo para calcular e apresentar o total de salários pagos de funcionários, mas não é informado a quantidade de pessoas, então use como critério de parada (condição da estrutura de repetição, digitar zero no salário para sair.\n"
      ]
    },
    {
      "cell_type": "code",
      "metadata": {
        "id": "uLE2w6-aMadI",
        "colab": {
          "base_uri": "https://localhost:8080/"
        },
        "outputId": "5001bed6-da54-4364-e282-57ac9ac29e14"
      },
      "source": [
        "# não podemos usar o for porque precisa de um valor\n",
        "# numérico para indicar a quantidade de repetições\n",
        "# na função range(), exemplo for contador in range(valor numerico)\n",
        "total_salario: float = 0\n",
        "salario = float(input(\"Digite o valor do salário: R$ \"))\n",
        "while salario > 0:\n",
        "    total_salario += salario\n",
        "    salario = float(input(\"Digite o valor do salário: R$ \"))\n",
        "\n",
        "print(f\"Total de salários pagos: R$ {total_salario:.2f}\")\n"
      ],
      "execution_count": null,
      "outputs": [
        {
          "output_type": "stream",
          "name": "stdout",
          "text": [
            "Digite o valor do salário: R$ 1000\n",
            "Digite o valor do salário: R$ 2000\n",
            "Digite o valor do salário: R$ 1100\n",
            "Digite o valor do salário: R$ 0\n",
            "Total de salários pagos: R$ 4100.00\n"
          ]
        }
      ]
    },
    {
      "cell_type": "code",
      "source": [
        "#implementação COM GAMBIARRA\n",
        "total_salario: float = 0\n",
        "salario = 1\n",
        "while salario > 0:\n",
        "    salario = float(input(\"Digite o valor do salário: R$ \"))\n",
        "    if salario > 0:\n",
        "        total_salario += salario\n",
        "\n",
        "print(f\"Total de salários pagos: R$ {total_salario:.2f}\")"
      ],
      "metadata": {
        "id": "XLxV2bwEzVo8",
        "colab": {
          "base_uri": "https://localhost:8080/"
        },
        "outputId": "5b6a8b04-fca9-4179-adb3-9f919da7c057"
      },
      "execution_count": null,
      "outputs": [
        {
          "output_type": "stream",
          "name": "stdout",
          "text": [
            "Digite o valor do salário: R$ 1000\n",
            "Digite o valor do salário: R$ 10\n",
            "Digite o valor do salário: R$ 250\n",
            "Digite o valor do salário: R$ 0\n",
            "Total de salários pagos: R$ 1260.00\n"
          ]
        }
      ]
    },
    {
      "cell_type": "markdown",
      "metadata": {
        "id": "y7gc7ImtKBee"
      },
      "source": [
        "###2. Faça um programa que receba a altura de **5 pessoas**. Encontre e apresente a altura da pessoa mais alta e da mais baixa e seus respectivos nomes."
      ]
    },
    {
      "cell_type": "code",
      "metadata": {
        "id": "r3DxVv2mKIcR",
        "colab": {
          "base_uri": "https://localhost:8080/"
        },
        "outputId": "757ac48a-df7f-4e78-bacf-6c867fba3ff8"
      },
      "source": [
        "for pessoas in range(5):\n",
        "    altura = float(input('Informe a altura: '))\n",
        "    nome = input('Informe o nome: ')\n",
        "    if pessoas == 0:\n",
        "        alto = altura\n",
        "        nomea = nome\n",
        "        baixo = altura\n",
        "        nomeb = nome\n",
        "    if altura >= alto:\n",
        "        alto = altura\n",
        "        nomea = nome\n",
        "    elif altura <= baixo:\n",
        "        baixo = altura\n",
        "        nomeb = nome\n",
        "print(nomea,'é mais alto, com',alto,'metros')\n",
        "print(nomeb,'é mais baixo, com',baixo,'metros')"
      ],
      "execution_count": null,
      "outputs": [
        {
          "output_type": "stream",
          "name": "stdout",
          "text": [
            "Informe a altura: 1.78\n",
            "Informe o nome: Lucas\n",
            "Informe a altura: 1.8\n",
            "Informe o nome: Andres\n",
            "Informe a altura: 1.75\n",
            "Informe o nome: Felipe\n",
            "Informe a altura: 1.8\n",
            "Informe o nome: Edivaldo\n",
            "Informe a altura: 1.65\n",
            "Informe o nome: Patricia\n",
            "Edivaldo é mais alto, com 1.8 metros\n",
            "Patricia é mais baixo, com 1.65 metros\n"
          ]
        }
      ]
    },
    {
      "cell_type": "markdown",
      "metadata": {
        "id": "Dk1zCWGbJezq"
      },
      "source": [
        "###3. Faça um programa que receba a altura de **várias pessoas**. Encontre e apresente a altura da pessoa mais alta e da mais baixa e seus respectivos nomes. Para encerrar a entrada de dados, zero na altura, mas esta não poderá ser considerada como resposta da altura da pessoa mais baixa.\n"
      ]
    },
    {
      "cell_type": "code",
      "source": [
        "altura_maior: float = 0\n",
        "altura_menor: float = 0\n",
        "nome_maior: str = ''\n",
        "nome_menor: str = ''\n",
        "\n",
        "altura = float(input(\"Digite a altura: \"))\n",
        "\n",
        "while altura > 0:\n",
        "    nome = input(\"Digite o nome: \")\n",
        "    if altura_menor == 0:\n",
        "        altura_maior, altura_menor = altura, altura\n",
        "        nome_maior, nome_menor = nome, nome\n",
        "    else:\n",
        "        if altura >= altura_maior:\n",
        "            altura_maior, nome_maior = altura, nome\n",
        "        elif altura <= altura_menor:\n",
        "            altura_menor, nome_menor = altura, nome\n",
        "    altura = float(input(\"Digite a altura: \"))\n",
        "\n",
        "print(f\"A maior pessoa é {nome_maior} com {altura_maior:.2f}m.\\nA menor pessoa é {nome_menor} com {altura_menor}m.\")"
      ],
      "metadata": {
        "id": "9CvqQBHR1sXf",
        "colab": {
          "base_uri": "https://localhost:8080/",
          "height": 106
        },
        "outputId": "77eec1ae-2c94-48ff-bdce-d1d04c1732a5"
      },
      "execution_count": null,
      "outputs": [
        {
          "output_type": "error",
          "ename": "SyntaxError",
          "evalue": "only single target (not tuple) can be annotated (<ipython-input-9-205c6e28a848>, line 1)",
          "traceback": [
            "\u001b[0;36m  File \u001b[0;32m\"<ipython-input-9-205c6e28a848>\"\u001b[0;36m, line \u001b[0;32m1\u001b[0m\n\u001b[0;31m    altura_maior, altura_menor: float = 0, 0\u001b[0m\n\u001b[0m    ^\u001b[0m\n\u001b[0;31mSyntaxError\u001b[0m\u001b[0;31m:\u001b[0m only single target (not tuple) can be annotated\n"
          ]
        }
      ]
    },
    {
      "cell_type": "markdown",
      "metadata": {
        "id": "mWl0IWlJNEtA"
      },
      "source": [
        "###4. Faça um programa que receba a idade e a altura de **várias pessoas**. Calcule e exiba a média das alturas das pessoas com mais de 20 anos. Para encerrar a entrada de dados, digite uma idade negativa ou igual a zero.\n",
        "\n",
        "\n"
      ]
    },
    {
      "cell_type": "code",
      "metadata": {
        "id": "IcSBSaDV8sO_",
        "colab": {
          "base_uri": "https://localhost:8080/"
        },
        "outputId": "19bf20f2-2252-4619-a243-60273e5c6772"
      },
      "source": [
        "quant_media: int = 0\n",
        "total_altura: float = 0\n",
        "\n",
        "idade = int(input(\"Digite a idade: \"))\n",
        "\n",
        "while idade > 0:\n",
        "    altura = float(input(\"Digite a altura: \"))\n",
        "    if idade > 20:\n",
        "        total_altura += altura\n",
        "        quant_media += 1\n",
        "    idade = int(input(\"Digite a idade: \"))\n",
        "\n",
        "media = total_altura/quant_media\n",
        "print(f\"A média das alturas das pessoas com mais de 20 anos é: {media:.2f}m\")"
      ],
      "execution_count": null,
      "outputs": [
        {
          "output_type": "stream",
          "name": "stdout",
          "text": [
            "Digite a idade: 24\n",
            "Digite a altura: 1.76\n",
            "Digite a idade: 20\n",
            "Digite a altura: 1.65\n",
            "Digite a idade: 19\n",
            "Digite a altura: 1.64\n",
            "Digite a idade: 28\n",
            "Digite a altura: 1.89\n",
            "Digite a idade: 0\n",
            "A média das alturas das pessoas com mais de 20 anos é: 1.82m\n"
          ]
        }
      ]
    },
    {
      "cell_type": "markdown",
      "metadata": {
        "id": "14hzaqH38V53"
      },
      "source": [
        "###5. Construir um algoritmo para calcular e apresentar a idade atual de **algumas pessoas** em relação ao ano atual, mas não é informado a quantidade de pessoas, então use como critério de parada (condição da estrutura de repetição, digitar zero no ano de nascimento para sair."
      ]
    },
    {
      "cell_type": "code",
      "metadata": {
        "id": "XxrUc9yWND8a",
        "colab": {
          "base_uri": "https://localhost:8080/",
          "height": 495
        },
        "outputId": "accb3bbe-30da-456c-f8f5-698894bcfb1e"
      },
      "source": [
        "ano_atual = 2024\n",
        "ano_nascimento = int(input(\"Digite o ano de nascimento: \"))\n",
        "\n",
        "while ano_nascimento > 0:\n",
        "    print(f\"A idade é: {ano_atual-ano_nascimento}\")\n",
        "    ano_nascimento = int(input(\"Digite o ano de nascimento: \"))\n"
      ],
      "execution_count": null,
      "outputs": [
        {
          "output_type": "stream",
          "name": "stdout",
          "text": [
            "Digite o ano de nascimento: 2000\n",
            "A idade é: 24\n",
            "Digite o ano de nascimento: 1999\n",
            "A idade é: 25\n",
            "Digite o ano de nascimento: 2007\n",
            "A idade é: 17\n",
            "Digite o ano de nascimento: 2006\n",
            "A idade é: 18\n",
            "Digite o ano de nascimento: 2005\n",
            "A idade é: 19\n"
          ]
        },
        {
          "output_type": "error",
          "ename": "KeyboardInterrupt",
          "evalue": "Interrupted by user",
          "traceback": [
            "\u001b[0;31m---------------------------------------------------------------------------\u001b[0m",
            "\u001b[0;31mKeyboardInterrupt\u001b[0m                         Traceback (most recent call last)",
            "\u001b[0;32m<ipython-input-11-58b41ecbb9ce>\u001b[0m in \u001b[0;36m<cell line: 4>\u001b[0;34m()\u001b[0m\n\u001b[1;32m      4\u001b[0m \u001b[0;32mwhile\u001b[0m \u001b[0mano_nascimento\u001b[0m \u001b[0;34m>\u001b[0m \u001b[0;36m0\u001b[0m\u001b[0;34m:\u001b[0m\u001b[0;34m\u001b[0m\u001b[0;34m\u001b[0m\u001b[0m\n\u001b[1;32m      5\u001b[0m     \u001b[0mprint\u001b[0m\u001b[0;34m(\u001b[0m\u001b[0;34mf\"A idade é: {ano_atual-ano_nascimento}\"\u001b[0m\u001b[0;34m)\u001b[0m\u001b[0;34m\u001b[0m\u001b[0;34m\u001b[0m\u001b[0m\n\u001b[0;32m----> 6\u001b[0;31m     \u001b[0mano_nascimento\u001b[0m \u001b[0;34m=\u001b[0m \u001b[0mint\u001b[0m\u001b[0;34m(\u001b[0m\u001b[0minput\u001b[0m\u001b[0;34m(\u001b[0m\u001b[0;34m\"Digite o ano de nascimento: \"\u001b[0m\u001b[0;34m)\u001b[0m\u001b[0;34m)\u001b[0m\u001b[0;34m\u001b[0m\u001b[0;34m\u001b[0m\u001b[0m\n\u001b[0m",
            "\u001b[0;32m/usr/local/lib/python3.10/dist-packages/ipykernel/kernelbase.py\u001b[0m in \u001b[0;36mraw_input\u001b[0;34m(self, prompt)\u001b[0m\n\u001b[1;32m    849\u001b[0m                 \u001b[0;34m\"raw_input was called, but this frontend does not support input requests.\"\u001b[0m\u001b[0;34m\u001b[0m\u001b[0;34m\u001b[0m\u001b[0m\n\u001b[1;32m    850\u001b[0m             )\n\u001b[0;32m--> 851\u001b[0;31m         return self._input_request(str(prompt),\n\u001b[0m\u001b[1;32m    852\u001b[0m             \u001b[0mself\u001b[0m\u001b[0;34m.\u001b[0m\u001b[0m_parent_ident\u001b[0m\u001b[0;34m,\u001b[0m\u001b[0;34m\u001b[0m\u001b[0;34m\u001b[0m\u001b[0m\n\u001b[1;32m    853\u001b[0m             \u001b[0mself\u001b[0m\u001b[0;34m.\u001b[0m\u001b[0m_parent_header\u001b[0m\u001b[0;34m,\u001b[0m\u001b[0;34m\u001b[0m\u001b[0;34m\u001b[0m\u001b[0m\n",
            "\u001b[0;32m/usr/local/lib/python3.10/dist-packages/ipykernel/kernelbase.py\u001b[0m in \u001b[0;36m_input_request\u001b[0;34m(self, prompt, ident, parent, password)\u001b[0m\n\u001b[1;32m    893\u001b[0m             \u001b[0;32mexcept\u001b[0m \u001b[0mKeyboardInterrupt\u001b[0m\u001b[0;34m:\u001b[0m\u001b[0;34m\u001b[0m\u001b[0;34m\u001b[0m\u001b[0m\n\u001b[1;32m    894\u001b[0m                 \u001b[0;31m# re-raise KeyboardInterrupt, to truncate traceback\u001b[0m\u001b[0;34m\u001b[0m\u001b[0;34m\u001b[0m\u001b[0m\n\u001b[0;32m--> 895\u001b[0;31m                 \u001b[0;32mraise\u001b[0m \u001b[0mKeyboardInterrupt\u001b[0m\u001b[0;34m(\u001b[0m\u001b[0;34m\"Interrupted by user\"\u001b[0m\u001b[0;34m)\u001b[0m \u001b[0;32mfrom\u001b[0m \u001b[0;32mNone\u001b[0m\u001b[0;34m\u001b[0m\u001b[0;34m\u001b[0m\u001b[0m\n\u001b[0m\u001b[1;32m    896\u001b[0m             \u001b[0;32mexcept\u001b[0m \u001b[0mException\u001b[0m \u001b[0;32mas\u001b[0m \u001b[0me\u001b[0m\u001b[0;34m:\u001b[0m\u001b[0;34m\u001b[0m\u001b[0;34m\u001b[0m\u001b[0m\n\u001b[1;32m    897\u001b[0m                 \u001b[0mself\u001b[0m\u001b[0;34m.\u001b[0m\u001b[0mlog\u001b[0m\u001b[0;34m.\u001b[0m\u001b[0mwarning\u001b[0m\u001b[0;34m(\u001b[0m\u001b[0;34m\"Invalid Message:\"\u001b[0m\u001b[0;34m,\u001b[0m \u001b[0mexc_info\u001b[0m\u001b[0;34m=\u001b[0m\u001b[0;32mTrue\u001b[0m\u001b[0;34m)\u001b[0m\u001b[0;34m\u001b[0m\u001b[0;34m\u001b[0m\u001b[0m\n",
            "\u001b[0;31mKeyboardInterrupt\u001b[0m: Interrupted by user"
          ]
        }
      ]
    },
    {
      "cell_type": "markdown",
      "metadata": {
        "id": "inPGbmBaMe3R"
      },
      "source": [
        "###6. Faça um programa que receba **vários valores inteiros**, calcule e exiba o maior e o menor valor do conjunto.\n",
        "\n",
        "*   Para encerrar a entrada de dados, deve ser digitado o valor zero;\n",
        "*   Para valores negativos, deve ser enviada uma mensagem;\n",
        "*   Esses valores (zero e negativos) não entrarão na lógica de encontrar o maior e o menor valor.\n",
        "\n"
      ]
    },
    {
      "cell_type": "code",
      "metadata": {
        "id": "Q8ZKZyGLNxFf",
        "colab": {
          "base_uri": "https://localhost:8080/"
        },
        "outputId": "bd114733-c87d-4999-d76b-f2b2bfc51573"
      },
      "source": [
        "maior_valor = 0\n",
        "menor_valor = 0\n",
        "\n",
        "valor = int(input(\"Digite o valor: \"))\n",
        "\n",
        "while valor != 0:\n",
        "    if valor > 0:\n",
        "        if valor > maior_valor:\n",
        "            maior_valor = valor\n",
        "        elif valor < menor_valor or menor_valor == 0:\n",
        "            menor_valor = valor\n",
        "    elif valor < 0:\n",
        "        print(\"Valor digitado é negativo!\")-\n",
        "    valor = int(input(\"Digite o valor: \"))\n",
        "\n",
        "print(f\"O maior valor encontrado é {maior_valor} e o menor é {menor_valor}\")"
      ],
      "execution_count": null,
      "outputs": [
        {
          "output_type": "stream",
          "name": "stdout",
          "text": [
            "Digite o valor: 30\n",
            "Digite o valor: 50\n",
            "Digite o valor: 80\n",
            "Digite o valor: -20\n",
            "Valor digitado é negativo!\n",
            "Digite o valor: 30\n",
            "Digite o valor: 1\n",
            "Digite o valor: 0\n",
            "O maior valor encontrado é 80 e o menor é 1\n"
          ]
        }
      ]
    },
    {
      "cell_type": "markdown",
      "metadata": {
        "id": "ZG-AZwwLN4Vf"
      },
      "source": [
        "###7. No final do ano **muitas pessoas** compram presentes. Para identificar o perfil dos compradores numa loja de roupas, faça um programa que registre os dados de algumas pessoas, pergunte “Deseja cadastrar outro (‘**s**’/’n’)?”. Enquanto a resposta for **s** repete, quando for n encerra e repetição e apresente os seguintes resultados:\n",
        "a) Quantidade de pessoas de gênero **f** - feminino e **m** - mesculino;\n",
        "\n",
        "b) Quantidade de pessoas de gênero  **f**eminino abaixo e acima de 18 anos\n",
        "\n",
        "c) Quantidade de pessoas de gênero  **m**asculino abaixo e acima de 18 anos\n",
        "\n",
        "Observaçãos: **use as letras f/m** na condição da estrutura de decisão"
      ]
    },
    {
      "cell_type": "code",
      "metadata": {
        "id": "t4jNff-_N9xR",
        "colab": {
          "base_uri": "https://localhost:8080/"
        },
        "outputId": "d78d2c2a-499c-4179-f548-be6dcbe8e058"
      },
      "source": [
        "1# Digite seu código aqui\n",
        "# item a) criar 2 contadores( f ou m )\n",
        "# item b) criar 2 contadores( f )\n",
        "# item b) criar 2 contadores( m )\n",
        "\n",
        "pessoa_m: int = 0\n",
        "pessoa_f: int = 0\n",
        "f_maior: int = 0\n",
        "f_menor: int = 0\n",
        "m_maior: int = 0\n",
        "m_menor: int = 0\n",
        "\n",
        "resposta = 's'\n",
        "while resposta.upper() == 'S':\n",
        "    genero = input(\"Digite o gênero (F/M): \")\n",
        "    idade = int(input(\"Digite a idade: \"))\n",
        "    if genero.upper() == \"F\":\n",
        "        if idade < 18:\n",
        "            f_menor += 1\n",
        "        else:\n",
        "            f_maior += 1\n",
        "        pessoa_f += 1\n",
        "    elif genero.upper() == \"M\":\n",
        "        if idade < 18:\n",
        "            m_menor += 1\n",
        "        else:\n",
        "            m_maior += 1\n",
        "        pessoa_m += 1\n",
        "    resposta = input(\"Deseja continuar(s/n)? \")\n",
        "\n",
        "print(f\"Quantidade de homens: {pessoa_m}\\t\\tMaior de idade: {m_maior}\\tMenor de idade: {m_menor}\")\n",
        "print(f\"Quantidade de mulheres: {pessoa_f}\\tMaior de idade: {f_maior}\\tMenor de idade: {f_menor}\")"
      ],
      "execution_count": null,
      "outputs": [
        {
          "output_type": "stream",
          "name": "stdout",
          "text": [
            "Digite o gênero (F/M): m\n",
            "Digite a idade: 15\n",
            "Deseja continuar(s/n)? n\n",
            "Quantidade de homens: 1\t\tMaior de idade: 0\tMenor de idade: 1\n",
            "Quantidade de mulheres: 0\tMaior de idade: 0\tMenor de idade: 0\n"
          ]
        }
      ]
    },
    {
      "cell_type": "markdown",
      "source": [
        "###8. Faça um programa para o curso de ADS (6 módulos), cada sala tem vários alunos, calcule e apresente os seguintes itens:\n",
        "###a)  Quantidade de homens e mulheres de cada módulo;\n",
        "\n",
        "###b)  Média de alturas de cada módulo;\n",
        "\n",
        "###c)  Quantidade de pessoas com cor de olho azul de cada módulo;\n",
        "\n",
        "###d)  Quantidade de homens e mulheres do curso todo;\n",
        "\n",
        "###e) Média de alturas do curso todo;\n",
        "\n",
        "###f)  Quantidade de pessoas com cor de olho azul de cada módulo.\n",
        "\n",
        "###Observação: este exercício utiliza DUAS estruturas de repetição. Na estrurura de repetição interna, digite zero na altura para sair."
      ],
      "metadata": {
        "id": "PifoLUH0E-Xh"
      }
    },
    {
      "cell_type": "code",
      "source": [
        "homem_curso = 0\n",
        "mulher_curso = 0\n",
        "olho_curso = 0\n",
        "alturac_soma = 0\n",
        "alturac_cont = 0\n",
        "\n",
        "\n",
        "for i in range(2):\n",
        "    homem_modulo = 0\n",
        "    mulher_modulo = 0\n",
        "    olho_modulo = 0\n",
        "    alturam_soma = 0\n",
        "    alturam_cont = 0\n",
        "    altura = float(input(\"Digite a altura: \"))\n",
        "    while altura > 0:\n",
        "        alturac_soma += altura\n",
        "        alturam_soma += altura\n",
        "        alturac_cont += 1\n",
        "        alturam_cont += 1\n",
        "        genero = input(\"Digite o gênero (m/f): \")\n",
        "        if genero.upper() == \"M\":\n",
        "            homem_curso += 1\n",
        "            homem_modulo += 1\n",
        "        elif genero.upper() == \"F\":\n",
        "            mulher_curso += 1\n",
        "            mulher_modulo += 1\n",
        "        olho = input(\"Tem olho azul (s/n)? \")\n",
        "        if olho.upper() == \"S\":\n",
        "            olho_curso += 1\n",
        "            olho_modulo += 1\n",
        "        altura = float(input(\"Digite a altura: \"))\n",
        "    media_modulo = alturam_soma/alturam_cont\n",
        "    print(f\"{i+1}º Módulo\")\n",
        "    print(f\"Média de alturas: {media_modulo}\\nQuantidade de Homens: {homem_modulo}\\tQuantidade de Mulheres: {mulher_modulo}\\nQuantidade de olho azul: {olho_modulo}\")\n",
        "media_curso = alturac_soma/alturac_cont\n",
        "print(f\"Curso todo:\")\n",
        "print(f\"Média de alturas: {media_curso}\\nQuantidade de Homens: {homem_curso}\\tQuantidade de Mulheres: {mulher_curso}\\nQuantidade de olho azul: {olho_curso}\")\n"
      ],
      "metadata": {
        "id": "vQvrSgkJB3GA"
      },
      "execution_count": null,
      "outputs": []
    },
    {
      "cell_type": "markdown",
      "source": [
        "###9. Faça um programa para realizar os cálculos abaixo.\n",
        "###Crie um menu seguindo o exemplo.\n",
        "\n",
        "###*** Minha Calculadora ***\n",
        "\n",
        "###Digite um número.....:\n",
        "###Digite outro número..:\n",
        "       \n",
        "###+ Soma dois números\n",
        "###- Subtrai dois números\n",
        "###* Multiplica dois números\n",
        "###/ Divide dois números\n",
        "\n",
        "###Qual opção deseja?\n",
        "\n",
        "###Observação: Na chamada do menu deve-se utilizar uma estrutura de repetição que permita diversos cálculos, quando o usuário quiser sair da calculadora digitará qualquer valor diferente dos **caracteres** do menu."
      ],
      "metadata": {
        "id": "GjZJ--pgF8ct"
      }
    },
    {
      "cell_type": "code",
      "source": [
        "print(f\"\"\"Minha Calculadora\n",
        "Opções:\n",
        "'+' Soma dois números\n",
        "'-' Subtrai dois números\n",
        "'*' Multiplica dois números\n",
        "'/' Divide dois números\"\"\")\n",
        "opcao = input(\"Digite a opção desejada: \")\n",
        "while opcao == '+' or opcao == '-' or opcao == '*' or opcao == '/':\n",
        "    n1 = float(input(\"Digite primeiro o número: \"))\n",
        "    n2 = float(input(\"Digite segundo o número: \"))\n",
        "    if opcao == '+':\n",
        "        print(f\"A soma dos valores é: {n1+n2}\")\n",
        "    elif opcao == '-':\n",
        "        print(f\"A Subtração dos valores é: {n1-n2}\")\n",
        "    elif opcao == '*':\n",
        "        print(f\"A multiplicação dos valores é: {n1*n2}\")\n",
        "    elif opcao == '/':\n",
        "        print(f\"A divisão dos valores é: {n1/n2}\")\n",
        "    opcao = input(\"Digite a opção desejada: \")\n",
        "\n",
        "print(f\"Calculadora encerrada!\")"
      ],
      "metadata": {
        "id": "xD2GhYvODsCH",
        "colab": {
          "base_uri": "https://localhost:8080/"
        },
        "outputId": "00f42b64-fc54-4e26-ce62-8238e78f87b8"
      },
      "execution_count": null,
      "outputs": [
        {
          "output_type": "stream",
          "name": "stdout",
          "text": [
            "Minha Calculadora\n",
            "Opções:\n",
            "'+' Soma dois números\n",
            "'-' Subtrai dois números\n",
            "'*' Multiplica dois números\n",
            "'/' Divide dois números\n",
            "Digite a opção desejada: =\n",
            "Calculadora encerrada!\n"
          ]
        }
      ]
    }
  ]
}