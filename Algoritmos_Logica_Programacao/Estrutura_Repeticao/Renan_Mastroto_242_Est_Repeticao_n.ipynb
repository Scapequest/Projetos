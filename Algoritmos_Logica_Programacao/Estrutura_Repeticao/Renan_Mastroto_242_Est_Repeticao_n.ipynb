{
  "nbformat": 4,
  "nbformat_minor": 0,
  "metadata": {
    "colab": {
      "provenance": []
    },
    "kernelspec": {
      "name": "python3",
      "display_name": "Python 3"
    },
    "language_info": {
      "name": "python"
    }
  },
  "cells": [
    {
      "cell_type": "markdown",
      "metadata": {
        "id": "TWJjhvldsGq1"
      },
      "source": [
        "#ESTRUTURA DE REPETIÇÃO\n",
        "##Todos estes algoritmos/programas podem ser implementados com o comando **while** ou **for**. Para estudar, como sugestão, implemente cada exercício com as **duas** estruturas de repetição."
      ]
    },
    {
      "cell_type": "code",
      "source": [
        "#>>>>>>>>>>>> forma ERRADA\n",
        "nome1 = input('Digite o nome ')\n",
        "print('Olá',nome1,' tudo bem?')\n",
        "nome2 = input('Digite o nome ')\n",
        "print('Olá',nome2,' tudo bem?')\n",
        "nome3 = input('Digite o nome ')\n",
        "print('Olá',nome3,' tudo bem?')\n",
        "nome4 = input('Digite o nome ')\n",
        "print('Olá',nome4,' tudo bem?')"
      ],
      "metadata": {
        "id": "jC6BH_BMgAuJ"
      },
      "execution_count": null,
      "outputs": []
    },
    {
      "cell_type": "code",
      "source": [
        "q_alunos = 1 # 1º passo inicializar\n",
        "while q_alunos < 5: # condição de parada\n",
        "    print('Quantidade de alunos: ',q_alunos)\n",
        "    # incremento deve ser colocado na última linha\n",
        "    q_alunos = q_alunos + 1\n"
      ],
      "metadata": {
        "id": "n9FlRcAfKnyj"
      },
      "execution_count": null,
      "outputs": []
    },
    {
      "cell_type": "code",
      "source": [
        "for contado in range(10):\n",
        "    if contado < 2:\n",
        "        ''\n",
        "    elif contado > 2:\n",
        "        print(contado)"
      ],
      "metadata": {
        "id": "zjKjOrnV-ZfK",
        "colab": {
          "base_uri": "https://localhost:8080/"
        },
        "outputId": "95d31b7d-ee80-43ae-cd27-b4e01c373c01"
      },
      "execution_count": null,
      "outputs": [
        {
          "output_type": "stream",
          "name": "stdout",
          "text": [
            "3\n",
            "4\n",
            "5\n",
            "6\n",
            "7\n",
            "8\n",
            "9\n"
          ]
        }
      ]
    },
    {
      "cell_type": "markdown",
      "metadata": {
        "id": "ra2ortoj88ct"
      },
      "source": [
        "###1. Faça um algoritmo  que mostre 10 vezes a frase “Bem vindo a Fatec!”. Pode implementar com o comando while ou for."
      ]
    },
    {
      "cell_type": "code",
      "metadata": {
        "id": "w87cAtUi9P5j",
        "colab": {
          "base_uri": "https://localhost:8080/"
        },
        "outputId": "06275607-c098-4098-b9d8-e9d8e07afb47"
      },
      "source": [
        "i = 0\n",
        "while(i != 10):\n",
        "    print(\"Bem vindo a Fatec!\")\n",
        "    i += 1"
      ],
      "execution_count": null,
      "outputs": [
        {
          "output_type": "stream",
          "name": "stdout",
          "text": [
            "Bem vindo a Fatec!\n",
            "Bem vindo a Fatec!\n",
            "Bem vindo a Fatec!\n",
            "Bem vindo a Fatec!\n",
            "Bem vindo a Fatec!\n",
            "Bem vindo a Fatec!\n",
            "Bem vindo a Fatec!\n",
            "Bem vindo a Fatec!\n",
            "Bem vindo a Fatec!\n",
            "Bem vindo a Fatec!\n"
          ]
        }
      ]
    },
    {
      "cell_type": "code",
      "source": [
        "for i in range(0,10):\n",
        "    print(\"Bem vindo a Fatec!\")"
      ],
      "metadata": {
        "id": "kXB8lVsveG8q",
        "colab": {
          "base_uri": "https://localhost:8080/"
        },
        "outputId": "ecd38ec9-1f9e-4675-ee77-f1068dcf8865"
      },
      "execution_count": null,
      "outputs": [
        {
          "output_type": "stream",
          "name": "stdout",
          "text": [
            "Bem vindo a Fatec!\n",
            "Bem vindo a Fatec!\n",
            "Bem vindo a Fatec!\n",
            "Bem vindo a Fatec!\n",
            "Bem vindo a Fatec!\n",
            "Bem vindo a Fatec!\n",
            "Bem vindo a Fatec!\n",
            "Bem vindo a Fatec!\n",
            "Bem vindo a Fatec!\n",
            "Bem vindo a Fatec!\n"
          ]
        }
      ]
    },
    {
      "cell_type": "markdown",
      "metadata": {
        "id": "Tz26_Q_09QzZ"
      },
      "source": [
        "###2. Faça um algoritmo que mostre o cumprimento ‘Olá ‘ para o nome de alguém (4 pessoas). Exemplo ‘Olá Mariana’. Pode implementar com o comando while ou for.\n"
      ]
    },
    {
      "cell_type": "code",
      "metadata": {
        "id": "EK8e5Oxn9eFX",
        "colab": {
          "base_uri": "https://localhost:8080/"
        },
        "outputId": "d24d38e6-92db-4b7e-f41d-e1a7cb02af07"
      },
      "source": [
        "i = 0\n",
        "while(i<len(nomes)):\n",
        "    nome = input(\"Digite o nome: \")\n",
        "    print(f\"Olá {nome}!\")\n",
        "    i += 1"
      ],
      "execution_count": null,
      "outputs": [
        {
          "output_type": "stream",
          "name": "stdout",
          "text": [
            "Digite o nome: re\n",
            "Olá re!\n",
            "Digite o nome: as\n",
            "Olá as!\n",
            "Digite o nome: as\n",
            "Olá as!\n",
            "Digite o nome: er\n",
            "Olá er!\n"
          ]
        }
      ]
    },
    {
      "cell_type": "code",
      "source": [
        "for i in range(4):\n",
        "    nome = input(\"Digite o nome: \")\n",
        "    print(f\"Olá {nome}!\")"
      ],
      "metadata": {
        "id": "a9JZJoUzhAPZ",
        "colab": {
          "base_uri": "https://localhost:8080/"
        },
        "outputId": "196b95b5-b137-4dd3-949c-e7e9f6555e80"
      },
      "execution_count": null,
      "outputs": [
        {
          "output_type": "stream",
          "name": "stdout",
          "text": [
            "Digite o nome: re\n",
            "Olá re!\n",
            "Digite o nome: re\n",
            "Olá re!\n",
            "Digite o nome: as\n",
            "Olá as!\n",
            "Digite o nome: as\n",
            "Olá as!\n"
          ]
        }
      ]
    },
    {
      "cell_type": "markdown",
      "metadata": {
        "id": "-tIGmOam9eaB"
      },
      "source": [
        "###3. Faça um algoritmo que mostre os valores de 0 a 15. Pode implementar com o comando while ou for.\n"
      ]
    },
    {
      "cell_type": "code",
      "metadata": {
        "id": "PVFy9VEE9jy9",
        "colab": {
          "base_uri": "https://localhost:8080/"
        },
        "outputId": "80cca2e5-1690-4bd0-d6f1-abef28fbe796"
      },
      "source": [
        "for i in range(16):\n",
        "    print(i, end=\" \")"
      ],
      "execution_count": null,
      "outputs": [
        {
          "output_type": "stream",
          "name": "stdout",
          "text": [
            "0 1 2 3 4 5 6 7 8 9 10 11 12 13 14 15 "
          ]
        }
      ]
    },
    {
      "cell_type": "markdown",
      "metadata": {
        "id": "n2GgpaGP9j-A"
      },
      "source": [
        "###4. Faça um algoritmo que mostre os valores de 3 a 20. Pode implementar com o comando while ou for.\n"
      ]
    },
    {
      "cell_type": "code",
      "metadata": {
        "id": "lqitidIO9rOm",
        "colab": {
          "base_uri": "https://localhost:8080/"
        },
        "outputId": "8ee9e54a-66d1-4e6e-c66f-2fab9f37611f"
      },
      "source": [
        "for i in range(3, 21):\n",
        "    print(i, end=\" \")"
      ],
      "execution_count": null,
      "outputs": [
        {
          "output_type": "stream",
          "name": "stdout",
          "text": [
            "3 4 5 6 7 8 9 10 11 12 13 14 15 16 17 18 19 20 "
          ]
        }
      ]
    },
    {
      "cell_type": "markdown",
      "metadata": {
        "id": "C8RRCFc_9sTL"
      },
      "source": [
        "###5. Faça um algoritmo que calcule e mostre a tabuada do 5. Pode implementar com o comando while ou for.\n"
      ]
    },
    {
      "cell_type": "code",
      "metadata": {
        "id": "4QBLg1ka91dV",
        "colab": {
          "base_uri": "https://localhost:8080/"
        },
        "outputId": "b277a070-6730-4d17-ce8f-bb3896e36829"
      },
      "source": [
        "for i in range(11):\n",
        "    print(5*i)"
      ],
      "execution_count": null,
      "outputs": [
        {
          "output_type": "stream",
          "name": "stdout",
          "text": [
            "0\n",
            "5\n",
            "10\n",
            "15\n",
            "20\n",
            "25\n",
            "30\n",
            "35\n",
            "40\n",
            "45\n",
            "50\n"
          ]
        }
      ]
    },
    {
      "cell_type": "markdown",
      "metadata": {
        "id": "nJv5jBoq91tW"
      },
      "source": [
        "###6. Faça um algoritmo que receba a idade de 10 pessoas, calcule e exiba a quantidade de pessoas maiores de idade, sendo que a maioridade é obtida após completar 18 anos. Pode implementar com o comando while ou for.\n"
      ]
    },
    {
      "cell_type": "code",
      "metadata": {
        "id": "FXOsNMt_96QH",
        "colab": {
          "base_uri": "https://localhost:8080/"
        },
        "outputId": "759b963a-342f-4366-c7d3-ffd4ca634e71"
      },
      "source": [
        "i = 0\n",
        "q = 0\n",
        "while(i<10):\n",
        "    idade = int(input(\"Digite a idade: \"))\n",
        "    if idade >= 18:\n",
        "        q += 1\n",
        "    i += 1\n",
        "\n",
        "print(f\"Quantidade de pessoas maiores de idade: {q}\")"
      ],
      "execution_count": null,
      "outputs": [
        {
          "output_type": "stream",
          "name": "stdout",
          "text": [
            "Digite a idade: 12\n",
            "Digite a idade: 23\n",
            "Digite a idade: 17\n",
            "Digite a idade: 18\n",
            "Digite a idade: 12\n",
            "Digite a idade: 90\n",
            "Digite a idade: 23\n",
            "Digite a idade: 18\n",
            "Digite a idade: 12\n",
            "Digite a idade: 18\n",
            "Quantidade de pessoas maiores de idade: 6\n"
          ]
        }
      ]
    },
    {
      "cell_type": "code",
      "source": [
        "q = 0\n",
        "for i in range(10):\n",
        "    idade = int(input(\"Digite a idade: \"))\n",
        "    if idade >= 18:\n",
        "        q += 1\n",
        "\n",
        "print(f\"Quantidade de pessoas maiores de idade: {q}\")"
      ],
      "metadata": {
        "id": "eQSw-V6Mjd_0",
        "colab": {
          "base_uri": "https://localhost:8080/"
        },
        "outputId": "db227e21-81f3-4f9d-b14f-93e9c1937406"
      },
      "execution_count": null,
      "outputs": [
        {
          "output_type": "stream",
          "name": "stdout",
          "text": [
            "Digite a idade: 12\n",
            "Digite a idade: 18\n",
            "Digite a idade: 12\n",
            "Digite a idade: 19\n",
            "Digite a idade: 12\n",
            "Digite a idade: 12\n",
            "Digite a idade: 12\n",
            "Digite a idade: 12\n",
            "Digite a idade: 12\n",
            "Digite a idade: 12\n",
            "Digite a idade: 12\n",
            "Quantidade de pessoas maiores de idade: 2\n"
          ]
        }
      ]
    },
    {
      "cell_type": "markdown",
      "metadata": {
        "id": "g5RA7KN896ep"
      },
      "source": [
        "###7. Escreva um algoritmo que receba 23 números, calcule e exiba a quantidade de números pares e impares. Pode implementar com o comando while ou for.\n"
      ]
    },
    {
      "cell_type": "code",
      "metadata": {
        "id": "JBnJiugI9_Q1",
        "colab": {
          "base_uri": "https://localhost:8080/"
        },
        "outputId": "19c8837f-fde2-4952-b108-30111f7957e3"
      },
      "source": [
        "par = 0\n",
        "impar = 0\n",
        "for i in range(23):\n",
        "    n = int(input(\"Digite o número: \"))\n",
        "    if (n%2) == 0:\n",
        "        par += 1\n",
        "    else:\n",
        "        impar += 1\n",
        "\n",
        "print(f\"Quantidade números pares: {par}\\tQuantidade de números ímpares: {impar}\")"
      ],
      "execution_count": null,
      "outputs": [
        {
          "output_type": "stream",
          "name": "stdout",
          "text": [
            "Digite o número: 12\n",
            "Digite o número: 2\n",
            "Digite o número: 2\n",
            "Digite o número: 2\n",
            "Digite o número: 1\n",
            "Digite o número: 1\n",
            "Digite o número: 2\n",
            "Digite o número: 2\n",
            "Digite o número: 1\n",
            "Digite o número: 1\n",
            "Digite o número: 2\n",
            "Digite o número: 1\n",
            "Digite o número: 2\n",
            "Digite o número: 1\n",
            "Digite o número: 2\n",
            "Digite o número: 1\n",
            "Digite o número: 2\n",
            "Digite o número: 1\n",
            "Digite o número: 1\n",
            "Digite o número: 1\n",
            "Digite o número: 0\n",
            "Digite o número: 2\n",
            "Digite o número: 1\n",
            "Quantidade números pares: 12\tQuantidade de números ímpares: 11\n"
          ]
        }
      ]
    },
    {
      "cell_type": "markdown",
      "metadata": {
        "id": "DVuRwa6J9_in"
      },
      "source": [
        "###8. Faça um algoritmo que calcule e exiba o salário reajustado de dez funcionários de acordo com a seguinte regra (pode implementar com o comando while ou for):\n",
        "## Salário até 300, reajuste de 50%;\n",
        "\n",
        "##Salários maiores que 300, reajuste de 30%.\n",
        "\n",
        "\n"
      ]
    },
    {
      "cell_type": "code",
      "metadata": {
        "id": "GnYXpwwH-Drd",
        "colab": {
          "base_uri": "https://localhost:8080/"
        },
        "outputId": "b04bb120-3abf-4ab5-91fb-d7b4e084ae92"
      },
      "source": [
        "f = 1\n",
        "while(f<=10)\n",
        "    salario = float(input(\"Digite o salário: R$\"))\n",
        "    if salario <= 300:\n",
        "        r = 1.5\n",
        "    else:\n",
        "        r = 1.3\n",
        "    print(f\"{f}. Salário reajustado: R${(salario*r):.2f}\")\n",
        "    f += 1"
      ],
      "execution_count": null,
      "outputs": [
        {
          "output_type": "stream",
          "name": "stdout",
          "text": [
            "Digite o salário: R$123\n",
            "1. Salário reajustado: R$184.50\n",
            "Digite o salário: R$123\n",
            "2. Salário reajustado: R$184.50\n",
            "Digite o salário: R$31\n",
            "3. Salário reajustado: R$46.50\n",
            "Digite o salário: R$213\n",
            "4. Salário reajustado: R$319.50\n",
            "Digite o salário: R$2123\n",
            "5. Salário reajustado: R$2759.90\n",
            "Digite o salário: R$123\n",
            "6. Salário reajustado: R$184.50\n",
            "Digite o salário: R$123\n",
            "7. Salário reajustado: R$184.50\n",
            "Digite o salário: R$123\n",
            "8. Salário reajustado: R$184.50\n",
            "Digite o salário: R$213\n",
            "9. Salário reajustado: R$319.50\n",
            "Digite o salário: R$123\n",
            "10. Salário reajustado: R$184.50\n"
          ]
        }
      ]
    },
    {
      "cell_type": "markdown",
      "metadata": {
        "id": "WWEunLW8-D2h"
      },
      "source": [
        "\n",
        "###9. Faça um algoritmo que conheça 4 preços de produtos, some-os e mostre o resultado. Pode implementar com o comando while ou for.\n"
      ]
    },
    {
      "cell_type": "code",
      "metadata": {
        "id": "N9cUIxJk-HLg",
        "colab": {
          "base_uri": "https://localhost:8080/"
        },
        "outputId": "71b1bb95-8e06-4cfb-b0c4-2241ea032fbe"
      },
      "source": [
        "r = 0\n",
        "for i in range(4):\n",
        "    preco = float(input(\"Digite o valor do produto: R$\"))\n",
        "    r += preco\n",
        "\n",
        "print(f\"Resultado da soma: R${r:.2f}\")"
      ],
      "execution_count": null,
      "outputs": [
        {
          "output_type": "stream",
          "name": "stdout",
          "text": [
            "Digite o valor do produto: R$12\n",
            "Resultado da soma: R$12.00\n",
            "Digite o valor do produto: R$123\n",
            "Resultado da soma: R$135.00\n",
            "Digite o valor do produto: R$41\n",
            "Resultado da soma: R$176.00\n",
            "Digite o valor do produto: R$123\n",
            "Resultado da soma: R$299.00\n",
            "Resultado da soma: R$299.00\n"
          ]
        }
      ]
    },
    {
      "cell_type": "markdown",
      "metadata": {
        "id": "cTQOtgv8-TqZ"
      },
      "source": [
        "###10. Faça um algoritmo que conheça 4 preços de produtos, calcule e mostre a média aritmética dos preços. Pode implementar com o comando while ou for.\n"
      ]
    },
    {
      "cell_type": "code",
      "metadata": {
        "id": "kIGzHgii-Teb",
        "colab": {
          "base_uri": "https://localhost:8080/"
        },
        "outputId": "2a620a68-0556-4002-fc09-13a458e562d0"
      },
      "source": [
        "n1 = 0\n",
        "for i in range(4):\n",
        "    preco = float(input(\"Digite o preço: R$\"))\n",
        "    n1 += preco\n",
        "\n",
        "media = n1/4\n",
        "\n",
        "print(f\"Média dos preços: R${media:.2f}\")"
      ],
      "execution_count": null,
      "outputs": [
        {
          "output_type": "stream",
          "name": "stdout",
          "text": [
            "Digite o preço: R$12\n",
            "Digite o preço: R$123\n",
            "Digite o preço: R$432\n",
            "Digite o preço: R$123\n",
            "Média dos preços: R$172.50\n"
          ]
        }
      ]
    },
    {
      "cell_type": "markdown",
      "metadata": {
        "id": "rf_lUW8J-HbR"
      },
      "source": [
        "###11. Faça um algoritmo que calcule e informe a média de idades de 5 alunos. Pode implementar com o comando while ou for."
      ]
    },
    {
      "cell_type": "code",
      "metadata": {
        "id": "1jGiDIq--XfE",
        "colab": {
          "base_uri": "https://localhost:8080/"
        },
        "outputId": "81a206c6-9c42-41a3-9260-0a257d5b08ef"
      },
      "source": [
        "i = 0\n",
        "n1 = 0\n",
        "\n",
        "while(i<5):\n",
        "    idade = int(input(\"Digite a idade: \"))\n",
        "    n1 += idade\n",
        "    i += 1\n",
        "\n",
        "media = n1/5\n",
        "\n",
        "print(f\"Média de idade: {media:.0f}\")"
      ],
      "execution_count": null,
      "outputs": [
        {
          "output_type": "stream",
          "name": "stdout",
          "text": [
            "Digite a idade: 12\n",
            "0\n",
            "Digite a idade: 54\n",
            "1\n",
            "Digite a idade: 23\n",
            "2\n",
            "Digite a idade: 12\n",
            "3\n",
            "Digite a idade: 42\n",
            "4\n",
            "Média de idade: 28.6\n"
          ]
        }
      ]
    },
    {
      "cell_type": "markdown",
      "source": [
        "###12. Faça um programa que receba a idade e a altura de 20 pessoas. Calcule e exiba a média das alturas das pessoas com mais de 20 anos.\n",
        "\n",
        "\n"
      ],
      "metadata": {
        "id": "q2aJm6ktRIKX"
      }
    },
    {
      "cell_type": "code",
      "source": [
        "n1 = 0\n",
        "n2 = 0\n",
        "for i in range(20):\n",
        "    idade = int(input(\"Digite a idade: \"))\n",
        "    if idade > 20:\n",
        "        altura = float(input(\"Digite a altura: \"))\n",
        "        n1 += altura\n",
        "        n2 += 1\n",
        "\n",
        "media = n1/n2\n",
        "\n",
        "print(f\"Média de alturas: {media:.2f}\")"
      ],
      "metadata": {
        "id": "BrL7c0SiReMX"
      },
      "execution_count": null,
      "outputs": []
    },
    {
      "cell_type": "markdown",
      "metadata": {
        "id": "aI4IjOYw-XwG"
      },
      "source": [
        "###13. Faça um algoritmo que leia o preço de 20 TV, determine e apresente a média dos preços que possuem valor maior que R$ 1000. Pode implementar com o comando while ou for."
      ]
    },
    {
      "cell_type": "code",
      "source": [
        "n1 = 0\n",
        "n2 = 0\n",
        "for i in range(20):\n",
        "    valor = float(input(\"Digite o valor da TV: R$\"))\n",
        "    if valor > 1000:\n",
        "        n1 += valor\n",
        "        n2 += 1\n",
        "\n",
        "media = n1/n2\n",
        "\n",
        "print(f\"Média de valores: R${1:.2f}\")"
      ],
      "metadata": {
        "id": "0YxUWj8KQriq",
        "colab": {
          "base_uri": "https://localhost:8080/"
        },
        "outputId": "3794f9c3-f1cf-4f7f-f956-66f11a789120"
      },
      "execution_count": null,
      "outputs": [
        {
          "output_type": "stream",
          "name": "stdout",
          "text": [
            "Digite o valor da TV: R$999\n",
            "Digite o valor da TV: R$999\n",
            "Digite o valor da TV: R$2000\n",
            "Digite o valor da TV: R$140\n",
            "Digite o valor da TV: R$120\n",
            "Digite o valor da TV: R$1231\n",
            "Digite o valor da TV: R$1234\n",
            "Digite o valor da TV: R$123\n",
            "Digite o valor da TV: R$1234\n",
            "Digite o valor da TV: R$1234\n",
            "Digite o valor da TV: R$234\n",
            "Digite o valor da TV: R$1234\n",
            "Digite o valor da TV: R$1234\n",
            "Digite o valor da TV: R$2134\n",
            "Digite o valor da TV: R$1234\n",
            "Digite o valor da TV: R$1234\n",
            "Digite o valor da TV: R$1234\n",
            "Digite o valor da TV: R$1234\n",
            "Digite o valor da TV: R$1234\n",
            "Digite o valor da TV: R$1234\n",
            "Média de valores: R$1352.79\n"
          ]
        }
      ]
    },
    {
      "cell_type": "markdown",
      "source": [
        "###14. Faça um programa que receba a altura e nome  de 5 pessoas. Encontre e apresente a altura da pessoa mais alta e da mais baixa e seus respectivos nomes."
      ],
      "metadata": {
        "id": "AvMp2ZGF5sBk"
      }
    },
    {
      "cell_type": "code",
      "source": [
        "# exemplo com while\n",
        "i = 0\n",
        "while i < 5:\n",
        "    nome = input(\"digite o nome: \")\n",
        "    altura = float(input(\"Digite a altura: \"))\n",
        "    if i = 0:\n",
        "        n1 = altura\n",
        "        n2 = altura\n",
        "        nmaior = nome\n",
        "        nmenor = nome\n",
        "    elif altura > n1:\n",
        "        n1 = altura\n",
        "        nmaior = nome\n",
        "    elif altura < n2:\n",
        "        n2 = altura\n",
        "        nmenor = nome\n",
        "    i += 1\n",
        "\n",
        "print(f\"A maior pessoa é {nmaior} com {n1:.2f} de altura.\\nA menor é {nmenor} com {n2:.2f}.\")"
      ],
      "metadata": {
        "id": "HUkicD3g6CX4",
        "colab": {
          "base_uri": "https://localhost:8080/"
        },
        "outputId": "66a065a4-c21b-405f-f950-68091d6b8236"
      },
      "execution_count": null,
      "outputs": [
        {
          "output_type": "stream",
          "name": "stdout",
          "text": [
            "digite o nome: Renan\n",
            "Digite a altura: 1.76\n",
            "digite o nome: Julia\n",
            "Digite a altura: 1.60\n",
            "digite o nome: Maurico\n",
            "Digite a altura: 1.90\n",
            "digite o nome: Mafer\n",
            "Digite a altura: 1.75\n",
            "digite o nome: Fernanda\n",
            "Digite a altura: 1.65\n",
            "A maior pessoa é Maurico com 1.90 de altura.\tA menor é Julia com 1.60\n"
          ]
        }
      ]
    },
    {
      "cell_type": "code",
      "source": [
        "# exemplo com for\n",
        "\n",
        "for i in range(5):\n",
        "    nome = input(\"digite o nome: \")\n",
        "    altura = float(input(\"Digite a altura: \"))\n",
        "    if i == 0:\n",
        "        n1 = altura\n",
        "        n2 = altura\n",
        "        nmaior = nome\n",
        "        nmenor = nome\n",
        "    elif altura > n1:\n",
        "        n1 = altura\n",
        "        nmaior = nome\n",
        "    elif altura < n2:\n",
        "        n2 = altura\n",
        "        nmenor = nome\n",
        "\n",
        "print(f\"A maior pessoa é {nmaior} com {n1:.2f} de altura.\\nA menor é {nmenor} com {n2:.2f}.\")"
      ],
      "metadata": {
        "id": "fifOvL0cCD7P",
        "outputId": "1425ee70-9f30-457e-d9cf-5e7f7a11c38c",
        "colab": {
          "base_uri": "https://localhost:8080/",
          "height": 356
        }
      },
      "execution_count": null,
      "outputs": [
        {
          "output_type": "error",
          "ename": "KeyboardInterrupt",
          "evalue": "Interrupted by user",
          "traceback": [
            "\u001b[0;31m---------------------------------------------------------------------------\u001b[0m",
            "\u001b[0;31mKeyboardInterrupt\u001b[0m                         Traceback (most recent call last)",
            "\u001b[0;32m<ipython-input-23-9616290ce616>\u001b[0m in \u001b[0;36m<cell line: 3>\u001b[0;34m()\u001b[0m\n\u001b[1;32m      2\u001b[0m \u001b[0;34m\u001b[0m\u001b[0m\n\u001b[1;32m      3\u001b[0m \u001b[0;32mfor\u001b[0m \u001b[0mi\u001b[0m \u001b[0;32min\u001b[0m \u001b[0mrange\u001b[0m\u001b[0;34m(\u001b[0m\u001b[0;36m5\u001b[0m\u001b[0;34m)\u001b[0m\u001b[0;34m:\u001b[0m\u001b[0;34m\u001b[0m\u001b[0;34m\u001b[0m\u001b[0m\n\u001b[0;32m----> 4\u001b[0;31m     \u001b[0mnome\u001b[0m \u001b[0;34m=\u001b[0m \u001b[0minput\u001b[0m\u001b[0;34m(\u001b[0m\u001b[0;34m\"digite o nome: \"\u001b[0m\u001b[0;34m)\u001b[0m\u001b[0;34m\u001b[0m\u001b[0;34m\u001b[0m\u001b[0m\n\u001b[0m\u001b[1;32m      5\u001b[0m     \u001b[0maltura\u001b[0m \u001b[0;34m=\u001b[0m \u001b[0mfloat\u001b[0m\u001b[0;34m(\u001b[0m\u001b[0minput\u001b[0m\u001b[0;34m(\u001b[0m\u001b[0;34m\"Digite a altura: \"\u001b[0m\u001b[0;34m)\u001b[0m\u001b[0;34m)\u001b[0m\u001b[0;34m\u001b[0m\u001b[0;34m\u001b[0m\u001b[0m\n\u001b[1;32m      6\u001b[0m     \u001b[0;32mif\u001b[0m \u001b[0mi\u001b[0m \u001b[0;34m==\u001b[0m \u001b[0;36m0\u001b[0m\u001b[0;34m:\u001b[0m\u001b[0;34m\u001b[0m\u001b[0;34m\u001b[0m\u001b[0m\n",
            "\u001b[0;32m/usr/local/lib/python3.10/dist-packages/ipykernel/kernelbase.py\u001b[0m in \u001b[0;36mraw_input\u001b[0;34m(self, prompt)\u001b[0m\n\u001b[1;32m    849\u001b[0m                 \u001b[0;34m\"raw_input was called, but this frontend does not support input requests.\"\u001b[0m\u001b[0;34m\u001b[0m\u001b[0;34m\u001b[0m\u001b[0m\n\u001b[1;32m    850\u001b[0m             )\n\u001b[0;32m--> 851\u001b[0;31m         return self._input_request(str(prompt),\n\u001b[0m\u001b[1;32m    852\u001b[0m             \u001b[0mself\u001b[0m\u001b[0;34m.\u001b[0m\u001b[0m_parent_ident\u001b[0m\u001b[0;34m,\u001b[0m\u001b[0;34m\u001b[0m\u001b[0;34m\u001b[0m\u001b[0m\n\u001b[1;32m    853\u001b[0m             \u001b[0mself\u001b[0m\u001b[0;34m.\u001b[0m\u001b[0m_parent_header\u001b[0m\u001b[0;34m,\u001b[0m\u001b[0;34m\u001b[0m\u001b[0;34m\u001b[0m\u001b[0m\n",
            "\u001b[0;32m/usr/local/lib/python3.10/dist-packages/ipykernel/kernelbase.py\u001b[0m in \u001b[0;36m_input_request\u001b[0;34m(self, prompt, ident, parent, password)\u001b[0m\n\u001b[1;32m    893\u001b[0m             \u001b[0;32mexcept\u001b[0m \u001b[0mKeyboardInterrupt\u001b[0m\u001b[0;34m:\u001b[0m\u001b[0;34m\u001b[0m\u001b[0;34m\u001b[0m\u001b[0m\n\u001b[1;32m    894\u001b[0m                 \u001b[0;31m# re-raise KeyboardInterrupt, to truncate traceback\u001b[0m\u001b[0;34m\u001b[0m\u001b[0;34m\u001b[0m\u001b[0m\n\u001b[0;32m--> 895\u001b[0;31m                 \u001b[0;32mraise\u001b[0m \u001b[0mKeyboardInterrupt\u001b[0m\u001b[0;34m(\u001b[0m\u001b[0;34m\"Interrupted by user\"\u001b[0m\u001b[0;34m)\u001b[0m \u001b[0;32mfrom\u001b[0m \u001b[0;32mNone\u001b[0m\u001b[0;34m\u001b[0m\u001b[0;34m\u001b[0m\u001b[0m\n\u001b[0m\u001b[1;32m    896\u001b[0m             \u001b[0;32mexcept\u001b[0m \u001b[0mException\u001b[0m \u001b[0;32mas\u001b[0m \u001b[0me\u001b[0m\u001b[0;34m:\u001b[0m\u001b[0;34m\u001b[0m\u001b[0;34m\u001b[0m\u001b[0m\n\u001b[1;32m    897\u001b[0m                 \u001b[0mself\u001b[0m\u001b[0;34m.\u001b[0m\u001b[0mlog\u001b[0m\u001b[0;34m.\u001b[0m\u001b[0mwarning\u001b[0m\u001b[0;34m(\u001b[0m\u001b[0;34m\"Invalid Message:\"\u001b[0m\u001b[0;34m,\u001b[0m \u001b[0mexc_info\u001b[0m\u001b[0;34m=\u001b[0m\u001b[0;32mTrue\u001b[0m\u001b[0;34m)\u001b[0m\u001b[0;34m\u001b[0m\u001b[0;34m\u001b[0m\u001b[0m\n",
            "\u001b[0;31mKeyboardInterrupt\u001b[0m: Interrupted by user"
          ]
        }
      ]
    },
    {
      "cell_type": "markdown",
      "source": [
        "###15. Faça um programa que receba dez valores inteiros, encontre e apresente o maior e o menor valor.\n",
        "\n"
      ],
      "metadata": {
        "id": "8KWL51p-6Ckk"
      }
    },
    {
      "cell_type": "code",
      "source": [
        "n1 = 0\n",
        "n2 = 0\n",
        "for i in range(10):\n",
        "    numero = float(input(\"Digite o número: \"))\n",
        "    if numero > n1:\n",
        "        n1 = numero\n",
        "    elif numero < n2 or n2 == 0:\n",
        "        n2 = numero\n",
        "\n",
        "print(f\"Maior número: {n1}\\nMenor número: {n2}\")"
      ],
      "metadata": {
        "id": "sX3O5ruoTQGH",
        "colab": {
          "base_uri": "https://localhost:8080/"
        },
        "outputId": "77768ddf-c141-4614-b203-440c0ce784ef"
      },
      "execution_count": null,
      "outputs": [
        {
          "output_type": "stream",
          "name": "stdout",
          "text": [
            "Digite o número: 23\n",
            "Digite o número: -5\n",
            "Digite o número: 12\n",
            "Digite o número: 10\n",
            "Digite o número: -10\n",
            "Digite o número: 21\n",
            "Digite o número: 3\n",
            "Digite o número: 12\n",
            "Digite o número: 12\n",
            "Digite o número: 12\n",
            "Maior número: 23.0\n",
            "Menor número: -10.0\n"
          ]
        }
      ]
    },
    {
      "cell_type": "markdown",
      "source": [
        "###16. Os alunos do primeiro módulo farão a P1 da disciplina de Algoritmo. Crie um algoritmo que leia as 40 notas e RAs, encontre e apresente a maior, a menor e os respectivos RAs desses alunos."
      ],
      "metadata": {
        "id": "7ykHS3fC6e1z"
      }
    },
    {
      "cell_type": "code",
      "source": [
        "n1 = 0\n",
        "n2 = 0\n",
        "ramaior = \"\"\n",
        "ramenor = \"\"\n",
        "for i in range(40):\n",
        "    ra = input(\"digite o RA: \")\n",
        "    nota = float(input(\"Digite a nota: \"))\n",
        "    if nota > n1:\n",
        "        n1 = nota\n",
        "        ramaior = ra\n",
        "    elif nota < n2 or n2 == 0:\n",
        "        n2 = nota\n",
        "        ramenor = ra\n",
        "\n",
        "print(f\"A maior nota é {n1:.1f} do aluno RA: {ramaior}\\nA menor é {n2:.1f} do aluno RA: {ramenor}\")"
      ],
      "metadata": {
        "id": "yU4vMIRs7BPK",
        "colab": {
          "base_uri": "https://localhost:8080/"
        },
        "outputId": "69b115c1-46a2-42b5-f96e-dbaaf4dbb5e1"
      },
      "execution_count": null,
      "outputs": [
        {
          "output_type": "stream",
          "name": "stdout",
          "text": [
            "digite o RA: 123\n",
            "Digite a nota: 9.8\n",
            "digite o RA: 213\n",
            "Digite a nota: 7.8\n",
            "digite o RA: 111\n",
            "Digite a nota: 1.0\n",
            "digite o RA: 212\n",
            "Digite a nota: 7.0\n",
            "digite o RA: 145\n",
            "Digite a nota: 5.0\n",
            "A maior nota é 9.80 do aluno RA: 123\n",
            "A menor é 1.00 do aluno RA: 111\n"
          ]
        }
      ]
    },
    {
      "cell_type": "markdown",
      "source": [
        "###17. Faça um programa que calcule e apresente as tabuadas do 3 ao 7. Este exercício utiliza DUAS estruturas de repetição."
      ],
      "metadata": {
        "id": "wJ0MVHDlQrNb"
      }
    },
    {
      "cell_type": "code",
      "source": [
        "# exemplo for\n",
        "for i in range(3,8):\n",
        "    print(f\"Tabuada do {i}\")\n",
        "    for j in range(11):\n",
        "        print(f\"{i}x{j}={i*j}\")\n",
        "    print(\"\\n\")"
      ],
      "metadata": {
        "id": "0ZBwoW881MU7"
      },
      "execution_count": null,
      "outputs": []
    },
    {
      "cell_type": "code",
      "source": [
        "# exemplo while\n",
        "i = 3\n",
        "while i <= 7:\n",
        "    j = 0\n",
        "    print(f\"Tabuada do {i}\")\n",
        "    while j <= 10:\n",
        "        print(f\"{i}x{j}={i*j}\")\n",
        "        j += 1\n",
        "    print(\"\\n\")\n",
        "    i += 1"
      ],
      "metadata": {
        "id": "zqYSz036GVlo",
        "colab": {
          "base_uri": "https://localhost:8080/"
        },
        "outputId": "8121a28c-09de-4ab9-8f7e-e161309f02d8"
      },
      "execution_count": null,
      "outputs": [
        {
          "output_type": "stream",
          "name": "stdout",
          "text": [
            "Tabuada do 3\n",
            "3x0=0\n",
            "3x1=3\n",
            "3x2=6\n",
            "3x3=9\n",
            "3x4=12\n",
            "3x5=15\n",
            "3x6=18\n",
            "3x7=21\n",
            "3x8=24\n",
            "3x9=27\n",
            "3x10=30\n",
            "\n",
            "\n",
            "Tabuada do 4\n",
            "4x0=0\n",
            "4x1=4\n",
            "4x2=8\n",
            "4x3=12\n",
            "4x4=16\n",
            "4x5=20\n",
            "4x6=24\n",
            "4x7=28\n",
            "4x8=32\n",
            "4x9=36\n",
            "4x10=40\n",
            "\n",
            "\n",
            "Tabuada do 5\n",
            "5x0=0\n",
            "5x1=5\n",
            "5x2=10\n",
            "5x3=15\n",
            "5x4=20\n",
            "5x5=25\n",
            "5x6=30\n",
            "5x7=35\n",
            "5x8=40\n",
            "5x9=45\n",
            "5x10=50\n",
            "\n",
            "\n",
            "Tabuada do 6\n",
            "6x0=0\n",
            "6x1=6\n",
            "6x2=12\n",
            "6x3=18\n",
            "6x4=24\n",
            "6x5=30\n",
            "6x6=36\n",
            "6x7=42\n",
            "6x8=48\n",
            "6x9=54\n",
            "6x10=60\n",
            "\n",
            "\n",
            "Tabuada do 7\n",
            "7x0=0\n",
            "7x1=7\n",
            "7x2=14\n",
            "7x3=21\n",
            "7x4=28\n",
            "7x5=35\n",
            "7x6=42\n",
            "7x7=49\n",
            "7x8=56\n",
            "7x9=63\n",
            "7x10=70\n",
            "\n",
            "\n"
          ]
        }
      ]
    },
    {
      "cell_type": "markdown",
      "source": [
        "###18. Faça um programa para o curso de ADS (6 módulos), cada sala tem 30 alunos, calcule e apresente os seguintes itens:\n",
        "*  Quantidade de homens e mulheres de cada módulo;\n",
        "*  Média de idades de cada módulo;\n",
        "*  Quantidade de homens e mulheres do curso todo;\n",
        "*  Média de idades do curso todo.\n",
        "\n",
        "Observação: este exercício utiliza DUAS estruturas de repetição."
      ],
      "metadata": {
        "id": "wu3gKhw_P-t2"
      }
    },
    {
      "cell_type": "code",
      "source": [
        "mcurso = 0\n",
        "fcurso = 0\n",
        "n1curso = 0\n",
        "n2curso = 0\n",
        "\n",
        "for modulo in range(1,7):\n",
        "    print(modulo,'º módulo','.'*50)\n",
        "    mmodulo = 0\n",
        "    fmodulo = 0\n",
        "    n1modulo = 0\n",
        "    n2modulo = 0\n",
        "    for alunos in range(30):\n",
        "        idade = int(input(\"Digite a idade: \"))\n",
        "        genero = input('Cadastre o gênero M/F: ')\n",
        "        if genero.upper() == 'F':\n",
        "            fcurso += 1\n",
        "            fmodulo += 1\n",
        "            n1curso += idade\n",
        "            n1modulo += idade\n",
        "            n2curso += 1\n",
        "            n2modulo += 1\n",
        "        elif genero.upper() == 'M':\n",
        "            mcurso += 1\n",
        "            mmodulo += 1\n",
        "            n1curso += idade\n",
        "            n1modulo += idade\n",
        "            n2curso += 1\n",
        "            n2modulo += 1\n",
        "    mediamodulo = n1modulo/n2modulo\n",
        "    print(f\"Quantidade de mulheres no {modulo}º Módulo: {fmodulo}.\\nQuantidade de homens no {modulo}º Módulo: {mmodulo}.\\nMédia de idades: {mediamodulo:.0f}\\n\")\n",
        "\n",
        "mediacurso = n1curso/n2curso\n",
        "print(f\"Quantidade de mulheres no curso: {fcurso}.\\nQuantidade de homens curso: {mcurso}.\\nMédia de idades: {mediacurso:.0f}\")"
      ],
      "metadata": {
        "id": "lBhG5qbYQJaS"
      },
      "execution_count": null,
      "outputs": []
    }
  ]
}