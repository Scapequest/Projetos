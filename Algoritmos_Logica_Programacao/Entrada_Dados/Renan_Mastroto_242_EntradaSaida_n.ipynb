{
  "nbformat": 4,
  "nbformat_minor": 0,
  "metadata": {
    "colab": {
      "provenance": []
    },
    "kernelspec": {
      "name": "python3",
      "display_name": "Python 3"
    },
    "language_info": {
      "name": "python"
    }
  },
  "cells": [
    {
      "cell_type": "code",
      "source": [
        "print('************************')\n",
        "print('* Sejam bem vindes!!!! *')\n",
        "print('************************')"
      ],
      "metadata": {
        "colab": {
          "base_uri": "https://localhost:8080/"
        },
        "id": "PkQI2E426kPG",
        "outputId": "e03726e2-2192-4a96-e531-ba56ac84f0f1"
      },
      "execution_count": null,
      "outputs": [
        {
          "output_type": "stream",
          "name": "stdout",
          "text": [
            "************************\n",
            "* Sejam bem vindos!!!! *\n",
            "************************\n"
          ]
        }
      ]
    },
    {
      "cell_type": "markdown",
      "metadata": {
        "id": "5gti273fgVUm"
      },
      "source": [
        "# Exercícios para construir programas com ENTRADA, PROCESSAMENTO e SAÍDA"
      ]
    },
    {
      "cell_type": "markdown",
      "metadata": {
        "id": "OhRjsGO5gXft"
      },
      "source": [
        "### 1. Faça um programa que leia um número, multiplique ele por 2 e apresente o resultado.\n",
        "      LEIA numero\n",
        "      resultado = numero * 2\n",
        "      ESCREVA resultado"
      ]
    },
    {
      "cell_type": "code",
      "execution_count": null,
      "metadata": {
        "colab": {
          "base_uri": "https://localhost:8080/"
        },
        "id": "gl_HmcKjgIgH",
        "outputId": "74765289-3b14-44ac-ae44-d1bbeb42f33e"
      },
      "outputs": [
        {
          "output_type": "stream",
          "name": "stdout",
          "text": [
            "Digite um número 3\n",
            "A multiplicação é  6.0\n"
          ]
        }
      ],
      "source": [
        "# Digite aqui seu programa\n",
        "# 1º passo - identificar a(s) entrada(s) - variável número\n",
        "numero = float(input('Digite um número '))\n",
        "# 2º passo - identificar o processamento/cálculo\n",
        "resultado = numero * 2\n",
        "# 3º passo - apresentar a(s) variáveis que foram calculadas\n",
        "print('A multiplicação é ',resultado)"
      ]
    },
    {
      "cell_type": "markdown",
      "metadata": {
        "id": "tYDfNkC3geee"
      },
      "source": [
        "### 2. Faça um programa que:\n",
        "* receba três números inteiros\n",
        "* calcule e mostre a soma desses números.\n"
      ]
    },
    {
      "cell_type": "code",
      "execution_count": null,
      "metadata": {
        "id": "KVDopJZngcRf",
        "colab": {
          "base_uri": "https://localhost:8080/"
        },
        "outputId": "dfa5e076-043b-4fa4-9463-71cd2271e36e"
      },
      "outputs": [
        {
          "output_type": "stream",
          "name": "stdout",
          "text": [
            "Digite o primeiro número: 50\n",
            "Digite o segundo número: 35\n",
            "Digite o terceiro número: 20\n",
            "A soma é:  105\n"
          ]
        }
      ],
      "source": [
        "# Digite aqui seu programa\n",
        "# Entrada\n",
        "numero1 = int(input(\"Digite o primeiro número: \"))\n",
        "numero2 = int(input(\"Digite o segundo número: \"))\n",
        "numero3 = int(input(\"Digite o terceiro número: \"))\n",
        "# Processamento/cálculo\n",
        "resultado = numero1+numero2+numero3\n",
        "# Saída\n",
        "print(\"A soma é: \", resultado)"
      ]
    },
    {
      "cell_type": "markdown",
      "metadata": {
        "id": "lMGZBLxfghBl"
      },
      "source": [
        "### 3. Faça um programa que receba três notas, calcule e mostre a média aritmética.     "
      ]
    },
    {
      "cell_type": "code",
      "execution_count": null,
      "metadata": {
        "id": "awkP7ZbHgxRO",
        "colab": {
          "base_uri": "https://localhost:8080/"
        },
        "outputId": "8228c9f8-a948-4e36-cc63-c3b1712e3654"
      },
      "outputs": [
        {
          "output_type": "stream",
          "name": "stdout",
          "text": [
            "Digite o primeiro número: 5.3\n",
            "Digite o segundo número: 4.7\n",
            "Digite o terceiro número: 9.8\n",
            "A média é:  6.6000000000000005\n"
          ]
        }
      ],
      "source": [
        "# Digite aqui seu programa\n",
        "# Entrada\n",
        "numero1 = float(input(\"Digite o primeiro número: \"))\n",
        "numero2 = float(input(\"Digite o segundo número: \"))\n",
        "numero3 = float(input(\"Digite o terceiro número: \"))\n",
        "# Processamento/cálculo\n",
        "resultado = (numero1+numero2+numero3)/3\n",
        "# Saída\n",
        "print(\"A média é: \", resultado)"
      ]
    },
    {
      "cell_type": "markdown",
      "metadata": {
        "id": "wh1Bjz9agxme"
      },
      "source": [
        "### 4. Faça um programa que:\n",
        "* receba o salário de um funcionário\n",
        "* calcule e mostre o novo salário, sabendo-se que este sofreu um aumento de 25%.\n",
        "\n",
        "      LEIA salario\n",
        "      novoSalario = salario + (salario * 25 / 100)\n",
        "      ESCREVA novoSalario"
      ]
    },
    {
      "cell_type": "code",
      "execution_count": null,
      "metadata": {
        "id": "FxXwABFVgygE",
        "colab": {
          "base_uri": "https://localhost:8080/"
        },
        "outputId": "58543835-4007-4408-8aa3-a56e75cf70c7"
      },
      "outputs": [
        {
          "output_type": "stream",
          "name": "stdout",
          "text": [
            "...PROGRAMA PARA CALCULAR AUMENTO DE 25% NO SALÁRIO ...\n",
            "Digite o valor do salário: 1400\n",
            "O novo salário é:  1750.0\n"
          ]
        }
      ],
      "source": [
        "print('...PROGRAMA PARA CALCULAR AUMENTO DE 25% NO SALÁRIO ...')\n",
        "# entrada\n",
        "salario = float(input(\"Digite o valor do salário: \"))\n",
        "# processamento - cálculo\n",
        "novoSalario = salario*1.25\n",
        "# saída\n",
        "print(\"O novo salário é: \", novoSalario)\n",
        "# saída - apresentação de valores das variáveis\n"
      ]
    },
    {
      "cell_type": "markdown",
      "metadata": {
        "id": "YQP_f4hzgyrh"
      },
      "source": [
        "### 5. Faça um programa que receba o salário de um funcionário e o percentual de aumento, calcule e mostre o valor do aumento e o novo salário.\n"
      ]
    },
    {
      "cell_type": "code",
      "execution_count": null,
      "metadata": {
        "colab": {
          "base_uri": "https://localhost:8080/"
        },
        "id": "9T2dzNEug1PR",
        "outputId": "0ebbb1ed-c9ae-4910-e163-f9a1d98a7e92"
      },
      "outputs": [
        {
          "output_type": "stream",
          "name": "stdout",
          "text": [
            "....................................................................................................\n",
            "Programa para aplicar aumento a um salário\n",
            ".................................................................................................... \n",
            "\n",
            "\n",
            "Digite o valor do salário: 1400\n",
            "Digite o percentual de aumento (em porcentagem): 25\n",
            "O aumento é de:  350.0\n",
            "O novo salário é de: R$  1750.0\n"
          ]
        }
      ],
      "source": [
        "print('.'*100)\n",
        "print('Programa para aplicar aumento a um salário')\n",
        "print('.'*100,'\\n\\n')\n",
        "# entrada\n",
        "salario = float(input(\"Digite o valor do salário: \"))\n",
        "percentual = float(input(\"Digite o percentual de aumento (em porcentagem): \"))\n",
        "#processamento\n",
        "aumento = (percentual/100)*salario\n",
        "novoSalario = salario + aumento\n",
        "#saída\n",
        "print(\"O aumento é de: \", aumento)\n",
        "print(\"O novo salário é de: R$ \", novoSalario)\n"
      ]
    },
    {
      "cell_type": "markdown",
      "metadata": {
        "id": "PXXsNWWEg1bu"
      },
      "source": [
        "### 6. Faça um programa que receba o salário base de um funcionário, calcule e mostre o salário a receber, sabendo-se que o funcionário tem gratificação de 5% sobre o salário base e **paga imposto** de 7% também sobre o salário base."
      ]
    },
    {
      "cell_type": "code",
      "execution_count": null,
      "metadata": {
        "colab": {
          "base_uri": "https://localhost:8080/"
        },
        "id": "x7xfAIUgg5qV",
        "outputId": "3cb74903-30c0-4c01-da1f-a0b08044d32a"
      },
      "outputs": [
        {
          "output_type": "stream",
          "name": "stdout",
          "text": [
            "Digite o valor do salário: 1000\n",
            "Valor da gratificação: R$  50.0  e valor do imposto: R$  70.0\n",
            "Valor do salário a receber: R$  980.0\n"
          ]
        }
      ],
      "source": [
        "# Entrada de dados\n",
        "salario = float(input(\"Digite o valor do salário: \"))\n",
        "# Processamento - cálculo\n",
        "gratificacao = salario*0.05\n",
        "imposto = salario*0.07\n",
        "salarioNovo = salario+gratificacao-imposto\n",
        "# Saída\n",
        "print(\"Valor da gratificação: R$ \", gratificacao, \" e valor do imposto: R$ \", imposto)\n",
        "print(\"Valor do salário a receber: R$ \", salarioNovo)"
      ]
    },
    {
      "cell_type": "markdown",
      "metadata": {
        "id": "wSkc33VHg50d"
      },
      "source": [
        "### 7. Faça um programa que receba o salário base de um funcionário, calcule e mostre seu salário a receber, sabendo-se que o funcionário tem gratificação de 50,00 sobre o salário base e **paga** imposto que deve ser lido e é aplicado sobre o salário base.\n",
        "\n",
        "    LEIA salario, perImposto\n",
        "    imposto = salario * perImposto / 100\n",
        "    salario_a_receber = salario + 50 - imposto\n",
        "    ESCREVA salario_a_receber"
      ]
    },
    {
      "cell_type": "code",
      "execution_count": null,
      "metadata": {
        "id": "rEwclxM7g8cj",
        "colab": {
          "base_uri": "https://localhost:8080/"
        },
        "outputId": "822d189b-256a-4b4c-8d73-1f37162e549f"
      },
      "outputs": [
        {
          "output_type": "stream",
          "name": "stdout",
          "text": [
            "Digite o valor do salário: 100\n",
            "Digite o percentual de imposto: 1.3\n",
            "Valor do salário a receber: R$  148.7\n"
          ]
        }
      ],
      "source": [
        "salario = float(input(\"Digite o valor do salário: \"))\n",
        "perImposto = float(input(\"Digite o percentual de imposto: \"))\n",
        "\n",
        "imposto = salario*(perImposto/100)\n",
        "salarioNovo = salario+50-imposto\n",
        "print(\"Valor do salário a receber: R$ \", salarioNovo)"
      ]
    },
    {
      "cell_type": "markdown",
      "metadata": {
        "id": "pvZSNjjzg8oq"
      },
      "source": [
        "### 8. Faça um programa que receba o valor de um depósito e o valor da taxa de juros, calcule e mostre o valor do rendimento e o valor total depois do rendimento de um mês.\n",
        "    rendimento = deposito * taxa / 100\n",
        "    total = deposito + rendimento"
      ]
    },
    {
      "cell_type": "code",
      "execution_count": null,
      "metadata": {
        "id": "k0zejQegg9ma",
        "colab": {
          "base_uri": "https://localhost:8080/"
        },
        "outputId": "7b8acdb6-9a75-4b73-c84f-f1b735ccbea2"
      },
      "outputs": [
        {
          "output_type": "stream",
          "name": "stdout",
          "text": [
            "Digite o valor do depósito: 1000\n",
            "Digite o percentual da taxa: 5\n",
            "O rendimento total será de: R$  50.0\n",
            "O total será de: R$  1050.0\n"
          ]
        }
      ],
      "source": [
        "deposito = float(input(\"Digite o valor do depósito: \"))\n",
        "taxa = float(input(\"Digite o percentual da taxa: \"))\n",
        "rendimento = deposito*(taxa/100)\n",
        "total = deposito + rendimento\n",
        "print(\"O rendimento total será de: R$ \", rendimento)\n",
        "print(\"O total será de: R$ \", total)"
      ]
    },
    {
      "cell_type": "markdown",
      "metadata": {
        "id": "z42ADdywg9xS"
      },
      "source": [
        "### 9. Faça um programa que calcule e mostre a área de um triângulo. Sabe-se que: Área = (base * altura) / 2."
      ]
    },
    {
      "cell_type": "code",
      "execution_count": null,
      "metadata": {
        "id": "F-yamLhahCTK",
        "colab": {
          "base_uri": "https://localhost:8080/"
        },
        "outputId": "0b818f72-31c3-4469-ff13-d84532521a7a"
      },
      "outputs": [
        {
          "output_type": "stream",
          "name": "stdout",
          "text": [
            "Digite o tamanho da base: 10\n",
            "Digite a altura: 20\n",
            "A área do triângulo é de:  100.0\n"
          ]
        }
      ],
      "source": [
        "b = float(input(\"Digite o tamanho da base: \"))\n",
        "h = float(input(\"Digite a altura: \"))\n",
        "a = (b*h)/2\n",
        "print(\"A área do triângulo é de: \", a)"
      ]
    },
    {
      "cell_type": "markdown",
      "metadata": {
        "id": "s4oSY4EghCfn"
      },
      "source": [
        "### 10. Faça um programa que calcule e mostre a área de um círculo. Sabe-se que:\n",
        "    area = pi * raio²\n",
        "    Como pi é um valor que conhecemos, então use a seguinte fórmula:\n",
        "    area = 3.1415 * raio²"
      ]
    },
    {
      "cell_type": "code",
      "execution_count": null,
      "metadata": {
        "colab": {
          "base_uri": "https://localhost:8080/"
        },
        "id": "tvPiHGB0hE5N",
        "outputId": "92487ee1-37a2-47eb-eb25-75ef98beab8c"
      },
      "outputs": [
        {
          "output_type": "stream",
          "name": "stdout",
          "text": [
            "....................................................................................................\n",
            "Programa para calcular a área de um círculo\n",
            ".................................................................................................... \n",
            "\n",
            "\n",
            "Digite o tamanho do Raio: 2\n",
            "O tamanho da área é:  12.566\n"
          ]
        }
      ],
      "source": [
        "print('.'*100)\n",
        "print('Programa para calcular a área de um círculo')\n",
        "print('.'*100,'\\n\\n')\n",
        "#entrada\n",
        "r = float(input(\"Digite o tamanho do Raio: \"))\n",
        "#processamento\n",
        "pi = 3.141592653589793\n",
        "a = pi*(r**2)\n",
        "#saída\n",
        "print(\"O tamanho da área é: \", a)"
      ]
    },
    {
      "cell_type": "code",
      "source": [
        "#entrada de dados\n",
        "\n",
        "#processamento\n",
        "\n",
        "#saída\n"
      ],
      "metadata": {
        "colab": {
          "base_uri": "https://localhost:8080/"
        },
        "id": "E2Icy1L8Ht5A",
        "outputId": "4c9ffbbb-d47b-4553-96b8-def6fd4da1c5"
      },
      "execution_count": null,
      "outputs": [
        {
          "output_type": "stream",
          "name": "stdout",
          "text": [
            "5\n",
            "5.0\n"
          ]
        }
      ]
    },
    {
      "cell_type": "markdown",
      "metadata": {
        "id": "vTot3sXrhFAT"
      },
      "source": [
        "### 11. Faça um programa que receba um número, calcule e mostre:\n",
        "* O número digitado ao quadrado\n",
        "* O número digitado ao cubo\n",
        "* A raiz do número digitado\n",
        "* A raiz cúbica do número digitado\n",
        "\n",
        "      LEIA numero\n",
        "      quadrado = numero ** 2\n",
        "      cubo = numero ** 3\n",
        "      raiz_quadrada = numero ** (½) (meio, ou 0.5)\n",
        "      raiz_cubica = numero ** (⅓) (um terço, ou 0.33)\n",
        "      ESCREVA quadrado, cubo, raiz_quadrada, raiz_cubica\n",
        "\n",
        "\n",
        "      raiz_quadrada = numero ** (1/2) ou\n",
        "      raiz_quadrada = numero ** 0.5"
      ]
    },
    {
      "cell_type": "code",
      "execution_count": null,
      "metadata": {
        "id": "TT0-h8nChILi",
        "colab": {
          "base_uri": "https://localhost:8080/"
        },
        "outputId": "9eb7fd61-03d3-49cf-ae19-8b8be25cbbf4"
      },
      "outputs": [
        {
          "output_type": "stream",
          "name": "stdout",
          "text": [
            "Digite o número: 6\n",
            "Valor ao quadrado:  36.0\n",
            "Valor ao cubo:  216.0\n",
            "Raiz quadrada do valor:  2.449489742783178\n",
            "Raiz cubica do valor:  1.8171205928321397\n"
          ]
        }
      ],
      "source": [
        "n = float(input(\"Digite o número: \"))\n",
        "quadrado = n**2\n",
        "cubo = n**3\n",
        "raiz_quadrada = n**(1/2)\n",
        "raiz_cubica = n**(1/3)\n",
        "print(\"Valor ao quadrado: \", quadrado)\n",
        "print(\"Valor ao cubo: \", cubo)\n",
        "print(\"Raiz quadrada do valor: \", raiz_quadrada)\n",
        "print(\"Raiz cubica do valor: \", raiz_cubica)"
      ]
    },
    {
      "cell_type": "markdown",
      "metadata": {
        "id": "6w8k1c0ShIWK"
      },
      "source": [
        "### 12. Faça um programa que receba dois números, calcule e mostre um elevado ao outro. Use os caracteres **\n"
      ]
    },
    {
      "cell_type": "code",
      "execution_count": null,
      "metadata": {
        "id": "2KMY_7MQhKuf",
        "colab": {
          "base_uri": "https://localhost:8080/"
        },
        "outputId": "8ef08ab2-1b7c-4bee-b33f-8f46a56f4f94"
      },
      "outputs": [
        {
          "output_type": "stream",
          "name": "stdout",
          "text": [
            "Digite o primeiro número: 5\n",
            "Digite o segundo número: 10\n",
            "O resultado é:  9765625.0\n"
          ]
        }
      ],
      "source": [
        "n1 = float(input(\"Digite o primeiro número: \"))\n",
        "n2 = float(input(\"Digite o segundo número: \"))\n",
        "\n",
        "n = n1 ** n2\n",
        "\n",
        "print(\"O resultado é: \", n)"
      ]
    },
    {
      "cell_type": "markdown",
      "metadata": {
        "id": "IKp4FbUQhK3f"
      },
      "source": [
        "### 13. Sabe-se que:\n",
        "\n",
        "* pé = 12 polegadas\n",
        "* 1 jarda = 3 pés\n",
        "* 1 milha = 1760 jarda\n",
        "\n",
        "Faça um programa que receba uma medida em pés, faça as conversões a seguir e mostre os resultados.\n",
        "\n",
        "* Polegadas;\n",
        "* Jardas;\n",
        "* Milhas.\n",
        "\n",
        "      LEIA pes\n",
        "      polegadas = pes * 12\n",
        "      jardas = pes / 3\n",
        "      milhas = jardas / 1760\n",
        "      ESCREVA polegadas, jardas, milhas"
      ]
    },
    {
      "cell_type": "code",
      "execution_count": null,
      "metadata": {
        "id": "RIaq7VtchNNp",
        "colab": {
          "base_uri": "https://localhost:8080/"
        },
        "outputId": "327ecc00-c50a-43c9-f049-1f75ed87879f"
      },
      "outputs": [
        {
          "output_type": "stream",
          "name": "stdout",
          "text": [
            "Digite o valor em pés: 60\n",
            "Valor em polegadas:  720.0\n",
            "Valor em jardas:  20.0\n",
            "Valor em milhas:  0.011363636363636364\n"
          ]
        }
      ],
      "source": [
        "pe = float(input(\"Digite o valor em pés: \"))\n",
        "\n",
        "polegada = pe*12\n",
        "jarda = pe/3\n",
        "milha = jarda/1760\n",
        "\n",
        "print(\"Valor em polegadas: \",polegada)\n",
        "print(\"Valor em jardas: \", jarda)\n",
        "print(\"Valor em milhas: \", milha)"
      ]
    },
    {
      "cell_type": "markdown",
      "metadata": {
        "id": "AuDRKznFhNXx"
      },
      "source": [
        "### 14. Faça um programa que receba o ano de nascimento de uma pessoa e o ano atual, calcule e mostre:\n",
        "* a idade atual da pessoa;\n",
        "* quantos anos ela terá em 2050."
      ]
    },
    {
      "cell_type": "code",
      "execution_count": null,
      "metadata": {
        "id": "OMzeO-7bhOGb"
      },
      "outputs": [],
      "source": [
        "nas = int(input(\"Digite o ano de nascimento: \"))\n",
        "ano = int(input(\"Digite o ano desejado: \"))\n",
        "\n",
        "r = ano-nas\n",
        "\n",
        "print(\"A idade no ano desejado será de: \", r, \"anos.\")"
      ]
    },
    {
      "cell_type": "markdown",
      "metadata": {
        "id": "C23LWTfwhOPH"
      },
      "source": [
        "#### 15. O custo ao consumidor de um carro novo é a soma do preço de fábrica com o percentual de lucro do distribuidor e dos impostos aplicados ao preço de fábrica. Faça um programa que receba o preço de fábrica de um veículo, o percentual de lucro do distribuidor e o percentual de impostos, calcule e mostre:\n",
        "* o valor correspondente ao lucro do distribuidor;\n",
        "* o valor correspondente aos impostos;\n",
        "* o preço final do veículo.\n",
        "        LEIA preco_fabrica\n",
        "        LEIA percentual_lucro_distribuidor\n",
        "        LEIA percentual_imposto\n",
        "        lucro_distribuidor = preco_fabrica * percentual_lucro_distribuidor / 100\n",
        "        valor_imposto = preco_fabrica * percentual_imposto / 100\n",
        "        preco_final = preco_fabrica + lucro_distribuidor + valor_imposto\n",
        "        ESCREVA lucro_distribuidor\n",
        "        ESCREVA valor_imposto\n",
        "        ESCREVA preco_final\n"
      ]
    },
    {
      "cell_type": "code",
      "execution_count": null,
      "metadata": {
        "id": "WCpDCuR6hRlb",
        "colab": {
          "base_uri": "https://localhost:8080/"
        },
        "outputId": "63b84e69-6179-447c-ac32-1e22de7c28f0"
      },
      "outputs": [
        {
          "output_type": "stream",
          "name": "stdout",
          "text": [
            "Digite o valor do veículo: 106000\n",
            "Digite o percentual de lucro do fabricante: 8.5\n",
            "Digite o percentual de imposto sob o veículo: 12\n",
            "O lucro do fabricante será de:  9010.0\n",
            "O total de imposto será de:  12720.0\n",
            "Valor final do veículo:  127730.0\n"
          ]
        }
      ],
      "source": [
        "preco = int(input(\"Digite o valor do veículo: \"))\n",
        "plucro = float(input(\"Digite o percentual de lucro do fabricante: \"))\n",
        "pimposto = float(input(\"Digite o percentual de imposto sob o veículo: \"))\n",
        "\n",
        "vlucro = preco*(plucro/100)\n",
        "vimposto = preco*(pimposto/100)\n",
        "vfinal = preco+vlucro+vimposto\n",
        "\n",
        "print(\"O lucro do fabricante será de: \", vlucro)\n",
        "print(\"O total de imposto será de: \", vimposto)\n",
        "print(\"Valor final do veículo: \", vfinal)"
      ]
    },
    {
      "cell_type": "markdown",
      "metadata": {
        "id": "eHRob5vghRuI"
      },
      "source": [
        "### 16. Faça um programa que receba o número de horas trabalhadas e o valor do salário mínimo, calcule e mostre o salário a receber, seguindo estas regras:\n",
        "* a hora trabalhada vale a metade do salário mínimo.\n",
        "* o salário bruto equivale ao número de horas trabalhadas multiplicado pelo valor da hora trabalhada.\n",
        "* o imposto equivale a 3% do salário bruto.\n",
        "* o salário a receber equivale ao salário bruto menos o imposto.\n",
        "      LEIA qtde_horas_trabalhadas\n",
        "      LEIA valor_salario_minimo\n",
        "      valor_hora_trabalhada = valor_salario_minimo / 2\n",
        "      valor_salario_bruto = valor_hora_trabalhada * qtde_horas_trabalhadas\n",
        "      imposto = valor_salario_bruto * 3 / 100\n",
        "      valor_salario_liquido =  valor_salario_bruto - imposto\n",
        "      ESCREVA valor_salario_liquido"
      ]
    },
    {
      "cell_type": "code",
      "execution_count": null,
      "metadata": {
        "id": "w_Kil4knhVrJ",
        "colab": {
          "base_uri": "https://localhost:8080/"
        },
        "outputId": "2c19c15b-1ce6-439f-d34c-4323b9061fa8"
      },
      "outputs": [
        {
          "output_type": "stream",
          "name": "stdout",
          "text": [
            "Digite a quantidade de horas trabalhas: 144\n",
            "Digite o valor do salário minimo: R$12\n",
            "Valor do salário líquido será de: R$  838.08\n"
          ]
        }
      ],
      "source": [
        "qtde_horas_trabalhadas = float(input(\"Digite a quantidade de horas trabalhas: \"))\n",
        "valor_salario_minimo = float(input(\"Digite o valor do salário minimo: R$\"))\n",
        "valor_hora_trabalhada = valor_salario_minimo * 0.5\n",
        "valor_salario_bruto = valor_hora_trabalhada * qtde_horas_trabalhadas\n",
        "imposto = valor_salario_bruto * (3/100)\n",
        "valor_salario_liquido =  valor_salario_bruto - imposto\n",
        "print(\"Valor do salário líquido será de: R$ \", valor_salario_liquido)"
      ]
    },
    {
      "cell_type": "markdown",
      "metadata": {
        "id": "0OW87yEnhV-V"
      },
      "source": [
        "### 17. Um trabalhador recebeu seu salário e o depositou em sua conta bancária. Esse trabalhador emitiu dois cheques e agora deseja saber seu saldo atual. O banco criou uma taxa para a operação bancária de retirada que tem que pagar um imposto de 0.38% e o saldo inicial da conta está zerado.\n",
        "\n",
        "      LEIA salario\n",
        "      LEIA valor_cheque1\n",
        "      LEIA valor_cheque2\n",
        "      imposto_cheque1 = valor_cheque1 * 0.38 / 100\n",
        "      saque1 = valor_cheque1 + imposto_cheque1\n",
        "      imposto_cheque2 = valor_cheque2 * 0.38 / 100\n",
        "      saque2 = valor_cheque2 + imposto_cheque2\n",
        "      saldo = salario - saque1 - saque2\n",
        "      ESCREVA saldo\n"
      ]
    },
    {
      "cell_type": "code",
      "execution_count": null,
      "metadata": {
        "id": "MUEC63qMhYu1",
        "colab": {
          "base_uri": "https://localhost:8080/"
        },
        "outputId": "c65ce061-9e45-47bb-a16f-a1b9f7430de0"
      },
      "outputs": [
        {
          "output_type": "stream",
          "name": "stdout",
          "text": [
            "Digite o valor do depósito: R$651.26\n",
            "Digite o valor do primeiro cheque: R$15.51\n",
            "Digite o valor do segundo cheque: R$187.52\n",
            "Valor do saldo final: R$ 447.458486\n"
          ]
        }
      ],
      "source": [
        "deposito = float(input(\"Digite o valor do depósito: R$\"))\n",
        "cheque1 = float(input(\"Digite o valor do primeiro cheque: R$\"))\n",
        "cheque2 = float(input(\"Digite o valor do segundo cheque: R$\"))\n",
        "imposto = 1+(0.38/100)\n",
        "\n",
        "saque1 = cheque1*imposto\n",
        "saque2 = cheque2*imposto\n",
        "\n",
        "saldo = deposito-saque1-saque2\n",
        "\n",
        "print(\"Valor do saldo final: R$\", saldo)"
      ]
    },
    {
      "cell_type": "markdown",
      "metadata": {
        "id": "tbHb8qiYheU3"
      },
      "source": [
        "### 18. Faça um programa que receba a medida do ângulo (em graus) formado por uma escada apoiada no chão e encostada na parede e a altura da parede onde está a ponta da escada. Calcule e mostre a medida dessa escada. Observação: as funções trigonométricas implementadas nas linguagens de programação trabalham com medidas de ângulos em radianos.\n",
        "      LEIA angulo\n",
        "      LEIA altura\n",
        "      import math # carrega a biblioteca matemática\n",
        "      radiano = angulo * math.pi / 180\n",
        "      escada = altura / math.sin(radiano)\n",
        "      ESCREVA escada\n",
        "**Observação**: Para usar seno em Python, deve-se usar esta linha de código **import math** e esta, no cálculo, **math.sin(numero)**\n",
        "\n",
        "**import math**\n",
        "\n",
        "escada = altura / **math.sin**(numero)"
      ]
    },
    {
      "cell_type": "code",
      "execution_count": null,
      "metadata": {
        "colab": {
          "base_uri": "https://localhost:8080/"
        },
        "id": "Ijh7i02rhg0D",
        "outputId": "dc3cb3b2-04da-4999-bb3e-21bf38657503"
      },
      "outputs": [
        {
          "output_type": "stream",
          "name": "stdout",
          "text": [
            "Seno 0.8939966636005579\n",
            "Cosseno 0.8623188722876839\n",
            "Potência 256.0\n",
            "Raiz quadrada 4.898979485566356\n"
          ]
        },
        {
          "output_type": "execute_result",
          "data": {
            "text/plain": [
              "3.141592653589793"
            ]
          },
          "metadata": {},
          "execution_count": 6
        }
      ],
      "source": [
        "import math\n",
        "# import chama a biblioteca matemática e disponibiliza ao programa, várias\n",
        "# funções prontas (seno, cosseno, tangente, hipotenuza, raiz quadrada, entre outras), basta usá-las quando necessário.\n",
        "# Segue alguns exemplos:\n",
        "print('Seno',math.sin(90) )\n",
        "print('Cosseno',math.cos(100) )\n",
        "print('Potência',math.pow(2,8))\n",
        "print('Raiz quadrada',math.sqrt(24))\n",
        "math.pi"
      ]
    },
    {
      "cell_type": "code",
      "execution_count": null,
      "metadata": {
        "id": "0ttpLxh4m8Wh",
        "colab": {
          "base_uri": "https://localhost:8080/"
        },
        "outputId": "3bc9d924-80cc-4c21-a3e9-2929c576e1ee"
      },
      "outputs": [
        {
          "output_type": "stream",
          "name": "stdout",
          "text": [
            "Digite a altura da parede em metros: 3\n",
            "Digite o angulo da escada em relação ao chão: 180\n",
            "O tamanho da escada é de: 2.4496859029793056e+16 metros.\n"
          ]
        }
      ],
      "source": [
        "import math\n",
        "\n",
        "altura = float(input(\"Digite a altura da parede em metros: \"))\n",
        "angulo = float(input(\"Digite o angulo da escada em relação ao chão: \"))\n",
        "radiano = angulo*math.pi/180\n",
        "escada = altura/math.sin(radiano)\n",
        "\n",
        "print(f\"O tamanho da escada é de: {escada} metros.\")"
      ]
    },
    {
      "cell_type": "markdown",
      "metadata": {
        "id": "P2CNkCZ5hiJH"
      },
      "source": [
        "###19. Sabe-se que o quilowatt de energia custa um quinto do salário mínimo. Faça um programa que receba o valor do salário mínimo e a quantidade de quilowatts consumida por uma residência. Calcule e mostre:\n",
        "\n",
        "\n",
        "* o valor de cada quilowatt;\n",
        "* o valor a ser pago por essa residência;\n",
        "* o valor a ser pago com desconto de 15%.\n",
        "      LEIA valor_salario\n",
        "      LEIA qtde_quilowatt\n",
        "      valor_quilowatt = valor_salario / 5\n",
        "      valor_em_reais = valor_quilowatt * qtde_quilowatt\n",
        "      valor_descontado = valor_em_reais * 15 / 100\n",
        "      valor_com_desconto =  valor_em_reais − valor_descontado\n",
        "      ESCREVA valor_quilowatt\n",
        "      ESCREVA valor_em_reais\n",
        "      ESCREVA valor_com_desconto\n"
      ]
    },
    {
      "cell_type": "code",
      "execution_count": null,
      "metadata": {
        "id": "RJpeKC7NhmIf",
        "colab": {
          "base_uri": "https://localhost:8080/"
        },
        "outputId": "c5cec493-1c82-44db-b32b-50e1b837ffd4"
      },
      "outputs": [
        {
          "output_type": "stream",
          "name": "stdout",
          "text": [
            "Digite o valor do salário minímo: R$1400\n",
            "Digite a quantidade de kW: 2.5\n",
            "Valor do kW: R$  280.0\n",
            "Valor total: R$  700.0\n",
            "Valor com desconto: R$  595.0\n"
          ]
        }
      ],
      "source": [
        "salario = float(input(\"Digite o valor do salário minímo: R$\"))\n",
        "kW = float(input(\"Digite a quantidade de kW: \"))\n",
        "\n",
        "valor_kW = salario/5\n",
        "valor1 = valor_kW*kW\n",
        "desconto = valor1*(15/100)\n",
        "valor2 = valor1 - desconto\n",
        "\n",
        "print(\"Valor do kW: R$ \",valor_kW)\n",
        "print(\"Valor total: R$ \", valor1)\n",
        "print(\"Valor com desconto: R$ \", valor2)"
      ]
    },
    {
      "cell_type": "markdown",
      "metadata": {
        "id": "hDmdn0BWhmTx"
      },
      "source": [
        "### 20. Faça um programa que receba um número real, encontre e mostre:\n",
        "\n",
        "* a parte inteira desse número;\n",
        "* a parte fracionária desse número;\n",
        "* o arredondamento desse número.\n",
        "\n",
        "      LEIA numero\n",
        "      parte_inteira = numero // 1\n",
        "      parte_fracionaria = numero - parte_inteira\n",
        "      numero_arredondado = round (numero)\n",
        "      ESCREVA parte_inteira\n",
        "      ESCREVA parte_fracionaria\n",
        "      ESCREVA numero_arredondado\n",
        "      \n",
        "**Observação**: Para arredondar um número em Python, usa-se a função **round(numero)**, onde se o número real/float estiver em igual distância entre o inteiro de cima e o inteiro de baixo, esta função arredonda para o número mais próximo.\n",
        "\n"
      ]
    },
    {
      "cell_type": "code",
      "execution_count": null,
      "metadata": {
        "id": "sT5U0LgGhozg",
        "colab": {
          "base_uri": "https://localhost:8080/"
        },
        "outputId": "50f65057-f16a-456a-e4d0-38b17a9738d7"
      },
      "outputs": [
        {
          "output_type": "stream",
          "name": "stdout",
          "text": [
            "Digite o número real desejado: 5.13\n",
            "Parte inteira:  5.0\n",
            "Parte fracionária:  0.1299999999999999\n",
            "Número arredondado:  5\n"
          ]
        }
      ],
      "source": [
        "numero = float(input(\"Digite o número real desejado: \"))\n",
        "\n",
        "inteiro = numero // 1\n",
        "fraccao = numero - inteiro\n",
        "arredondamento = round(numero)\n",
        "\n",
        "print(\"Parte inteira: \", inteiro)\n",
        "print(\"Parte fracionária: \",fraccao)\n",
        "print(\"Número arredondado: \",arredondamento)"
      ]
    },
    {
      "cell_type": "markdown",
      "metadata": {
        "id": "0Ae-WDdAho8j"
      },
      "source": [
        "### 21. Faça um programa que receba uma hora formada por hora e minutos (um número real), calcule e mostre a hora digitada apenas em minutos. Lembre-se de que:\n",
        "* para quatro e meia, deve-se digitar 4.30;\n",
        "* os minutos vão de 0 a 59.\n",
        "      LEIA hora\n",
        "      h = pegar a parte inteira da variável hora\n",
        "      minutos = hora − h\n",
        "      conversao = (h * 60) + (minutos * 100)\n",
        "      ESCREVA conversao\n"
      ]
    },
    {
      "cell_type": "code",
      "execution_count": null,
      "metadata": {
        "id": "ePoxc4bohrQm",
        "colab": {
          "base_uri": "https://localhost:8080/"
        },
        "outputId": "72bc3af0-0817-4a19-b420-59e33be0eb0e"
      },
      "outputs": [
        {
          "output_type": "stream",
          "name": "stdout",
          "text": [
            "Digite o horário desejado (formato h.mm): 4.20\n",
            "260.0\n"
          ]
        }
      ],
      "source": [
        "hora = float(input(\"Digite o horário desejado (formato h.mm): \"))\n",
        "\n",
        "h = hora//1\n",
        "m = hora-h\n",
        "conversao = (h*60)+(m*100)\n",
        "\n",
        "print(conversao)"
      ]
    },
    {
      "cell_type": "markdown",
      "metadata": {
        "id": "-YjvNy_DhrZa"
      },
      "source": [
        "### 22. Faça um programa que receba o custo de um espetáculo teatral e o preço do convite desse espetáculo. Esse programa deverá calcular e mostrar a quantidade de convites que devem ser vendidos para que, pelo menos, o custo do espetáculo seja alcançado.\n"
      ]
    },
    {
      "cell_type": "code",
      "execution_count": null,
      "metadata": {
        "colab": {
          "base_uri": "https://localhost:8080/"
        },
        "id": "55qawy58hsl0",
        "outputId": "f2b1cb2a-6c9a-421a-d264-99a826b67c6f"
      },
      "outputs": [
        {
          "output_type": "stream",
          "name": "stdout",
          "text": [
            "Digite o custo do espetáculo: R$ 5000\n",
            "Digite o valor do convite: R$ 25\n",
            "É necessaário vender 200 convites para cobrir o custo.\n"
          ]
        }
      ],
      "source": [
        "custo = float(input(\"Digite o custo do espetáculo: R$ \"))\n",
        "convite = float(input(\"Digite o valor do convite: R$ \"))\n",
        "\n",
        "lucro = custo/convite\n",
        "\n",
        "print(\"É necessaário vender\", round(lucro), \"convites para cobrir o custo.\")\n"
      ]
    }
  ]
}