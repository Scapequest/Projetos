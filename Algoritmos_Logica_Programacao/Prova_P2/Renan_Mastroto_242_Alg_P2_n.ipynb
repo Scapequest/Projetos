{
  "nbformat": 4,
  "nbformat_minor": 0,
  "metadata": {
    "colab": {
      "provenance": []
    },
    "kernelspec": {
      "name": "python3",
      "display_name": "Python 3"
    },
    "language_info": {
      "name": "python"
    }
  },
  "cells": [
    {
      "cell_type": "markdown",
      "source": [
        "##**P2 - 2º. semestre/2024 -  Término: 20:40**\n",
        "##HOJE EU NÃO VERIFICO A LÓGICA/PROGRAMAÇÃO, NEM ERROS DE CÓDIGO, POIS É UMA PROVA DE CONSULTA.\n",
        "\n",
        "##>>>>>>>>>>> Não use os recurso de IA do Colab <<<<<<<<<<<<\n",
        "\n",
        "## É uma prova de consulta ao seu material, **apenas use os slides da disciplina de Algoritmo e as listas de exercícios do Colab da nossa aula**.\n",
        "\n",
        "##Caso entregue atrasado não será aceita a prova. **O Classroom/Collab NÃO DEIXA ENTREGAR FORA DO PRAZO**.\n",
        "\n",
        "##Depois de terminada a prova, **você NÃO PODE** MAIS ALTERAR O ARQUIVO DELA, essa ação fica registrada e assim a prova será **ANULADA**.\n",
        "\n",
        "##**Não é permitido o acesso a qualquer outro site/aplicativo para o desenvolvimento da prova, ou seja, apenas poderão estar abertas e visíveis as guias (no navegador de internet) do Classroom e Colab.**\n",
        "\n",
        "#Não é permitido o uso do celular no dia da prova.\n",
        "\n",
        "#Caso verifique que o Collab tenha algum problema, vá no menu, na opção AMBIENTE DE EXECUÇÃO, escolha a opção REINICIAR SESSÃO, celique em sim e tente executar novamente o seu programa.\n",
        "______________________________________________________\n",
        "\n",
        "\n",
        "\n"
      ],
      "metadata": {
        "id": "rL8d_83euGxQ"
      }
    },
    {
      "cell_type": "markdown",
      "source": [
        "##**1.** [1,5 pontos - **Estrutura de repetição sem contador**] Desenvolva um programa utilizando a linguagem Python, que calcule e apresente a soma de faturamentos (devem ser digitados) de alguns meses de uma cooperativa. Não é informado a quantidade de meses, então use como critério de parada (condição da estrutura de repetição), digitar zero no valor do faturamento para sair.\n"
      ],
      "metadata": {
        "id": "BunPfvgA_W4k"
      }
    },
    {
      "cell_type": "code",
      "source": [
        "faturamento = float(input(\"Digite o faturamento: R$ \"))\n",
        "soma = 0\n",
        "while faturamento != 0:\n",
        "    soma += faturamento\n",
        "    faturamento = float(input(\"Digite o faturamento: R$ \"))\n",
        "print(f\"\\nA soma dos faturamentos é: R$ {soma:.2f}\")"
      ],
      "metadata": {
        "id": "Z5n6IDMRhkKj",
        "colab": {
          "base_uri": "https://localhost:8080/"
        },
        "outputId": "4eca0d5c-fd7a-4591-f8f3-53fffcdf06a6"
      },
      "execution_count": null,
      "outputs": [
        {
          "output_type": "stream",
          "name": "stdout",
          "text": [
            "Digite o faturamento: R$ 90\n",
            "Digite o faturamento: R$ 100\n",
            "Digite o faturamento: R$ 400\n",
            "Digite o faturamento: R$ 310\n",
            "Digite o faturamento: R$ 500\n",
            "Digite o faturamento: R$ 700\n",
            "Digite o faturamento: R$ 200\n",
            "Digite o faturamento: R$ 90\n",
            "Digite o faturamento: R$ 10\n",
            "Digite o faturamento: R$ 1000\n",
            "Digite o faturamento: R$ 500\n",
            "Digite o faturamento: R$ 300\n",
            "Digite o faturamento: R$ 290\n",
            "Digite o faturamento: R$ 710\n",
            "Digite o faturamento: R$ 0\n",
            "\n",
            "A soma dos faturamentos é: R$ 5200.00\n"
          ]
        }
      ]
    },
    {
      "cell_type": "markdown",
      "metadata": {
        "id": "_aPd4c1b3OjS"
      },
      "source": [
        "##**2.** [3,0 pontos - **Vetor**] Desenvolva um programa, utilizando a linguagem Python, que leia/digite num vetor, o valor de faturamento bruto de 5 cooperativas.\n",
        "##Sabe-se que as cooperativas possuem um desconto de 7% sobre o faturamento bruto, gerando assim, o faturamento líquido.\n",
        "##Em um segundo vetor, calcule e armazene o faturamento líquido.\n",
        "##Ao final apresente o vetor de faturamento líquido.\n",
        "\n",
        "##Observação: Apenas podem ser utilizadas as funções append() e len()"
      ]
    },
    {
      "cell_type": "code",
      "metadata": {
        "id": "e0fZnaiYhgpc",
        "colab": {
          "base_uri": "https://localhost:8080/"
        },
        "outputId": "69cc6a4a-c97b-43cc-e627-c54979a621ce"
      },
      "source": [
        "faturamento_bruto = []\n",
        "faturamento_liquido = []\n",
        "\n",
        "for i in range(5):\n",
        "    faturamento_bruto.append(float(input(f\"Digite o faturamento da {i+1}ª cooperativa: R$ \")))\n",
        "\n",
        "for i in range(len(faturamento_bruto)):\n",
        "    faturamento_liquido.append(faturamento_bruto[i]*0.93)\n",
        "\n",
        "print(f\"\\nVetor dos faturamentos líquidos:\\n{faturamento_liquido}\")"
      ],
      "execution_count": null,
      "outputs": [
        {
          "output_type": "stream",
          "name": "stdout",
          "text": [
            "Digite o faturamento da 1ª cooperativa: R$ 765\n",
            "Digite o faturamento da 2ª cooperativa: R$ 902\n",
            "Digite o faturamento da 3ª cooperativa: R$ 567\n",
            "Digite o faturamento da 4ª cooperativa: R$ 230\n",
            "Digite o faturamento da 5ª cooperativa: R$ 650\n",
            "\n",
            "Vetor dos faturamentos líquidos:\n",
            "[711.45, 838.86, 527.3100000000001, 213.9, 604.5]\n"
          ]
        }
      ]
    },
    {
      "cell_type": "markdown",
      "source": [
        "##**3.**  [2,5 pontos - **Matriz**] Desenvolva um programa utilizando a linguagem Python, que leia/digite uma matriz 3 x 2, que representa preços de produtos. Encontre e maior preço e apresente: o valor, a linha e a coluna em que ele esta armazenado na matriz.\n",
        "##Observação: Apenas podem ser utilizadas as funções append() e len()"
      ],
      "metadata": {
        "id": "wv8824fniu4p"
      }
    },
    {
      "cell_type": "code",
      "source": [
        "matriz = []\n",
        "\n",
        "for l in range(3):\n",
        "    linha = []\n",
        "    for c in range(2):\n",
        "        linha.append(float(input(f\"Digite o {c+1}º valor da {l+1}ª linha: R$\")))\n",
        "    matriz.append(linha)\n",
        "\n",
        "print(f\"\\nMatriz {len(matriz)}x{len(matriz[0])}\")\n",
        "for l in range(len(matriz)):\n",
        "    for c in range(len(matriz[l])):\n",
        "        print(f\"{matriz[l][c]:.2f}\", end=\" \")\n",
        "    print()\n",
        "\n",
        "maior = 0\n",
        "linha = 0\n",
        "coluna = 0\n",
        "\n",
        "for l in range(len(matriz)):\n",
        "    for c in range(len(matriz[l])):\n",
        "        if matriz[l][c] > maior:\n",
        "            maior = matriz[l][c]\n",
        "            linha = l\n",
        "            coluna = c\n",
        "\n",
        "print(f\"\\nO maior valor é R$ {maior:.2f}, armazenado na linha {linha} e coluna {coluna}.\")"
      ],
      "metadata": {
        "id": "BfvcNf4FXZGu",
        "colab": {
          "base_uri": "https://localhost:8080/"
        },
        "outputId": "a159ae98-bfd0-47b2-9c3b-e5cd0f14ce2a"
      },
      "execution_count": null,
      "outputs": [
        {
          "output_type": "stream",
          "name": "stdout",
          "text": [
            "Digite o 1º valor da 1ª linha: R$300\n",
            "Digite o 2º valor da 1ª linha: R$500\n",
            "Digite o 1º valor da 2ª linha: R$300\n",
            "Digite o 2º valor da 2ª linha: R$400\n",
            "Digite o 1º valor da 3ª linha: R$900\n",
            "Digite o 2º valor da 3ª linha: R$100\n",
            "\n",
            "Matriz 3x2\n",
            "300.00 500.00 \n",
            "300.00 400.00 \n",
            "900.00 100.00 \n",
            "\n",
            "O maior valor é R$ 900.0, armazenado na linha 2 e coluna 0.\n"
          ]
        }
      ]
    }
  ]
}