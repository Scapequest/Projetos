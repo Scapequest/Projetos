{
  "nbformat": 4,
  "nbformat_minor": 0,
  "metadata": {
    "colab": {
      "provenance": []
    },
    "kernelspec": {
      "name": "python3",
      "display_name": "Python 3"
    },
    "language_info": {
      "name": "python"
    }
  },
  "cells": [
    {
      "cell_type": "markdown",
      "source": [
        "##**P1 - 1º. semestre/2025 -  Término: 22:30**\n",
        "##HOJE EU NÃO VERIFICO A LÓGICA/PROGRAMAÇÃO, NEM ERROS DE CÓDIGO, POIS É UMA PROVA DE CONSULTA.\n",
        "\n",
        "##**>>>>>>>>>>> Não use os recurso de IA do Colab <<<<<<<<<<<< Vá no menu Ferramentas->Configurações->Assistente de IA->escolha >>> APENAS >>> \"Ocultar recursos de IA generativa\"**\n",
        "\n",
        "## É uma prova de consulta ao seu material, **apenas use os slides da disciplina e as listas de exercícios do Colab da nossa aula**.\n",
        "\n",
        "##Caso entregue atrasado não será aceita a prova. **O Classroom/Collab NÃO DEIXA ENTREGAR FORA DO PRAZO**.\n",
        "\n",
        "##Depois de terminada a prova, **você NÃO PODE** MAIS ALTERAR O ARQUIVO DELA, essa ação fica registrada e assim a prova será **ANULADA**.\n",
        "\n",
        "##**Não é permitido o acesso a qualquer outro site/aplicativo para o desenvolvimento da prova, ou seja, apenas poderão estar abertas e visíveis as guias (no navegador de internet) do Classroom e Colab.**\n",
        "\n",
        "#Não é permitido o uso do celular no dia da prova.\n",
        "\n",
        "##Na próxima aula, na próxima semana será realizada a correção da prova.\n",
        "\n",
        "#Caso verifique algum erro do COLLAB, vá no menu, na opção Ambiente Execução, escolha a opção Reiniciar Sessão, clique em sim e tente executar novamente o seu exercício. Se não corrigir, então é um problema de lógica, seu.\n",
        "______________________________________________________\n",
        "\n",
        "\n",
        "\n"
      ],
      "metadata": {
        "id": "rL8d_83euGxQ"
      }
    },
    {
      "cell_type": "markdown",
      "source": [
        "##**1.** [3,0 ponto] Um supermercado do estado de São Paulo precisa de um programa, feito em Python que calcule o imposto ICMS (Imposto sobre Circulação de Mercadorias e Serviços) sobre as mercadorias. Desenvolva as funções, utilizando a linguagem Python:\n",
        "\n",
        "##a)\tFunção calcular_icms:\n",
        "* Receba dois parâmetros: valor_mercadoria e aliquota_icms\n",
        "* Calcule o valor do ICMS usando a fórmula ICMS = valor_mercadoria × aliquota_icms\n",
        "* Retorne o valor do ICMS\n",
        "\n",
        "##b)\tFunção calcular_custo_total:\n",
        "* Receba dois parâmetros: valor_mercadoria e aliquota_icms\n",
        "* Chame a função calcular_icms para obter o valor do ICMS\n",
        "* Calcule o custo total usando a fórmula custo_total = valor_mercadoria + ICMS\n",
        "Retorne o valor do custo total e apresente\n",
        "\n",
        "##c)\tFunção main:\n",
        "* \tChame a função calcular_custo_total\n",
        "\n",
        "##**Observação**: Não use estrutura de repetição, vetor, matriz, bibliotecas, ou qualquer outra função pronta do Python\n",
        "\n"
      ],
      "metadata": {
        "id": "BunPfvgA_W4k"
      }
    },
    {
      "cell_type": "code",
      "source": [
        "def calcular_icms(valor_mercadoria, aliquota_icms):\n",
        "    valor_icms = valor_mercadoria * (aliquota_icms/100)\n",
        "    return valor_icms\n",
        "\n",
        "def calcular_custo_total(valor_mercadoria, aliquota_icms):\n",
        "    icms = calcular_icms(valor_mercadoria, aliquota_icms)\n",
        "    custo_total = valor_mercadoria + icms\n",
        "    print(f\"Valor do ICMS: R$ {icms:.2f}\")\n",
        "    return custo_total\n",
        "\n",
        "def main():\n",
        "    valor_mercadoria = float(input(\"Digite o valor da mercadoria: R$ \"))\n",
        "    aliquota_icms = float(input(\"Digite a alíquota do ICMS (em %): \"))\n",
        "    custo_total = calcular_custo_total(valor_mercadoria, aliquota_icms)\n",
        "    print(f\"Custo total da mercadoria: R$ {custo_total:.2f}\")\n",
        "\n",
        "main()"
      ],
      "metadata": {
        "id": "Z5n6IDMRhkKj",
        "colab": {
          "base_uri": "https://localhost:8080/"
        },
        "outputId": "aa33b0b6-c7d9-44b4-84cf-a337c84ce5a2"
      },
      "execution_count": null,
      "outputs": [
        {
          "output_type": "stream",
          "name": "stdout",
          "text": [
            "Digite o valor da mercadoria: R$ 350\n",
            "Digite a aliquota do ICMS (em %): 6\n",
            "Valor do ICMS: R$ 21.00\n",
            "Custo total da mercadoria: R$ 371.00\n"
          ]
        }
      ]
    },
    {
      "cell_type": "markdown",
      "metadata": {
        "id": "_aPd4c1b3OjS"
      },
      "source": [
        "##**2.** [3,0 ponto] Uma empresa precisa de um programa feito em Python que calcule o quilômetro rodado de um TAXI e o cálculo do custo que é gerado por algumas corridas num dia. Desenvolva as funções, utilizando a linguagem Python:\n",
        "\n",
        "##a)\tFunção calcular_km_rodado:\n",
        "* \tReceba o valor distancia_total como parâmetro\n",
        "* \tReceba o valor do consumo_combustivel como parâmetro\n",
        "* \tCalcule o quilômetro rodado por litro de combustível usando a fórmula km_por_litro = distancia_total / consumo_combustivel\n",
        "* \tRetorne o valor do quilômetro rodado por litro\n",
        "\n",
        "##b)\tFunção calcular_custo:\n",
        "* \tReceba o valor distancia_total, custo_por_litro e o km_por_litro, como parâmetros\n",
        "* \tCalcule o total de litros consumidos usando a fórmula litros_consumidos = distancia_total / km_por_litro\n",
        "*\tCalcule o custo total usando a fórmula custo_total = litros_consumidos × custo_por_litro\n",
        "*\tRetorne o valor do custo total e apresenta o resultado.\n",
        "\n",
        "##c)\tFunção main:\n",
        "* \tChame a função calcular_km_rodado\n",
        "* \tChame a função calcular_custo\n",
        "\n",
        "##**Observação**: Não use estrutura de repetição, vetor, matriz, bibliotecas, ou qualquer outra função pronta do Python"
      ]
    },
    {
      "cell_type": "code",
      "metadata": {
        "id": "e0fZnaiYhgpc",
        "colab": {
          "base_uri": "https://localhost:8080/"
        },
        "outputId": "c37687c0-adea-4364-bb39-eecf1347ade1"
      },
      "source": [
        "def calcular_km_litro(distancia_total, consumo_combustivel):\n",
        "    km_litro = distancia_total / consumo_combustivel\n",
        "    return km_litro\n",
        "\n",
        "def calcular_custo(distancia_total, custo_litro, km_litro):\n",
        "    litros_consumidos = distancia_total / km_litro\n",
        "    custo_total = litros_consumidos * custo_litro\n",
        "    return custo_total\n",
        "\n",
        "def main():\n",
        "    distancia_total = int(input(\"Digite a distância percorrida (em km): \"))\n",
        "    consumo_combustivel = float(input(\"Digite a quantidade de combustível consumido (em L): \"))\n",
        "    custo_litro = float(input(\"Digite o valor do litro de combustível: R$ \"))\n",
        "    km_litro = calcular_km_litro(distancia_total, consumo_combustivel)\n",
        "    custo_total = calcular_custo(distancia_total, custo_litro, km_litro)\n",
        "    print(f\"\\nQuilômetro rodado por litro de combustível: {km_litro:.1f} km/L\")\n",
        "    print(f\"Custo total: R$ {custo_total:.2f}\")\n",
        "\n",
        "main()"
      ],
      "execution_count": null,
      "outputs": [
        {
          "output_type": "stream",
          "name": "stdout",
          "text": [
            "Digite a distância percorrida (em km): 95\n",
            "Digite a quantidade de combustível consumido (em L): 13.75\n",
            "Digite o valor do litro de combustível: R$ 4.012\n",
            "\n",
            "Quilômetro rodado por litro de combustível: 6.9 km/L\n",
            "Custo total: R$ 55.16\n"
          ]
        }
      ]
    }
  ]
}