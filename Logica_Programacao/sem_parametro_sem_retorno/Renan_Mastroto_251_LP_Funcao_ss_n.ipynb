{
  "nbformat": 4,
  "nbformat_minor": 0,
  "metadata": {
    "colab": {
      "provenance": []
    },
    "kernelspec": {
      "name": "python3",
      "display_name": "Python 3"
    },
    "language_info": {
      "name": "python"
    }
  },
  "cells": [
    {
      "cell_type": "markdown",
      "source": [
        "### 1. (Função sem retorno sem parâmetro) Faça um programa contendo uma função/método que leia um número e o multiplique por 2. Apresente o resultado. EXEMPLO."
      ],
      "metadata": {
        "id": "M5n5-Zgkjfq_"
      }
    },
    {
      "cell_type": "code",
      "source": [
        "def multiplica():\n",
        "    x = float(input(\"Digite o número: \"))\n",
        "    z = x * 2\n",
        "    print(z)\n",
        "\n",
        "def main():\n",
        "    multiplica()\n",
        "\n",
        "main()"
      ],
      "metadata": {
        "id": "xPwnHKnifEU5",
        "colab": {
          "base_uri": "https://localhost:8080/"
        },
        "outputId": "646a4a38-b753-4f17-cb87-e8d63df364cc"
      },
      "execution_count": null,
      "outputs": [
        {
          "output_type": "stream",
          "name": "stdout",
          "text": [
            "Digite o número: 9\n",
            "18.0\n"
          ]
        }
      ]
    },
    {
      "cell_type": "markdown",
      "metadata": {
        "id": "skN-Wz61xZzi"
      },
      "source": [
        "### 2. (Função sem retorno sem parâmetro) Faça um programa contendo uma função/método que apresente o valor 1 se o número digitado for positivo e 0 se for negativo."
      ]
    },
    {
      "cell_type": "code",
      "source": [
        "def booleano():\n",
        "    numero = float(input(\"Digite o número: \"))\n",
        "    if numero > 0:\n",
        "        print('1')\n",
        "    elif numero < 0:\n",
        "        print('0')\n",
        "    else:\n",
        "        print(\"?\")\n",
        "\n",
        "def main():\n",
        "    booleano()\n",
        "\n",
        "main()"
      ],
      "metadata": {
        "id": "MDtE7mKPyXqE",
        "colab": {
          "base_uri": "https://localhost:8080/"
        },
        "outputId": "5ffa045f-28fc-47d8-fcf5-c7f6cf735e39"
      },
      "execution_count": null,
      "outputs": [
        {
          "output_type": "stream",
          "name": "stdout",
          "text": [
            "Digite o número: 0\n",
            "?\n"
          ]
        }
      ]
    },
    {
      "cell_type": "markdown",
      "metadata": {
        "id": "0jPoba3-yLnG"
      },
      "source": [
        "### 3. (Função sem retorno sem parâmetro) Faça uma função/método que leia dois valores positivos e apresente a soma dos N números existentes entre eles (inclusive).\n",
        "    Exemplo:\n",
        "        a = 2\n",
        "        b = 8\n",
        "        2 + 3 + 4 + 5 + 6 + 7 + 8\n",
        "        soma = 35"
      ]
    },
    {
      "cell_type": "code",
      "metadata": {
        "id": "UHD2oMlJyLzc",
        "colab": {
          "base_uri": "https://localhost:8080/"
        },
        "outputId": "0253fb69-34fe-4cf8-df8b-d65e80bc8867"
      },
      "source": [
        "def soma():\n",
        "    numero_inicio = int(input(\"Digite o primeiro número: \"))\n",
        "    numero_final = (int(input(\"Digite o segundo número: \")))\n",
        "    soma = 0\n",
        "    for i in range(numero_inicio, numero_final+1):\n",
        "        soma += i\n",
        "        if i != numero_final:\n",
        "            print(f\"{i} + \", end=\"\")\n",
        "        else:\n",
        "            print(f\"{i} = {soma}\")\n",
        "def main():\n",
        "    soma()\n",
        "\n",
        "main()"
      ],
      "execution_count": null,
      "outputs": [
        {
          "output_type": "stream",
          "name": "stdout",
          "text": [
            "Digite o primeiro número: 12\n",
            "Digite o segundo número: 25\n",
            "12 + 13 + 14 + 15 + 16 + 17 + 18 + 19 + 20 + 21 + 22 + 23 + 24 + 25 = 259\n"
          ]
        }
      ]
    },
    {
      "cell_type": "markdown",
      "metadata": {
        "id": "HAz_eYfhzg06"
      },
      "source": [
        "### 4. (Função sem retorno sem parâmetro) Faça uma função/método que receba três números inteiros *a*, *b*, *c* que sejam divisíveis por ***a***. Os valores *b* e *c* representam o intervalo da estrutura de repetição. Apresente a quantidade e os números divisíveis. Não pode usar vetor e função pronta da linguagem Python.\n",
        "    Exemplo:\n",
        "        a = 5\n",
        "        b = 1\n",
        "        c = 10\n",
        "        1 % a\n",
        "        2 % a\n",
        "        3 % a\n",
        "        4 % a\n",
        "        5 % a este valor é divisível\n",
        "        6 % a\n",
        "        7\n",
        "        8\n",
        "        9\n",
        "        10 % a este valor é divisível\n",
        "        qtde = 2\n"
      ]
    },
    {
      "cell_type": "code",
      "metadata": {
        "id": "Cg-NIjInzfmU",
        "colab": {
          "base_uri": "https://localhost:8080/"
        },
        "outputId": "8819ae39-e6d1-40b6-a72e-9dd044dff8b8"
      },
      "source": [
        "def divisivel():\n",
        "    numero_ref = int(input(\"Digite o número referência: \"))\n",
        "    numero_inicio = int(input(\"Digite o primeiro número: \"))\n",
        "    numero_final = int(input(\"Digite o segundo número: \"))\n",
        "    quantidade = 0\n",
        "    for i in range(numero_inicio, numero_final+1):\n",
        "        if i % numero_ref == 0:\n",
        "            print(f\"{i}/{numero_ref} = {i / numero_ref:.0f} -> Este valor é divisível!\")\n",
        "            quantidade += 1\n",
        "    print(f\"Quantidade de números divisíveis por {numero_ref}: {quantidade}\")\n",
        "\n",
        "def main():\n",
        "    divisivel()\n",
        "\n",
        "main()"
      ],
      "execution_count": null,
      "outputs": [
        {
          "output_type": "stream",
          "name": "stdout",
          "text": [
            "Digite o número referência: 5\n",
            "Digite o primeiro número: 1\n",
            "Digite o segundo número: 14\n",
            "5/5 = 1 -> Este valor é divisível!\n",
            "10/5 = 2 -> Este valor é divisível!\n",
            "Quantidade de números divisíveis por 5: 2\n"
          ]
        }
      ]
    },
    {
      "cell_type": "markdown",
      "metadata": {
        "id": "_aPd4c1b3OjS"
      },
      "source": [
        "### 5. (Função sem retorno sem parâmetro) Faça uma função/método que leia um único valor representado em segundos, converta-o e apresente o resultado em horas, minutos e segundos.\n",
        "    h = segundos / 3600\n",
        "    r = resto(segundos / 3600)\n",
        "    m = r / 60\n",
        "    s = resto(r / 60)\n",
        "    Observação 1: resto de uma divisão em Python %.\n",
        "    Observação 2: a hora, o minuto e o segundo devem ser apresentados como números inteiros."
      ]
    },
    {
      "cell_type": "code",
      "metadata": {
        "id": "Q6LPIy_LCQuO",
        "colab": {
          "base_uri": "https://localhost:8080/"
        },
        "outputId": "ea3568c0-50cd-47f5-8380-87f7b6d5e34a"
      },
      "source": [
        "def converter_segundos():\n",
        "    entrada = int(input(\"Digite o valor em segundos: \"))\n",
        "    hora = entrada / 3600\n",
        "    resto = entrada % 3600\n",
        "    minuto = resto / 60\n",
        "    segundo = resto % 60\n",
        "    print(f\"Horas: {int(hora)}\\nMinutos: {int(minuto)}\\nSegundos: {int(segundo)}\")\n",
        "def main():\n",
        "    converter_segundos()\n",
        "\n",
        "main()"
      ],
      "execution_count": null,
      "outputs": [
        {
          "output_type": "stream",
          "name": "stdout",
          "text": [
            "Digite o valor em segundos: 3600\n",
            "Horas: 1\n",
            "Minutos: 0\n",
            "Segundos: 0\n"
          ]
        }
      ]
    },
    {
      "cell_type": "markdown",
      "metadata": {
        "id": "JgYwP3n1CQ_U"
      },
      "source": [
        "### 6. (Função sem retorno sem parâmetro) Faça uma função/método que receba o preço antigo e atual de um produto, determine o percentual de acréscimo entre esses valores e apresente-o.\n",
        "    r = (100 * preco_novo - 100 * preco_antigo) / preco_antigo"
      ]
    },
    {
      "cell_type": "code",
      "metadata": {
        "id": "fb6TwQ_yh_To",
        "colab": {
          "base_uri": "https://localhost:8080/"
        },
        "outputId": "746a6e7b-a0a3-4b1a-f1aa-13c0c6687a75"
      },
      "source": [
        "def aumento():\n",
        "    preco_novo = float(input(\"Digite o preço novo: R$ \"))\n",
        "    preco_antigo = float(input(\"Digite o preço antigo: R$ \"))\n",
        "    acrescimo = ((preco_novo - preco_antigo)*100) / preco_antigo\n",
        "    print(f\"O produto teve um aumento de {acrescimo:.0f}%\")\n",
        "\n",
        "def main():\n",
        "    aumento()\n",
        "\n",
        "main()"
      ],
      "execution_count": null,
      "outputs": [
        {
          "output_type": "stream",
          "name": "stdout",
          "text": [
            "Digite o preço novo: R$ 350\n",
            "Digite o preço antigo: R$ 200\n",
            "O produto teve um aumento de 75%\n"
          ]
        }
      ]
    },
    {
      "cell_type": "markdown",
      "metadata": {
        "id": "fZNXRUrrh_g9"
      },
      "source": [
        "### 7. (Função sem retorno sem parâmetro) Faça uma função/método que leia um valor inteiro entre 1 e 9 e mostre a seguinte tabela de **multiplicação**\n",
        "Neste exemplo foi escolhido o número 9.\n",
        "\n",
        "    1    \n",
        "    2     4\n",
        "    3     6     9\n",
        "    4     8    12    16\n",
        "    5    10    15    20    25\n",
        "    6    12    18    24    30    36\n",
        "    7    14    21    28    35    42    49\n",
        "    8    16    24    32    40    48    56    64   \n",
        "    9    18    27    36    45    54    63    72    81\n",
        "    for i = 1 até n\n",
        "       for j = 1 até i\n",
        "       \n",
        "    Observação: configure o print para não pular linha, use o parâmetro end."
      ]
    },
    {
      "cell_type": "code",
      "metadata": {
        "id": "qA3MK3i1lJ-B",
        "colab": {
          "base_uri": "https://localhost:8080/"
        },
        "outputId": "b654fd5a-3039-49ec-901a-975760a52b07"
      },
      "source": [
        "def piramede():\n",
        "    numero = int(input(\"Digite o número (de 1 a 9): \"))\n",
        "    for i in range(0, numero+1):\n",
        "        for j in range(1, i+1):\n",
        "            print(f\"{i*j:2.0f}\", end=\" \")\n",
        "        print(\"\\t\")\n",
        "\n",
        "def main():\n",
        "    piramede()\n",
        "\n",
        "main()"
      ],
      "execution_count": null,
      "outputs": [
        {
          "output_type": "stream",
          "name": "stdout",
          "text": [
            "Digite o número (de 1 a 9): 9\n",
            "\t\n",
            " 1 \t\n",
            " 2  4 \t\n",
            " 3  6  9 \t\n",
            " 4  8 12 16 \t\n",
            " 5 10 15 20 25 \t\n",
            " 6 12 18 24 30 36 \t\n",
            " 7 14 21 28 35 42 49 \t\n",
            " 8 16 24 32 40 48 56 64 \t\n",
            " 9 18 27 36 45 54 63 72 81 \t\n"
          ]
        }
      ]
    },
    {
      "cell_type": "markdown",
      "metadata": {
        "id": "qC3ghcOalLBi"
      },
      "source": [
        "### 8. (Função sem retorno sem parâmetro) Faça uma função/método que leia três notas de um aluno e uma letra, se a letra for igual a *A*, deverá calcular a média aritimética das notas dos alunos, se for *P*, deverá calcular a média ponderada, com pesos 5, 3 e 2. A média deve ser mostrada ao final.\n",
        "N1, N2 e N3 são notas.\n",
        "\n",
        "P1, P2 e P3 são pesos.\n",
        "\n",
        "Média ponderada = (N1 * P1 + N2 * P2 + N3 * P3 ) / (P1 + P2 + P3)"
      ]
    },
    {
      "cell_type": "code",
      "metadata": {
        "id": "73QPAAO0q2Wo",
        "colab": {
          "base_uri": "https://localhost:8080/"
        },
        "outputId": "6825fd7c-14bf-4b00-b351-9f39824514ef"
      },
      "source": [
        "def calcular_medias():\n",
        "    notas = []\n",
        "    pesos = [5, 3, 2]\n",
        "    for i in range(3):\n",
        "        notas.append(float(input(f\"Digite a {i+1}ª nota: \")))\n",
        "    letra = input(\"Digite A para Média Aritmética ou P para Média Ponderada (Pesos: 5, 3 e 2): \")\n",
        "    if letra.upper() == \"A\":\n",
        "        media_arit = sum(notas)/len(notas)\n",
        "        print(f\"A Média Aritmética é: {media_arit:.2f}\")\n",
        "    if letra.upper() == \"P\":\n",
        "        total_notas = 0\n",
        "        for i in range(len(notas)):\n",
        "            total_notas += notas[i]*pesos[i]\n",
        "        media_pond = total_notas / sum(pesos)\n",
        "        print(f\"A Média Ponderada é: {media_pond:.2f}\")\n",
        "    else:\n",
        "        print(\"Opção Inválida\")\n",
        "\n",
        "def main():\n",
        "    calcular_medias()\n",
        "\n",
        "main()"
      ],
      "execution_count": null,
      "outputs": [
        {
          "output_type": "stream",
          "name": "stdout",
          "text": [
            "Digite a 1ª nota: 7\n",
            "Digite a 2ª nota: 8\n",
            "Digite a 3ª nota: 9\n",
            "Digite A para Média Aritmética ou P para Média Ponderada (Pesos: 5, 3 e 2): p\n",
            "A Média Ponderada é: 7.70\n"
          ]
        }
      ]
    },
    {
      "cell_type": "markdown",
      "metadata": {
        "id": "Go_7xqNQq2oY"
      },
      "source": [
        "### 9. (Função sem retorno sem parâmetro) Faça uma função/método que leia uma hora de início e de término de um jogo, ambas divididas em dois valores distintos: hora e minuto. Deverá ser apresentado a duração expressa em minutos, considerando que o tempo máximo de duração de um jogo é de 24 horas e que ele pode começar em um dia e terminar no outro.\n",
        "    se m_f < m_i\n",
        "        m_f = m_f + 60\n",
        "        h_f = h_f - 1\n",
        "    se h_f < h_i\n",
        "        h_f = h_f + 24\n",
        "    tot_m = m_f - m_i\n",
        "    tot_h = h_f - h_i\n",
        "    total = tot_h * 60 + tot_m"
      ]
    },
    {
      "cell_type": "code",
      "metadata": {
        "id": "BgfVTL9-0WQi",
        "colab": {
          "base_uri": "https://localhost:8080/"
        },
        "outputId": "69dab370-ba59-465e-bf15-1c8266c0a4b0"
      },
      "source": [
        "def duracao():\n",
        "    hora_inicio = int(input(\"Digite a hora de início: \"))\n",
        "    minuto_inicio = int(input(\"Digite o minuto de início: \"))\n",
        "    hora_termino = int(input(\"Digite a hora de término: \"))\n",
        "    minuto_termino = int(input(\"Digite o minuto de término: \"))\n",
        "\n",
        "    if minuto_termino < minuto_inicio:\n",
        "        minuto_termino += 60\n",
        "        hora_termino -= 1\n",
        "    if hora_termino < hora_inicio:\n",
        "        hora_termino += 24\n",
        "\n",
        "    duracao_minuto = minuto_termino - minuto_inicio\n",
        "    duracao_hora = hora_termino - hora_inicio\n",
        "    duracao = duracao_hora * 60 + duracao_minuto\n",
        "\n",
        "    print(f\"A duração é de {duracao} minutos.\")\n",
        "\n",
        "def main():\n",
        "    duracao()\n",
        "\n",
        "main()"
      ],
      "execution_count": null,
      "outputs": [
        {
          "output_type": "stream",
          "name": "stdout",
          "text": [
            "Digite a hora de início: 14\n",
            "Digite o minuto de início: 30\n",
            "Digite a hora de término: 10\n",
            "Digite o minuto de término: 25\n",
            "A duração é de 1195 minutos.\n"
          ]
        }
      ]
    },
    {
      "cell_type": "markdown",
      "metadata": {
        "id": "IGOQmdAe0myM"
      },
      "source": [
        "### 10. (Função sem retorno sem parâmetro) Faça uma função/método que leia cinco valores inteiros, determine e mostre o maior e o menor deles. Não pode usar vetor e função pronta da linguagem Python."
      ]
    },
    {
      "cell_type": "code",
      "metadata": {
        "id": "A4-CekXy0vrz",
        "colab": {
          "base_uri": "https://localhost:8080/"
        },
        "outputId": "4386886c-8c78-4942-86f9-b2c4730191c7"
      },
      "source": [
        "def encontrar_maior_menor():\n",
        "    primeiro_valor = int(input(\"Digite o primeiro valor: \"))\n",
        "    maior = primeiro_valor\n",
        "    menor = primeiro_valor\n",
        "    for i in range(4):\n",
        "        valor = int(input(f\"Digite o {i + 2}º valor: \"))\n",
        "        if valor > maior:\n",
        "            maior = valor\n",
        "        if valor < menor:\n",
        "            menor = valor\n",
        "    print(f\"O maior valor é: {maior}\")\n",
        "    print(f\"O menor valor é: {menor}\")\n",
        "\n",
        "def main():\n",
        "    encontrar_maior_menor()\n",
        "\n",
        "main()"
      ],
      "execution_count": null,
      "outputs": [
        {
          "output_type": "stream",
          "name": "stdout",
          "text": [
            "Digite o primeiro valor: 50\n",
            "Digite o 2º valor: 12\n",
            "Digite o 3º valor: 48\n",
            "Digite o 4º valor: 36\n",
            "Digite o 5º valor: 74\n",
            "O maior valor é: 74\n",
            "O menor valor é: 12\n"
          ]
        }
      ]
    },
    {
      "cell_type": "markdown",
      "metadata": {
        "id": "W2PqWZm20v6M"
      },
      "source": [
        "### 11. (Função sem retorno sem parâmetro) Faça uma função/método que leia um valor inteiro e positivo N e mostre o valor de S, obtido pelo seguinte cálculo:\n",
        "###S = 1  +  1/1!  +  1/2!  +  1/3!  + ... +  1/N!\n",
        "\n",
        "Observvação: Não pode usar vetor e função pronta da linguagem Python."
      ]
    },
    {
      "cell_type": "code",
      "metadata": {
        "id": "U9eTKxuz1c7S",
        "colab": {
          "base_uri": "https://localhost:8080/"
        },
        "outputId": "4d1ff14b-dc5a-4289-d23f-09211211863f"
      },
      "source": [
        "def fator():\n",
        "    numero = int(input(\"Digite o valor desejado: \"))\n",
        "    S = 1\n",
        "    for i in range(1, numero+1):\n",
        "        fatorial = 1\n",
        "        for j in range(1, i+1):\n",
        "            fatorial *= j\n",
        "        S += (1/fatorial)\n",
        "    print(f\"Resultado: {S:.30f}\")\n",
        "\n",
        "def main():\n",
        "    fator()\n",
        "\n",
        "main()"
      ],
      "execution_count": null,
      "outputs": [
        {
          "output_type": "stream",
          "name": "stdout",
          "text": [
            "Digite o valor desejado: 5\n",
            "Resultado: 2.716666666666666341001246109954\n"
          ]
        }
      ]
    }
  ]
}