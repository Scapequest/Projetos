{
  "cells": [
    {
      "cell_type": "markdown",
      "source": [
        "# Exemplos de criação e armazenamento de dados em arquivo.\n"
      ],
      "metadata": {
        "id": "SWgZiAwtH28H"
      }
    },
    {
      "cell_type": "code",
      "source": [
        "import requests\n",
        "# URL da API pública (exemplo)\n",
        "url = \"https://jsonplaceholder.typicode.com/users\"\n",
        "# Fazendo a requisição GET(tipo de método de requisição HTTP,\n",
        "# usado para recuperar informações de um servidor)\n",
        "resposta = requests.get(url)\n",
        "# Verificando se a resposta foi bem-sucedida (código 200)\n",
        "if resposta.status_code == 200:\n",
        "    dados = resposta.json()  # Convertendo a resposta para JSON\n",
        "    for usuario in dados:\n",
        "        print(f\"Nome: {usuario['name']}, Email: {usuario['email']}\")\n",
        "else:\n",
        "    print(f\"Erro na requisição: {resposta.status_code}\")\n",
        "**********************************************************\n",
        "**********************************************************\n",
        "**********************************************************"
      ],
      "metadata": {
        "id": "wRdB3aS0-_ou"
      },
      "execution_count": null,
      "outputs": []
    },
    {
      "cell_type": "markdown",
      "source": [
        "#Este arquivo fica armazenado dentro da área do Collab."
      ],
      "metadata": {
        "id": "nhnkKN3dsf2D"
      }
    },
    {
      "cell_type": "code",
      "execution_count": null,
      "metadata": {
        "id": "7hxWuIwTEwVz"
      },
      "outputs": [],
      "source": [
        "# Exemplo de criação de arquivo que CRIA SEMPRE do zero, ou seja, vazio,\n",
        "# mesmo já tendo conteúdo\n",
        "arquivo = open('numero_com_w.txt', 'w') # apagando e criando\n",
        "for linha in range(230,300):\n",
        "    arquivo.write(f'{linha} Bem vindo a Fatec!\\n')\n",
        "arquivo.close()"
      ]
    },
    {
      "cell_type": "code",
      "execution_count": null,
      "metadata": {
        "id": "OU9onP4TU5xp"
      },
      "outputs": [],
      "source": [
        "# Exemplo de criação de arquivo que ACRESCENTA conteúdo em um arquivo\n",
        "# caso ele já tenha, ou cria ele vazio\n",
        "arquivo = open('numero_com_a.txt', 'a')\n",
        "for linha in range(10,21):\n",
        "    arquivo.write(f'{linha} Olá, tudo bem?\\n')\n",
        "    #arquivo.write('%i\\n' % linha)\n",
        "arquivo.close()"
      ]
    },
    {
      "cell_type": "code",
      "source": [
        "# Exemplo de ABERTURA de arquivo para leitura do conteúdo, que\n",
        "# é realizada linha por linha até o final do arquivo\n",
        "arquivo = open('numero_com_a.txt', 'r')\n",
        "for linha in arquivo.readlines():\n",
        "    print(linha)\n",
        "arquivo.close()"
      ],
      "metadata": {
        "id": "pzBP0RSYKLvA"
      },
      "execution_count": null,
      "outputs": []
    },
    {
      "cell_type": "markdown",
      "source": [
        "#Esta célula de programação deve ser executada apenas uma vez, quando você for implementar, pois é realizada a conexão do Collab com seu Google Drive.\n",
        "#Para isso aceite os itens que são pedidos nas janelas apresentadas."
      ],
      "metadata": {
        "id": "7zeo43ZKIYgU"
      }
    },
    {
      "cell_type": "code",
      "execution_count": 1,
      "metadata": {
        "colab": {
          "base_uri": "https://localhost:8080/"
        },
        "id": "FCCQUXM14zkm",
        "outputId": "df816bcc-6094-4aa4-9388-fd41c2f3b34e"
      },
      "outputs": [
        {
          "output_type": "stream",
          "name": "stdout",
          "text": [
            "Mounted at /content/drive\n"
          ]
        }
      ],
      "source": [
        "from google.colab import drive\n",
        "drive.mount('/content/drive')"
      ]
    },
    {
      "cell_type": "markdown",
      "source": [
        "#Quando conectado seu Collab com o Google Drive, o arquivo no seu programa deve ter este caminho:\n",
        "\n",
        "#/content/drive/MyDrive\n",
        "\n",
        "#Desta forma seu arquivo será criado no seu Drive e você poderá acessá-lo em qualquer momento.\n",
        "\n",
        "\n",
        "#Exemplos, utilizando agora o caminho/pasta/diretório do seu Google Drive"
      ],
      "metadata": {
        "id": "skhaKZjcI8Iv"
      }
    },
    {
      "cell_type": "code",
      "execution_count": null,
      "metadata": {
        "id": "4AqPXANJa-Yi"
      },
      "outputs": [],
      "source": [
        "arquivo = open('/content/drive/MyDrive/numx.txt', 'w') # w apagando e criando\n",
        "for linha in range(25,32):                           # a acrescenta conteúdo\n",
        "    arquivo.write(f'{linha} Olá, t')\n",
        "arquivo.close()"
      ]
    },
    {
      "cell_type": "code",
      "execution_count": null,
      "metadata": {
        "id": "xTOwykvO3u9j",
        "colab": {
          "base_uri": "https://localhost:8080/"
        },
        "outputId": "eafddad9-63ae-4ff2-cf9b-e72fb688ec3d"
      },
      "outputs": [
        {
          "output_type": "stream",
          "name": "stdout",
          "text": [
            "25 Olá, t26 Olá, t27 Olá, t28 Olá, t29 Olá, t30 Olá, t31 Olá, t\n"
          ]
        }
      ],
      "source": [
        "arquivo = open('drive/MyDrive/numx.txt', 'r')\n",
        "for linha in arquivo.readlines():\n",
        "    print(linha)\n",
        "arquivo.close()"
      ]
    },
    {
      "cell_type": "code",
      "execution_count": null,
      "metadata": {
        "id": "NmAsmaA87ZpL"
      },
      "outputs": [],
      "source": [
        "# Exemplo com DOIS arquivos, estes arquivos ficam\n",
        "# armazenados na pasta do Collab (menu lateral esquerdo),\n",
        "# caso queira, clique no botão/pasta para vê-los\n",
        "impares = open(\"impares.txt\" , \"w\")\n",
        "pares = open(\"pares.txt\" , \"w\")\n",
        "for n in range(80,90):\n",
        "    if n % 2 == 0:\n",
        "        pares.write(f'{n}\\n')\n",
        "    else:\n",
        "        impares.write(f'{n}\\n')\n",
        "impares.close()\n",
        "pares.close()"
      ]
    },
    {
      "cell_type": "code",
      "execution_count": null,
      "metadata": {
        "id": "SJoniFlLKCQw"
      },
      "outputs": [],
      "source": [
        "# Exemplo com armazenamento utilizando conteúdos\n",
        "# referentes a estrutura de dados TipoFuncionario\n",
        "\n",
        "class TipoFuncionario:\n",
        "    matricula = 0\n",
        "    nome = ''\n",
        "    salario = 0.0\n",
        "\n",
        "def Cadastrar():\n",
        "    # o conteúdo de TODO o arquivo é texto/str\n",
        "    arquivo = open('arq_Funcionario.txt', 'w')\n",
        "    print('\\nCadastro de Funcionários.........................')\n",
        "    for i in range(2):\n",
        "        f = TipoFuncionario()\n",
        "        f.matricula = int(input('Digite a matrícula: '))\n",
        "        f.nome = input('Digite o nome: ')\n",
        "        f.salario = float(input('Digite o salário: '))\n",
        "        arquivo.write(f'{f.matricula};{f.nome};{f.salario:.2f}\\n')\n",
        "        #ou\n",
        "        #arquivo.write('%d %s %.2f\\n' % (f.matricula, f.nome, f.salario))\n",
        "    arquivo.close()\n",
        "\n",
        "def Mostrar():\n",
        "    arquivo = open('arq_Funcionario.txt', 'r')\n",
        "    print('\\nApresentação dos dados dos funcionários .........')\n",
        "    print('Matrícula\\tNome\\tSalário')\n",
        "    for linha in arquivo.readlines():\n",
        "        # o caracter que está na função write() do arquivo DEVE\n",
        "        # SER O MESMO no argumento da função split\n",
        "        mat, nome, sal = linha.strip().split(\";\")\n",
        "        # a variável mat, nome ou sal são str\n",
        "        print(mat,'\\t\\t',nome,'\\t',sal)\n",
        "    print('\\n',type(sal)) # resultado str\n",
        "    sal = float(sal) # converte a variável sal de str para\n",
        "    soma = sal + 19 # float e grava nela mesma, para poder calcular algo\n",
        "    print(f'Salário após o cálculo R$ {soma:,.2f}')\n",
        "    arquivo.close()\n",
        "\n",
        "def main():\n",
        "    op = 1\n",
        "    while op >=1 and op <= 2:\n",
        "        print('\\n*** Gerenciamento de Funcionários COM ARQUIVO ***')\n",
        "        print('1- Cadastrar')\n",
        "        print('2- Mostrar')\n",
        "        print('3- Sair')\n",
        "        op = int(input('Digite a opção: '))\n",
        "        if op == 1:\n",
        "            Cadastrar()\n",
        "        elif op == 2:\n",
        "            Mostrar()\n",
        "main()"
      ]
    },
    {
      "cell_type": "markdown",
      "metadata": {
        "id": "skN-Wz61xZzi"
      },
      "source": [
        "### 1. Elabore uma estrutura para representar e armazenar 10 fornecedores (código, nome, endereco). Utilize os recursos de arquivo para armazenar estes dados permanentemente. O nome do arquivo deve ser o mesmo da estrutura. Construa um menu com as seguintes opções, cada uma delas deve ter uma função e a main para chamar todas elas.\n",
        "\n",
        "Menu de opções:\n",
        "1. Cadastrar fornecedores\n",
        "2. Visualizar todos os dados\n",
        "3. Sair\n"
      ]
    },
    {
      "cell_type": "code",
      "execution_count": null,
      "metadata": {
        "id": "Wbjafj_QxWP-",
        "colab": {
          "base_uri": "https://localhost:8080/"
        },
        "outputId": "b2af220d-6b52-4883-908f-41306fcdd606"
      },
      "outputs": [
        {
          "name": "stdout",
          "output_type": "stream",
          "text": [
            "\n",
            "Menu de Opções\n",
            "1. Cadastrar Fornecedores\n",
            "2. Visualizar\n",
            "3. Sair\n",
            "Digite a opção desejada: 1\n",
            "\n",
            "Digite o nome do fornecedor: Renan\n",
            "Digite o endereço do fornecedor: r Jacinto poIato 157\n",
            "\n",
            "Digite o nome do fornecedor: Godofredo\n",
            "Digite o endereço do fornecedor: AV GFRANCISCO 212\n",
            "\n",
            "Menu de Opções\n",
            "1. Cadastrar Fornecedores\n",
            "2. Visualizar\n",
            "3. Sair\n",
            "Digite a opção desejada: 2\n",
            "\n",
            "|  CÓD  |      NOME       |         ENDEREÇO          |\n",
            "|  001  |      Renan      |   R Jacinto Poiato 157    |\n",
            "|  002  |    Godofredo    |     Av Gfrancisco 212     |\n",
            "\n",
            "Menu de Opções\n",
            "1. Cadastrar Fornecedores\n",
            "2. Visualizar\n",
            "3. Sair\n",
            "Digite a opção desejada: 3\n"
          ]
        }
      ],
      "source": [
        "class tipo_fornecedores():\n",
        "  cod = 0\n",
        "  nome = ''\n",
        "  endereco = ''\n",
        "\n",
        "# def validar(codigos):\n",
        "#   endereco_arq = 'fornecedores.txt'\n",
        "#   arquivo = open(endereco_arq, 'r')\n",
        "#   for i in arquivo.readlines():\n",
        "#     elementos = i.strip().split('; ')\n",
        "#     if elementos:\n",
        "#       cod = elementos[0]\n",
        "#       codigos.remove(int(cod))\n",
        "#   arquivo.close()\n",
        "#   return endereco_arq, codigos\n",
        "\n",
        "def cadastrar(endereco_arq, codigos):\n",
        "  arquivo = open(endereco_arq, 'w')\n",
        "  for i in range(2):\n",
        "    fornecedor = tipo_fornecedores()\n",
        "    fornecedor.cod = codigos.pop(0)\n",
        "    fornecedor.nome = input(\"\\nDigite o nome do fornecedor: \").title()\n",
        "    fornecedor.endereco = input(\"Digite o endereço do fornecedor: \").title()\n",
        "    arquivo.write(f\"{fornecedor.cod}; {fornecedor.nome}; {fornecedor.endereco}\\n\")\n",
        "  arquivo.close\n",
        "  return codigos\n",
        "\n",
        "def visualizar(endereco_arq):\n",
        "  arquivo = open(endereco_arq, 'r')\n",
        "  print(\"\\n| {0:^5} | {1:^15} | {2:^25} |\".format(\"CÓD\", \"NOME\", \"ENDEREÇO\"))\n",
        "  for linha in arquivo.readlines():\n",
        "    elementos = linha.strip().split('; ')\n",
        "    print(f'| {f\"{int(elementos[0]):03}\":^5} | {elementos[1]:^15} | {elementos[2]:^25} |')\n",
        "  arquivo.close()\n",
        "\n",
        "def menu():\n",
        "  print(\"\\nMenu de Opções\")\n",
        "  print(\"1. Cadastrar Fornecedores\")\n",
        "  print(\"2. Visualizar\")\n",
        "  print(\"3. Sair\")\n",
        "  opcao = int(input(\"Digite a opção desejada: \"))\n",
        "  return opcao\n",
        "\n",
        "def main():\n",
        "  codigos = [i for i in range(1,20)]\n",
        "  endereco_arq = 'drive/MyDrive/arquivos_listas/fornecedores.txt'\n",
        "  while True:\n",
        "    opcao = menu()\n",
        "    if opcao == 1:\n",
        "      codigos = cadastrar(endereco_arq, codigos)\n",
        "    elif opcao == 2:\n",
        "      visualizar(endereco_arq)\n",
        "    elif opcao == 3:\n",
        "      break\n",
        "    else:\n",
        "      print(\"Opção Inválida\")\n",
        "\n",
        "main()"
      ]
    },
    {
      "cell_type": "markdown",
      "metadata": {
        "id": "0jPoba3-yLnG"
      },
      "source": [
        "### 2. Elabore uma estrutura para representar e armazenar 10 produtos (código, nome, preço). Utilize os recursos de arquivo para armazenar estes dados permanentemente. O nome do arquivo deve ser o mesmo da estrutura. Construa um menu com as seguintes opções, cada uma delas deve ter uma função e a main para chamar todas elas.\n",
        "\n",
        "Menu de opções:\n",
        "1. Cadastrar produtos\n",
        "2. Visualizar todos os dados\n",
        "3. Sair"
      ]
    },
    {
      "cell_type": "code",
      "execution_count": null,
      "metadata": {
        "id": "U--JD-UVAZ_4",
        "colab": {
          "base_uri": "https://localhost:8080/"
        },
        "outputId": "f4a68875-dbaf-4cfe-c6f0-ae9ab5bd657a"
      },
      "outputs": [
        {
          "name": "stdout",
          "output_type": "stream",
          "text": [
            "\n",
            "Menu de Opções\n",
            "1. Cadastrar Produtos\n",
            "2. Visualizar\n",
            "3. Sair\n",
            "Digite a opção desejada: 1\n",
            "\n",
            "Digite o nome do produto: Gelo\n",
            "Digite o valor do produto: R$ 20\n",
            "\n",
            "Digite o nome do produto: Copo\n",
            "Digite o valor do produto: R$ 10\n",
            "\n",
            "Menu de Opções\n",
            "1. Cadastrar Produtos\n",
            "2. Visualizar\n",
            "3. Sair\n",
            "Digite a opção desejada: 2\n",
            "\n",
            "|  CÓD  |      NOME       |  VALOR   |\n",
            "|  001  |      Gelo       |  20.00   |\n",
            "|  002  |      Copo       |  10.00   |\n",
            "\n",
            "Menu de Opções\n",
            "1. Cadastrar Produtos\n",
            "2. Visualizar\n",
            "3. Sair\n",
            "Digite a opção desejada: 3\n"
          ]
        }
      ],
      "source": [
        "class tipo_Produtos():\n",
        "  cod = 0\n",
        "  nome = ''\n",
        "  preco = 0.0\n",
        "\n",
        "def cadastrar(endereco_arq, codigos):\n",
        "  arquivo = open(endereco_arq, 'w')\n",
        "  for i in range(2):\n",
        "    produto = tipo_Produtos()\n",
        "    produto.cod = codigos.pop(0)\n",
        "    produto.nome = input(\"\\nDigite o nome do produto: \").title()\n",
        "    produto.preco = float(input(\"Digite o valor do produto: R$ \"))\n",
        "    arquivo.write(f\"{produto.cod}; {produto.nome}; {produto.preco}\\n\")\n",
        "  arquivo.close\n",
        "  return codigos\n",
        "\n",
        "def visualizar(endereco_arq):\n",
        "  arquivo = open(endereco_arq, 'r')\n",
        "  print(\"\\n| {0:^5} | {1:^15} | {2:^7} |\".format(\"CÓD\", \"NOME\", \"VALOR\"))\n",
        "  for linha in arquivo.readlines():\n",
        "    elementos = linha.strip().split('; ')\n",
        "    print(f'| {f\"{int(elementos[0]):03}\":^5} | {elementos[1]:^15} | {f\"{float(elementos[2]):03.2f}\":^7} |')\n",
        "  arquivo.close()\n",
        "\n",
        "def menu():\n",
        "  print(\"\\nMenu de Opções\")\n",
        "  print(\"1. Cadastrar Produtos\")\n",
        "  print(\"2. Visualizar\")\n",
        "  print(\"3. Sair\")\n",
        "  opcao = int(input(\"Digite a opção desejada: \"))\n",
        "  return opcao\n",
        "\n",
        "def main():\n",
        "  codigos = [i for i in range(1,20)]\n",
        "  endereco_arq = 'drive/MyDrive/arquivos_listas/Produtos.txt'\n",
        "  while True:\n",
        "    opcao = menu()\n",
        "    if opcao == 1:\n",
        "      codigos = cadastrar(endereco_arq, codigos)\n",
        "    elif opcao == 2:\n",
        "      visualizar(endereco_arq)\n",
        "    elif opcao == 3:\n",
        "      break\n",
        "    else:\n",
        "      print(\"Opção Inválida\")\n",
        "\n",
        "main()"
      ]
    },
    {
      "cell_type": "markdown",
      "metadata": {
        "id": "7qLNzo1C_7K5"
      },
      "source": [
        "### 3. Elabore uma estrutura para representar e armazenar 10 alunos (matricula, nome, telefone). Utilize os recursos de arquivo para armazenar estes dados permanentemente. O nome do arquivo deve ser o mesmo da estrutura. Construa um menu com as seguintes opções, cada uma delas deve ter uma função e a main para chamar todas elas.\n",
        "\n",
        "Menu de opções:\n",
        "1. Cadastrar alunos\n",
        "2. Visualizar todos os dados\n",
        "3. Sair\n"
      ]
    },
    {
      "cell_type": "code",
      "execution_count": null,
      "metadata": {
        "id": "UHD2oMlJyLzc",
        "colab": {
          "base_uri": "https://localhost:8080/"
        },
        "outputId": "66c5ec41-e2b6-4600-a932-dba5fa19aedf"
      },
      "outputs": [
        {
          "name": "stdout",
          "output_type": "stream",
          "text": [
            "\n",
            "Menu de Opções\n",
            "1. Cadastrar Alunos\n",
            "2. Visualizar\n",
            "3. Sair\n",
            "Digite a opção desejada: 1\n",
            "\n",
            "Digite o nome do aluno: renan\n",
            "Digite o telefone do aluno: 09239093\n",
            "\n",
            "Digite o nome do aluno: fernanda\n",
            "Digite o telefone do aluno: 23092309\n",
            "\n",
            "Menu de Opções\n",
            "1. Cadastrar Alunos\n",
            "2. Visualizar\n",
            "3. Sair\n",
            "Digite a opção desejada: 2\n",
            "\n",
            "|  MATRÍCULA  |      NOME       |  TELEFONE  |\n",
            "|     001     |      Renan      |  9239093   |\n",
            "|     002     |    Fernanda     |  23092309  |\n",
            "\n",
            "Menu de Opções\n",
            "1. Cadastrar Alunos\n",
            "2. Visualizar\n",
            "3. Sair\n",
            "Digite a opção desejada: 3\n"
          ]
        }
      ],
      "source": [
        "class tipo_Alunos():\n",
        "  matricula = 0\n",
        "  nome = ''\n",
        "  telefone = 0\n",
        "\n",
        "def cadastrar(endereco_arq, matriculas):\n",
        "  arquivo = open(endereco_arq, 'w')\n",
        "  for i in range(2):\n",
        "    aluno = tipo_Alunos()\n",
        "    aluno.matricula = matriculas.pop(0)\n",
        "    aluno.nome = input(\"\\nDigite o nome do aluno: \").title()\n",
        "    aluno.telefone = int(input(\"Digite o telefone do aluno: \"))\n",
        "    arquivo.write(f\"{aluno.matricula}; {aluno.nome}; {aluno.telefone}\\n\")\n",
        "  arquivo.close\n",
        "  return matriculas\n",
        "\n",
        "def visualizar(endereco_arq):\n",
        "  arquivo = open(endereco_arq, 'r')\n",
        "  print(\"\\n| {0:^11} | {1:^15} | {2:^10} |\".format(\"MATRÍCULA\", \"NOME\", \"TELEFONE\"))\n",
        "  for linha in arquivo.readlines():\n",
        "    elementos = linha.strip().split('; ')\n",
        "    print(f'| {f\"{int(elementos[0]):03}\":^11} | {elementos[1]:^15} | {elementos[2]:^10} |')\n",
        "  arquivo.close()\n",
        "\n",
        "def menu():\n",
        "  print(\"\\nMenu de Opções\")\n",
        "  print(\"1. Cadastrar Alunos\")\n",
        "  print(\"2. Visualizar\")\n",
        "  print(\"3. Sair\")\n",
        "  opcao = int(input(\"Digite a opção desejada: \"))\n",
        "  return opcao\n",
        "\n",
        "def main():\n",
        "  matriculas = [i for i in range(1,20)]\n",
        "  endereco_arq = 'drive/MyDrive/arquivos_listas/Alunos.txt'\n",
        "  while True:\n",
        "    opcao = menu()\n",
        "    if opcao == 1:\n",
        "      matriculas = cadastrar(endereco_arq, matriculas)\n",
        "    elif opcao == 2:\n",
        "      visualizar(endereco_arq)\n",
        "    elif opcao == 3:\n",
        "      break\n",
        "    else:\n",
        "      print(\"Opção Inválida\")\n",
        "\n",
        "main()"
      ]
    },
    {
      "cell_type": "markdown",
      "metadata": {
        "id": "4zGuLRRXt0D_"
      },
      "source": [
        "### 4. Baixe o arquivo **futebol.txt** que esta no Classroom. Leia este arquivo e o apresente. Com os dados lidos, armazene o conteúdo do arquivo, convertendo altura e peso para float na estrutura Futebol (posicao_jogo, altura, peso, imc), para então calcular o IMC (Índice de Massa Corporal), que é um atributo da estrutura e também em um outro e novo arquivo, mas agora chamado futebol_imc.txt. Apresente este novo arquivo.\n",
        "###**Observação**: esse exercício deve ser carregado o arquivo futebol.txt, aqui no Colab, no menu (ícone pasta) do lado esquerdo, que estará disponível no Classroom."
      ]
    },
    {
      "cell_type": "code",
      "execution_count": 38,
      "metadata": {
        "id": "nU0x1v2Vt1-w",
        "colab": {
          "base_uri": "https://localhost:8080/"
        },
        "outputId": "735bcf5d-dacf-4680-c108-e81f6298e34a"
      },
      "outputs": [
        {
          "output_type": "stream",
          "name": "stdout",
          "text": [
            "Lendo Arquivo!\n",
            "Calculando IMC\n",
            "Escrevendo novo arquivo!\n",
            "\n",
            "Novo Arquivo:\n",
            "\n",
            "Zagueiro;1.79;78.0;24.34\n",
            "Zagueiro;1.78;85.0;26.83\n",
            "Meio campo;1.75;71.1;23.22\n",
            "Meio campo;1.81;73.5;22.44\n",
            "Meio campo;1.75;73.5;24.00\n",
            "Goleiro;1.85;81.0;23.67\n",
            "Atacante;1.87;81.7;23.36\n",
            "Atacante;1.65;55.5;20.39\n",
            "Atacante;1.78;77.9;24.59\n",
            "Lateral;1.70;66.0;22.84\n",
            "Lateral;1.74;63.7;21.04\n"
          ]
        }
      ],
      "source": [
        "# imc = peso / (altura ** 2)\n",
        "class tipo_futebol():\n",
        "  posicao = ''\n",
        "  altura = 0.0\n",
        "  peso = 0.0\n",
        "  imc = 0.0\n",
        "\n",
        "def ler_arquivo(end_arquivo):\n",
        "  arquivo = open(end_arquivo, 'r')\n",
        "  print(\"Lendo Arquivo!\")\n",
        "  vetor_jogadores = []\n",
        "  for linha in arquivo.readlines():\n",
        "    jogador = tipo_futebol()\n",
        "    jogador.posicao, jogador.altura, jogador.peso = linha.strip().split(';')\n",
        "    vetor_jogadores.append(jogador)\n",
        "  arquivo.close()\n",
        "  return vetor_jogadores\n",
        "\n",
        "def calcular_imc(vetor_jogadores):\n",
        "  print(\"Calculando IMC\")\n",
        "  for jogador in vetor_jogadores:\n",
        "    jogador.imc = float(jogador.peso) / (float(jogador.altura)**2)\n",
        "  return vetor_jogadores\n",
        "\n",
        "def escrever_arquivo(vetor_jogadores, end_saida):\n",
        "  print(\"Escrevendo novo arquivo!\")\n",
        "  arquivo = open(end_saida, 'w')\n",
        "  for jogador in vetor_jogadores:\n",
        "    arquivo.write(f\"{jogador.posicao};{jogador.altura};{jogador.peso};{jogador.imc:.2f}\\n\")\n",
        "  arquivo.close()\n",
        "\n",
        "def mostrar_arquivo(end_arquivo):\n",
        "  print('\\nNovo Arquivo:\\n')\n",
        "  arquivo = open(end_arquivo, 'r')\n",
        "  # print('| {0:^13} | {1:^8} | {2:^6} | {3:^5} |'.format('POSIÇÃO', 'ALTURA', 'PESO', 'IMC'))\n",
        "  for linha in arquivo.readlines():\n",
        "    print(linha.strip())\n",
        "    # jogador = tipo_futebol()\n",
        "    # jogador.posicao, jogador.altura, jogador.peso, jogador.imc = linha.strip().split(';')\n",
        "    # print('| {0:^13} | {1:^8} | {2:^6} | {3:^5} |'.format(jogador.posicao, jogador.altura, jogador.peso, jogador.imc))\n",
        "  arquivo.close()\n",
        "\n",
        "def main():\n",
        "  end_arquivo = 'drive/MyDrive/arquivos_listas/futebol.txt'\n",
        "  end_saida = 'drive/MyDrive/arquivos_listas/futebol_imc.txt'\n",
        "  vetor_jogadores = ler_arquivo(end_arquivo)\n",
        "  vetor_jogadores = calcular_imc(vetor_jogadores)\n",
        "  escrever_arquivo(vetor_jogadores, end_saida)\n",
        "  mostrar_arquivo(end_saida)\n",
        "\n",
        "main()"
      ]
    },
    {
      "cell_type": "markdown",
      "source": [
        "#--------------------------------------------------------------------------------------------------------------------------------\n",
        "\n",
        "# Os próximos exercícios devem ser resolvidos com a instrução **with** para manipular o arquivo.\n",
        "*\n",
        "*\n",
        "*\n",
        "#APENAS EXEMPLO\n",
        "\n",
        "###Faça um programa que crie um arquivo para armazenar 3 linhas de um texto qualquer. Depois abra-o e apresente seu conteúdo."
      ],
      "metadata": {
        "id": "IFJ6U1Wj7lq9"
      }
    },
    {
      "cell_type": "code",
      "source": [
        "# w - substitui por completo o texto que está escrito\n",
        "with open(\"email.txt\", \"w\") as arquivo:\n",
        "    arquivo.write(\"linguagemProgramacao@gmail.com\")\n",
        "    arquivo.write(\"Você pode adicionar várias linhas assim.\\n\")\n",
        "    arquivo.write(\"Python facilita muito o trabalho com arquivos.\")\n",
        "\n",
        "# lê o conteúdo do arquivo e apresenta\n",
        "with open(\"email.txt\", \"r\") as arquivo:\n",
        "    email = arquivo.read()\n",
        "print(email)"
      ],
      "metadata": {
        "colab": {
          "base_uri": "https://localhost:8080/"
        },
        "id": "pKnt7A1rhkDB",
        "outputId": "f044aca4-d57f-4f7f-8de6-38df7f648776"
      },
      "execution_count": null,
      "outputs": [
        {
          "output_type": "stream",
          "name": "stdout",
          "text": [
            "linguagemProgramacao@gmail.comVocê pode adicionar várias linhas assim.\n",
            "Python facilita muito o trabalho com arquivos.\n"
          ]
        }
      ]
    },
    {
      "cell_type": "markdown",
      "source": [
        "###Leia um arquivo e filtre apenas as linhas que contêm uma palavra específica."
      ],
      "metadata": {
        "id": "zUWE4Zb3hvDT"
      }
    },
    {
      "cell_type": "code",
      "source": [
        "def filtrar_linhas(file_path, palavra):\n",
        "    with open(file_path, \"r\") as file:\n",
        "        linhas = [linha for linha in file if palavra in linha]\n",
        "\n",
        "    with open(\"resultado.txt\", \"w\") as result_file:\n",
        "        result_file.writelines(linhas)\n",
        "\n",
        "filtrar_linhas(\"texto.txt\", \"importante\")\n",
        "print(\"Linhas filtradas!\")"
      ],
      "metadata": {
        "id": "9hP99tfRAOOC"
      },
      "execution_count": null,
      "outputs": []
    },
    {
      "cell_type": "markdown",
      "source": [
        "#APENAS EXEMPLO\n",
        "\n",
        "###Leia um arquivo e filtre apenas as linhas que contêm uma palavra específica\n",
        "###Juntar o conteúdo de vários arquivos de texto em um único arquivo."
      ],
      "metadata": {
        "id": "GUx_BZM3AfQH"
      }
    },
    {
      "cell_type": "code",
      "source": [
        "def mesclar_arquivos(file_list, output_file):\n",
        "    with open(output_file, \"w\") as output:\n",
        "        for file in file_list:\n",
        "            with open(file, \"r\") as f:\n",
        "                output.write(f.read() + \"\\n\")\n",
        "\n",
        "mesclar_arquivos([\"arquivo1.txt\", \"arquivo2.txt\"], \"arquivos_mesclados.txt\")\n",
        "print(\"Arquivos mesclados!\")"
      ],
      "metadata": {
        "id": "0jxNvlb4AjBO"
      },
      "execution_count": null,
      "outputs": []
    },
    {
      "cell_type": "markdown",
      "source": [
        "###5. Faça um programa para contar quantas linhas existem em um arquivo de texto."
      ],
      "metadata": {
        "id": "QLRmgufa9Rom"
      }
    },
    {
      "cell_type": "code",
      "source": [
        "def contar_linhas(endereco_arquivo):\n",
        "  with open(endereco_arquivo, \"r\") as arquivo:\n",
        "    tamanho = len(arquivo.readlines())\n",
        "  return tamanho\n",
        "\n",
        "def main():\n",
        "  tamanho = contar_linhas(\"drive/MyDrive/arquivos_listas/fornecedores.txt\")\n",
        "  print(f\"Quantidade de linhas no arquivo: {tamanho}\")\n",
        "\n",
        "main()"
      ],
      "metadata": {
        "id": "FHl5tQXg9V25",
        "colab": {
          "base_uri": "https://localhost:8080/"
        },
        "outputId": "a90f17d8-0527-42aa-bff4-dfdf6a21ff0e"
      },
      "execution_count": null,
      "outputs": [
        {
          "output_type": "stream",
          "name": "stdout",
          "text": [
            "Quantidade de linhas no arquivo: 2\n"
          ]
        }
      ]
    },
    {
      "cell_type": "markdown",
      "source": [
        "**------------------------------CRIAÇÃO DO ARQUIVO PARAS AS FUNÇÕES SEGUINTES-----------------------------------------**"
      ],
      "metadata": {
        "id": "TijV0lh98xdU"
      }
    },
    {
      "cell_type": "code",
      "source": [
        "def main():\n",
        "  texto = '''Lorem ipsum dolor sit amet, consectetur adipiscing elit.\n",
        "Vestibulum auctor tellus vel egestas pellentesque.\n",
        "Praesent tempor, nisi ac tincidunt sollicitudin, ante eros dapibus odio, et condimentum dui enim ac orci.\n",
        "Vivamus vulputate elit sit amet risus imperdiet, sit amet luctus turpis aliquet.\n",
        "Ut suscipit lorem in nibh commodo facilisis facilisis eget risus.\n",
        "Phasellus vitae felis sed lectus pretium rutrum. Nam vehicula quis leo id mattis.\n",
        "Morbi dignissim elit eget lorem porta ultricies.\n",
        "Vivamus maximus sapien sed nibh porta placerat. Nam quis rutrum lorem.\n",
        "Vestibulum blandit tortor nec consequat ornare. Donec id diam fringilla, imperdiet ligula in, interdum ipsum.\n",
        "Nam sed luctus mauris. Vivamus fermentum egestas massa, sed faucibus lectus finibus et.\n",
        "Nunc at turpis porta, venenatis nisi vitae, malesuada turpis. Donec aliquet justo sit amet fermentum egestas.\n",
        "\n",
        "Maecenas eget lectus libero. Sed efficitur in diam non volutpat.\n",
        "Sed neque nunc, hendrerit et arcu vel, volutpat lobortis ex.\n",
        "Aliquam at placerat nisl. Vestibulum in libero erat.\n",
        "Donec faucibus, risus quis iaculis cursus, lacus erat tempus libero, at bibendum turpis sapien id ipsum.\n",
        "Etiam volutpat interdum neque, quis lacinia turpis sagittis non.\n",
        "Nunc cursus tortor ante.\n",
        "\n",
        "Lorem ipsum dolor sit amet, consectetur adipiscing elit.\n",
        "Vestibulum auctor tellus vel egestas pellentesque.\n",
        "Praesent tempor, nisi ac tincidunt sollicitudin, ante eros dapibus odio, et condimentum dui enim ac orci.\n",
        "Vivamus vulputate elit sit amet risus imperdiet, sit amet luctus turpis aliquet.\n",
        "Ut suscipit lorem in nibh commodo facilisis facilisis eget risus.\n",
        "Phasellus vitae felis sed lectus pretium rutrum. Nam vehicula quis leo id mattis.\n",
        "Morbi dignissim elit eget lorem porta ultricies.\n",
        "Vivamus maximus sapien sed nibh porta placerat. Nam quis rutrum lorem.\n",
        "Vestibulum blandit tortor nec consequat ornare. Donec id diam fringilla, imperdiet ligula in, interdum ipsum.\n",
        "Nam sed luctus mauris. Vivamus fermentum egestas massa, sed faucibus lectus finibus et.\n",
        "Nunc at turpis porta, venenatis nisi vitae, malesuada turpis. Donec aliquet justo sit amet fermentum egestas.\n",
        "\n",
        "Maecenas eget lectus libero. Sed efficitur in diam non volutpat.\n",
        "Sed neque nunc, hendrerit et arcu vel, volutpat lobortis ex.\n",
        "Aliquam at placerat nisl. Vestibulum in libero erat.\n",
        "Donec faucibus, risus quis iaculis cursus, lacus erat tempus libero, at bibendum turpis sapien id ipsum.\n",
        "Etiam volutpat interdum neque, quis lacinia turpis sagittis non.\n",
        "Nunc cursus tortor ante.'''\n",
        "  with open('texto_teste.txt', 'w') as arquivo:\n",
        "    arquivo.write(texto)\n",
        "  print(\"Arquivo Criado!\")\n",
        "main()"
      ],
      "metadata": {
        "colab": {
          "base_uri": "https://localhost:8080/"
        },
        "id": "PCmWlFKF8wxu",
        "outputId": "d2c6bb2b-fbf7-4d0a-b8e4-f5271d19dad2"
      },
      "execution_count": 20,
      "outputs": [
        {
          "output_type": "stream",
          "name": "stdout",
          "text": [
            "Arquivo Criado!\n"
          ]
        }
      ]
    },
    {
      "cell_type": "markdown",
      "source": [
        "###6. Crie um programa que faz uma **cópia** de um arquivo existente. Mostre após a cópia."
      ],
      "metadata": {
        "id": "La9EPP1W9Zjg"
      }
    },
    {
      "cell_type": "code",
      "source": [
        "# pesquise para implementar\n",
        "import shutil\n",
        "\n",
        "def main():\n",
        "  endereco_arquivo = 'texto_teste.txt'\n",
        "  endereco_destino = 'copia_texto_teste.txt'\n",
        "  shutil.copyfile(endereco_arquivo, endereco_destino)\n",
        "  print(\"Cópia criada!\")\n",
        "\n",
        "main()"
      ],
      "metadata": {
        "id": "rO8mmAZW9ZuN",
        "colab": {
          "base_uri": "https://localhost:8080/"
        },
        "outputId": "9882ce8b-bffe-4684-c341-2f0b6958f4dd"
      },
      "execution_count": 21,
      "outputs": [
        {
          "output_type": "stream",
          "name": "stdout",
          "text": [
            "Cópia criada!\n"
          ]
        }
      ]
    },
    {
      "cell_type": "markdown",
      "source": [
        "###7. Faça um programa que remove uma palavra específica de um arquivo de texto. Gere um novo arquivo e apresente ao final."
      ],
      "metadata": {
        "id": "TbQbuGdT-Fwh"
      }
    },
    {
      "cell_type": "code",
      "source": [
        "def main():\n",
        "    with open('texto_teste.txt', 'r') as arquivo_leitura:\n",
        "        conteudo_original = arquivo_leitura.read()\n",
        "    novo_conteudo = conteudo_original.replace('ipsum', '')\n",
        "    with open('novo_texto.txt', 'w') as arquivo_escrita:\n",
        "        arquivo_escrita.write(novo_conteudo)\n",
        "    print(\"Arquivo Criado!\")\n",
        "\n",
        "main()"
      ],
      "metadata": {
        "id": "3cjLQisA-MjF",
        "colab": {
          "base_uri": "https://localhost:8080/"
        },
        "outputId": "b53d4677-3fde-4874-8b47-c89067e11c9f"
      },
      "execution_count": 22,
      "outputs": [
        {
          "output_type": "stream",
          "name": "stdout",
          "text": [
            "Arquivo Criado!\n"
          ]
        }
      ]
    },
    {
      "cell_type": "markdown",
      "source": [
        "###8. Crie uma função para verificar se um arquivo existe antes de abri-lo, evitando erros. Caso exista, apresente o conteúdo, se não informe \"Arquivo não existe\"."
      ],
      "metadata": {
        "id": "TEu-y1tH-3mU"
      }
    },
    {
      "cell_type": "code",
      "source": [
        "import os\n",
        "\n",
        "def main():\n",
        "    if os.path.exists('copia_texto_teste.txt'):\n",
        "        with open('copia_texto_teste.txt', 'r') as arquivo:\n",
        "            conteudo = arquivo.read()\n",
        "            print(f\"Conteúdo do arquivo:\\n\")\n",
        "            print(conteudo)\n",
        "    else:\n",
        "        print(f\"Arquivo não existe.\")\n",
        "\n",
        "main()"
      ],
      "metadata": {
        "id": "CBEtxWo0_OcR",
        "colab": {
          "base_uri": "https://localhost:8080/"
        },
        "outputId": "1d3a41ca-c3a0-43e7-af64-f822b32a0bb1"
      },
      "execution_count": 23,
      "outputs": [
        {
          "output_type": "stream",
          "name": "stdout",
          "text": [
            "Conteúdo do arquivo:\n",
            "\n",
            "Lorem ipsum dolor sit amet, consectetur adipiscing elit.\n",
            "Vestibulum auctor tellus vel egestas pellentesque.\n",
            "Praesent tempor, nisi ac tincidunt sollicitudin, ante eros dapibus odio, et condimentum dui enim ac orci. \n",
            "Vivamus vulputate elit sit amet risus imperdiet, sit amet luctus turpis aliquet.\n",
            "Ut suscipit lorem in nibh commodo facilisis facilisis eget risus.\n",
            "Phasellus vitae felis sed lectus pretium rutrum. Nam vehicula quis leo id mattis. \n",
            "Morbi dignissim elit eget lorem porta ultricies.\n",
            "Vivamus maximus sapien sed nibh porta placerat. Nam quis rutrum lorem. \n",
            "Vestibulum blandit tortor nec consequat ornare. Donec id diam fringilla, imperdiet ligula in, interdum ipsum. \n",
            "Nam sed luctus mauris. Vivamus fermentum egestas massa, sed faucibus lectus finibus et. \n",
            "Nunc at turpis porta, venenatis nisi vitae, malesuada turpis. Donec aliquet justo sit amet fermentum egestas.\n",
            "\n",
            "Maecenas eget lectus libero. Sed efficitur in diam non volutpat. \n",
            "Sed neque nunc, hendrerit et arcu vel, volutpat lobortis ex. \n",
            "Aliquam at placerat nisl. Vestibulum in libero erat. \n",
            "Donec faucibus, risus quis iaculis cursus, lacus erat tempus libero, at bibendum turpis sapien id ipsum. \n",
            "Etiam volutpat interdum neque, quis lacinia turpis sagittis non. \n",
            "Nunc cursus tortor ante.\n",
            "\n",
            "Lorem ipsum dolor sit amet, consectetur adipiscing elit.\n",
            "Vestibulum auctor tellus vel egestas pellentesque.\n",
            "Praesent tempor, nisi ac tincidunt sollicitudin, ante eros dapibus odio, et condimentum dui enim ac orci. \n",
            "Vivamus vulputate elit sit amet risus imperdiet, sit amet luctus turpis aliquet.\n",
            "Ut suscipit lorem in nibh commodo facilisis facilisis eget risus.\n",
            "Phasellus vitae felis sed lectus pretium rutrum. Nam vehicula quis leo id mattis. \n",
            "Morbi dignissim elit eget lorem porta ultricies.\n",
            "Vivamus maximus sapien sed nibh porta placerat. Nam quis rutrum lorem. \n",
            "Vestibulum blandit tortor nec consequat ornare. Donec id diam fringilla, imperdiet ligula in, interdum ipsum. \n",
            "Nam sed luctus mauris. Vivamus fermentum egestas massa, sed faucibus lectus finibus et. \n",
            "Nunc at turpis porta, venenatis nisi vitae, malesuada turpis. Donec aliquet justo sit amet fermentum egestas.\n",
            "\n",
            "Maecenas eget lectus libero. Sed efficitur in diam non volutpat. \n",
            "Sed neque nunc, hendrerit et arcu vel, volutpat lobortis ex. \n",
            "Aliquam at placerat nisl. Vestibulum in libero erat. \n",
            "Donec faucibus, risus quis iaculis cursus, lacus erat tempus libero, at bibendum turpis sapien id ipsum. \n",
            "Etiam volutpat interdum neque, quis lacinia turpis sagittis non. \n",
            "Nunc cursus tortor ante.\n"
          ]
        }
      ]
    },
    {
      "cell_type": "markdown",
      "source": [
        "###9. Faça um programa para apagar o arquivo copia_notas.txt do sistema, caso ele exista."
      ],
      "metadata": {
        "id": "v-euo2PvboZC"
      }
    },
    {
      "cell_type": "code",
      "source": [
        "# pesquise para implementar e use esta função\n",
        "import os\n",
        "\n",
        "def main():\n",
        "  if os.path.exists('copia_texto_teste.txt'):\n",
        "    os.remove('copia_texto_teste.txt')\n",
        "    print(\"Arquivo apagado!\")\n",
        "  else:\n",
        "    print(\"Arquivo não existe!\")\n",
        "\n",
        "main()\n"
      ],
      "metadata": {
        "id": "oP99QIL3b0b3",
        "colab": {
          "base_uri": "https://localhost:8080/"
        },
        "outputId": "32497316-b1b5-4c1c-a50c-950c1c324050"
      },
      "execution_count": 24,
      "outputs": [
        {
          "output_type": "stream",
          "name": "stdout",
          "text": [
            "Arquivo apagado!\n"
          ]
        }
      ]
    },
    {
      "cell_type": "markdown",
      "source": [
        "###10. Faça um programa que compara o arquivo notas.txt com outro arquivo e exibe diferenças."
      ],
      "metadata": {
        "id": "IyoQAH4ScZUb"
      }
    },
    {
      "cell_type": "code",
      "source": [
        "# pesquise para implementar e continue a partir\n",
        "# desta função\n",
        "\n",
        "def comparar_arquivos(file1, file2):\n",
        "  with open(file1, 'r') as f1, open(file2, 'r') as f2:\n",
        "              linhas1 = f1.readlines()\n",
        "              linhas2 = f2.readlines()\n",
        "              max_linhas = max(len(linhas1), len(linhas2))\n",
        "              encontrou_diferencas = False\n",
        "              print(f\"Comparando Arquivo 1 com Arquivo 2:\\n\")\n",
        "              for i, (linha1, linha2) in enumerate(zip(linhas1, linhas2)):\n",
        "                  if linha1 != linha2:\n",
        "                      encontrou_diferencas = True\n",
        "                      print(f\"--- Diferença na linha {i + 1} ---\")\n",
        "                      print(f\"Arquivo 1: {linha1.strip()}\")\n",
        "                      print(f\"Arquivo 2: {linha2.strip()}\")\n",
        "                      print(\"-\" * 30)\n",
        "              if not encontrou_diferencas:\n",
        "                  print(\"Nenhuma diferença encontrada.\")\n",
        "\n",
        "def main():\n",
        "  file1 = 'texto_teste.txt'\n",
        "  # file2 = 'texto_teste.txt'\n",
        "  file2 = 'novo_texto.txt'\n",
        "  comparar_arquivos(file1, file2)\n",
        "\n",
        "main()"
      ],
      "metadata": {
        "id": "STKZM4VUci-B",
        "colab": {
          "base_uri": "https://localhost:8080/"
        },
        "outputId": "b54543d7-d514-4ba4-9b02-6299259ec029"
      },
      "execution_count": 25,
      "outputs": [
        {
          "output_type": "stream",
          "name": "stdout",
          "text": [
            "Comparando Arquivo 1 com Arquivo 2:\n",
            "\n",
            "--- Diferença na linha 1 ---\n",
            "Arquivo 1: Lorem ipsum dolor sit amet, consectetur adipiscing elit.\n",
            "Arquivo 2: Lorem  dolor sit amet, consectetur adipiscing elit.\n",
            "------------------------------\n",
            "--- Diferença na linha 9 ---\n",
            "Arquivo 1: Vestibulum blandit tortor nec consequat ornare. Donec id diam fringilla, imperdiet ligula in, interdum ipsum.\n",
            "Arquivo 2: Vestibulum blandit tortor nec consequat ornare. Donec id diam fringilla, imperdiet ligula in, interdum .\n",
            "------------------------------\n",
            "--- Diferença na linha 16 ---\n",
            "Arquivo 1: Donec faucibus, risus quis iaculis cursus, lacus erat tempus libero, at bibendum turpis sapien id ipsum.\n",
            "Arquivo 2: Donec faucibus, risus quis iaculis cursus, lacus erat tempus libero, at bibendum turpis sapien id .\n",
            "------------------------------\n",
            "--- Diferença na linha 20 ---\n",
            "Arquivo 1: Lorem ipsum dolor sit amet, consectetur adipiscing elit.\n",
            "Arquivo 2: Lorem  dolor sit amet, consectetur adipiscing elit.\n",
            "------------------------------\n",
            "--- Diferença na linha 28 ---\n",
            "Arquivo 1: Vestibulum blandit tortor nec consequat ornare. Donec id diam fringilla, imperdiet ligula in, interdum ipsum.\n",
            "Arquivo 2: Vestibulum blandit tortor nec consequat ornare. Donec id diam fringilla, imperdiet ligula in, interdum .\n",
            "------------------------------\n",
            "--- Diferença na linha 35 ---\n",
            "Arquivo 1: Donec faucibus, risus quis iaculis cursus, lacus erat tempus libero, at bibendum turpis sapien id ipsum.\n",
            "Arquivo 2: Donec faucibus, risus quis iaculis cursus, lacus erat tempus libero, at bibendum turpis sapien id .\n",
            "------------------------------\n"
          ]
        }
      ]
    },
    {
      "cell_type": "markdown",
      "source": [
        "###11. Faça um programa que lê um arquivo e cria um novo arquivo contendo o texto todo em letras maiúsculas."
      ],
      "metadata": {
        "id": "PVDZ4lOKew7L"
      }
    },
    {
      "cell_type": "code",
      "source": [
        "def main():\n",
        "    with open('texto_teste.txt', 'r') as arquivo_leitura:\n",
        "        conteudo_original = arquivo_leitura.read()\n",
        "    novo_conteudo = conteudo_original.upper()\n",
        "    with open('novo_texto_maiusculo.txt', 'w') as arquivo_escrita:\n",
        "        arquivo_escrita.write(novo_conteudo)\n",
        "    print(\"Arquivo Criado!\")\n",
        "\n",
        "main()"
      ],
      "metadata": {
        "id": "NpoE9Gjce2-S",
        "colab": {
          "base_uri": "https://localhost:8080/"
        },
        "outputId": "f699df12-8db2-466a-85b3-ee8840b00656"
      },
      "execution_count": 26,
      "outputs": [
        {
          "output_type": "stream",
          "name": "stdout",
          "text": [
            "Arquivo Criado!\n"
          ]
        }
      ]
    }
  ],
  "metadata": {
    "colab": {
      "provenance": []
    },
    "kernelspec": {
      "display_name": "Python 3",
      "name": "python3"
    },
    "language_info": {
      "name": "python"
    }
  },
  "nbformat": 4,
  "nbformat_minor": 0
}