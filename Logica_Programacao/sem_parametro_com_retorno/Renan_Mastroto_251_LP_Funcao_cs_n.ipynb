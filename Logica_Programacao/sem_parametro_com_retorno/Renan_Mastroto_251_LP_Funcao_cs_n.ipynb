{
  "cells": [
    {
      "cell_type": "markdown",
      "metadata": {
        "id": "EuunAQvmIecl"
      },
      "source": [
        "#Função COM RETORNO e sem parâmetro"
      ]
    },
    {
      "cell_type": "markdown",
      "metadata": {
        "id": "skN-Wz61xZzi"
      },
      "source": [
        "### 1. (Função com retorno sem parâmetro) Faça um programa contendo uma função/método que leia um número e o multiplique por 2 retornando o resultado e o apresente."
      ]
    },
    {
      "cell_type": "code",
      "execution_count": null,
      "metadata": {
        "colab": {
          "base_uri": "https://localhost:8080/"
        },
        "id": "Wbjafj_QxWP-",
        "outputId": "92ffe32f-bb8f-4ec9-df96-6c1e7b9813b7"
      },
      "outputs": [
        {
          "name": "stdout",
          "output_type": "stream",
          "text": [
            "entrei na main\n",
            "Digite um valor: 5\n",
            "Resultado com uma variável:  10\n"
          ]
        }
      ],
      "source": [
        "def multiplicar():\n",
        "    numero = int(input('Digite um valor: '))\n",
        "    resultado = numero * 2\n",
        "    return resultado\n",
        "\n",
        "def main():\n",
        "    print('entrei na main')\n",
        "    # Primeira forma de chamar a função com retorno\n",
        "    r = multiplicar()\n",
        "    #print('Resultado da variável: ',r)\n",
        "    if r > 9:\n",
        "        vet\n",
        "        matriz\n",
        "        r * 21\n",
        "\n",
        "    # Segunda forma de chamar uma função com retorno\n",
        "    #print('Resultado com uma variável: ',multiplicar() )\n",
        "\n",
        "main()"
      ]
    },
    {
      "cell_type": "markdown",
      "metadata": {
        "id": "0jPoba3-yLnG"
      },
      "source": [
        "### 2. (Função com retorno sem parâmetro) Faça um programa contendo uma função/método para subtrair dois números, retornar o resultado e o apresentando."
      ]
    },
    {
      "cell_type": "code",
      "execution_count": null,
      "metadata": {
        "colab": {
          "base_uri": "https://localhost:8080/"
        },
        "id": "UHD2oMlJyLzc",
        "outputId": "931f4a07-3102-4d22-ab8c-d8d7492e7e3f"
      },
      "outputs": [
        {
          "name": "stdout",
          "output_type": "stream",
          "text": [
            "Digite o número 1: 5\n",
            "Digite o número 2: 2\n",
            "O resultado é 3\n"
          ]
        }
      ],
      "source": [
        "def subtracao():\n",
        "    n1 = int(input(\"Digite o número 1: \"))\n",
        "    n2 = int(input(\"Digite o número 2: \"))\n",
        "    resultado = n1 - n2\n",
        "    return resultado\n",
        "\n",
        "def main():\n",
        "    x = subtracao()\n",
        "    print(f\"O resultado é {x}\")\n",
        "\n",
        "main()"
      ]
    },
    {
      "cell_type": "markdown",
      "metadata": {
        "id": "4zGuLRRXt0D_"
      },
      "source": [
        "### 3. (Função com retorno sem parâmetro) Faça um programa contendo uma função/método que leia a base e a altura de um triângulo e retorne/apresente sua área A = (base x altura)/2."
      ]
    },
    {
      "cell_type": "code",
      "execution_count": null,
      "metadata": {
        "colab": {
          "base_uri": "https://localhost:8080/"
        },
        "id": "nU0x1v2Vt1-w",
        "outputId": "1168e9a0-9047-49e4-c84c-a91714015458"
      },
      "outputs": [
        {
          "name": "stdout",
          "output_type": "stream",
          "text": [
            "Digite o tamanho da base do triângulo em cm: 5\n",
            "Digite o tamanho da altura do triângulo em cm: 3\n",
            "A área do triângulo é: 7.5cm\n"
          ]
        }
      ],
      "source": [
        "def area_triangulo():\n",
        "    base = float(input(\"Digite o tamanho da base do triângulo em cm: \"))\n",
        "    altura = float(input(\"Digite o tamanho da altura do triângulo em cm: \"))\n",
        "    area = (base * altura) / 2\n",
        "    return area\n",
        "\n",
        "def main():\n",
        "    x = area_triangulo()\n",
        "    print(f\"A área do triângulo é: {x} cm\")\n",
        "\n",
        "main()"
      ]
    },
    {
      "cell_type": "markdown",
      "metadata": {
        "id": "W0slzp_rt2Iu"
      },
      "source": [
        "### 4. (Função com retorno sem parâmetro) Faça um programa contendo uma função/método que leia o lado de um quadrado e retorne sua área, area = lado²."
      ]
    },
    {
      "cell_type": "code",
      "execution_count": null,
      "metadata": {
        "colab": {
          "base_uri": "https://localhost:8080/"
        },
        "id": "hH2UZstHvFs2",
        "outputId": "75fc1c04-298e-4d6c-c8c8-0b9f99906434"
      },
      "outputs": [
        {
          "name": "stdout",
          "output_type": "stream",
          "text": [
            "Digite o tamanho de um dos lados em cm: 8\n",
            "A área do quadrado é: 64.0 cm\n"
          ]
        }
      ],
      "source": [
        "def area_quadrado():\n",
        "    lado = float(input(\"Digite o tamanho de um dos lados em cm: \"))\n",
        "    area = lado ** 2\n",
        "    return area\n",
        "\n",
        "def main():\n",
        "    x = area_quadrado()\n",
        "    print(f\"A área do quadrado é: {x} cm\")\n",
        "\n",
        "main()"
      ]
    },
    {
      "cell_type": "markdown",
      "metadata": {
        "id": "9GVu0GcZO88M"
      },
      "source": [
        "###5. (Função com retorno sem parâmetro) Faça um programa contendo uma função/método que retorna a conversão de uma temperatura que deve ser digitada, para Fahrenheit."
      ]
    },
    {
      "cell_type": "code",
      "execution_count": null,
      "metadata": {
        "colab": {
          "base_uri": "https://localhost:8080/"
        },
        "id": "0jmrWbMSPOlQ",
        "outputId": "90faaa05-f4ea-4496-9c7a-e61d41d26198"
      },
      "outputs": [
        {
          "name": "stdout",
          "output_type": "stream",
          "text": [
            "Digite a temperatura em Celcius: 28\n",
            "A temperatura em Fahrenheit é: 82.4ºF\n"
          ]
        }
      ],
      "source": [
        "def converter_temperatura():\n",
        "    temp_c = float(input(\"Digite a temperatura em Celcius: \"))\n",
        "    temp_f = (temp_c * 9 / 5) + 32\n",
        "    return temp_f\n",
        "\n",
        "def main():\n",
        "    temp_f = converter_temperatura()\n",
        "    print(f\"A temperatura em Fahrenheit é: {temp_f:.1f}ºF\")\n",
        "\n",
        "main()"
      ]
    },
    {
      "cell_type": "markdown",
      "metadata": {
        "id": "8BRGZhWuPhs3"
      },
      "source": [
        "###6. (Função com retorno sem parâmetro) Faça um programa contendo uma função/método que retorna o resultado de elevar um numero a um valor de potência, para isso digite os dois valores. Exemplo 3². Faça a chamada da função na main(). Não use função pronta do Python."
      ]
    },
    {
      "cell_type": "code",
      "execution_count": null,
      "metadata": {
        "colab": {
          "base_uri": "https://localhost:8080/"
        },
        "id": "jjQujB5DPlpn",
        "outputId": "570cb1a0-af49-4735-b911-3fd38f05ac24"
      },
      "outputs": [
        {
          "name": "stdout",
          "output_type": "stream",
          "text": [
            "Digite o valor da base: 5.6\n",
            "Digite o valor do expoente: 2.3\n",
            "O resultado da potência é 52.58\n"
          ]
        }
      ],
      "source": [
        "def potencia():\n",
        "    base = float(input(\"Digite o valor da base: \"))\n",
        "    expoente = float(input(\"Digite o valor do expoente: \"))\n",
        "    resultado = base ** expoente\n",
        "    return resultado\n",
        "\n",
        "def main():\n",
        "    resultado = potencia()\n",
        "    print(f\"O resultado da potência é {resultado:.2f}\")\n",
        "\n",
        "main()"
      ]
    },
    {
      "cell_type": "markdown",
      "metadata": {
        "id": "Myx5sXT4QXX3"
      },
      "source": [
        "###7. (Função com retorno sem parâmetro) Faça um programa contendo uma função/método que retorna a quantidade de letras numa palavra que deve ser lida. Faça a chamada da função na main(). Não use função pronta do Python."
      ]
    },
    {
      "cell_type": "code",
      "execution_count": null,
      "metadata": {
        "colab": {
          "base_uri": "https://localhost:8080/"
        },
        "id": "fsKnDxgMQX3L",
        "outputId": "44dc2cf9-8387-4f24-a028-276e7c5611e9"
      },
      "outputs": [
        {
          "name": "stdout",
          "output_type": "stream",
          "text": [
            "Digite a palavra para contar: pneumoultramicroscopicossilicovulcanoconiose\n",
            "A palavra digitada possui 44 letras.\n"
          ]
        }
      ],
      "source": [
        "def contar_letras():\n",
        "    contador = 0\n",
        "    palavra = input(\"Digite a palavra para contar: \")\n",
        "    for i in range(len(palavra)):\n",
        "        if palavra[i].isalpha():\n",
        "            contador += 1\n",
        "    return contador\n",
        "\n",
        "def main():\n",
        "    resultado = contar_letras()\n",
        "    print(f\"A palavra digitada possui {resultado} letras.\")\n",
        "\n",
        "main()"
      ]
    },
    {
      "cell_type": "markdown",
      "metadata": {
        "id": "IdTGLqztRIBv"
      },
      "source": [
        "###8.  (Função com retorno sem parâmetro) Faça um programa contendo uma função/método que retorna o maior número de uma lista. Faça a chamada na função main()."
      ]
    },
    {
      "cell_type": "code",
      "execution_count": null,
      "metadata": {
        "colab": {
          "base_uri": "https://localhost:8080/"
        },
        "id": "Xk7PDDBtRKib",
        "outputId": "811d2099-b4a1-402e-abd1-f1501fadbb3d"
      },
      "outputs": [
        {
          "name": "stdout",
          "output_type": "stream",
          "text": [
            "Digite a quantidade de itens na lista: 5\n",
            "Digite o item 1 da lista: 123\n",
            "Digite o item 2 da lista: 6514\n",
            "Digite o item 3 da lista: -56\n",
            "Digite o item 4 da lista: 127\n",
            "Digite o item 5 da lista: 3597\n",
            "O maior item da lista é: 6514\n"
          ]
        }
      ],
      "source": [
        "def maior_lista():\n",
        "    lista = []\n",
        "    n = int(input(\"Digite a quantidade de itens na lista: \"))\n",
        "    for i in range(n):\n",
        "        lista.append(int(input(f\"Digite o item {i+1} da lista: \")))\n",
        "    maior = lista[0]\n",
        "    for i in range(len(lista)):\n",
        "        if lista[i] > maior:\n",
        "            maior = lista[i]\n",
        "    return maior\n",
        "\n",
        "def main():\n",
        "    resultado = maior_lista()\n",
        "    print(f\"O maior item da lista é: {resultado}\")\n",
        "\n",
        "main()"
      ]
    },
    {
      "cell_type": "markdown",
      "metadata": {
        "id": "TuQp8g4dRneG"
      },
      "source": [
        "###9. (Função com retorno sem parâmetro) Faça um programa contendo uma função/método que retorna a tabuada de um número que deve ser lido, em formato de string, para isso use o caracter + que realiza concatenação. Faça a chamada da função na main()."
      ]
    },
    {
      "cell_type": "code",
      "execution_count": null,
      "metadata": {
        "colab": {
          "base_uri": "https://localhost:8080/"
        },
        "id": "9YTOeoeARn8r",
        "outputId": "8d372537-70cc-4b4c-ac35-31b16666150f"
      },
      "outputs": [
        {
          "name": "stdout",
          "output_type": "stream",
          "text": [
            "Digite o número para calcular a tabuada: 5\n",
            "5 x 1 = 5 \n",
            "5 x 2 = 10 \n",
            "5 x 3 = 15 \n",
            "5 x 4 = 20 \n",
            "5 x 5 = 25 \n",
            "5 x 6 = 30 \n",
            "5 x 7 = 35 \n",
            "5 x 8 = 40 \n",
            "5 x 9 = 45 \n",
            "5 x 10 = 50 \n",
            "\n"
          ]
        }
      ],
      "source": [
        "def tabuada():\n",
        "    numero = int(input(\"Digite o número para calcular a tabuada: \"))\n",
        "    resultado = \"\"\n",
        "    for i in range(1,11):\n",
        "        resultado += f\"{numero} x {i} = {numero*i} \\n\"\n",
        "    return resultado\n",
        "\n",
        "def main():\n",
        "    print(tabuada())\n",
        "\n",
        "main()"
      ]
    },
    {
      "cell_type": "markdown",
      "metadata": {
        "id": "hfkLntgNTWN1"
      },
      "source": [
        "###10. (Função com retorno sem parâmetro) Faça um programa contendo uma função/método  que verifique se um número é par, retorne mostrando a str/string ‘É par’ ou se ‘É ímpar’."
      ]
    },
    {
      "cell_type": "code",
      "execution_count": null,
      "metadata": {
        "colab": {
          "base_uri": "https://localhost:8080/"
        },
        "id": "YIp7ES5deRo8",
        "outputId": "3e83432d-0dbe-4aba-ec8a-481c70cbec07"
      },
      "outputs": [
        {
          "name": "stdout",
          "output_type": "stream",
          "text": [
            "Digite o número: 8\n",
            "É par\n"
          ]
        }
      ],
      "source": [
        "def impar_par():\n",
        "    numero = int(input(\"Digite o número: \"))\n",
        "    if numero % 2 == 0:\n",
        "        return 'É par'\n",
        "    else:\n",
        "        return 'É impar'\n",
        "\n",
        "def main():\n",
        "    print(impar_par())\n",
        "\n",
        "main()"
      ]
    },
    {
      "cell_type": "code",
      "execution_count": null,
      "metadata": {
        "colab": {
          "base_uri": "https://localhost:8080/"
        },
        "id": "njyOsracuVFd",
        "outputId": "127986c9-ddde-4e6f-9ab9-b6e65501fe82"
      },
      "outputs": [
        {
          "name": "stdout",
          "output_type": "stream",
          "text": [
            "Digite o número: 7\n",
            "É impar\n"
          ]
        }
      ],
      "source": [
        "# expressão condicional/operador ternário, implemente para treinar\n",
        "# resposta verdadeira if condição else resposta falsa\n",
        "def impar_par():\n",
        "    numero = int(input(\"Digite o número: \"))\n",
        "    return \"É par\" if numero % 2 == 0 else \"É impar\"\n",
        "\n",
        "def main():\n",
        "    print(impar_par())\n",
        "\n",
        "main()"
      ]
    },
    {
      "cell_type": "markdown",
      "metadata": {
        "id": "RIGUAKHveTJS"
      },
      "source": [
        "###11. (Função com retorno sem parâmetro) Faça um programa contendo uma função/método  que verifique se um número é par, retorne/mostre o valor do tipo bool **True** para par e **False** para ímpar."
      ]
    },
    {
      "cell_type": "code",
      "execution_count": null,
      "metadata": {
        "colab": {
          "base_uri": "https://localhost:8080/"
        },
        "id": "Q6LPIy_LCQuO",
        "outputId": "e6df8f71-a143-442a-eeee-c5695e04e52d"
      },
      "outputs": [
        {
          "name": "stdout",
          "output_type": "stream",
          "text": [
            "Digite o número: 8\n",
            "É par\n"
          ]
        }
      ],
      "source": [
        "def impar_par():\n",
        "    numero = int(input(\"Digite o número: \"))\n",
        "    if numero % 2 == 0:\n",
        "        return True\n",
        "    else:\n",
        "        return False\n",
        "\n",
        "def main():\n",
        "    resultado = impar_par()\n",
        "    if resultado:\n",
        "        print(\"É par\")\n",
        "    else:\n",
        "        print(\"É impar\")\n",
        "\n",
        "main()"
      ]
    },
    {
      "cell_type": "markdown",
      "metadata": {
        "id": "tU4eps58OKEf"
      },
      "source": [
        "###12. (Função com retorno sem parâmetro) Faça uma função/método que retorna True se hoje for sábado ou domingo, e False caso contrário. Faça da chamada desta função na main()."
      ]
    },
    {
      "cell_type": "code",
      "execution_count": null,
      "metadata": {
        "colab": {
          "base_uri": "https://localhost:8080/"
        },
        "id": "wZfoLboKOe3Y",
        "outputId": "e6254f5b-b92a-42ea-cd79-59aeceed784e"
      },
      "outputs": [
        {
          "name": "stdout",
          "output_type": "stream",
          "text": [
            "Hoje é sábado ou domingo\n"
          ]
        }
      ],
      "source": [
        "import datetime\n",
        "\n",
        "def dia():\n",
        "    dia_atual = datetime.datetime.now().weekday()\n",
        "    if dia_atual == 5 or dia_atual == 6:\n",
        "        return True\n",
        "    else:\n",
        "        return False\n",
        "\n",
        "def main():\n",
        "    if dia():\n",
        "        print(\"Hoje é sábado ou domingo\")\n",
        "    else:\n",
        "        print(\"Hoje não é sábado nem domingo\")\n",
        "\n",
        "main()"
      ]
    },
    {
      "cell_type": "markdown",
      "metadata": {
        "id": "jBAgz6CoNW69"
      },
      "source": [
        "###13. (Função com retorno sem parâmetro) Faça uma função/método que retorna um número aleatório entre 1 e 100. Apresente-o na main()."
      ]
    },
    {
      "cell_type": "code",
      "execution_count": null,
      "metadata": {
        "colab": {
          "base_uri": "https://localhost:8080/"
        },
        "id": "Sld7xSCbNqS_",
        "outputId": "b7782b2b-9749-462b-c7b6-4dcae79d7088"
      },
      "outputs": [
        {
          "name": "stdout",
          "output_type": "stream",
          "text": [
            "96\n"
          ]
        }
      ],
      "source": [
        "import random\n",
        "\n",
        "def numero_aleatorio():\n",
        "    numero = random.randint(1, 100)\n",
        "    return numero\n",
        "\n",
        "def main():\n",
        "    print(numero_aleatorio())\n",
        "\n",
        "main()"
      ]
    },
    {
      "cell_type": "markdown",
      "metadata": {
        "id": "443hWM6cKikz"
      },
      "source": [
        "###14. (Função com retorno sem parâmetro) Faça um programa contendo uma função/método que a partir de uma média informada, verifique e retorne o valor do tipo bool **True** ou **False**.\n",
        "###Na main se o valor de retorno for True mostre \"Aluno Aprovado\", caso contrário \"Aluno reprovado\"."
      ]
    },
    {
      "cell_type": "code",
      "execution_count": null,
      "metadata": {
        "colab": {
          "base_uri": "https://localhost:8080/"
        },
        "id": "L6tf6GmrTCbN",
        "outputId": "3cd9d428-cc2b-4e4c-a152-0439031c2d00"
      },
      "outputs": [
        {
          "name": "stdout",
          "output_type": "stream",
          "text": [
            "Digite a média: 6.5\n",
            "Aluno Aprovado\n"
          ]
        }
      ],
      "source": [
        "def verificar_media():\n",
        "    media = float(input(\"Digite a média: \"))\n",
        "    if media >= 6:\n",
        "        return True\n",
        "    else:\n",
        "        return False\n",
        "\n",
        "def main():\n",
        "    resultado = verificar_media()\n",
        "    if resultado:\n",
        "        print(\"Aluno Aprovado\")\n",
        "    else:\n",
        "        print(\"Aluno Reprovado\")\n",
        "\n",
        "main()"
      ]
    },
    {
      "cell_type": "markdown",
      "metadata": {
        "id": "JgYwP3n1CQ_U"
      },
      "source": [
        "###15. (Função com retorno sem parâmetro) Faça uma função/método que leia e armazene 5 elementos inteiros no vetor A, deverá ser gerado um vetor B, de mesmo tamanho, que armazenará o fatorial de cada elemento de A. Não use função pronta de cálculo de fatorial. Retorne/apresente o vetor B."
      ]
    },
    {
      "cell_type": "code",
      "execution_count": null,
      "metadata": {
        "colab": {
          "base_uri": "https://localhost:8080/"
        },
        "id": "34fIP0epT69d",
        "outputId": "adb551ad-e46e-46e0-9d15-677fc1c31fd4"
      },
      "outputs": [
        {
          "name": "stdout",
          "output_type": "stream",
          "text": [
            "Digite o valor para o item 1: 4\n",
            "Digite o valor para o item 2: 6\n",
            "Digite o valor para o item 3: 8\n",
            "Digite o valor para o item 4: 7\n",
            "Digite o valor para o item 5: 6\n",
            "[24, 720, 40320, 5040, 720]\n"
          ]
        }
      ],
      "source": [
        "def fatorial_lista():\n",
        "    lista_a = []\n",
        "    lista_b = []\n",
        "    for i in range(5):\n",
        "        lista_a.append(int(input(f\"Digite o valor para o item {i+1}: \")))\n",
        "    for i in lista_a:\n",
        "        fatorial = 1\n",
        "        for j in range(1, i+1):\n",
        "            fatorial *= j\n",
        "        lista_b.append(fatorial)\n",
        "    return lista_b\n",
        "\n",
        "def main():\n",
        "    resultado = fatorial_lista()\n",
        "    print(resultado)\n",
        "\n",
        "main()"
      ]
    },
    {
      "cell_type": "markdown",
      "metadata": {
        "id": "_aPd4c1b3OjS"
      },
      "source": [
        "### 16. (Função com retorno sem parâmetro) Faça uma função/método que retorne um vetor com os três primeiros números perfeitos. Sabe-se que um número é perfeito quando é igual a soma de seus divisores (exceto ele mesmo).\n",
        "Exemplo: os divisores de 6 são 1, 2 e 3, e 1 + 2 + 3 = 6, logo 6 é perfeito. Não use função pronta.\n",
        "\n",
        "1º número perfeito: 6\n",
        "\n",
        "2º número perfeito: 28\n",
        "\n",
        "3º número perfeito: 496"
      ]
    },
    {
      "cell_type": "code",
      "execution_count": null,
      "metadata": {
        "colab": {
          "base_uri": "https://localhost:8080/"
        },
        "id": "qdVU90FULR9t",
        "outputId": "6ed3c800-5dab-406f-9abc-0deb7e6b9821"
      },
      "outputs": [
        {
          "output_type": "stream",
          "name": "stdout",
          "text": [
            "Digite a quantidade números desejada: 4\n",
            "1º Item - 6\n",
            "2º Item - 28\n",
            "3º Item - 496\n",
            "4º Item - 8128\n"
          ]
        }
      ],
      "source": [
        "def numero_perfeito():\n",
        "    numeros = []\n",
        "    contador = 1\n",
        "    n = int(input(\"Digite a quantidade números desejada: \"))\n",
        "    while len(numeros) < n:\n",
        "        soma_divisores = 0\n",
        "        for i in range(1, contador):\n",
        "            if contador % i == 0:\n",
        "                soma_divisores += i\n",
        "        if soma_divisores == contador:\n",
        "            numeros.append(contador)\n",
        "        contador += 1\n",
        "    return numeros\n",
        "\n",
        "def main():\n",
        "    lista = numero_perfeito()\n",
        "    for i in range(len(lista)):\n",
        "        print(f\"{i+1}º Item - {lista[i]}\")\n",
        "\n",
        "main()"
      ]
    },
    {
      "cell_type": "markdown",
      "metadata": {
        "id": "HAz_eYfhzg06"
      },
      "source": [
        "\n",
        "### 17. (Função com retorno sem parâmetro) Foi realizada uma pesquisa sobre algumas características físicas de cem habitantes de uma região. Foram coletados os seguintes dados de cada habitante: idade, gênero (M - masculino ou F - feminino), cor dos olhos (A - azuis ou C - castanhos), cor dos cabelos (L - louros, P - pretos).\n",
        "\n",
        "1.   Faça uma função/método que leia esses dados, cadastrando/armazenando em vetores (listas);\n",
        "2.   Faça uma função/método que determine e devolva a função principal/main a média de idades das pessoas com olhos castanhos e cabelos pretos;\n",
        "3. Faça uma função/método que determine e devolva a função principal/main a maior idade entre os habitantes;\n",
        "4.  Faça uma função/método que determine e devolva a função principal/main a quantidade de indivíduos do gênero feminino com idade entre 18 e 35 anos(inclusive) e que tenham olhos azuis e cabelos louros.\n"
      ]
    },
    {
      "cell_type": "code",
      "execution_count": null,
      "metadata": {
        "id": "7Ez7TgiQvbTD",
        "colab": {
          "base_uri": "https://localhost:8080/"
        },
        "outputId": "f248cc36-b83a-4739-9dd9-3db322d71c86"
      },
      "outputs": [
        {
          "output_type": "stream",
          "name": "stdout",
          "text": [
            "Quantidade de Pessoas: 200\n",
            "Média de idades de pessoas com olhos castanhos e cabelos pretos: 47.92\n",
            "Maior idade entre os habitantes: 80\n",
            "Quantidade de mulheres entre 18 e 35 anos com olhos azuis e cabelos louros: 6\n"
          ]
        }
      ],
      "source": [
        "import random\n",
        "\n",
        "idades = []\n",
        "generos = []\n",
        "olhos = []\n",
        "cabelos = []\n",
        "\n",
        "def rand_idade():\n",
        "    idade = random.randint(15, 80)\n",
        "    return idade\n",
        "\n",
        "def rand_genero():\n",
        "    generos_rand = [\"M\", \"F\"]\n",
        "    x = random.randint(0,1)\n",
        "    return generos_rand[x]\n",
        "\n",
        "def rand_olho():\n",
        "    olho_rand = [\"A\", \"C\"]\n",
        "    x = random.randint(0,1)\n",
        "    return olho_rand[x]\n",
        "\n",
        "def rand_cabelo():\n",
        "    cabelo_rand = [\"L\", \"P\"]\n",
        "    x = random.randint(0,1)\n",
        "    return cabelo_rand[x]\n",
        "\n",
        "def ler_dados():\n",
        "    for i in range(200):\n",
        "        idade = rand_idade()\n",
        "        genero = rand_genero()\n",
        "        cor_olhos = rand_olho()\n",
        "        cor_cabelos = rand_cabelo()\n",
        "\n",
        "        idades.append(idade)\n",
        "        generos.append(genero.upper())\n",
        "        olhos.append(cor_olhos.upper())\n",
        "        cabelos.append(cor_cabelos.upper())\n",
        "\n",
        "def media_idade():\n",
        "    idades_selecionadas = []\n",
        "    for i in range(len(idades)):\n",
        "        if olhos[i] == \"C\" and cabelos[i] == \"P\":\n",
        "            idades_selecionadas.append(idades[i])\n",
        "    if len(idades_selecionadas) > 0:\n",
        "        media = sum(idades_selecionadas) / len(idades_selecionadas)\n",
        "        return media\n",
        "    else:\n",
        "        return 0\n",
        "\n",
        "def maior_idade():\n",
        "    return max(idades)\n",
        "\n",
        "def pessoa():\n",
        "    contador = 0\n",
        "    for i in range(len(idades)):\n",
        "        if generos[i] == \"F\" and (18 <= idades[i] <= 35) and olhos[i] == \"A\" and cabelos[i] == \"L\":\n",
        "            contador += 1\n",
        "    return contador\n",
        "\n",
        "def main():\n",
        "    ler_dados()\n",
        "    media = media_idade()\n",
        "    maior = maior_idade()\n",
        "    pessoa_especifica = pessoa()\n",
        "    print(f\"Quantidade de Pessoas: {len(idades)}\")\n",
        "    print(f\"Média de idades de pessoas com olhos castanhos e cabelos pretos: {media:.2f}\")\n",
        "    print(f\"Maior idade entre os habitantes: {maior}\")\n",
        "    print(f\"Quantidade de mulheres entre 18 e 35 anos com olhos azuis e cabelos louros: {pessoa_especifica}\")\n",
        "main()"
      ]
    }
  ],
  "metadata": {
    "colab": {
      "provenance": []
    },
    "kernelspec": {
      "display_name": "Python 3",
      "name": "python3"
    },
    "language_info": {
      "name": "python"
    }
  },
  "nbformat": 4,
  "nbformat_minor": 0
}