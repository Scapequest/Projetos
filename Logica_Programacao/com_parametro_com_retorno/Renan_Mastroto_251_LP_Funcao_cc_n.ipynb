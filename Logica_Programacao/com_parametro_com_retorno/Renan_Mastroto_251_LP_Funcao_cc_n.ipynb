{
  "nbformat": 4,
  "nbformat_minor": 0,
  "metadata": {
    "colab": {
      "provenance": []
    },
    "kernelspec": {
      "name": "python3",
      "display_name": "Python 3"
    },
    "language_info": {
      "name": "python"
    }
  },
  "cells": [
    {
      "cell_type": "markdown",
      "source": [
        "#Função COM retorno e COM parâmetro"
      ],
      "metadata": {
        "id": "rL8d_83euGxQ"
      }
    },
    {
      "cell_type": "markdown",
      "metadata": {
        "id": "skN-Wz61xZzi"
      },
      "source": [
        "### 1. (Função com retorno com parâmetro) Faça um programa contendo uma função/método que receba por parâmetro um número e o multiplique por 2, retorne e apresente o resultado da função."
      ]
    },
    {
      "cell_type": "code",
      "source": [
        "def multiplicar(numero):\n",
        "    return numero * 2\n",
        "\n",
        "def multiplicar1(numero):\n",
        "    resultado = numero * 2\n",
        "    return numero, resultado\n",
        "\n",
        "def main():\n",
        "    n = int(input('Informe o valor: '))\n",
        "    print(\"Resultado = \",multiplicar(n))\n",
        "    #############################################\n",
        "    #chamada de uma função que retorna 2 valores\n",
        "    a, b = multiplicar1(n)\n",
        "    print('O número',a,'multiplicado a 2 é igual a',b)\n",
        "\n",
        "main()"
      ],
      "metadata": {
        "id": "G0T6-NaVVafP",
        "colab": {
          "base_uri": "https://localhost:8080/"
        },
        "outputId": "331a0f9e-3967-432e-ffa6-472b358dded1"
      },
      "execution_count": null,
      "outputs": [
        {
          "output_type": "stream",
          "name": "stdout",
          "text": [
            "Informe o valor: 15\n",
            "Resultado =  (15, 30)\n",
            "O número 15 multiplicado a 2 é igual a 30\n"
          ]
        }
      ]
    },
    {
      "cell_type": "markdown",
      "metadata": {
        "id": "0jPoba3-yLnG"
      },
      "source": [
        "### 2. (Função com retorno com parâmetro) Faça um programa contendo uma função/método que receba dois números via parâmetro, some os dois valores, retorne e apresente o resultado."
      ]
    },
    {
      "cell_type": "code",
      "metadata": {
        "id": "UHD2oMlJyLzc",
        "colab": {
          "base_uri": "https://localhost:8080/"
        },
        "outputId": "ce590dfc-56fe-4c4d-9cbf-cd3791a46894"
      },
      "source": [
        "def somar(n1, n2):\n",
        "    resultado = n1 + n2\n",
        "    return resultado\n",
        "\n",
        "def main():\n",
        "    n1 = int(input(\"Digite o 1º número: \"))\n",
        "    n2 = int(input(\"Digite o 2º número: \"))\n",
        "    print(f'A soma dos dois números é: {somar(n1, n2)}')\n",
        "\n",
        "main()"
      ],
      "execution_count": null,
      "outputs": [
        {
          "output_type": "stream",
          "name": "stdout",
          "text": [
            "Digite o 1º número: 5\n",
            "Digite o 2º número: 10\n",
            "A soma dos dois números é: 15\n"
          ]
        }
      ]
    },
    {
      "cell_type": "markdown",
      "metadata": {
        "id": "4zGuLRRXt0D_"
      },
      "source": [
        "### 3. (Função com retorno com parâmetro) Faça um programa contendo uma função/método que receba um valor de porcentagem de aumento via parâmetro, aplique este aumento a um salário de um funcionário, retorne e apresente o novo salário."
      ]
    },
    {
      "cell_type": "code",
      "metadata": {
        "id": "nU0x1v2Vt1-w",
        "colab": {
          "base_uri": "https://localhost:8080/"
        },
        "outputId": "f6b753f8-8552-44d7-e803-cf68b83b11e4"
      },
      "source": [
        " def aumento(salario, porcentagem):\n",
        "    resultado = salario * (porcentagem/100)\n",
        "    return resultado\n",
        "\n",
        "def main():\n",
        "    salario = float(input(\"Digite o valor do salário: R$ \"))\n",
        "    porcentagem = float(input(\"Digite a porcentagem do aumento: \"))\n",
        "    salario_novo = salario  + aumento(salario, porcentagem)\n",
        "    print(f\"Novo salário é: R$ {salario_novo:.2f}\")\n",
        "\n",
        "main()"
      ],
      "execution_count": null,
      "outputs": [
        {
          "output_type": "stream",
          "name": "stdout",
          "text": [
            "Digite o valor do salário: R$ 2000\n",
            "Digite a porcentagem do aumento: 5\n",
            "Novo salário é: R$ 2100.00\n"
          ]
        }
      ]
    },
    {
      "cell_type": "markdown",
      "metadata": {
        "id": "RIGUAKHveTJS"
      },
      "source": [
        "### 4. (Função com retorno com parâmetro) Faça um programa contendo uma função/método que receba duas notas (P1, P2) como parâmetro, calcule a média retorne-a, chame outra função na main a partir da média como parâmetro, que avalie se este aluno esta aprovado ou reprovado retornando a str/string 'Aprovado' ou 'Reprovado'."
      ]
    },
    {
      "cell_type": "code",
      "metadata": {
        "id": "hH2UZstHvFs2",
        "colab": {
          "base_uri": "https://localhost:8080/"
        },
        "outputId": "92a7359c-0ce3-4145-90df-2ebda06dab92"
      },
      "source": [
        "def calcular_media(p1, p2):\n",
        "    media = (p1 + p2) / 2\n",
        "    return media\n",
        "\n",
        "def verificar(media):\n",
        "    if media >= 6:\n",
        "        return \"Aprovado\"\n",
        "    else:\n",
        "        return \"Reprovado\"\n",
        "\n",
        "def main():\n",
        "    p1 = float(input(\"Digite o valor da p1: \"))\n",
        "    p2 = float(input(\"Digite o valor da p2: \"))\n",
        "    print(verificar(calcular_media(p1, p2)))\n",
        "\n",
        "main()"
      ],
      "execution_count": null,
      "outputs": [
        {
          "output_type": "stream",
          "name": "stdout",
          "text": [
            "Digite o valor da p1: 5\n",
            "Digite o valor da p2: 6\n",
            "Reprovado\n"
          ]
        }
      ]
    },
    {
      "cell_type": "markdown",
      "metadata": {
        "id": "hfkLntgNTWN1"
      },
      "source": [
        "### 5. (Função com retorno com parâmetro) Faça um programa contendo uma função/método que receba um valor de porcentagem de aumento e um salário via parâmetro, aplique este aumento ao salário do funcionário.\n",
        "###Na parte principal (main) do programa, utilize um laço de repetição para ler 10 salários, chame a função para aplicar o aumento e gerar o novo salário, ainda dentro da estrutura de repetição acumule os novos salários e ao final apresente quanto será gasto no novo salário.\n",
        "###Também apresente qual será a diferença entre o que se pagava para todos os funcionário e o que será pago após o aumento."
      ]
    },
    {
      "cell_type": "code",
      "metadata": {
        "id": "fxdxfiezw8Bs",
        "colab": {
          "base_uri": "https://localhost:8080/"
        },
        "outputId": "427f3f5f-5f69-4e6b-dec0-0a6d0d3c0e51"
      },
      "source": [
        "def aumento_salario(salario, porcentagem):\n",
        "    novo_salario = salario * (1+(porcentagem/100))\n",
        "    return novo_salario\n",
        "\n",
        "def main():\n",
        "    total_salario_antigo = 0\n",
        "    total_salario_novo = 0\n",
        "    porcentagem_aumento = float(input(\"Digite a porcentagem de aumento: \"))\n",
        "    for i in range(10):\n",
        "        salario = float(input(f\"Digite o salário do funcionário {i + 1}: \"))\n",
        "        total_salario_antigo += salario\n",
        "        novo_salario = aumento_salario(salario, porcentagem_aumento)\n",
        "        total_salario_novo += novo_salario\n",
        "    diferenca_salario = total_salario_novo - total_salario_antigo\n",
        "    print(f\"Total gasto com os novos salários: R$ {total_salario_novo:.2f}\")\n",
        "    print(f\"Diferença entre os salários antigos e novos: R$ {diferenca_salario:.2f}\")\n",
        "\n",
        "main()"
      ],
      "execution_count": null,
      "outputs": [
        {
          "output_type": "stream",
          "name": "stdout",
          "text": [
            "Digite a porcentagem de aumento: 5\n",
            "Digite o salário do funcionário 1: 2000\n",
            "Digite o salário do funcionário 2: 3000\n",
            "Digite o salário do funcionário 3: 2500\n",
            "Digite o salário do funcionário 4: 1200\n",
            "Digite o salário do funcionário 5: 1600\n",
            "Digite o salário do funcionário 6: 1500\n",
            "Digite o salário do funcionário 7: 54\n",
            "Digite o salário do funcionário 8: 2110\n",
            "Digite o salário do funcionário 9: 4987\n",
            "Digite o salário do funcionário 10: 1324\n",
            "Total gasto com os novos salários: R$ 21288.75\n",
            "Diferença entre os salários antigos e novos: R$ 1013.75\n"
          ]
        }
      ]
    },
    {
      "cell_type": "markdown",
      "metadata": {
        "id": "W0slzp_rt2Iu"
      },
      "source": [
        "### 6. (Função com retorno com parâmetro) Faça um programa contendo algumas funções:\n",
        "###a) Crie uma função para apresentar o menu e retornar a opção/número/cálculo escolhido.\n",
        "\n",
        "    Menu de cálculos\n",
        "    1.   Número ao quadrado\n",
        "    2.   Número ao cubo\n",
        "    3.   Raiz do número\n",
        "    4.   Raiz cúbica do número\n",
        "    Qual é a opção desejada?\n",
        "\n",
        "###b) Desenvolva uma função para cada opção de cálculo.\n",
        "\n",
        "###c) A função main() chamará todas as outras.\n",
        "\n",
        "###Observação: Na chamada das funções deve-se utilizar uma estrutura de repetição, que permita diversos cálculos, quando o usuário quiser sair da calculadora digitará qualquer valor diferente dos **números** do menu.\n"
      ]
    },
    {
      "cell_type": "code",
      "metadata": {
        "id": "ik7rbrWyw41F",
        "colab": {
          "base_uri": "https://localhost:8080/"
        },
        "outputId": "4507ed88-cf89-4f09-90bd-1f885359b4b9"
      },
      "source": [
        "def exibir_menu():\n",
        "    print(\"Menu de cálculos:\")\n",
        "    print(\"1. Número ao quadrado\")\n",
        "    print(\"2. Número ao cubo\")\n",
        "    print(\"3. Raiz do número\")\n",
        "    print(\"4. Raiz cúbica do número\")\n",
        "    print(\"5. Sair\")\n",
        "    opcao = int(input(\"Qual é a opção desejada? \"))\n",
        "    return opcao\n",
        "\n",
        "def quadrado(numero):\n",
        "    return numero ** 2\n",
        "\n",
        "def cubo(numero):\n",
        "    return numero ** 3\n",
        "\n",
        "def raiz(numero):\n",
        "    return numero ** (1/2)\n",
        "\n",
        "def raiz_cubica(numero):\n",
        "    return numero ** (1/3)\n",
        "\n",
        "def main():\n",
        "    while True:\n",
        "        opcao = exibir_menu()\n",
        "        if opcao == 1:\n",
        "            numero = float(input(\"Digite um número: \"))\n",
        "            resultado = quadrado(numero)\n",
        "            print(f\"O quadrado de {numero} é {resultado}\")\n",
        "        elif opcao == 2:\n",
        "            numero = float(input(\"Digite um número: \"))\n",
        "            resultado = cubo(numero)\n",
        "            print(f\"O cubo de {numero} é {resultado}\")\n",
        "        elif opcao == 3:\n",
        "            numero = float(input(\"Digite um número: \"))\n",
        "            resultado = raiz(numero)\n",
        "            print(f\"A raiz quadrada de {numero} é {resultado}\")\n",
        "        elif opcao == 4:\n",
        "            numero = float(input(\"Digite um número: \"))\n",
        "            resultado = raiz_cubica(numero)\n",
        "            print(f\"A raiz cúbica de {numero} é {resultado}\")\n",
        "        elif opcao == 5:\n",
        "            print(\"Fim do programa.\")\n",
        "            break\n",
        "        else:\n",
        "            print(\"Opção inválida\")\n",
        "\n",
        "main()"
      ],
      "execution_count": null,
      "outputs": [
        {
          "output_type": "stream",
          "name": "stdout",
          "text": [
            "Menu de cálculos:\n",
            "1. Número ao quadrado\n",
            "2. Número ao cubo\n",
            "3. Raiz do número\n",
            "4. Raiz cúbica do número\n",
            "5. Sair\n",
            "Qual é a opção desejada? 6\n",
            "Opção inválida\n",
            "Menu de cálculos:\n",
            "1. Número ao quadrado\n",
            "2. Número ao cubo\n",
            "3. Raiz do número\n",
            "4. Raiz cúbica do número\n",
            "5. Sair\n",
            "Qual é a opção desejada? 5\n",
            "Fim do programa.\n"
          ]
        }
      ]
    },
    {
      "cell_type": "markdown",
      "metadata": {
        "id": "_aPd4c1b3OjS"
      },
      "source": [
        "### 7. (Função com retorno com parâmetro) Faça um programa contendo algumas funções:\n",
        "###a) Crie uma função para apresentar o menu e retornar o **caracter** do cálculo escolhido.\n",
        "\n",
        "    *** Minha Calculadora ***\n",
        "\n",
        "        + Soma dois números\n",
        "        - Subtrai dois números\n",
        "        * Multiplica dois números\n",
        "        / Divide dois números\n",
        "    Qual opção deseja?\n",
        "\n",
        "###b) Desenvolva uma função para cada opção de cálculo, **mas estas não terão retorno**.\n",
        "\n",
        "###c) A função main() chamará todas as outras, passando a elas os valores digitados dos dois números para realizar o cálculo.\n",
        "\n",
        "###Observação: Na chamada da função deve-se utilizar uma estrutura de repetição que permita diversos cálculos, quando o usuário quiser sair da calculadora digitará qualquer valor diferente dos **caracteres** do menu.\n"
      ]
    },
    {
      "cell_type": "code",
      "metadata": {
        "id": "Q6LPIy_LCQuO",
        "colab": {
          "base_uri": "https://localhost:8080/"
        },
        "outputId": "dbe9831d-edbf-4337-fb5a-24bc37eeb932"
      },
      "source": [
        "def exibir_menu():\n",
        "    print(\"*** Minha Calculadora ***\")\n",
        "    print(\"+ Soma dois números\")\n",
        "    print(\"- Subtrai dois números\")\n",
        "    print(\"* Multiplica dois números\")\n",
        "    print(\"/ Divide dois números\")\n",
        "    opcao = input(\"Qual opção deseja? \")\n",
        "    return opcao\n",
        "\n",
        "def somar(num1, num2):\n",
        "    resultado = num1 + num2\n",
        "    print(f\"{num1} + {num2} = {resultado}\")\n",
        "\n",
        "def subtrair(num1, num2):\n",
        "    resultado = num1 - num2\n",
        "    print(f\"{num1} - {num2} = {resultado}\")\n",
        "\n",
        "def multiplicar(num1, num2):\n",
        "    resultado = num1 * num2\n",
        "    print(f\"{num1} * {num2} = {resultado}\")\n",
        "\n",
        "def dividir(num1, num2):\n",
        "    if num2 == 0:\n",
        "        print(\"Erro: Divisão por zero!\")\n",
        "    else:\n",
        "        resultado = num1 / num2\n",
        "        print(f\"{num1} / {num2} = {resultado}\")\n",
        "\n",
        "def main():\n",
        "    while True:\n",
        "        opcao = exibir_menu()\n",
        "        if opcao == '+':\n",
        "            num1 = float(input(\"Digite o primeiro número: \"))\n",
        "            num2 = float(input(\"Digite o segundo número: \"))\n",
        "            somar(num1, num2)\n",
        "        elif opcao == '-':\n",
        "            num1 = float(input(\"Digite o primeiro número: \"))\n",
        "            num2 = float(input(\"Digite o segundo número: \"))\n",
        "            subtrair(num1, num2)\n",
        "        elif opcao == '*':\n",
        "            num1 = float(input(\"Digite o primeiro número: \"))\n",
        "            num2 = float(input(\"Digite o segundo número: \"))\n",
        "            multiplicar(num1, num2)\n",
        "        elif opcao == '/':\n",
        "            num1 = float(input(\"Digite o primeiro número: \"))\n",
        "            num2 = float(input(\"Digite o segundo número: \"))\n",
        "            dividir(num1, num2)\n",
        "        else:\n",
        "            print(\"Opção inválida, fim do programa.\")\n",
        "            break\n",
        "\n",
        "main()"
      ],
      "execution_count": null,
      "outputs": [
        {
          "output_type": "stream",
          "name": "stdout",
          "text": [
            "*** Minha Calculadora ***\n",
            "+ Soma dois números\n",
            "- Subtrai dois números\n",
            "* Multiplica dois números\n",
            "/ Divide dois números\n",
            "Qual opção deseja? *\n",
            "Digite o primeiro número: 5\n",
            "Digite o segundo número: 5\n",
            "5.0 * 5.0 = 25.0\n",
            "*** Minha Calculadora ***\n",
            "+ Soma dois números\n",
            "- Subtrai dois números\n",
            "* Multiplica dois números\n",
            "/ Divide dois números\n",
            "Qual opção deseja? 2\n",
            "Opção inválida, fim do programa.\n"
          ]
        }
      ]
    },
    {
      "cell_type": "markdown",
      "metadata": {
        "id": "3XRPufcfd10w"
      },
      "source": [
        "### 8. (Função com retorno com parâmetro) Faça um programa contendo algumas funções:\n",
        "###a) Crie uma função para apresentar o menu e retornar o **caracter** do cálculo escolhido.\n",
        "\n",
        "    *** Minha Calculadora ***\n",
        "    \n",
        "        + Soma dois números\n",
        "        - Subtrai dois números\n",
        "        * Multiplica dois números\n",
        "        / Divide dois números\n",
        "    Qual opção deseja?\n",
        "\n",
        "###b) Desenvolva uma função para cada opção de cálculo, **que deverá ter retorno**.\n",
        "\n",
        "###c) A função main() chamará todas as outras, passando a elas os valores digitados dos dois números para realizar o cálculo.\n",
        "\n",
        "###Observação: Na chamada da função deve-se utilizar uma estrutura de repetição que permita diversos cálculos, quando o usuário quiser sair da calculadora, digitará qualquer valor diferente dos **caracteres** do menu."
      ]
    },
    {
      "cell_type": "code",
      "metadata": {
        "id": "e0fZnaiYhgpc",
        "colab": {
          "base_uri": "https://localhost:8080/"
        },
        "outputId": "3e6ddd3e-a453-4b01-d10b-9da29cc9ba8f"
      },
      "source": [
        "def exibir_menu():\n",
        "    print(\"*** Minha Calculadora ***\")\n",
        "    print(\"+ Soma dois números\")\n",
        "    print(\"- Subtrai dois números\")\n",
        "    print(\"* Multiplica dois números\")\n",
        "    print(\"/ Divide dois números\")\n",
        "    opcao = input(\"Qual opção deseja? \")\n",
        "    return opcao\n",
        "\n",
        "def somar(num1, num2):\n",
        "    return num1 + num2\n",
        "\n",
        "def subtrair(num1, num2):\n",
        "    return num1 - num2\n",
        "\n",
        "def multiplicar(num1, num2):\n",
        "    return num1 * num2\n",
        "\n",
        "def dividir(num1, num2):\n",
        "    if num2 == 0:\n",
        "        print(\"Erro: Divisão por zero!\")\n",
        "        return None\n",
        "    return num1 / num2\n",
        "\n",
        "def main():\n",
        "    while True:\n",
        "        opcao = exibir_menu()\n",
        "\n",
        "        if opcao == '+':\n",
        "            num1 = float(input(\"Digite o primeiro número: \"))\n",
        "            num2 = float(input(\"Digite o segundo número: \"))\n",
        "            resultado = somar(num1, num2)\n",
        "            print(f\"{num1} + {num2} = {resultado}\")\n",
        "        elif opcao == '-':\n",
        "            num1 = float(input(\"Digite o primeiro número: \"))\n",
        "            num2 = float(input(\"Digite o segundo número: \"))\n",
        "            resultado = subtrair(num1, num2)\n",
        "            print(f\"{num1} - {num2} = {resultado}\")\n",
        "        elif opcao == '*':\n",
        "            num1 = float(input(\"Digite o primeiro número: \"))\n",
        "            num2 = float(input(\"Digite o segundo número: \"))\n",
        "            resultado = multiplicar(num1, num2)\n",
        "            print(f\"{num1} * {num2} = {resultado}\")\n",
        "        elif opcao == '/':\n",
        "            num1 = float(input(\"Digite o primeiro número: \"))\n",
        "            num2 = float(input(\"Digite o segundo número: \"))\n",
        "            resultado = dividir(num1, num2)\n",
        "            if resultado is not None:\n",
        "                print(f\"{num1} / {num2} = {resultado}\")\n",
        "        else:\n",
        "            print(\"Opção inválida, fim do programa.\")\n",
        "            break\n",
        "\n",
        "main()"
      ],
      "execution_count": null,
      "outputs": [
        {
          "output_type": "stream",
          "name": "stdout",
          "text": [
            "*** Minha Calculadora ***\n",
            "+ Soma dois números\n",
            "- Subtrai dois números\n",
            "* Multiplica dois números\n",
            "/ Divide dois números\n",
            "Qual opção deseja? +\n",
            "Digite o primeiro número: 5\n",
            "Digite o segundo número: 2\n",
            "5.0 + 2.0 = 7.0\n",
            "*** Minha Calculadora ***\n",
            "+ Soma dois números\n",
            "- Subtrai dois números\n",
            "* Multiplica dois números\n",
            "/ Divide dois números\n",
            "Qual opção deseja? 0\n",
            "Opção inválida, fim do programa.\n"
          ]
        }
      ]
    },
    {
      "cell_type": "markdown",
      "source": [
        "###9. (Função com retorno com parâmetro) Crie uma função que a partir dos parâmetros/coordenadas (x1, y1) e (x2, y2), calcule e retorne a distância entre estes dois pontos, apresentar na main.![distancia.png](data:image/png;base64,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)"
      ],
      "metadata": {
        "id": "BunPfvgA_W4k"
      }
    },
    {
      "cell_type": "code",
      "source": [
        "def calcular_distancia(x1, x2, y1, y2):\n",
        "    distancia = (((x2-x1)**2) + ((y2 - y1)**2))**(1/2)\n",
        "    return distancia\n",
        "\n",
        "def main():\n",
        "    x1 = float(input(\"Digite o valor de x1: \"))\n",
        "    x2 = float(input(\"Digite o valor de x2: \"))\n",
        "    y1 = float(input(\"Digite o valor de y1: \"))\n",
        "    y2 = float(input(\"Digite o valor de y2: \"))\n",
        "    distancia = calcular_distancia(x1, x2, y1, y2)\n",
        "    print(f\"{distancia:.2f}\")\n",
        "\n",
        "main()"
      ],
      "metadata": {
        "id": "Jp_XoJm3_xcN",
        "colab": {
          "base_uri": "https://localhost:8080/"
        },
        "outputId": "e45680ec-9d0e-40eb-df64-da344e6ba495"
      },
      "execution_count": null,
      "outputs": [
        {
          "output_type": "stream",
          "name": "stdout",
          "text": [
            "Digite o valor de x1: 5\n",
            "Digite o valor de x2: 7\n",
            "Digite o valor de y1: 2\n",
            "Digite o valor de y2: 6\n",
            "4.47\n"
          ]
        }
      ]
    },
    {
      "cell_type": "markdown",
      "source": [
        "### 10. (Função com retorno com parâmetro) Crie uma função que verifique se um número é divisível por outro, retorne True ou False e apresente na main. Use o caracter %. Os números são os parâmetros."
      ],
      "metadata": {
        "id": "Vvc6uU-9AXJ0"
      }
    },
    {
      "cell_type": "code",
      "source": [
        "def verificar_numero(n1, n2):\n",
        "    if n1 % n2 == 0:\n",
        "        return True\n",
        "    else:\n",
        "        return False\n",
        "\n",
        "def main():\n",
        "    n1 = int(input(\"Digite o primeiro número: \"))\n",
        "    n2 = int(input(\"Digite o segundo número: \"))\n",
        "    if verificar_numero(n1, n2):\n",
        "        print(\"É divisível\")\n",
        "    else:\n",
        "        print(\"Não é divisível\")\n",
        "\n",
        "main()"
      ],
      "metadata": {
        "id": "a0ceNtSHBXVD",
        "colab": {
          "base_uri": "https://localhost:8080/"
        },
        "outputId": "29dbf693-4b9b-4ce4-d4ae-73c92a97e82b"
      },
      "execution_count": null,
      "outputs": [
        {
          "output_type": "stream",
          "name": "stdout",
          "text": [
            "Digite o primeiro número: 6\n",
            "Digite o segundo número: 2\n",
            "É divisível\n"
          ]
        }
      ]
    },
    {
      "cell_type": "markdown",
      "source": [
        "### 11. (Função com retorno com parâmetro) Na função main() o usuário deverá informar a quantidade de linhas e colunas, crie/chame uma função para criar e digitar os elementos de uma matriz, retorne-a. Crie/chame outra função que a calculará a soma de todas as linhas e armazenará num vetor do tamanho da quantidade de linhas, retorne-o e apresente na main()."
      ],
      "metadata": {
        "id": "_LPc9kGXePuX"
      }
    },
    {
      "cell_type": "code",
      "source": [
        "def criar_matriz(linhas, colunas):\n",
        "    matriz = []\n",
        "    for l in range(linhas):\n",
        "        linha = []\n",
        "        for c in range(colunas):\n",
        "            n = int(input(f\"Digite o elemento [{l}][{c}]: \"))\n",
        "            linha.append(n)\n",
        "        matriz.append(linha)\n",
        "    return matriz\n",
        "\n",
        "def somar_linhas(matriz):\n",
        "    somas_linhas = []\n",
        "    for linha in matriz:\n",
        "        soma = sum(linha)\n",
        "        somas_linhas.append(soma)\n",
        "    return somas_linhas\n",
        "\n",
        "def main():\n",
        "    linhas = int(input(\"Digite o número de linhas da matriz: \"))\n",
        "    colunas = int(input(\"Digite o número de colunas da matriz: \"))\n",
        "    matriz = criar_matriz(linhas, colunas)\n",
        "    somas_linhas = somar_linhas(matriz)\n",
        "    print(\"\\nMatriz:\")\n",
        "    for l in range(len(matriz)):\n",
        "        for c in range(len(matriz[0])):\n",
        "            print(f\"{matriz[l][c]:2}\", end=\" \")\n",
        "        print(\"\")\n",
        "    print(\"\\nSomas das linhas:\")\n",
        "    print(somas_linhas)\n",
        "\n",
        "main()"
      ],
      "metadata": {
        "id": "OZcWbZzpeQDE",
        "colab": {
          "base_uri": "https://localhost:8080/"
        },
        "outputId": "0211d48d-1cb7-44d9-b3c3-f4e78dbe314b"
      },
      "execution_count": null,
      "outputs": [
        {
          "output_type": "stream",
          "name": "stdout",
          "text": [
            "Digite o número de linhas da matriz: 3\n",
            "Digite o número de colunas da matriz: 3\n",
            "Digite o elemento [0][0]: 59\n",
            "Digite o elemento [0][1]: 52\n",
            "Digite o elemento [0][2]: 62\n",
            "Digite o elemento [1][0]: 35\n",
            "Digite o elemento [1][1]: 98\n",
            "Digite o elemento [1][2]: 15\n",
            "Digite o elemento [2][0]: 32\n",
            "Digite o elemento [2][1]: 69\n",
            "Digite o elemento [2][2]: 32\n",
            "\n",
            "Matriz:\n",
            "59 52 62 \n",
            "35 98 15 \n",
            "32 69 32 \n",
            "\n",
            "Somas das linhas:\n",
            "[173, 148, 133]\n"
          ]
        }
      ]
    },
    {
      "cell_type": "markdown",
      "source": [
        "###12. (Função com retorno e com parâmetro). Criar uma função para cadastrar 5 idades, a partir de num vetor que é parâmetro, retorne ele para a main. Crie outra função para calcular a média de idades que terá como parâmetro o vetor de idades, retorne a média e apresente. Chame as duas funções na main."
      ],
      "metadata": {
        "id": "b4CfDi3hsSCO"
      }
    },
    {
      "cell_type": "code",
      "source": [
        "def cadastrar_idades(idades):\n",
        "    for i in range(5):\n",
        "        idade = int(input(f\"Digite a idade {i + 1}: \"))\n",
        "        idades.append(idade)\n",
        "    return idades\n",
        "\n",
        "def calcular_media_idades(idades):\n",
        "    return sum(idades) / len(idades)\n",
        "\n",
        "def main():\n",
        "    idades = []\n",
        "    idades = cadastrar_idades(idades)\n",
        "    media = calcular_media_idades(idades)\n",
        "    print(\"\\nIdades cadastradas:\", idades)\n",
        "    print(f\"Média das idades: {media:.2f}\")\n",
        "\n",
        "main()"
      ],
      "metadata": {
        "id": "6HBa7431t6E4",
        "colab": {
          "base_uri": "https://localhost:8080/"
        },
        "outputId": "17c1de04-f3de-4d89-fcb6-515ae839236f"
      },
      "execution_count": null,
      "outputs": [
        {
          "output_type": "stream",
          "name": "stdout",
          "text": [
            "Digite a idade 1: 26\n",
            "Digite a idade 2: 23\n",
            "Digite a idade 3: 14\n",
            "Digite a idade 4: 26\n",
            "Digite a idade 5: 25\n",
            "Idades cadastradas: [26, 23, 14, 26, 25]\n",
            "Média das idades: 22.80\n"
          ]
        }
      ]
    },
    {
      "cell_type": "markdown",
      "source": [
        "###13. (Função com retorno e com parâmetro). Criar uma função chamada calcular_area_retangulo que recebe dois parâmetros: largura e altura. A função deve calcular e retornar a área do retângulo para a main.\n",
        "###Crie outra função chamada calcular_volume_paralelepipedo, ela terá como parâmetros area e profundidade, retorne e apresente o volume para a main\n",
        "Fórmulas:\n",
        " * area = largura * altura\n",
        " * volume = area_base * profundidade"
      ],
      "metadata": {
        "id": "d3Oyv8QXHo2k"
      }
    },
    {
      "cell_type": "code",
      "source": [
        "def calcular_area_retangulo(largura, altura):\n",
        "    area = largura * altura\n",
        "    return area\n",
        "\n",
        "def calcular_volume_paralelepipedo(area_base, profundidade):\n",
        "    volume = area_base * profundidade\n",
        "    return volume\n",
        "\n",
        "def main():\n",
        "    largura = float(input(\"Digite a largura do retângulo: \"))\n",
        "    altura = float(input(\"Digite a altura do retângulo: \"))\n",
        "    profundidade = float(input(\"Digite a profundidade do paralelepípedo: \"))\n",
        "\n",
        "    area_retangulo = calcular_area_retangulo(largura, altura)\n",
        "    volume_paralelepipedo = calcular_volume_paralelepipedo(area_retangulo, profundidade)\n",
        "\n",
        "    print(f\"Área do retângulo: {area_retangulo:.2f}\")\n",
        "    print(f\"Volume do paralelepípedo: {volume_paralelepipedo:.2f}\")\n",
        "\n",
        "main()"
      ],
      "metadata": {
        "id": "kc8jUrtDH2nX",
        "colab": {
          "base_uri": "https://localhost:8080/"
        },
        "outputId": "ec065233-8192-412e-835b-0c2162e066d1"
      },
      "execution_count": null,
      "outputs": [
        {
          "output_type": "stream",
          "name": "stdout",
          "text": [
            "Digite a largura do retângulo: 20\n",
            "Digite a altura do retângulo: 5\n",
            "Digite a profundidade do paralelepípedo: 6\n",
            "Área do retângulo: 100.00\n",
            "Volume do paralelepípedo: 600.00\n"
          ]
        }
      ]
    },
    {
      "cell_type": "markdown",
      "source": [
        "###14. Crie duas funções:\n",
        "\n",
        "###a). converter_celsius_para_fahrenheit que recebe um parâmetro: celsius, e retorna a temperatura convertida para Fahrenheit.\n",
        "\n",
        "###b) converter_temperaturas que recebe uma lista/vetor de temperaturas em Celsius e retorna uma lista/vetor de temperaturas convertidas para Fahrenheit. Esta função deve chamar a função converter_celsius_para_fahrenheit para cada temperatura na lista/vetor.\n",
        "###Na main crie o vetor, digite 4 temperaturas.\n",
        "###Chame a função converter_temperaturas."
      ],
      "metadata": {
        "id": "-qczUFxcH22j"
      }
    },
    {
      "cell_type": "code",
      "source": [
        "def converter_celsius_para_fahrenheit(celsius):\n",
        "    fahrenheit = (celsius * 9/5) + 32\n",
        "    return fahrenheit\n",
        "\n",
        "def converter_temperaturas(temperaturas_celsius):\n",
        "    temperaturas_fahrenheit = []\n",
        "    for i in temperaturas_celsius:\n",
        "        fahrenheit = converter_celsius_para_fahrenheit(i)\n",
        "        temperaturas_fahrenheit.append(fahrenheit)\n",
        "    return temperaturas_fahrenheit\n",
        "\n",
        "def main():\n",
        "    temperaturas_celsius = []\n",
        "    for i in range(4):\n",
        "        celsius = float(input(f\"Digite a temperatura {i + 1} em Celsius: \"))\n",
        "        temperaturas_celsius.append(celsius)\n",
        "    temperaturas_fahrenheit = converter_temperaturas(temperaturas_celsius)\n",
        "    print(\"Temperaturas em Celsius:\", temperaturas_celsius)\n",
        "    print(\"Temperaturas em Fahrenheit:\", temperaturas_fahrenheit)\n",
        "\n",
        "main()"
      ],
      "metadata": {
        "id": "W-WAk75pKodN",
        "colab": {
          "base_uri": "https://localhost:8080/"
        },
        "outputId": "e3b91aae-d956-486a-900d-9c63db5d4e1c"
      },
      "execution_count": null,
      "outputs": [
        {
          "output_type": "stream",
          "name": "stdout",
          "text": [
            "Digite a temperatura 1 em Celsius: 36\n",
            "Digite a temperatura 2 em Celsius: 26\n",
            "Digite a temperatura 3 em Celsius: 42\n",
            "Digite a temperatura 4 em Celsius: 100\n",
            "Temperaturas em Celsius: [36.0, 26.0, 42.0, 100.0]\n",
            "Temperaturas em Fahrenheit: [96.8, 78.8, 107.6, 212.0]\n"
          ]
        }
      ]
    }
  ]
}